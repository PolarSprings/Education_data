{
 "cells": [
  {
   "cell_type": "code",
   "execution_count": 1,
   "id": "ad66d4b3",
   "metadata": {},
   "outputs": [],
   "source": [
    "import pandas as pd\n",
    "import numpy as np\n",
    "\n",
    "import plotly.express as px\n",
    "from plotly.offline import *"
   ]
  },
  {
   "cell_type": "code",
   "execution_count": 57,
   "id": "5fcf41d4",
   "metadata": {},
   "outputs": [],
   "source": [
    "repo1 = 'C:/Users/benno/OneDrive/Python/Leif/bls_occupational_educational.csv'\n",
    "repo2 = 'C:/Users/benno/OneDrive/Python/Leif/bls_occupational_projections.csv'\n",
    "repo3 = 'C:/Users/benno/OneDrive/Python/Leif/bls_occupational_titles.csv'\n",
    "\n",
    "educate = pd.read_csv(repo1, skipinitialspace=True)\n",
    "project = pd.read_csv(repo2, skipinitialspace=True)\n",
    "titles = pd.read_csv(repo3, skipinitialspace=True)\n",
    "\n",
    "pd.set_option('display.max_rows',None)\n",
    "master = educate.merge(project, on='occ_code').merge(titles, on='occ_code')"
   ]
  },
  {
   "cell_type": "code",
   "execution_count": 58,
   "id": "bb5596e6",
   "metadata": {},
   "outputs": [
    {
     "data": {
      "application/vnd.plotly.v1+json": {
       "config": {
        "linkText": "Export to plot.ly",
        "plotlyServerURL": "https://plot.ly",
        "showLink": false
       },
       "data": [
        {
         "alignmentgroup": "True",
         "hovertemplate": "Title of occupation=Wind Turbine Service Technicians<br>Change (%)=%{x}<br>occ_code=%{y}<extra></extra>",
         "legendgroup": "Wind Turbine Service Technicians",
         "marker": {
          "color": "#2E91E5"
         },
         "name": "Wind Turbine Service Technicians",
         "offsetgroup": "Wind Turbine Service Technicians",
         "orientation": "h",
         "showlegend": true,
         "textposition": "auto",
         "type": "bar",
         "x": [
          61.42857142857143
         ],
         "xaxis": "x",
         "y": [
          "49-9081"
         ],
         "yaxis": "y"
        },
        {
         "alignmentgroup": "True",
         "hovertemplate": "Title of occupation=Nurse Practitioners<br>Change (%)=%{x}<br>occ_code=%{y}<extra></extra>",
         "legendgroup": "Nurse Practitioners",
         "marker": {
          "color": "#E15F99"
         },
         "name": "Nurse Practitioners",
         "offsetgroup": "Nurse Practitioners",
         "orientation": "h",
         "showlegend": true,
         "textposition": "auto",
         "type": "bar",
         "x": [
          52.38996687174633
         ],
         "xaxis": "x",
         "y": [
          "29-1171"
         ],
         "yaxis": "y"
        },
        {
         "alignmentgroup": "True",
         "hovertemplate": "Title of occupation=Solar Photovoltaic Installers<br>Change (%)=%{x}<br>occ_code=%{y}<extra></extra>",
         "legendgroup": "Solar Photovoltaic Installers",
         "marker": {
          "color": "#1CA71C"
         },
         "name": "Solar Photovoltaic Installers",
         "offsetgroup": "Solar Photovoltaic Installers",
         "orientation": "h",
         "showlegend": true,
         "textposition": "auto",
         "type": "bar",
         "x": [
          50.83333333333333
         ],
         "xaxis": "x",
         "y": [
          "47-2231"
         ],
         "yaxis": "y"
        },
        {
         "alignmentgroup": "True",
         "hovertemplate": "Title of occupation=Occupational Therapy Assistants<br>Change (%)=%{x}<br>occ_code=%{y}<extra></extra>",
         "legendgroup": "Occupational Therapy Assistants",
         "marker": {
          "color": "#FB0D0D"
         },
         "name": "Occupational Therapy Assistants",
         "offsetgroup": "Occupational Therapy Assistants",
         "orientation": "h",
         "showlegend": true,
         "textposition": "auto",
         "type": "bar",
         "x": [
          34.81953290870488
         ],
         "xaxis": "x",
         "y": [
          "31-2011"
         ],
         "yaxis": "y"
        },
        {
         "alignmentgroup": "True",
         "hovertemplate": "Title of occupation=Statisticians<br>Change (%)=%{x}<br>occ_code=%{y}<extra></extra>",
         "legendgroup": "Statisticians",
         "marker": {
          "color": "#DA16FF"
         },
         "name": "Statisticians",
         "offsetgroup": "Statisticians",
         "orientation": "h",
         "showlegend": true,
         "textposition": "auto",
         "type": "bar",
         "x": [
          34.66042154566745
         ],
         "xaxis": "x",
         "y": [
          "15-2041"
         ],
         "yaxis": "y"
        },
        {
         "alignmentgroup": "True",
         "hovertemplate": "Title of occupation=Physical Therapist Assistants<br>Change (%)=%{x}<br>occ_code=%{y}<extra></extra>",
         "legendgroup": "Physical Therapist Assistants",
         "marker": {
          "color": "#222A2A"
         },
         "name": "Physical Therapist Assistants",
         "offsetgroup": "Physical Therapist Assistants",
         "orientation": "h",
         "showlegend": true,
         "textposition": "auto",
         "type": "bar",
         "x": [
          32.62411347517731
         ],
         "xaxis": "x",
         "y": [
          "31-2021"
         ],
         "yaxis": "y"
        },
        {
         "alignmentgroup": "True",
         "hovertemplate": "Title of occupation=Medical and Health Services Managers<br>Change (%)=%{x}<br>occ_code=%{y}<extra></extra>",
         "legendgroup": "Medical and Health Services Managers",
         "marker": {
          "color": "#B68100"
         },
         "name": "Medical and Health Services Managers",
         "offsetgroup": "Medical and Health Services Managers",
         "orientation": "h",
         "showlegend": true,
         "textposition": "auto",
         "type": "bar",
         "x": [
          31.54155813402794
         ],
         "xaxis": "x",
         "y": [
          "11-9111"
         ],
         "yaxis": "y"
        },
        {
         "alignmentgroup": "True",
         "hovertemplate": "Title of occupation=Physician Assistants<br>Change (%)=%{x}<br>occ_code=%{y}<extra></extra>",
         "legendgroup": "Physician Assistants",
         "marker": {
          "color": "#750D86"
         },
         "name": "Physician Assistants",
         "offsetgroup": "Physician Assistants",
         "orientation": "h",
         "showlegend": true,
         "textposition": "auto",
         "type": "bar",
         "x": [
          31.314741035856574
         ],
         "xaxis": "x",
         "y": [
          "29-1071"
         ],
         "yaxis": "y"
        },
        {
         "alignmentgroup": "True",
         "hovertemplate": "Title of occupation=Information Security Analysts<br>Change (%)=%{x}<br>occ_code=%{y}<extra></extra>",
         "legendgroup": "Information Security Analysts",
         "marker": {
          "color": "#EB663B"
         },
         "name": "Information Security Analysts",
         "offsetgroup": "Information Security Analysts",
         "orientation": "h",
         "showlegend": true,
         "textposition": "auto",
         "type": "bar",
         "x": [
          31.221374045801525
         ],
         "xaxis": "x",
         "y": [
          "15-1212"
         ],
         "yaxis": "y"
        },
        {
         "alignmentgroup": "True",
         "hovertemplate": "Title of occupation=Derrick Operators, Oil and Gas<br>Change (%)=%{x}<br>occ_code=%{y}<extra></extra>",
         "legendgroup": "Derrick Operators, Oil and Gas",
         "marker": {
          "color": "#511CFB"
         },
         "name": "Derrick Operators, Oil and Gas",
         "offsetgroup": "Derrick Operators, Oil and Gas",
         "orientation": "h",
         "showlegend": true,
         "textposition": "auto",
         "type": "bar",
         "x": [
          30.833333333333336
         ],
         "xaxis": "x",
         "y": [
          "47-5011"
         ],
         "yaxis": "y"
        },
        {
         "alignmentgroup": "True",
         "hovertemplate": "Title of occupation=Data Scientists and Mathematical Science Occupations, All Other<br>Change (%)=%{x}<br>occ_code=%{y}<extra></extra>",
         "legendgroup": "Data Scientists and Mathematical Science Occupations, All Other",
         "marker": {
          "color": "#00A08B"
         },
         "name": "Data Scientists and Mathematical Science Occupations, All Other",
         "offsetgroup": "Data Scientists and Mathematical Science Occupations, All Other",
         "orientation": "h",
         "showlegend": true,
         "textposition": "auto",
         "type": "bar",
         "x": [
          30.72289156626506
         ],
         "xaxis": "x",
         "y": [
          "15-2098"
         ],
         "yaxis": "y"
        },
        {
         "alignmentgroup": "True",
         "hovertemplate": "Title of occupation=Rotary Drill Operators, Oil and Gas<br>Change (%)=%{x}<br>occ_code=%{y}<extra></extra>",
         "legendgroup": "Rotary Drill Operators, Oil and Gas",
         "marker": {
          "color": "#FB00D1"
         },
         "name": "Rotary Drill Operators, Oil and Gas",
         "offsetgroup": "Rotary Drill Operators, Oil and Gas",
         "orientation": "h",
         "showlegend": true,
         "textposition": "auto",
         "type": "bar",
         "x": [
          27.27272727272727
         ],
         "xaxis": "x",
         "y": [
          "47-5012"
         ],
         "yaxis": "y"
        },
        {
         "alignmentgroup": "True",
         "hovertemplate": "Title of occupation=Roustabouts, Oil and Gas<br>Change (%)=%{x}<br>occ_code=%{y}<extra></extra>",
         "legendgroup": "Roustabouts, Oil and Gas",
         "marker": {
          "color": "#FC0080"
         },
         "name": "Roustabouts, Oil and Gas",
         "offsetgroup": "Roustabouts, Oil and Gas",
         "orientation": "h",
         "showlegend": true,
         "textposition": "auto",
         "type": "bar",
         "x": [
          24.957264957264957
         ],
         "xaxis": "x",
         "y": [
          "47-5071"
         ],
         "yaxis": "y"
        },
        {
         "alignmentgroup": "True",
         "hovertemplate": "Title of occupation=Operations Research Analysts<br>Change (%)=%{x}<br>occ_code=%{y}<extra></extra>",
         "legendgroup": "Operations Research Analysts",
         "marker": {
          "color": "#B2828D"
         },
         "name": "Operations Research Analysts",
         "offsetgroup": "Operations Research Analysts",
         "orientation": "h",
         "showlegend": true,
         "textposition": "auto",
         "type": "bar",
         "x": [
          24.928639391056137
         ],
         "xaxis": "x",
         "y": [
          "15-2031"
         ],
         "yaxis": "y"
        },
        {
         "alignmentgroup": "True",
         "hovertemplate": "Title of occupation=Speech-Language Pathologists<br>Change (%)=%{x}<br>occ_code=%{y}<extra></extra>",
         "legendgroup": "Speech-Language Pathologists",
         "marker": {
          "color": "#6C7C32"
         },
         "name": "Speech-Language Pathologists",
         "offsetgroup": "Speech-Language Pathologists",
         "orientation": "h",
         "showlegend": true,
         "textposition": "auto",
         "type": "bar",
         "x": [
          24.907749077490777
         ],
         "xaxis": "x",
         "y": [
          "29-1127"
         ],
         "yaxis": "y"
        },
        {
         "alignmentgroup": "True",
         "hovertemplate": "Title of occupation=Substance Abuse, Behavioral Disorder, and Mental Health Counselors<br>Change (%)=%{x}<br>occ_code=%{y}<extra></extra>",
         "legendgroup": "Substance Abuse, Behavioral Disorder, and Mental Health Counselors",
         "marker": {
          "color": "#778AAE"
         },
         "name": "Substance Abuse, Behavioral Disorder, and Mental Health Counselors",
         "offsetgroup": "Substance Abuse, Behavioral Disorder, and Mental Health Counselors",
         "orientation": "h",
         "showlegend": true,
         "textposition": "auto",
         "type": "bar",
         "x": [
          24.733876017532875
         ],
         "xaxis": "x",
         "y": [
          "21-1018"
         ],
         "yaxis": "y"
        },
        {
         "alignmentgroup": "True",
         "hovertemplate": "Title of occupation=Cooks, Restaurant<br>Change (%)=%{x}<br>occ_code=%{y}<extra></extra>",
         "legendgroup": "Cooks, Restaurant",
         "marker": {
          "color": "#862A16"
         },
         "name": "Cooks, Restaurant",
         "offsetgroup": "Cooks, Restaurant",
         "orientation": "h",
         "showlegend": true,
         "textposition": "auto",
         "type": "bar",
         "x": [
          23.093205390531292
         ],
         "xaxis": "x",
         "y": [
          "35-2014"
         ],
         "yaxis": "y"
        },
        {
         "alignmentgroup": "True",
         "hovertemplate": "Title of occupation=Genetic Counselors<br>Change (%)=%{x}<br>occ_code=%{y}<extra></extra>",
         "legendgroup": "Genetic Counselors",
         "marker": {
          "color": "#A777F1"
         },
         "name": "Genetic Counselors",
         "offsetgroup": "Genetic Counselors",
         "orientation": "h",
         "showlegend": true,
         "textposition": "auto",
         "type": "bar",
         "x": [
          23.076923076923077
         ],
         "xaxis": "x",
         "y": [
          "29-9092"
         ],
         "yaxis": "y"
        },
        {
         "alignmentgroup": "True",
         "hovertemplate": "Title of occupation=Service Unit Operators, Oil and Gas<br>Change (%)=%{x}<br>occ_code=%{y}<extra></extra>",
         "legendgroup": "Service Unit Operators, Oil and Gas",
         "marker": {
          "color": "#620042"
         },
         "name": "Service Unit Operators, Oil and Gas",
         "offsetgroup": "Service Unit Operators, Oil and Gas",
         "orientation": "h",
         "showlegend": true,
         "textposition": "auto",
         "type": "bar",
         "x": [
          23.017408123791103
         ],
         "xaxis": "x",
         "y": [
          "47-5013"
         ],
         "yaxis": "y"
        },
        {
         "alignmentgroup": "True",
         "hovertemplate": "Title of occupation=Animal Caretakers<br>Change (%)=%{x}<br>occ_code=%{y}<extra></extra>",
         "legendgroup": "Animal Caretakers",
         "marker": {
          "color": "#1616A7"
         },
         "name": "Animal Caretakers",
         "offsetgroup": "Animal Caretakers",
         "orientation": "h",
         "showlegend": true,
         "textposition": "auto",
         "type": "bar",
         "x": [
          22.879946790821418
         ],
         "xaxis": "x",
         "y": [
          "39-2021"
         ],
         "yaxis": "y"
        },
        {
         "alignmentgroup": "True",
         "hovertemplate": "Title of occupation=Marriage and Family Therapists<br>Change (%)=%{x}<br>occ_code=%{y}<extra></extra>",
         "legendgroup": "Marriage and Family Therapists",
         "marker": {
          "color": "#DA60CA"
         },
         "name": "Marriage and Family Therapists",
         "offsetgroup": "Marriage and Family Therapists",
         "orientation": "h",
         "showlegend": true,
         "textposition": "auto",
         "type": "bar",
         "x": [
          22.20543806646526
         ],
         "xaxis": "x",
         "y": [
          "21-1013"
         ],
         "yaxis": "y"
        },
        {
         "alignmentgroup": "True",
         "hovertemplate": "Title of occupation=Computer Numerically Controlled Tool Programmers<br>Change (%)=%{x}<br>occ_code=%{y}<extra></extra>",
         "legendgroup": "Computer Numerically Controlled Tool Programmers",
         "marker": {
          "color": "#6C4516"
         },
         "name": "Computer Numerically Controlled Tool Programmers",
         "offsetgroup": "Computer Numerically Controlled Tool Programmers",
         "orientation": "h",
         "showlegend": true,
         "textposition": "auto",
         "type": "bar",
         "x": [
          21.78988326848249
         ],
         "xaxis": "x",
         "y": [
          "51-9162"
         ],
         "yaxis": "y"
        },
        {
         "alignmentgroup": "True",
         "hovertemplate": "Title of occupation=Forest Fire Inspectors and Prevention Specialists<br>Change (%)=%{x}<br>occ_code=%{y}<extra></extra>",
         "legendgroup": "Forest Fire Inspectors and Prevention Specialists",
         "marker": {
          "color": "#0D2A63"
         },
         "name": "Forest Fire Inspectors and Prevention Specialists",
         "offsetgroup": "Forest Fire Inspectors and Prevention Specialists",
         "orientation": "h",
         "showlegend": true,
         "textposition": "auto",
         "type": "bar",
         "x": [
          21.73913043478261
         ],
         "xaxis": "x",
         "y": [
          "33-2022"
         ],
         "yaxis": "y"
        },
        {
         "alignmentgroup": "True",
         "hovertemplate": "Title of occupation=Software Developers and Software Quality Assurance Analysts and Testers<br>Change (%)=%{x}<br>occ_code=%{y}<extra></extra>",
         "legendgroup": "Software Developers and Software Quality Assurance Analysts and Testers",
         "marker": {
          "color": "#AF0038"
         },
         "name": "Software Developers and Software Quality Assurance Analysts and Testers",
         "offsetgroup": "Software Developers and Software Quality Assurance Analysts and Testers",
         "orientation": "h",
         "showlegend": true,
         "textposition": "auto",
         "type": "bar",
         "x": [
          21.50830383882385
         ],
         "xaxis": "x",
         "y": [
          "15-1256"
         ],
         "yaxis": "y"
        },
        {
         "alignmentgroup": "True",
         "hovertemplate": "Title of occupation=Film and Video Editors<br>Change (%)=%{x}<br>occ_code=%{y}<extra></extra>",
         "legendgroup": "Film and Video Editors",
         "marker": {
          "color": "#2E91E5"
         },
         "name": "Film and Video Editors",
         "offsetgroup": "Film and Video Editors",
         "orientation": "h",
         "showlegend": true,
         "textposition": "auto",
         "type": "bar",
         "x": [
          21.409921671018274
         ],
         "xaxis": "x",
         "y": [
          "27-4032"
         ],
         "yaxis": "y"
        }
       ],
       "layout": {
        "barmode": "relative",
        "legend": {
         "title": {
          "text": "Title of occupation"
         },
         "tracegroupgap": 0
        },
        "margin": {
         "t": 60
        },
        "template": {
         "data": {
          "bar": [
           {
            "error_x": {
             "color": "#2a3f5f"
            },
            "error_y": {
             "color": "#2a3f5f"
            },
            "marker": {
             "line": {
              "color": "#E5ECF6",
              "width": 0.5
             }
            },
            "type": "bar"
           }
          ],
          "barpolar": [
           {
            "marker": {
             "line": {
              "color": "#E5ECF6",
              "width": 0.5
             }
            },
            "type": "barpolar"
           }
          ],
          "carpet": [
           {
            "aaxis": {
             "endlinecolor": "#2a3f5f",
             "gridcolor": "white",
             "linecolor": "white",
             "minorgridcolor": "white",
             "startlinecolor": "#2a3f5f"
            },
            "baxis": {
             "endlinecolor": "#2a3f5f",
             "gridcolor": "white",
             "linecolor": "white",
             "minorgridcolor": "white",
             "startlinecolor": "#2a3f5f"
            },
            "type": "carpet"
           }
          ],
          "choropleth": [
           {
            "colorbar": {
             "outlinewidth": 0,
             "ticks": ""
            },
            "type": "choropleth"
           }
          ],
          "contour": [
           {
            "colorbar": {
             "outlinewidth": 0,
             "ticks": ""
            },
            "colorscale": [
             [
              0,
              "#0d0887"
             ],
             [
              0.1111111111111111,
              "#46039f"
             ],
             [
              0.2222222222222222,
              "#7201a8"
             ],
             [
              0.3333333333333333,
              "#9c179e"
             ],
             [
              0.4444444444444444,
              "#bd3786"
             ],
             [
              0.5555555555555556,
              "#d8576b"
             ],
             [
              0.6666666666666666,
              "#ed7953"
             ],
             [
              0.7777777777777778,
              "#fb9f3a"
             ],
             [
              0.8888888888888888,
              "#fdca26"
             ],
             [
              1,
              "#f0f921"
             ]
            ],
            "type": "contour"
           }
          ],
          "contourcarpet": [
           {
            "colorbar": {
             "outlinewidth": 0,
             "ticks": ""
            },
            "type": "contourcarpet"
           }
          ],
          "heatmap": [
           {
            "colorbar": {
             "outlinewidth": 0,
             "ticks": ""
            },
            "colorscale": [
             [
              0,
              "#0d0887"
             ],
             [
              0.1111111111111111,
              "#46039f"
             ],
             [
              0.2222222222222222,
              "#7201a8"
             ],
             [
              0.3333333333333333,
              "#9c179e"
             ],
             [
              0.4444444444444444,
              "#bd3786"
             ],
             [
              0.5555555555555556,
              "#d8576b"
             ],
             [
              0.6666666666666666,
              "#ed7953"
             ],
             [
              0.7777777777777778,
              "#fb9f3a"
             ],
             [
              0.8888888888888888,
              "#fdca26"
             ],
             [
              1,
              "#f0f921"
             ]
            ],
            "type": "heatmap"
           }
          ],
          "heatmapgl": [
           {
            "colorbar": {
             "outlinewidth": 0,
             "ticks": ""
            },
            "colorscale": [
             [
              0,
              "#0d0887"
             ],
             [
              0.1111111111111111,
              "#46039f"
             ],
             [
              0.2222222222222222,
              "#7201a8"
             ],
             [
              0.3333333333333333,
              "#9c179e"
             ],
             [
              0.4444444444444444,
              "#bd3786"
             ],
             [
              0.5555555555555556,
              "#d8576b"
             ],
             [
              0.6666666666666666,
              "#ed7953"
             ],
             [
              0.7777777777777778,
              "#fb9f3a"
             ],
             [
              0.8888888888888888,
              "#fdca26"
             ],
             [
              1,
              "#f0f921"
             ]
            ],
            "type": "heatmapgl"
           }
          ],
          "histogram": [
           {
            "marker": {
             "colorbar": {
              "outlinewidth": 0,
              "ticks": ""
             }
            },
            "type": "histogram"
           }
          ],
          "histogram2d": [
           {
            "colorbar": {
             "outlinewidth": 0,
             "ticks": ""
            },
            "colorscale": [
             [
              0,
              "#0d0887"
             ],
             [
              0.1111111111111111,
              "#46039f"
             ],
             [
              0.2222222222222222,
              "#7201a8"
             ],
             [
              0.3333333333333333,
              "#9c179e"
             ],
             [
              0.4444444444444444,
              "#bd3786"
             ],
             [
              0.5555555555555556,
              "#d8576b"
             ],
             [
              0.6666666666666666,
              "#ed7953"
             ],
             [
              0.7777777777777778,
              "#fb9f3a"
             ],
             [
              0.8888888888888888,
              "#fdca26"
             ],
             [
              1,
              "#f0f921"
             ]
            ],
            "type": "histogram2d"
           }
          ],
          "histogram2dcontour": [
           {
            "colorbar": {
             "outlinewidth": 0,
             "ticks": ""
            },
            "colorscale": [
             [
              0,
              "#0d0887"
             ],
             [
              0.1111111111111111,
              "#46039f"
             ],
             [
              0.2222222222222222,
              "#7201a8"
             ],
             [
              0.3333333333333333,
              "#9c179e"
             ],
             [
              0.4444444444444444,
              "#bd3786"
             ],
             [
              0.5555555555555556,
              "#d8576b"
             ],
             [
              0.6666666666666666,
              "#ed7953"
             ],
             [
              0.7777777777777778,
              "#fb9f3a"
             ],
             [
              0.8888888888888888,
              "#fdca26"
             ],
             [
              1,
              "#f0f921"
             ]
            ],
            "type": "histogram2dcontour"
           }
          ],
          "mesh3d": [
           {
            "colorbar": {
             "outlinewidth": 0,
             "ticks": ""
            },
            "type": "mesh3d"
           }
          ],
          "parcoords": [
           {
            "line": {
             "colorbar": {
              "outlinewidth": 0,
              "ticks": ""
             }
            },
            "type": "parcoords"
           }
          ],
          "pie": [
           {
            "automargin": true,
            "type": "pie"
           }
          ],
          "scatter": [
           {
            "marker": {
             "colorbar": {
              "outlinewidth": 0,
              "ticks": ""
             }
            },
            "type": "scatter"
           }
          ],
          "scatter3d": [
           {
            "line": {
             "colorbar": {
              "outlinewidth": 0,
              "ticks": ""
             }
            },
            "marker": {
             "colorbar": {
              "outlinewidth": 0,
              "ticks": ""
             }
            },
            "type": "scatter3d"
           }
          ],
          "scattercarpet": [
           {
            "marker": {
             "colorbar": {
              "outlinewidth": 0,
              "ticks": ""
             }
            },
            "type": "scattercarpet"
           }
          ],
          "scattergeo": [
           {
            "marker": {
             "colorbar": {
              "outlinewidth": 0,
              "ticks": ""
             }
            },
            "type": "scattergeo"
           }
          ],
          "scattergl": [
           {
            "marker": {
             "colorbar": {
              "outlinewidth": 0,
              "ticks": ""
             }
            },
            "type": "scattergl"
           }
          ],
          "scattermapbox": [
           {
            "marker": {
             "colorbar": {
              "outlinewidth": 0,
              "ticks": ""
             }
            },
            "type": "scattermapbox"
           }
          ],
          "scatterpolar": [
           {
            "marker": {
             "colorbar": {
              "outlinewidth": 0,
              "ticks": ""
             }
            },
            "type": "scatterpolar"
           }
          ],
          "scatterpolargl": [
           {
            "marker": {
             "colorbar": {
              "outlinewidth": 0,
              "ticks": ""
             }
            },
            "type": "scatterpolargl"
           }
          ],
          "scatterternary": [
           {
            "marker": {
             "colorbar": {
              "outlinewidth": 0,
              "ticks": ""
             }
            },
            "type": "scatterternary"
           }
          ],
          "surface": [
           {
            "colorbar": {
             "outlinewidth": 0,
             "ticks": ""
            },
            "colorscale": [
             [
              0,
              "#0d0887"
             ],
             [
              0.1111111111111111,
              "#46039f"
             ],
             [
              0.2222222222222222,
              "#7201a8"
             ],
             [
              0.3333333333333333,
              "#9c179e"
             ],
             [
              0.4444444444444444,
              "#bd3786"
             ],
             [
              0.5555555555555556,
              "#d8576b"
             ],
             [
              0.6666666666666666,
              "#ed7953"
             ],
             [
              0.7777777777777778,
              "#fb9f3a"
             ],
             [
              0.8888888888888888,
              "#fdca26"
             ],
             [
              1,
              "#f0f921"
             ]
            ],
            "type": "surface"
           }
          ],
          "table": [
           {
            "cells": {
             "fill": {
              "color": "#EBF0F8"
             },
             "line": {
              "color": "white"
             }
            },
            "header": {
             "fill": {
              "color": "#C8D4E3"
             },
             "line": {
              "color": "white"
             }
            },
            "type": "table"
           }
          ]
         },
         "layout": {
          "annotationdefaults": {
           "arrowcolor": "#2a3f5f",
           "arrowhead": 0,
           "arrowwidth": 1
          },
          "autotypenumbers": "strict",
          "coloraxis": {
           "colorbar": {
            "outlinewidth": 0,
            "ticks": ""
           }
          },
          "colorscale": {
           "diverging": [
            [
             0,
             "#8e0152"
            ],
            [
             0.1,
             "#c51b7d"
            ],
            [
             0.2,
             "#de77ae"
            ],
            [
             0.3,
             "#f1b6da"
            ],
            [
             0.4,
             "#fde0ef"
            ],
            [
             0.5,
             "#f7f7f7"
            ],
            [
             0.6,
             "#e6f5d0"
            ],
            [
             0.7,
             "#b8e186"
            ],
            [
             0.8,
             "#7fbc41"
            ],
            [
             0.9,
             "#4d9221"
            ],
            [
             1,
             "#276419"
            ]
           ],
           "sequential": [
            [
             0,
             "#0d0887"
            ],
            [
             0.1111111111111111,
             "#46039f"
            ],
            [
             0.2222222222222222,
             "#7201a8"
            ],
            [
             0.3333333333333333,
             "#9c179e"
            ],
            [
             0.4444444444444444,
             "#bd3786"
            ],
            [
             0.5555555555555556,
             "#d8576b"
            ],
            [
             0.6666666666666666,
             "#ed7953"
            ],
            [
             0.7777777777777778,
             "#fb9f3a"
            ],
            [
             0.8888888888888888,
             "#fdca26"
            ],
            [
             1,
             "#f0f921"
            ]
           ],
           "sequentialminus": [
            [
             0,
             "#0d0887"
            ],
            [
             0.1111111111111111,
             "#46039f"
            ],
            [
             0.2222222222222222,
             "#7201a8"
            ],
            [
             0.3333333333333333,
             "#9c179e"
            ],
            [
             0.4444444444444444,
             "#bd3786"
            ],
            [
             0.5555555555555556,
             "#d8576b"
            ],
            [
             0.6666666666666666,
             "#ed7953"
            ],
            [
             0.7777777777777778,
             "#fb9f3a"
            ],
            [
             0.8888888888888888,
             "#fdca26"
            ],
            [
             1,
             "#f0f921"
            ]
           ]
          },
          "colorway": [
           "#636efa",
           "#EF553B",
           "#00cc96",
           "#ab63fa",
           "#FFA15A",
           "#19d3f3",
           "#FF6692",
           "#B6E880",
           "#FF97FF",
           "#FECB52"
          ],
          "font": {
           "color": "#2a3f5f"
          },
          "geo": {
           "bgcolor": "white",
           "lakecolor": "white",
           "landcolor": "#E5ECF6",
           "showlakes": true,
           "showland": true,
           "subunitcolor": "white"
          },
          "hoverlabel": {
           "align": "left"
          },
          "hovermode": "closest",
          "mapbox": {
           "style": "light"
          },
          "paper_bgcolor": "white",
          "plot_bgcolor": "#E5ECF6",
          "polar": {
           "angularaxis": {
            "gridcolor": "white",
            "linecolor": "white",
            "ticks": ""
           },
           "bgcolor": "#E5ECF6",
           "radialaxis": {
            "gridcolor": "white",
            "linecolor": "white",
            "ticks": ""
           }
          },
          "scene": {
           "xaxis": {
            "backgroundcolor": "#E5ECF6",
            "gridcolor": "white",
            "gridwidth": 2,
            "linecolor": "white",
            "showbackground": true,
            "ticks": "",
            "zerolinecolor": "white"
           },
           "yaxis": {
            "backgroundcolor": "#E5ECF6",
            "gridcolor": "white",
            "gridwidth": 2,
            "linecolor": "white",
            "showbackground": true,
            "ticks": "",
            "zerolinecolor": "white"
           },
           "zaxis": {
            "backgroundcolor": "#E5ECF6",
            "gridcolor": "white",
            "gridwidth": 2,
            "linecolor": "white",
            "showbackground": true,
            "ticks": "",
            "zerolinecolor": "white"
           }
          },
          "shapedefaults": {
           "line": {
            "color": "#2a3f5f"
           }
          },
          "ternary": {
           "aaxis": {
            "gridcolor": "white",
            "linecolor": "white",
            "ticks": ""
           },
           "baxis": {
            "gridcolor": "white",
            "linecolor": "white",
            "ticks": ""
           },
           "bgcolor": "#E5ECF6",
           "caxis": {
            "gridcolor": "white",
            "linecolor": "white",
            "ticks": ""
           }
          },
          "title": {
           "x": 0.05
          },
          "xaxis": {
           "automargin": true,
           "gridcolor": "white",
           "linecolor": "white",
           "ticks": "",
           "title": {
            "standoff": 15
           },
           "zerolinecolor": "white",
           "zerolinewidth": 2
          },
          "yaxis": {
           "automargin": true,
           "gridcolor": "white",
           "linecolor": "white",
           "ticks": "",
           "title": {
            "standoff": 15
           },
           "zerolinecolor": "white",
           "zerolinewidth": 2
          }
         }
        },
        "title": {
         "font": {
          "size": 28
         },
         "text": "Growth by Occupation, 10 Year Change"
        },
        "xaxis": {
         "anchor": "y",
         "domain": [
          0,
          1
         ],
         "title": {
          "text": "Change, 2019-2029 (%)"
         }
        },
        "yaxis": {
         "anchor": "x",
         "categoryorder": "total ascending",
         "domain": [
          0,
          1
         ],
         "title": {
          "text": "Occupation"
         }
        }
       }
      },
      "text/html": [
       "<div>                            <div id=\"e5d47b00-0edc-409b-82e9-51ccf681d9f6\" class=\"plotly-graph-div\" style=\"height:525px; width:100%;\"></div>            <script type=\"text/javascript\">                require([\"plotly\"], function(Plotly) {                    window.PLOTLYENV=window.PLOTLYENV || {};                                    if (document.getElementById(\"e5d47b00-0edc-409b-82e9-51ccf681d9f6\")) {                    Plotly.newPlot(                        \"e5d47b00-0edc-409b-82e9-51ccf681d9f6\",                        [{\"alignmentgroup\": \"True\", \"hovertemplate\": \"Title of occupation=Wind Turbine Service Technicians<br>Change (%)=%{x}<br>occ_code=%{y}<extra></extra>\", \"legendgroup\": \"Wind Turbine Service Technicians\", \"marker\": {\"color\": \"#2E91E5\"}, \"name\": \"Wind Turbine Service Technicians\", \"offsetgroup\": \"Wind Turbine Service Technicians\", \"orientation\": \"h\", \"showlegend\": true, \"textposition\": \"auto\", \"type\": \"bar\", \"x\": [61.42857142857143], \"xaxis\": \"x\", \"y\": [\"49-9081\"], \"yaxis\": \"y\"}, {\"alignmentgroup\": \"True\", \"hovertemplate\": \"Title of occupation=Nurse Practitioners<br>Change (%)=%{x}<br>occ_code=%{y}<extra></extra>\", \"legendgroup\": \"Nurse Practitioners\", \"marker\": {\"color\": \"#E15F99\"}, \"name\": \"Nurse Practitioners\", \"offsetgroup\": \"Nurse Practitioners\", \"orientation\": \"h\", \"showlegend\": true, \"textposition\": \"auto\", \"type\": \"bar\", \"x\": [52.38996687174633], \"xaxis\": \"x\", \"y\": [\"29-1171\"], \"yaxis\": \"y\"}, {\"alignmentgroup\": \"True\", \"hovertemplate\": \"Title of occupation=Solar Photovoltaic Installers<br>Change (%)=%{x}<br>occ_code=%{y}<extra></extra>\", \"legendgroup\": \"Solar Photovoltaic Installers\", \"marker\": {\"color\": \"#1CA71C\"}, \"name\": \"Solar Photovoltaic Installers\", \"offsetgroup\": \"Solar Photovoltaic Installers\", \"orientation\": \"h\", \"showlegend\": true, \"textposition\": \"auto\", \"type\": \"bar\", \"x\": [50.83333333333333], \"xaxis\": \"x\", \"y\": [\"47-2231\"], \"yaxis\": \"y\"}, {\"alignmentgroup\": \"True\", \"hovertemplate\": \"Title of occupation=Occupational Therapy Assistants<br>Change (%)=%{x}<br>occ_code=%{y}<extra></extra>\", \"legendgroup\": \"Occupational Therapy Assistants\", \"marker\": {\"color\": \"#FB0D0D\"}, \"name\": \"Occupational Therapy Assistants\", \"offsetgroup\": \"Occupational Therapy Assistants\", \"orientation\": \"h\", \"showlegend\": true, \"textposition\": \"auto\", \"type\": \"bar\", \"x\": [34.81953290870488], \"xaxis\": \"x\", \"y\": [\"31-2011\"], \"yaxis\": \"y\"}, {\"alignmentgroup\": \"True\", \"hovertemplate\": \"Title of occupation=Statisticians<br>Change (%)=%{x}<br>occ_code=%{y}<extra></extra>\", \"legendgroup\": \"Statisticians\", \"marker\": {\"color\": \"#DA16FF\"}, \"name\": \"Statisticians\", \"offsetgroup\": \"Statisticians\", \"orientation\": \"h\", \"showlegend\": true, \"textposition\": \"auto\", \"type\": \"bar\", \"x\": [34.66042154566745], \"xaxis\": \"x\", \"y\": [\"15-2041\"], \"yaxis\": \"y\"}, {\"alignmentgroup\": \"True\", \"hovertemplate\": \"Title of occupation=Physical Therapist Assistants<br>Change (%)=%{x}<br>occ_code=%{y}<extra></extra>\", \"legendgroup\": \"Physical Therapist Assistants\", \"marker\": {\"color\": \"#222A2A\"}, \"name\": \"Physical Therapist Assistants\", \"offsetgroup\": \"Physical Therapist Assistants\", \"orientation\": \"h\", \"showlegend\": true, \"textposition\": \"auto\", \"type\": \"bar\", \"x\": [32.62411347517731], \"xaxis\": \"x\", \"y\": [\"31-2021\"], \"yaxis\": \"y\"}, {\"alignmentgroup\": \"True\", \"hovertemplate\": \"Title of occupation=Medical and Health Services Managers<br>Change (%)=%{x}<br>occ_code=%{y}<extra></extra>\", \"legendgroup\": \"Medical and Health Services Managers\", \"marker\": {\"color\": \"#B68100\"}, \"name\": \"Medical and Health Services Managers\", \"offsetgroup\": \"Medical and Health Services Managers\", \"orientation\": \"h\", \"showlegend\": true, \"textposition\": \"auto\", \"type\": \"bar\", \"x\": [31.54155813402794], \"xaxis\": \"x\", \"y\": [\"11-9111\"], \"yaxis\": \"y\"}, {\"alignmentgroup\": \"True\", \"hovertemplate\": \"Title of occupation=Physician Assistants<br>Change (%)=%{x}<br>occ_code=%{y}<extra></extra>\", \"legendgroup\": \"Physician Assistants\", \"marker\": {\"color\": \"#750D86\"}, \"name\": \"Physician Assistants\", \"offsetgroup\": \"Physician Assistants\", \"orientation\": \"h\", \"showlegend\": true, \"textposition\": \"auto\", \"type\": \"bar\", \"x\": [31.314741035856574], \"xaxis\": \"x\", \"y\": [\"29-1071\"], \"yaxis\": \"y\"}, {\"alignmentgroup\": \"True\", \"hovertemplate\": \"Title of occupation=Information Security Analysts<br>Change (%)=%{x}<br>occ_code=%{y}<extra></extra>\", \"legendgroup\": \"Information Security Analysts\", \"marker\": {\"color\": \"#EB663B\"}, \"name\": \"Information Security Analysts\", \"offsetgroup\": \"Information Security Analysts\", \"orientation\": \"h\", \"showlegend\": true, \"textposition\": \"auto\", \"type\": \"bar\", \"x\": [31.221374045801525], \"xaxis\": \"x\", \"y\": [\"15-1212\"], \"yaxis\": \"y\"}, {\"alignmentgroup\": \"True\", \"hovertemplate\": \"Title of occupation=Derrick Operators, Oil and Gas<br>Change (%)=%{x}<br>occ_code=%{y}<extra></extra>\", \"legendgroup\": \"Derrick Operators, Oil and Gas\", \"marker\": {\"color\": \"#511CFB\"}, \"name\": \"Derrick Operators, Oil and Gas\", \"offsetgroup\": \"Derrick Operators, Oil and Gas\", \"orientation\": \"h\", \"showlegend\": true, \"textposition\": \"auto\", \"type\": \"bar\", \"x\": [30.833333333333336], \"xaxis\": \"x\", \"y\": [\"47-5011\"], \"yaxis\": \"y\"}, {\"alignmentgroup\": \"True\", \"hovertemplate\": \"Title of occupation=Data Scientists and Mathematical Science Occupations, All Other<br>Change (%)=%{x}<br>occ_code=%{y}<extra></extra>\", \"legendgroup\": \"Data Scientists and Mathematical Science Occupations, All Other\", \"marker\": {\"color\": \"#00A08B\"}, \"name\": \"Data Scientists and Mathematical Science Occupations, All Other\", \"offsetgroup\": \"Data Scientists and Mathematical Science Occupations, All Other\", \"orientation\": \"h\", \"showlegend\": true, \"textposition\": \"auto\", \"type\": \"bar\", \"x\": [30.72289156626506], \"xaxis\": \"x\", \"y\": [\"15-2098\"], \"yaxis\": \"y\"}, {\"alignmentgroup\": \"True\", \"hovertemplate\": \"Title of occupation=Rotary Drill Operators, Oil and Gas<br>Change (%)=%{x}<br>occ_code=%{y}<extra></extra>\", \"legendgroup\": \"Rotary Drill Operators, Oil and Gas\", \"marker\": {\"color\": \"#FB00D1\"}, \"name\": \"Rotary Drill Operators, Oil and Gas\", \"offsetgroup\": \"Rotary Drill Operators, Oil and Gas\", \"orientation\": \"h\", \"showlegend\": true, \"textposition\": \"auto\", \"type\": \"bar\", \"x\": [27.27272727272727], \"xaxis\": \"x\", \"y\": [\"47-5012\"], \"yaxis\": \"y\"}, {\"alignmentgroup\": \"True\", \"hovertemplate\": \"Title of occupation=Roustabouts, Oil and Gas<br>Change (%)=%{x}<br>occ_code=%{y}<extra></extra>\", \"legendgroup\": \"Roustabouts, Oil and Gas\", \"marker\": {\"color\": \"#FC0080\"}, \"name\": \"Roustabouts, Oil and Gas\", \"offsetgroup\": \"Roustabouts, Oil and Gas\", \"orientation\": \"h\", \"showlegend\": true, \"textposition\": \"auto\", \"type\": \"bar\", \"x\": [24.957264957264957], \"xaxis\": \"x\", \"y\": [\"47-5071\"], \"yaxis\": \"y\"}, {\"alignmentgroup\": \"True\", \"hovertemplate\": \"Title of occupation=Operations Research Analysts<br>Change (%)=%{x}<br>occ_code=%{y}<extra></extra>\", \"legendgroup\": \"Operations Research Analysts\", \"marker\": {\"color\": \"#B2828D\"}, \"name\": \"Operations Research Analysts\", \"offsetgroup\": \"Operations Research Analysts\", \"orientation\": \"h\", \"showlegend\": true, \"textposition\": \"auto\", \"type\": \"bar\", \"x\": [24.928639391056137], \"xaxis\": \"x\", \"y\": [\"15-2031\"], \"yaxis\": \"y\"}, {\"alignmentgroup\": \"True\", \"hovertemplate\": \"Title of occupation=Speech-Language Pathologists<br>Change (%)=%{x}<br>occ_code=%{y}<extra></extra>\", \"legendgroup\": \"Speech-Language Pathologists\", \"marker\": {\"color\": \"#6C7C32\"}, \"name\": \"Speech-Language Pathologists\", \"offsetgroup\": \"Speech-Language Pathologists\", \"orientation\": \"h\", \"showlegend\": true, \"textposition\": \"auto\", \"type\": \"bar\", \"x\": [24.907749077490777], \"xaxis\": \"x\", \"y\": [\"29-1127\"], \"yaxis\": \"y\"}, {\"alignmentgroup\": \"True\", \"hovertemplate\": \"Title of occupation=Substance Abuse, Behavioral Disorder, and Mental Health Counselors<br>Change (%)=%{x}<br>occ_code=%{y}<extra></extra>\", \"legendgroup\": \"Substance Abuse, Behavioral Disorder, and Mental Health Counselors\", \"marker\": {\"color\": \"#778AAE\"}, \"name\": \"Substance Abuse, Behavioral Disorder, and Mental Health Counselors\", \"offsetgroup\": \"Substance Abuse, Behavioral Disorder, and Mental Health Counselors\", \"orientation\": \"h\", \"showlegend\": true, \"textposition\": \"auto\", \"type\": \"bar\", \"x\": [24.733876017532875], \"xaxis\": \"x\", \"y\": [\"21-1018\"], \"yaxis\": \"y\"}, {\"alignmentgroup\": \"True\", \"hovertemplate\": \"Title of occupation=Cooks, Restaurant<br>Change (%)=%{x}<br>occ_code=%{y}<extra></extra>\", \"legendgroup\": \"Cooks, Restaurant\", \"marker\": {\"color\": \"#862A16\"}, \"name\": \"Cooks, Restaurant\", \"offsetgroup\": \"Cooks, Restaurant\", \"orientation\": \"h\", \"showlegend\": true, \"textposition\": \"auto\", \"type\": \"bar\", \"x\": [23.093205390531292], \"xaxis\": \"x\", \"y\": [\"35-2014\"], \"yaxis\": \"y\"}, {\"alignmentgroup\": \"True\", \"hovertemplate\": \"Title of occupation=Genetic Counselors<br>Change (%)=%{x}<br>occ_code=%{y}<extra></extra>\", \"legendgroup\": \"Genetic Counselors\", \"marker\": {\"color\": \"#A777F1\"}, \"name\": \"Genetic Counselors\", \"offsetgroup\": \"Genetic Counselors\", \"orientation\": \"h\", \"showlegend\": true, \"textposition\": \"auto\", \"type\": \"bar\", \"x\": [23.076923076923077], \"xaxis\": \"x\", \"y\": [\"29-9092\"], \"yaxis\": \"y\"}, {\"alignmentgroup\": \"True\", \"hovertemplate\": \"Title of occupation=Service Unit Operators, Oil and Gas<br>Change (%)=%{x}<br>occ_code=%{y}<extra></extra>\", \"legendgroup\": \"Service Unit Operators, Oil and Gas\", \"marker\": {\"color\": \"#620042\"}, \"name\": \"Service Unit Operators, Oil and Gas\", \"offsetgroup\": \"Service Unit Operators, Oil and Gas\", \"orientation\": \"h\", \"showlegend\": true, \"textposition\": \"auto\", \"type\": \"bar\", \"x\": [23.017408123791103], \"xaxis\": \"x\", \"y\": [\"47-5013\"], \"yaxis\": \"y\"}, {\"alignmentgroup\": \"True\", \"hovertemplate\": \"Title of occupation=Animal Caretakers<br>Change (%)=%{x}<br>occ_code=%{y}<extra></extra>\", \"legendgroup\": \"Animal Caretakers\", \"marker\": {\"color\": \"#1616A7\"}, \"name\": \"Animal Caretakers\", \"offsetgroup\": \"Animal Caretakers\", \"orientation\": \"h\", \"showlegend\": true, \"textposition\": \"auto\", \"type\": \"bar\", \"x\": [22.879946790821418], \"xaxis\": \"x\", \"y\": [\"39-2021\"], \"yaxis\": \"y\"}, {\"alignmentgroup\": \"True\", \"hovertemplate\": \"Title of occupation=Marriage and Family Therapists<br>Change (%)=%{x}<br>occ_code=%{y}<extra></extra>\", \"legendgroup\": \"Marriage and Family Therapists\", \"marker\": {\"color\": \"#DA60CA\"}, \"name\": \"Marriage and Family Therapists\", \"offsetgroup\": \"Marriage and Family Therapists\", \"orientation\": \"h\", \"showlegend\": true, \"textposition\": \"auto\", \"type\": \"bar\", \"x\": [22.20543806646526], \"xaxis\": \"x\", \"y\": [\"21-1013\"], \"yaxis\": \"y\"}, {\"alignmentgroup\": \"True\", \"hovertemplate\": \"Title of occupation=Computer Numerically Controlled Tool Programmers<br>Change (%)=%{x}<br>occ_code=%{y}<extra></extra>\", \"legendgroup\": \"Computer Numerically Controlled Tool Programmers\", \"marker\": {\"color\": \"#6C4516\"}, \"name\": \"Computer Numerically Controlled Tool Programmers\", \"offsetgroup\": \"Computer Numerically Controlled Tool Programmers\", \"orientation\": \"h\", \"showlegend\": true, \"textposition\": \"auto\", \"type\": \"bar\", \"x\": [21.78988326848249], \"xaxis\": \"x\", \"y\": [\"51-9162\"], \"yaxis\": \"y\"}, {\"alignmentgroup\": \"True\", \"hovertemplate\": \"Title of occupation=Forest Fire Inspectors and Prevention Specialists<br>Change (%)=%{x}<br>occ_code=%{y}<extra></extra>\", \"legendgroup\": \"Forest Fire Inspectors and Prevention Specialists\", \"marker\": {\"color\": \"#0D2A63\"}, \"name\": \"Forest Fire Inspectors and Prevention Specialists\", \"offsetgroup\": \"Forest Fire Inspectors and Prevention Specialists\", \"orientation\": \"h\", \"showlegend\": true, \"textposition\": \"auto\", \"type\": \"bar\", \"x\": [21.73913043478261], \"xaxis\": \"x\", \"y\": [\"33-2022\"], \"yaxis\": \"y\"}, {\"alignmentgroup\": \"True\", \"hovertemplate\": \"Title of occupation=Software Developers and Software Quality Assurance Analysts and Testers<br>Change (%)=%{x}<br>occ_code=%{y}<extra></extra>\", \"legendgroup\": \"Software Developers and Software Quality Assurance Analysts and Testers\", \"marker\": {\"color\": \"#AF0038\"}, \"name\": \"Software Developers and Software Quality Assurance Analysts and Testers\", \"offsetgroup\": \"Software Developers and Software Quality Assurance Analysts and Testers\", \"orientation\": \"h\", \"showlegend\": true, \"textposition\": \"auto\", \"type\": \"bar\", \"x\": [21.50830383882385], \"xaxis\": \"x\", \"y\": [\"15-1256\"], \"yaxis\": \"y\"}, {\"alignmentgroup\": \"True\", \"hovertemplate\": \"Title of occupation=Film and Video Editors<br>Change (%)=%{x}<br>occ_code=%{y}<extra></extra>\", \"legendgroup\": \"Film and Video Editors\", \"marker\": {\"color\": \"#2E91E5\"}, \"name\": \"Film and Video Editors\", \"offsetgroup\": \"Film and Video Editors\", \"orientation\": \"h\", \"showlegend\": true, \"textposition\": \"auto\", \"type\": \"bar\", \"x\": [21.409921671018274], \"xaxis\": \"x\", \"y\": [\"27-4032\"], \"yaxis\": \"y\"}],                        {\"barmode\": \"relative\", \"legend\": {\"title\": {\"text\": \"Title of occupation\"}, \"tracegroupgap\": 0}, \"margin\": {\"t\": 60}, \"template\": {\"data\": {\"bar\": [{\"error_x\": {\"color\": \"#2a3f5f\"}, \"error_y\": {\"color\": \"#2a3f5f\"}, \"marker\": {\"line\": {\"color\": \"#E5ECF6\", \"width\": 0.5}}, \"type\": \"bar\"}], \"barpolar\": [{\"marker\": {\"line\": {\"color\": \"#E5ECF6\", \"width\": 0.5}}, \"type\": \"barpolar\"}], \"carpet\": [{\"aaxis\": {\"endlinecolor\": \"#2a3f5f\", \"gridcolor\": \"white\", \"linecolor\": \"white\", \"minorgridcolor\": \"white\", \"startlinecolor\": \"#2a3f5f\"}, \"baxis\": {\"endlinecolor\": \"#2a3f5f\", \"gridcolor\": \"white\", \"linecolor\": \"white\", \"minorgridcolor\": \"white\", \"startlinecolor\": \"#2a3f5f\"}, \"type\": \"carpet\"}], \"choropleth\": [{\"colorbar\": {\"outlinewidth\": 0, \"ticks\": \"\"}, \"type\": \"choropleth\"}], \"contour\": [{\"colorbar\": {\"outlinewidth\": 0, \"ticks\": \"\"}, \"colorscale\": [[0.0, \"#0d0887\"], [0.1111111111111111, \"#46039f\"], [0.2222222222222222, \"#7201a8\"], [0.3333333333333333, \"#9c179e\"], [0.4444444444444444, \"#bd3786\"], [0.5555555555555556, \"#d8576b\"], [0.6666666666666666, \"#ed7953\"], [0.7777777777777778, \"#fb9f3a\"], [0.8888888888888888, \"#fdca26\"], [1.0, \"#f0f921\"]], \"type\": \"contour\"}], \"contourcarpet\": [{\"colorbar\": {\"outlinewidth\": 0, \"ticks\": \"\"}, \"type\": \"contourcarpet\"}], \"heatmap\": [{\"colorbar\": {\"outlinewidth\": 0, \"ticks\": \"\"}, \"colorscale\": [[0.0, \"#0d0887\"], [0.1111111111111111, \"#46039f\"], [0.2222222222222222, \"#7201a8\"], [0.3333333333333333, \"#9c179e\"], [0.4444444444444444, \"#bd3786\"], [0.5555555555555556, \"#d8576b\"], [0.6666666666666666, \"#ed7953\"], [0.7777777777777778, \"#fb9f3a\"], [0.8888888888888888, \"#fdca26\"], [1.0, \"#f0f921\"]], \"type\": \"heatmap\"}], \"heatmapgl\": [{\"colorbar\": {\"outlinewidth\": 0, \"ticks\": \"\"}, \"colorscale\": [[0.0, \"#0d0887\"], [0.1111111111111111, \"#46039f\"], [0.2222222222222222, \"#7201a8\"], [0.3333333333333333, \"#9c179e\"], [0.4444444444444444, \"#bd3786\"], [0.5555555555555556, \"#d8576b\"], [0.6666666666666666, \"#ed7953\"], [0.7777777777777778, \"#fb9f3a\"], [0.8888888888888888, \"#fdca26\"], [1.0, \"#f0f921\"]], \"type\": \"heatmapgl\"}], \"histogram\": [{\"marker\": {\"colorbar\": {\"outlinewidth\": 0, \"ticks\": \"\"}}, \"type\": \"histogram\"}], \"histogram2d\": [{\"colorbar\": {\"outlinewidth\": 0, \"ticks\": \"\"}, \"colorscale\": [[0.0, \"#0d0887\"], [0.1111111111111111, \"#46039f\"], [0.2222222222222222, \"#7201a8\"], [0.3333333333333333, \"#9c179e\"], [0.4444444444444444, \"#bd3786\"], [0.5555555555555556, \"#d8576b\"], [0.6666666666666666, \"#ed7953\"], [0.7777777777777778, \"#fb9f3a\"], [0.8888888888888888, \"#fdca26\"], [1.0, \"#f0f921\"]], \"type\": \"histogram2d\"}], \"histogram2dcontour\": [{\"colorbar\": {\"outlinewidth\": 0, \"ticks\": \"\"}, \"colorscale\": [[0.0, \"#0d0887\"], [0.1111111111111111, \"#46039f\"], [0.2222222222222222, \"#7201a8\"], [0.3333333333333333, \"#9c179e\"], [0.4444444444444444, \"#bd3786\"], [0.5555555555555556, \"#d8576b\"], [0.6666666666666666, \"#ed7953\"], [0.7777777777777778, \"#fb9f3a\"], [0.8888888888888888, \"#fdca26\"], [1.0, \"#f0f921\"]], \"type\": \"histogram2dcontour\"}], \"mesh3d\": [{\"colorbar\": {\"outlinewidth\": 0, \"ticks\": \"\"}, \"type\": \"mesh3d\"}], \"parcoords\": [{\"line\": {\"colorbar\": {\"outlinewidth\": 0, \"ticks\": \"\"}}, \"type\": \"parcoords\"}], \"pie\": [{\"automargin\": true, \"type\": \"pie\"}], \"scatter\": [{\"marker\": {\"colorbar\": {\"outlinewidth\": 0, \"ticks\": \"\"}}, \"type\": \"scatter\"}], \"scatter3d\": [{\"line\": {\"colorbar\": {\"outlinewidth\": 0, \"ticks\": \"\"}}, \"marker\": {\"colorbar\": {\"outlinewidth\": 0, \"ticks\": \"\"}}, \"type\": \"scatter3d\"}], \"scattercarpet\": [{\"marker\": {\"colorbar\": {\"outlinewidth\": 0, \"ticks\": \"\"}}, \"type\": \"scattercarpet\"}], \"scattergeo\": [{\"marker\": {\"colorbar\": {\"outlinewidth\": 0, \"ticks\": \"\"}}, \"type\": \"scattergeo\"}], \"scattergl\": [{\"marker\": {\"colorbar\": {\"outlinewidth\": 0, \"ticks\": \"\"}}, \"type\": \"scattergl\"}], \"scattermapbox\": [{\"marker\": {\"colorbar\": {\"outlinewidth\": 0, \"ticks\": \"\"}}, \"type\": \"scattermapbox\"}], \"scatterpolar\": [{\"marker\": {\"colorbar\": {\"outlinewidth\": 0, \"ticks\": \"\"}}, \"type\": \"scatterpolar\"}], \"scatterpolargl\": [{\"marker\": {\"colorbar\": {\"outlinewidth\": 0, \"ticks\": \"\"}}, \"type\": \"scatterpolargl\"}], \"scatterternary\": [{\"marker\": {\"colorbar\": {\"outlinewidth\": 0, \"ticks\": \"\"}}, \"type\": \"scatterternary\"}], \"surface\": [{\"colorbar\": {\"outlinewidth\": 0, \"ticks\": \"\"}, \"colorscale\": [[0.0, \"#0d0887\"], [0.1111111111111111, \"#46039f\"], [0.2222222222222222, \"#7201a8\"], [0.3333333333333333, \"#9c179e\"], [0.4444444444444444, \"#bd3786\"], [0.5555555555555556, \"#d8576b\"], [0.6666666666666666, \"#ed7953\"], [0.7777777777777778, \"#fb9f3a\"], [0.8888888888888888, \"#fdca26\"], [1.0, \"#f0f921\"]], \"type\": \"surface\"}], \"table\": [{\"cells\": {\"fill\": {\"color\": \"#EBF0F8\"}, \"line\": {\"color\": \"white\"}}, \"header\": {\"fill\": {\"color\": \"#C8D4E3\"}, \"line\": {\"color\": \"white\"}}, \"type\": \"table\"}]}, \"layout\": {\"annotationdefaults\": {\"arrowcolor\": \"#2a3f5f\", \"arrowhead\": 0, \"arrowwidth\": 1}, \"autotypenumbers\": \"strict\", \"coloraxis\": {\"colorbar\": {\"outlinewidth\": 0, \"ticks\": \"\"}}, \"colorscale\": {\"diverging\": [[0, \"#8e0152\"], [0.1, \"#c51b7d\"], [0.2, \"#de77ae\"], [0.3, \"#f1b6da\"], [0.4, \"#fde0ef\"], [0.5, \"#f7f7f7\"], [0.6, \"#e6f5d0\"], [0.7, \"#b8e186\"], [0.8, \"#7fbc41\"], [0.9, \"#4d9221\"], [1, \"#276419\"]], \"sequential\": [[0.0, \"#0d0887\"], [0.1111111111111111, \"#46039f\"], [0.2222222222222222, \"#7201a8\"], [0.3333333333333333, \"#9c179e\"], [0.4444444444444444, \"#bd3786\"], [0.5555555555555556, \"#d8576b\"], [0.6666666666666666, \"#ed7953\"], [0.7777777777777778, \"#fb9f3a\"], [0.8888888888888888, \"#fdca26\"], [1.0, \"#f0f921\"]], \"sequentialminus\": [[0.0, \"#0d0887\"], [0.1111111111111111, \"#46039f\"], [0.2222222222222222, \"#7201a8\"], [0.3333333333333333, \"#9c179e\"], [0.4444444444444444, \"#bd3786\"], [0.5555555555555556, \"#d8576b\"], [0.6666666666666666, \"#ed7953\"], [0.7777777777777778, \"#fb9f3a\"], [0.8888888888888888, \"#fdca26\"], [1.0, \"#f0f921\"]]}, \"colorway\": [\"#636efa\", \"#EF553B\", \"#00cc96\", \"#ab63fa\", \"#FFA15A\", \"#19d3f3\", \"#FF6692\", \"#B6E880\", \"#FF97FF\", \"#FECB52\"], \"font\": {\"color\": \"#2a3f5f\"}, \"geo\": {\"bgcolor\": \"white\", \"lakecolor\": \"white\", \"landcolor\": \"#E5ECF6\", \"showlakes\": true, \"showland\": true, \"subunitcolor\": \"white\"}, \"hoverlabel\": {\"align\": \"left\"}, \"hovermode\": \"closest\", \"mapbox\": {\"style\": \"light\"}, \"paper_bgcolor\": \"white\", \"plot_bgcolor\": \"#E5ECF6\", \"polar\": {\"angularaxis\": {\"gridcolor\": \"white\", \"linecolor\": \"white\", \"ticks\": \"\"}, \"bgcolor\": \"#E5ECF6\", \"radialaxis\": {\"gridcolor\": \"white\", \"linecolor\": \"white\", \"ticks\": \"\"}}, \"scene\": {\"xaxis\": {\"backgroundcolor\": \"#E5ECF6\", \"gridcolor\": \"white\", \"gridwidth\": 2, \"linecolor\": \"white\", \"showbackground\": true, \"ticks\": \"\", \"zerolinecolor\": \"white\"}, \"yaxis\": {\"backgroundcolor\": \"#E5ECF6\", \"gridcolor\": \"white\", \"gridwidth\": 2, \"linecolor\": \"white\", \"showbackground\": true, \"ticks\": \"\", \"zerolinecolor\": \"white\"}, \"zaxis\": {\"backgroundcolor\": \"#E5ECF6\", \"gridcolor\": \"white\", \"gridwidth\": 2, \"linecolor\": \"white\", \"showbackground\": true, \"ticks\": \"\", \"zerolinecolor\": \"white\"}}, \"shapedefaults\": {\"line\": {\"color\": \"#2a3f5f\"}}, \"ternary\": {\"aaxis\": {\"gridcolor\": \"white\", \"linecolor\": \"white\", \"ticks\": \"\"}, \"baxis\": {\"gridcolor\": \"white\", \"linecolor\": \"white\", \"ticks\": \"\"}, \"bgcolor\": \"#E5ECF6\", \"caxis\": {\"gridcolor\": \"white\", \"linecolor\": \"white\", \"ticks\": \"\"}}, \"title\": {\"x\": 0.05}, \"xaxis\": {\"automargin\": true, \"gridcolor\": \"white\", \"linecolor\": \"white\", \"ticks\": \"\", \"title\": {\"standoff\": 15}, \"zerolinecolor\": \"white\", \"zerolinewidth\": 2}, \"yaxis\": {\"automargin\": true, \"gridcolor\": \"white\", \"linecolor\": \"white\", \"ticks\": \"\", \"title\": {\"standoff\": 15}, \"zerolinecolor\": \"white\", \"zerolinewidth\": 2}}}, \"title\": {\"font\": {\"size\": 28}, \"text\": \"Growth by Occupation, 10 Year Change\"}, \"xaxis\": {\"anchor\": \"y\", \"domain\": [0.0, 1.0], \"title\": {\"text\": \"Change, 2019-2029 (%)\"}}, \"yaxis\": {\"anchor\": \"x\", \"categoryorder\": \"total ascending\", \"domain\": [0.0, 1.0], \"title\": {\"text\": \"Occupation\"}}},                        {\"responsive\": true}                    ).then(function(){\n",
       "                            \n",
       "var gd = document.getElementById('e5d47b00-0edc-409b-82e9-51ccf681d9f6');\n",
       "var x = new MutationObserver(function (mutations, observer) {{\n",
       "        var display = window.getComputedStyle(gd).display;\n",
       "        if (!display || display === 'none') {{\n",
       "            console.log([gd, 'removed!']);\n",
       "            Plotly.purge(gd);\n",
       "            observer.disconnect();\n",
       "        }}\n",
       "}});\n",
       "\n",
       "// Listen for the removal of the full notebook cells\n",
       "var notebookContainer = gd.closest('#notebook-container');\n",
       "if (notebookContainer) {{\n",
       "    x.observe(notebookContainer, {childList: true});\n",
       "}}\n",
       "\n",
       "// Listen for the clearing of the current output cell\n",
       "var outputEl = gd.closest('.output');\n",
       "if (outputEl) {{\n",
       "    x.observe(outputEl, {childList: true});\n",
       "}}\n",
       "\n",
       "                        })                };                });            </script>        </div>"
      ]
     },
     "metadata": {},
     "output_type": "display_data"
    }
   ],
   "source": [
    "# What are the top 25 occupations that will experience the most growth in the next decade\n",
    "\n",
    "master['Change (%)'] = ((master.employment_2029 - master.employment_2019) / master.employment_2019) * 100\n",
    "\n",
    "growth = master.groupby(['occ_title','occ_code']).agg({'Change (%)':np.mean}).sort_values(by='Change (%)',ascending=False).reset_index()\n",
    "\n",
    "fig1 = px.bar(growth[:25], y='occ_code',x='Change (%)', color='occ_title', color_discrete_sequence=px.colors.qualitative.Dark24, labels={'occ_title': 'Title of occupation'}).update_yaxes(categoryorder='total ascending')\n",
    "fig1.update_layout({'title':{'text':'Growth by Occupation, 10 Year Change', 'font':{'size':28}}, \n",
    "                    'xaxis':{'title':{'text':'Change, 2019-2029 (%)'}}, \n",
    "                    'yaxis':{'title':{'text':'Occupation'}}, \n",
    "                   })\n",
    "iplot(fig1)"
   ]
  },
  {
   "cell_type": "code",
   "execution_count": 59,
   "id": "197b5371",
   "metadata": {},
   "outputs": [
    {
     "data": {
      "application/vnd.plotly.v1+json": {
       "config": {
        "linkText": "Export to plot.ly",
        "plotlyServerURL": "https://plot.ly",
        "showLink": false
       },
       "data": [
        {
         "alignmentgroup": "True",
         "hovertemplate": "Title of occupation=Orthodontists<br>median_wage=%{x}<br>occ_code=%{y}<extra></extra>",
         "legendgroup": "Orthodontists",
         "marker": {
          "color": "#2E91E5"
         },
         "name": "Orthodontists",
         "offsetgroup": "Orthodontists",
         "orientation": "h",
         "showlegend": true,
         "textposition": "auto",
         "type": "bar",
         "x": [
          208000
         ],
         "xaxis": "x",
         "y": [
          "29-1023"
         ],
         "yaxis": "y"
        },
        {
         "alignmentgroup": "True",
         "hovertemplate": "Title of occupation=Prosthodontists<br>median_wage=%{x}<br>occ_code=%{y}<extra></extra>",
         "legendgroup": "Prosthodontists",
         "marker": {
          "color": "#E15F99"
         },
         "name": "Prosthodontists",
         "offsetgroup": "Prosthodontists",
         "orientation": "h",
         "showlegend": true,
         "textposition": "auto",
         "type": "bar",
         "x": [
          208000
         ],
         "xaxis": "x",
         "y": [
          "29-1024"
         ],
         "yaxis": "y"
        },
        {
         "alignmentgroup": "True",
         "hovertemplate": "Title of occupation=Oral and Maxillofacial Surgeons<br>median_wage=%{x}<br>occ_code=%{y}<extra></extra>",
         "legendgroup": "Oral and Maxillofacial Surgeons",
         "marker": {
          "color": "#1CA71C"
         },
         "name": "Oral and Maxillofacial Surgeons",
         "offsetgroup": "Oral and Maxillofacial Surgeons",
         "orientation": "h",
         "showlegend": true,
         "textposition": "auto",
         "type": "bar",
         "x": [
          208000
         ],
         "xaxis": "x",
         "y": [
          "29-1022"
         ],
         "yaxis": "y"
        },
        {
         "alignmentgroup": "True",
         "hovertemplate": "Title of occupation=Anesthesiologists<br>median_wage=%{x}<br>occ_code=%{y}<extra></extra>",
         "legendgroup": "Anesthesiologists",
         "marker": {
          "color": "#FB0D0D"
         },
         "name": "Anesthesiologists",
         "offsetgroup": "Anesthesiologists",
         "orientation": "h",
         "showlegend": true,
         "textposition": "auto",
         "type": "bar",
         "x": [
          208000
         ],
         "xaxis": "x",
         "y": [
          "29-1211"
         ],
         "yaxis": "y"
        },
        {
         "alignmentgroup": "True",
         "hovertemplate": "Title of occupation=Obstetricians and Gynecologists<br>median_wage=%{x}<br>occ_code=%{y}<extra></extra>",
         "legendgroup": "Obstetricians and Gynecologists",
         "marker": {
          "color": "#DA16FF"
         },
         "name": "Obstetricians and Gynecologists",
         "offsetgroup": "Obstetricians and Gynecologists",
         "orientation": "h",
         "showlegend": true,
         "textposition": "auto",
         "type": "bar",
         "x": [
          208000
         ],
         "xaxis": "x",
         "y": [
          "29-1218"
         ],
         "yaxis": "y"
        },
        {
         "alignmentgroup": "True",
         "hovertemplate": "Title of occupation=Psychiatrists<br>median_wage=%{x}<br>occ_code=%{y}<extra></extra>",
         "legendgroup": "Psychiatrists",
         "marker": {
          "color": "#222A2A"
         },
         "name": "Psychiatrists",
         "offsetgroup": "Psychiatrists",
         "orientation": "h",
         "showlegend": true,
         "textposition": "auto",
         "type": "bar",
         "x": [
          208000
         ],
         "xaxis": "x",
         "y": [
          "29-1223"
         ],
         "yaxis": "y"
        },
        {
         "alignmentgroup": "True",
         "hovertemplate": "Title of occupation=Surgeons, Except Ophthalmologists<br>median_wage=%{x}<br>occ_code=%{y}<extra></extra>",
         "legendgroup": "Surgeons, Except Ophthalmologists",
         "marker": {
          "color": "#B68100"
         },
         "name": "Surgeons, Except Ophthalmologists",
         "offsetgroup": "Surgeons, Except Ophthalmologists",
         "orientation": "h",
         "showlegend": true,
         "textposition": "auto",
         "type": "bar",
         "x": [
          208000
         ],
         "xaxis": "x",
         "y": [
          "29-1248"
         ],
         "yaxis": "y"
        },
        {
         "alignmentgroup": "True",
         "hovertemplate": "Title of occupation=Physicians, All Other; and Ophthalmologists, Except Pediatric<br>median_wage=%{x}<br>occ_code=%{y}<extra></extra>",
         "legendgroup": "Physicians, All Other; and Ophthalmologists, Except Pediatric",
         "marker": {
          "color": "#750D86"
         },
         "name": "Physicians, All Other; and Ophthalmologists, Except Pediatric",
         "offsetgroup": "Physicians, All Other; and Ophthalmologists, Except Pediatric",
         "orientation": "h",
         "showlegend": true,
         "textposition": "auto",
         "type": "bar",
         "x": [
          206500
         ],
         "xaxis": "x",
         "y": [
          "29-1228"
         ],
         "yaxis": "y"
        },
        {
         "alignmentgroup": "True",
         "hovertemplate": "Title of occupation=Family Medicine Physicians<br>median_wage=%{x}<br>occ_code=%{y}<extra></extra>",
         "legendgroup": "Family Medicine Physicians",
         "marker": {
          "color": "#EB663B"
         },
         "name": "Family Medicine Physicians",
         "offsetgroup": "Family Medicine Physicians",
         "orientation": "h",
         "showlegend": true,
         "textposition": "auto",
         "type": "bar",
         "x": [
          205590
         ],
         "xaxis": "x",
         "y": [
          "29-1215"
         ],
         "yaxis": "y"
        },
        {
         "alignmentgroup": "True",
         "hovertemplate": "Title of occupation=General Internal Medicine Physicians<br>median_wage=%{x}<br>occ_code=%{y}<extra></extra>",
         "legendgroup": "General Internal Medicine Physicians",
         "marker": {
          "color": "#511CFB"
         },
         "name": "General Internal Medicine Physicians",
         "offsetgroup": "General Internal Medicine Physicians",
         "orientation": "h",
         "showlegend": true,
         "textposition": "auto",
         "type": "bar",
         "x": [
          201590
         ],
         "xaxis": "x",
         "y": [
          "29-1216"
         ],
         "yaxis": "y"
        }
       ],
       "layout": {
        "barmode": "relative",
        "legend": {
         "title": {
          "text": "Title of occupation"
         },
         "tracegroupgap": 0
        },
        "margin": {
         "t": 60
        },
        "template": {
         "data": {
          "bar": [
           {
            "error_x": {
             "color": "#2a3f5f"
            },
            "error_y": {
             "color": "#2a3f5f"
            },
            "marker": {
             "line": {
              "color": "#E5ECF6",
              "width": 0.5
             }
            },
            "type": "bar"
           }
          ],
          "barpolar": [
           {
            "marker": {
             "line": {
              "color": "#E5ECF6",
              "width": 0.5
             }
            },
            "type": "barpolar"
           }
          ],
          "carpet": [
           {
            "aaxis": {
             "endlinecolor": "#2a3f5f",
             "gridcolor": "white",
             "linecolor": "white",
             "minorgridcolor": "white",
             "startlinecolor": "#2a3f5f"
            },
            "baxis": {
             "endlinecolor": "#2a3f5f",
             "gridcolor": "white",
             "linecolor": "white",
             "minorgridcolor": "white",
             "startlinecolor": "#2a3f5f"
            },
            "type": "carpet"
           }
          ],
          "choropleth": [
           {
            "colorbar": {
             "outlinewidth": 0,
             "ticks": ""
            },
            "type": "choropleth"
           }
          ],
          "contour": [
           {
            "colorbar": {
             "outlinewidth": 0,
             "ticks": ""
            },
            "colorscale": [
             [
              0,
              "#0d0887"
             ],
             [
              0.1111111111111111,
              "#46039f"
             ],
             [
              0.2222222222222222,
              "#7201a8"
             ],
             [
              0.3333333333333333,
              "#9c179e"
             ],
             [
              0.4444444444444444,
              "#bd3786"
             ],
             [
              0.5555555555555556,
              "#d8576b"
             ],
             [
              0.6666666666666666,
              "#ed7953"
             ],
             [
              0.7777777777777778,
              "#fb9f3a"
             ],
             [
              0.8888888888888888,
              "#fdca26"
             ],
             [
              1,
              "#f0f921"
             ]
            ],
            "type": "contour"
           }
          ],
          "contourcarpet": [
           {
            "colorbar": {
             "outlinewidth": 0,
             "ticks": ""
            },
            "type": "contourcarpet"
           }
          ],
          "heatmap": [
           {
            "colorbar": {
             "outlinewidth": 0,
             "ticks": ""
            },
            "colorscale": [
             [
              0,
              "#0d0887"
             ],
             [
              0.1111111111111111,
              "#46039f"
             ],
             [
              0.2222222222222222,
              "#7201a8"
             ],
             [
              0.3333333333333333,
              "#9c179e"
             ],
             [
              0.4444444444444444,
              "#bd3786"
             ],
             [
              0.5555555555555556,
              "#d8576b"
             ],
             [
              0.6666666666666666,
              "#ed7953"
             ],
             [
              0.7777777777777778,
              "#fb9f3a"
             ],
             [
              0.8888888888888888,
              "#fdca26"
             ],
             [
              1,
              "#f0f921"
             ]
            ],
            "type": "heatmap"
           }
          ],
          "heatmapgl": [
           {
            "colorbar": {
             "outlinewidth": 0,
             "ticks": ""
            },
            "colorscale": [
             [
              0,
              "#0d0887"
             ],
             [
              0.1111111111111111,
              "#46039f"
             ],
             [
              0.2222222222222222,
              "#7201a8"
             ],
             [
              0.3333333333333333,
              "#9c179e"
             ],
             [
              0.4444444444444444,
              "#bd3786"
             ],
             [
              0.5555555555555556,
              "#d8576b"
             ],
             [
              0.6666666666666666,
              "#ed7953"
             ],
             [
              0.7777777777777778,
              "#fb9f3a"
             ],
             [
              0.8888888888888888,
              "#fdca26"
             ],
             [
              1,
              "#f0f921"
             ]
            ],
            "type": "heatmapgl"
           }
          ],
          "histogram": [
           {
            "marker": {
             "colorbar": {
              "outlinewidth": 0,
              "ticks": ""
             }
            },
            "type": "histogram"
           }
          ],
          "histogram2d": [
           {
            "colorbar": {
             "outlinewidth": 0,
             "ticks": ""
            },
            "colorscale": [
             [
              0,
              "#0d0887"
             ],
             [
              0.1111111111111111,
              "#46039f"
             ],
             [
              0.2222222222222222,
              "#7201a8"
             ],
             [
              0.3333333333333333,
              "#9c179e"
             ],
             [
              0.4444444444444444,
              "#bd3786"
             ],
             [
              0.5555555555555556,
              "#d8576b"
             ],
             [
              0.6666666666666666,
              "#ed7953"
             ],
             [
              0.7777777777777778,
              "#fb9f3a"
             ],
             [
              0.8888888888888888,
              "#fdca26"
             ],
             [
              1,
              "#f0f921"
             ]
            ],
            "type": "histogram2d"
           }
          ],
          "histogram2dcontour": [
           {
            "colorbar": {
             "outlinewidth": 0,
             "ticks": ""
            },
            "colorscale": [
             [
              0,
              "#0d0887"
             ],
             [
              0.1111111111111111,
              "#46039f"
             ],
             [
              0.2222222222222222,
              "#7201a8"
             ],
             [
              0.3333333333333333,
              "#9c179e"
             ],
             [
              0.4444444444444444,
              "#bd3786"
             ],
             [
              0.5555555555555556,
              "#d8576b"
             ],
             [
              0.6666666666666666,
              "#ed7953"
             ],
             [
              0.7777777777777778,
              "#fb9f3a"
             ],
             [
              0.8888888888888888,
              "#fdca26"
             ],
             [
              1,
              "#f0f921"
             ]
            ],
            "type": "histogram2dcontour"
           }
          ],
          "mesh3d": [
           {
            "colorbar": {
             "outlinewidth": 0,
             "ticks": ""
            },
            "type": "mesh3d"
           }
          ],
          "parcoords": [
           {
            "line": {
             "colorbar": {
              "outlinewidth": 0,
              "ticks": ""
             }
            },
            "type": "parcoords"
           }
          ],
          "pie": [
           {
            "automargin": true,
            "type": "pie"
           }
          ],
          "scatter": [
           {
            "marker": {
             "colorbar": {
              "outlinewidth": 0,
              "ticks": ""
             }
            },
            "type": "scatter"
           }
          ],
          "scatter3d": [
           {
            "line": {
             "colorbar": {
              "outlinewidth": 0,
              "ticks": ""
             }
            },
            "marker": {
             "colorbar": {
              "outlinewidth": 0,
              "ticks": ""
             }
            },
            "type": "scatter3d"
           }
          ],
          "scattercarpet": [
           {
            "marker": {
             "colorbar": {
              "outlinewidth": 0,
              "ticks": ""
             }
            },
            "type": "scattercarpet"
           }
          ],
          "scattergeo": [
           {
            "marker": {
             "colorbar": {
              "outlinewidth": 0,
              "ticks": ""
             }
            },
            "type": "scattergeo"
           }
          ],
          "scattergl": [
           {
            "marker": {
             "colorbar": {
              "outlinewidth": 0,
              "ticks": ""
             }
            },
            "type": "scattergl"
           }
          ],
          "scattermapbox": [
           {
            "marker": {
             "colorbar": {
              "outlinewidth": 0,
              "ticks": ""
             }
            },
            "type": "scattermapbox"
           }
          ],
          "scatterpolar": [
           {
            "marker": {
             "colorbar": {
              "outlinewidth": 0,
              "ticks": ""
             }
            },
            "type": "scatterpolar"
           }
          ],
          "scatterpolargl": [
           {
            "marker": {
             "colorbar": {
              "outlinewidth": 0,
              "ticks": ""
             }
            },
            "type": "scatterpolargl"
           }
          ],
          "scatterternary": [
           {
            "marker": {
             "colorbar": {
              "outlinewidth": 0,
              "ticks": ""
             }
            },
            "type": "scatterternary"
           }
          ],
          "surface": [
           {
            "colorbar": {
             "outlinewidth": 0,
             "ticks": ""
            },
            "colorscale": [
             [
              0,
              "#0d0887"
             ],
             [
              0.1111111111111111,
              "#46039f"
             ],
             [
              0.2222222222222222,
              "#7201a8"
             ],
             [
              0.3333333333333333,
              "#9c179e"
             ],
             [
              0.4444444444444444,
              "#bd3786"
             ],
             [
              0.5555555555555556,
              "#d8576b"
             ],
             [
              0.6666666666666666,
              "#ed7953"
             ],
             [
              0.7777777777777778,
              "#fb9f3a"
             ],
             [
              0.8888888888888888,
              "#fdca26"
             ],
             [
              1,
              "#f0f921"
             ]
            ],
            "type": "surface"
           }
          ],
          "table": [
           {
            "cells": {
             "fill": {
              "color": "#EBF0F8"
             },
             "line": {
              "color": "white"
             }
            },
            "header": {
             "fill": {
              "color": "#C8D4E3"
             },
             "line": {
              "color": "white"
             }
            },
            "type": "table"
           }
          ]
         },
         "layout": {
          "annotationdefaults": {
           "arrowcolor": "#2a3f5f",
           "arrowhead": 0,
           "arrowwidth": 1
          },
          "autotypenumbers": "strict",
          "coloraxis": {
           "colorbar": {
            "outlinewidth": 0,
            "ticks": ""
           }
          },
          "colorscale": {
           "diverging": [
            [
             0,
             "#8e0152"
            ],
            [
             0.1,
             "#c51b7d"
            ],
            [
             0.2,
             "#de77ae"
            ],
            [
             0.3,
             "#f1b6da"
            ],
            [
             0.4,
             "#fde0ef"
            ],
            [
             0.5,
             "#f7f7f7"
            ],
            [
             0.6,
             "#e6f5d0"
            ],
            [
             0.7,
             "#b8e186"
            ],
            [
             0.8,
             "#7fbc41"
            ],
            [
             0.9,
             "#4d9221"
            ],
            [
             1,
             "#276419"
            ]
           ],
           "sequential": [
            [
             0,
             "#0d0887"
            ],
            [
             0.1111111111111111,
             "#46039f"
            ],
            [
             0.2222222222222222,
             "#7201a8"
            ],
            [
             0.3333333333333333,
             "#9c179e"
            ],
            [
             0.4444444444444444,
             "#bd3786"
            ],
            [
             0.5555555555555556,
             "#d8576b"
            ],
            [
             0.6666666666666666,
             "#ed7953"
            ],
            [
             0.7777777777777778,
             "#fb9f3a"
            ],
            [
             0.8888888888888888,
             "#fdca26"
            ],
            [
             1,
             "#f0f921"
            ]
           ],
           "sequentialminus": [
            [
             0,
             "#0d0887"
            ],
            [
             0.1111111111111111,
             "#46039f"
            ],
            [
             0.2222222222222222,
             "#7201a8"
            ],
            [
             0.3333333333333333,
             "#9c179e"
            ],
            [
             0.4444444444444444,
             "#bd3786"
            ],
            [
             0.5555555555555556,
             "#d8576b"
            ],
            [
             0.6666666666666666,
             "#ed7953"
            ],
            [
             0.7777777777777778,
             "#fb9f3a"
            ],
            [
             0.8888888888888888,
             "#fdca26"
            ],
            [
             1,
             "#f0f921"
            ]
           ]
          },
          "colorway": [
           "#636efa",
           "#EF553B",
           "#00cc96",
           "#ab63fa",
           "#FFA15A",
           "#19d3f3",
           "#FF6692",
           "#B6E880",
           "#FF97FF",
           "#FECB52"
          ],
          "font": {
           "color": "#2a3f5f"
          },
          "geo": {
           "bgcolor": "white",
           "lakecolor": "white",
           "landcolor": "#E5ECF6",
           "showlakes": true,
           "showland": true,
           "subunitcolor": "white"
          },
          "hoverlabel": {
           "align": "left"
          },
          "hovermode": "closest",
          "mapbox": {
           "style": "light"
          },
          "paper_bgcolor": "white",
          "plot_bgcolor": "#E5ECF6",
          "polar": {
           "angularaxis": {
            "gridcolor": "white",
            "linecolor": "white",
            "ticks": ""
           },
           "bgcolor": "#E5ECF6",
           "radialaxis": {
            "gridcolor": "white",
            "linecolor": "white",
            "ticks": ""
           }
          },
          "scene": {
           "xaxis": {
            "backgroundcolor": "#E5ECF6",
            "gridcolor": "white",
            "gridwidth": 2,
            "linecolor": "white",
            "showbackground": true,
            "ticks": "",
            "zerolinecolor": "white"
           },
           "yaxis": {
            "backgroundcolor": "#E5ECF6",
            "gridcolor": "white",
            "gridwidth": 2,
            "linecolor": "white",
            "showbackground": true,
            "ticks": "",
            "zerolinecolor": "white"
           },
           "zaxis": {
            "backgroundcolor": "#E5ECF6",
            "gridcolor": "white",
            "gridwidth": 2,
            "linecolor": "white",
            "showbackground": true,
            "ticks": "",
            "zerolinecolor": "white"
           }
          },
          "shapedefaults": {
           "line": {
            "color": "#2a3f5f"
           }
          },
          "ternary": {
           "aaxis": {
            "gridcolor": "white",
            "linecolor": "white",
            "ticks": ""
           },
           "baxis": {
            "gridcolor": "white",
            "linecolor": "white",
            "ticks": ""
           },
           "bgcolor": "#E5ECF6",
           "caxis": {
            "gridcolor": "white",
            "linecolor": "white",
            "ticks": ""
           }
          },
          "title": {
           "x": 0.05
          },
          "xaxis": {
           "automargin": true,
           "gridcolor": "white",
           "linecolor": "white",
           "ticks": "",
           "title": {
            "standoff": 15
           },
           "zerolinecolor": "white",
           "zerolinewidth": 2
          },
          "yaxis": {
           "automargin": true,
           "gridcolor": "white",
           "linecolor": "white",
           "ticks": "",
           "title": {
            "standoff": 15
           },
           "zerolinecolor": "white",
           "zerolinewidth": 2
          }
         }
        },
        "title": {
         "font": {
          "size": 28
         },
         "text": "Median Wage by Occupation, Less Than 5 Years' Experience"
        },
        "xaxis": {
         "anchor": "y",
         "domain": [
          0,
          1
         ],
         "range": [
          200000,
          210000
         ],
         "title": {
          "text": "Median Wage ($)"
         }
        },
        "yaxis": {
         "anchor": "x",
         "categoryorder": "total ascending",
         "domain": [
          0,
          1
         ],
         "title": {
          "text": "Occupation"
         }
        }
       }
      },
      "text/html": [
       "<div>                            <div id=\"926ba0f2-82ee-47a3-ac41-ad6e03548929\" class=\"plotly-graph-div\" style=\"height:525px; width:100%;\"></div>            <script type=\"text/javascript\">                require([\"plotly\"], function(Plotly) {                    window.PLOTLYENV=window.PLOTLYENV || {};                                    if (document.getElementById(\"926ba0f2-82ee-47a3-ac41-ad6e03548929\")) {                    Plotly.newPlot(                        \"926ba0f2-82ee-47a3-ac41-ad6e03548929\",                        [{\"alignmentgroup\": \"True\", \"hovertemplate\": \"Title of occupation=Orthodontists<br>median_wage=%{x}<br>occ_code=%{y}<extra></extra>\", \"legendgroup\": \"Orthodontists\", \"marker\": {\"color\": \"#2E91E5\"}, \"name\": \"Orthodontists\", \"offsetgroup\": \"Orthodontists\", \"orientation\": \"h\", \"showlegend\": true, \"textposition\": \"auto\", \"type\": \"bar\", \"x\": [208000.0], \"xaxis\": \"x\", \"y\": [\"29-1023\"], \"yaxis\": \"y\"}, {\"alignmentgroup\": \"True\", \"hovertemplate\": \"Title of occupation=Prosthodontists<br>median_wage=%{x}<br>occ_code=%{y}<extra></extra>\", \"legendgroup\": \"Prosthodontists\", \"marker\": {\"color\": \"#E15F99\"}, \"name\": \"Prosthodontists\", \"offsetgroup\": \"Prosthodontists\", \"orientation\": \"h\", \"showlegend\": true, \"textposition\": \"auto\", \"type\": \"bar\", \"x\": [208000.0], \"xaxis\": \"x\", \"y\": [\"29-1024\"], \"yaxis\": \"y\"}, {\"alignmentgroup\": \"True\", \"hovertemplate\": \"Title of occupation=Oral and Maxillofacial Surgeons<br>median_wage=%{x}<br>occ_code=%{y}<extra></extra>\", \"legendgroup\": \"Oral and Maxillofacial Surgeons\", \"marker\": {\"color\": \"#1CA71C\"}, \"name\": \"Oral and Maxillofacial Surgeons\", \"offsetgroup\": \"Oral and Maxillofacial Surgeons\", \"orientation\": \"h\", \"showlegend\": true, \"textposition\": \"auto\", \"type\": \"bar\", \"x\": [208000.0], \"xaxis\": \"x\", \"y\": [\"29-1022\"], \"yaxis\": \"y\"}, {\"alignmentgroup\": \"True\", \"hovertemplate\": \"Title of occupation=Anesthesiologists<br>median_wage=%{x}<br>occ_code=%{y}<extra></extra>\", \"legendgroup\": \"Anesthesiologists\", \"marker\": {\"color\": \"#FB0D0D\"}, \"name\": \"Anesthesiologists\", \"offsetgroup\": \"Anesthesiologists\", \"orientation\": \"h\", \"showlegend\": true, \"textposition\": \"auto\", \"type\": \"bar\", \"x\": [208000.0], \"xaxis\": \"x\", \"y\": [\"29-1211\"], \"yaxis\": \"y\"}, {\"alignmentgroup\": \"True\", \"hovertemplate\": \"Title of occupation=Obstetricians and Gynecologists<br>median_wage=%{x}<br>occ_code=%{y}<extra></extra>\", \"legendgroup\": \"Obstetricians and Gynecologists\", \"marker\": {\"color\": \"#DA16FF\"}, \"name\": \"Obstetricians and Gynecologists\", \"offsetgroup\": \"Obstetricians and Gynecologists\", \"orientation\": \"h\", \"showlegend\": true, \"textposition\": \"auto\", \"type\": \"bar\", \"x\": [208000.0], \"xaxis\": \"x\", \"y\": [\"29-1218\"], \"yaxis\": \"y\"}, {\"alignmentgroup\": \"True\", \"hovertemplate\": \"Title of occupation=Psychiatrists<br>median_wage=%{x}<br>occ_code=%{y}<extra></extra>\", \"legendgroup\": \"Psychiatrists\", \"marker\": {\"color\": \"#222A2A\"}, \"name\": \"Psychiatrists\", \"offsetgroup\": \"Psychiatrists\", \"orientation\": \"h\", \"showlegend\": true, \"textposition\": \"auto\", \"type\": \"bar\", \"x\": [208000.0], \"xaxis\": \"x\", \"y\": [\"29-1223\"], \"yaxis\": \"y\"}, {\"alignmentgroup\": \"True\", \"hovertemplate\": \"Title of occupation=Surgeons, Except Ophthalmologists<br>median_wage=%{x}<br>occ_code=%{y}<extra></extra>\", \"legendgroup\": \"Surgeons, Except Ophthalmologists\", \"marker\": {\"color\": \"#B68100\"}, \"name\": \"Surgeons, Except Ophthalmologists\", \"offsetgroup\": \"Surgeons, Except Ophthalmologists\", \"orientation\": \"h\", \"showlegend\": true, \"textposition\": \"auto\", \"type\": \"bar\", \"x\": [208000.0], \"xaxis\": \"x\", \"y\": [\"29-1248\"], \"yaxis\": \"y\"}, {\"alignmentgroup\": \"True\", \"hovertemplate\": \"Title of occupation=Physicians, All Other; and Ophthalmologists, Except Pediatric<br>median_wage=%{x}<br>occ_code=%{y}<extra></extra>\", \"legendgroup\": \"Physicians, All Other; and Ophthalmologists, Except Pediatric\", \"marker\": {\"color\": \"#750D86\"}, \"name\": \"Physicians, All Other; and Ophthalmologists, Except Pediatric\", \"offsetgroup\": \"Physicians, All Other; and Ophthalmologists, Except Pediatric\", \"orientation\": \"h\", \"showlegend\": true, \"textposition\": \"auto\", \"type\": \"bar\", \"x\": [206500.0], \"xaxis\": \"x\", \"y\": [\"29-1228\"], \"yaxis\": \"y\"}, {\"alignmentgroup\": \"True\", \"hovertemplate\": \"Title of occupation=Family Medicine Physicians<br>median_wage=%{x}<br>occ_code=%{y}<extra></extra>\", \"legendgroup\": \"Family Medicine Physicians\", \"marker\": {\"color\": \"#EB663B\"}, \"name\": \"Family Medicine Physicians\", \"offsetgroup\": \"Family Medicine Physicians\", \"orientation\": \"h\", \"showlegend\": true, \"textposition\": \"auto\", \"type\": \"bar\", \"x\": [205590.0], \"xaxis\": \"x\", \"y\": [\"29-1215\"], \"yaxis\": \"y\"}, {\"alignmentgroup\": \"True\", \"hovertemplate\": \"Title of occupation=General Internal Medicine Physicians<br>median_wage=%{x}<br>occ_code=%{y}<extra></extra>\", \"legendgroup\": \"General Internal Medicine Physicians\", \"marker\": {\"color\": \"#511CFB\"}, \"name\": \"General Internal Medicine Physicians\", \"offsetgroup\": \"General Internal Medicine Physicians\", \"orientation\": \"h\", \"showlegend\": true, \"textposition\": \"auto\", \"type\": \"bar\", \"x\": [201590.0], \"xaxis\": \"x\", \"y\": [\"29-1216\"], \"yaxis\": \"y\"}],                        {\"barmode\": \"relative\", \"legend\": {\"title\": {\"text\": \"Title of occupation\"}, \"tracegroupgap\": 0}, \"margin\": {\"t\": 60}, \"template\": {\"data\": {\"bar\": [{\"error_x\": {\"color\": \"#2a3f5f\"}, \"error_y\": {\"color\": \"#2a3f5f\"}, \"marker\": {\"line\": {\"color\": \"#E5ECF6\", \"width\": 0.5}}, \"type\": \"bar\"}], \"barpolar\": [{\"marker\": {\"line\": {\"color\": \"#E5ECF6\", \"width\": 0.5}}, \"type\": \"barpolar\"}], \"carpet\": [{\"aaxis\": {\"endlinecolor\": \"#2a3f5f\", \"gridcolor\": \"white\", \"linecolor\": \"white\", \"minorgridcolor\": \"white\", \"startlinecolor\": \"#2a3f5f\"}, \"baxis\": {\"endlinecolor\": \"#2a3f5f\", \"gridcolor\": \"white\", \"linecolor\": \"white\", \"minorgridcolor\": \"white\", \"startlinecolor\": \"#2a3f5f\"}, \"type\": \"carpet\"}], \"choropleth\": [{\"colorbar\": {\"outlinewidth\": 0, \"ticks\": \"\"}, \"type\": \"choropleth\"}], \"contour\": [{\"colorbar\": {\"outlinewidth\": 0, \"ticks\": \"\"}, \"colorscale\": [[0.0, \"#0d0887\"], [0.1111111111111111, \"#46039f\"], [0.2222222222222222, \"#7201a8\"], [0.3333333333333333, \"#9c179e\"], [0.4444444444444444, \"#bd3786\"], [0.5555555555555556, \"#d8576b\"], [0.6666666666666666, \"#ed7953\"], [0.7777777777777778, \"#fb9f3a\"], [0.8888888888888888, \"#fdca26\"], [1.0, \"#f0f921\"]], \"type\": \"contour\"}], \"contourcarpet\": [{\"colorbar\": {\"outlinewidth\": 0, \"ticks\": \"\"}, \"type\": \"contourcarpet\"}], \"heatmap\": [{\"colorbar\": {\"outlinewidth\": 0, \"ticks\": \"\"}, \"colorscale\": [[0.0, \"#0d0887\"], [0.1111111111111111, \"#46039f\"], [0.2222222222222222, \"#7201a8\"], [0.3333333333333333, \"#9c179e\"], [0.4444444444444444, \"#bd3786\"], [0.5555555555555556, \"#d8576b\"], [0.6666666666666666, \"#ed7953\"], [0.7777777777777778, \"#fb9f3a\"], [0.8888888888888888, \"#fdca26\"], [1.0, \"#f0f921\"]], \"type\": \"heatmap\"}], \"heatmapgl\": [{\"colorbar\": {\"outlinewidth\": 0, \"ticks\": \"\"}, \"colorscale\": [[0.0, \"#0d0887\"], [0.1111111111111111, \"#46039f\"], [0.2222222222222222, \"#7201a8\"], [0.3333333333333333, \"#9c179e\"], [0.4444444444444444, \"#bd3786\"], [0.5555555555555556, \"#d8576b\"], [0.6666666666666666, \"#ed7953\"], [0.7777777777777778, \"#fb9f3a\"], [0.8888888888888888, \"#fdca26\"], [1.0, \"#f0f921\"]], \"type\": \"heatmapgl\"}], \"histogram\": [{\"marker\": {\"colorbar\": {\"outlinewidth\": 0, \"ticks\": \"\"}}, \"type\": \"histogram\"}], \"histogram2d\": [{\"colorbar\": {\"outlinewidth\": 0, \"ticks\": \"\"}, \"colorscale\": [[0.0, \"#0d0887\"], [0.1111111111111111, \"#46039f\"], [0.2222222222222222, \"#7201a8\"], [0.3333333333333333, \"#9c179e\"], [0.4444444444444444, \"#bd3786\"], [0.5555555555555556, \"#d8576b\"], [0.6666666666666666, \"#ed7953\"], [0.7777777777777778, \"#fb9f3a\"], [0.8888888888888888, \"#fdca26\"], [1.0, \"#f0f921\"]], \"type\": \"histogram2d\"}], \"histogram2dcontour\": [{\"colorbar\": {\"outlinewidth\": 0, \"ticks\": \"\"}, \"colorscale\": [[0.0, \"#0d0887\"], [0.1111111111111111, \"#46039f\"], [0.2222222222222222, \"#7201a8\"], [0.3333333333333333, \"#9c179e\"], [0.4444444444444444, \"#bd3786\"], [0.5555555555555556, \"#d8576b\"], [0.6666666666666666, \"#ed7953\"], [0.7777777777777778, \"#fb9f3a\"], [0.8888888888888888, \"#fdca26\"], [1.0, \"#f0f921\"]], \"type\": \"histogram2dcontour\"}], \"mesh3d\": [{\"colorbar\": {\"outlinewidth\": 0, \"ticks\": \"\"}, \"type\": \"mesh3d\"}], \"parcoords\": [{\"line\": {\"colorbar\": {\"outlinewidth\": 0, \"ticks\": \"\"}}, \"type\": \"parcoords\"}], \"pie\": [{\"automargin\": true, \"type\": \"pie\"}], \"scatter\": [{\"marker\": {\"colorbar\": {\"outlinewidth\": 0, \"ticks\": \"\"}}, \"type\": \"scatter\"}], \"scatter3d\": [{\"line\": {\"colorbar\": {\"outlinewidth\": 0, \"ticks\": \"\"}}, \"marker\": {\"colorbar\": {\"outlinewidth\": 0, \"ticks\": \"\"}}, \"type\": \"scatter3d\"}], \"scattercarpet\": [{\"marker\": {\"colorbar\": {\"outlinewidth\": 0, \"ticks\": \"\"}}, \"type\": \"scattercarpet\"}], \"scattergeo\": [{\"marker\": {\"colorbar\": {\"outlinewidth\": 0, \"ticks\": \"\"}}, \"type\": \"scattergeo\"}], \"scattergl\": [{\"marker\": {\"colorbar\": {\"outlinewidth\": 0, \"ticks\": \"\"}}, \"type\": \"scattergl\"}], \"scattermapbox\": [{\"marker\": {\"colorbar\": {\"outlinewidth\": 0, \"ticks\": \"\"}}, \"type\": \"scattermapbox\"}], \"scatterpolar\": [{\"marker\": {\"colorbar\": {\"outlinewidth\": 0, \"ticks\": \"\"}}, \"type\": \"scatterpolar\"}], \"scatterpolargl\": [{\"marker\": {\"colorbar\": {\"outlinewidth\": 0, \"ticks\": \"\"}}, \"type\": \"scatterpolargl\"}], \"scatterternary\": [{\"marker\": {\"colorbar\": {\"outlinewidth\": 0, \"ticks\": \"\"}}, \"type\": \"scatterternary\"}], \"surface\": [{\"colorbar\": {\"outlinewidth\": 0, \"ticks\": \"\"}, \"colorscale\": [[0.0, \"#0d0887\"], [0.1111111111111111, \"#46039f\"], [0.2222222222222222, \"#7201a8\"], [0.3333333333333333, \"#9c179e\"], [0.4444444444444444, \"#bd3786\"], [0.5555555555555556, \"#d8576b\"], [0.6666666666666666, \"#ed7953\"], [0.7777777777777778, \"#fb9f3a\"], [0.8888888888888888, \"#fdca26\"], [1.0, \"#f0f921\"]], \"type\": \"surface\"}], \"table\": [{\"cells\": {\"fill\": {\"color\": \"#EBF0F8\"}, \"line\": {\"color\": \"white\"}}, \"header\": {\"fill\": {\"color\": \"#C8D4E3\"}, \"line\": {\"color\": \"white\"}}, \"type\": \"table\"}]}, \"layout\": {\"annotationdefaults\": {\"arrowcolor\": \"#2a3f5f\", \"arrowhead\": 0, \"arrowwidth\": 1}, \"autotypenumbers\": \"strict\", \"coloraxis\": {\"colorbar\": {\"outlinewidth\": 0, \"ticks\": \"\"}}, \"colorscale\": {\"diverging\": [[0, \"#8e0152\"], [0.1, \"#c51b7d\"], [0.2, \"#de77ae\"], [0.3, \"#f1b6da\"], [0.4, \"#fde0ef\"], [0.5, \"#f7f7f7\"], [0.6, \"#e6f5d0\"], [0.7, \"#b8e186\"], [0.8, \"#7fbc41\"], [0.9, \"#4d9221\"], [1, \"#276419\"]], \"sequential\": [[0.0, \"#0d0887\"], [0.1111111111111111, \"#46039f\"], [0.2222222222222222, \"#7201a8\"], [0.3333333333333333, \"#9c179e\"], [0.4444444444444444, \"#bd3786\"], [0.5555555555555556, \"#d8576b\"], [0.6666666666666666, \"#ed7953\"], [0.7777777777777778, \"#fb9f3a\"], [0.8888888888888888, \"#fdca26\"], [1.0, \"#f0f921\"]], \"sequentialminus\": [[0.0, \"#0d0887\"], [0.1111111111111111, \"#46039f\"], [0.2222222222222222, \"#7201a8\"], [0.3333333333333333, \"#9c179e\"], [0.4444444444444444, \"#bd3786\"], [0.5555555555555556, \"#d8576b\"], [0.6666666666666666, \"#ed7953\"], [0.7777777777777778, \"#fb9f3a\"], [0.8888888888888888, \"#fdca26\"], [1.0, \"#f0f921\"]]}, \"colorway\": [\"#636efa\", \"#EF553B\", \"#00cc96\", \"#ab63fa\", \"#FFA15A\", \"#19d3f3\", \"#FF6692\", \"#B6E880\", \"#FF97FF\", \"#FECB52\"], \"font\": {\"color\": \"#2a3f5f\"}, \"geo\": {\"bgcolor\": \"white\", \"lakecolor\": \"white\", \"landcolor\": \"#E5ECF6\", \"showlakes\": true, \"showland\": true, \"subunitcolor\": \"white\"}, \"hoverlabel\": {\"align\": \"left\"}, \"hovermode\": \"closest\", \"mapbox\": {\"style\": \"light\"}, \"paper_bgcolor\": \"white\", \"plot_bgcolor\": \"#E5ECF6\", \"polar\": {\"angularaxis\": {\"gridcolor\": \"white\", \"linecolor\": \"white\", \"ticks\": \"\"}, \"bgcolor\": \"#E5ECF6\", \"radialaxis\": {\"gridcolor\": \"white\", \"linecolor\": \"white\", \"ticks\": \"\"}}, \"scene\": {\"xaxis\": {\"backgroundcolor\": \"#E5ECF6\", \"gridcolor\": \"white\", \"gridwidth\": 2, \"linecolor\": \"white\", \"showbackground\": true, \"ticks\": \"\", \"zerolinecolor\": \"white\"}, \"yaxis\": {\"backgroundcolor\": \"#E5ECF6\", \"gridcolor\": \"white\", \"gridwidth\": 2, \"linecolor\": \"white\", \"showbackground\": true, \"ticks\": \"\", \"zerolinecolor\": \"white\"}, \"zaxis\": {\"backgroundcolor\": \"#E5ECF6\", \"gridcolor\": \"white\", \"gridwidth\": 2, \"linecolor\": \"white\", \"showbackground\": true, \"ticks\": \"\", \"zerolinecolor\": \"white\"}}, \"shapedefaults\": {\"line\": {\"color\": \"#2a3f5f\"}}, \"ternary\": {\"aaxis\": {\"gridcolor\": \"white\", \"linecolor\": \"white\", \"ticks\": \"\"}, \"baxis\": {\"gridcolor\": \"white\", \"linecolor\": \"white\", \"ticks\": \"\"}, \"bgcolor\": \"#E5ECF6\", \"caxis\": {\"gridcolor\": \"white\", \"linecolor\": \"white\", \"ticks\": \"\"}}, \"title\": {\"x\": 0.05}, \"xaxis\": {\"automargin\": true, \"gridcolor\": \"white\", \"linecolor\": \"white\", \"ticks\": \"\", \"title\": {\"standoff\": 15}, \"zerolinecolor\": \"white\", \"zerolinewidth\": 2}, \"yaxis\": {\"automargin\": true, \"gridcolor\": \"white\", \"linecolor\": \"white\", \"ticks\": \"\", \"title\": {\"standoff\": 15}, \"zerolinecolor\": \"white\", \"zerolinewidth\": 2}}}, \"title\": {\"font\": {\"size\": 28}, \"text\": \"Median Wage by Occupation, Less Than 5 Years' Experience\"}, \"xaxis\": {\"anchor\": \"y\", \"domain\": [0.0, 1.0], \"range\": [200000, 210000], \"title\": {\"text\": \"Median Wage ($)\"}}, \"yaxis\": {\"anchor\": \"x\", \"categoryorder\": \"total ascending\", \"domain\": [0.0, 1.0], \"title\": {\"text\": \"Occupation\"}}},                        {\"responsive\": true}                    ).then(function(){\n",
       "                            \n",
       "var gd = document.getElementById('926ba0f2-82ee-47a3-ac41-ad6e03548929');\n",
       "var x = new MutationObserver(function (mutations, observer) {{\n",
       "        var display = window.getComputedStyle(gd).display;\n",
       "        if (!display || display === 'none') {{\n",
       "            console.log([gd, 'removed!']);\n",
       "            Plotly.purge(gd);\n",
       "            observer.disconnect();\n",
       "        }}\n",
       "}});\n",
       "\n",
       "// Listen for the removal of the full notebook cells\n",
       "var notebookContainer = gd.closest('#notebook-container');\n",
       "if (notebookContainer) {{\n",
       "    x.observe(notebookContainer, {childList: true});\n",
       "}}\n",
       "\n",
       "// Listen for the clearing of the current output cell\n",
       "var outputEl = gd.closest('.output');\n",
       "if (outputEl) {{\n",
       "    x.observe(outputEl, {childList: true});\n",
       "}}\n",
       "\n",
       "                        })                };                });            </script>        </div>"
      ]
     },
     "metadata": {},
     "output_type": "display_data"
    }
   ],
   "source": [
    "# What are the top 10 highest paying occupations that require less than 5 years of experience in a related occupation?\n",
    "\n",
    "lessexp = master.groupby(['occ_title','occ_code','experience_required_in_a_related_occupation']).agg({'median_wage':np.mean}).reset_index()\n",
    "lessexp_top10 = lessexp[lessexp.experience_required_in_a_related_occupation.isin(['None','Less than5 years'])].sort_values(by='median_wage', ascending=False)[:10]\n",
    "\n",
    "fig2 = px.bar(lessexp_top10, y='occ_code',x='median_wage', color='occ_title', color_discrete_sequence=px.colors.qualitative.Dark24, labels={'occ_title': 'Title of occupation'}).update_yaxes(categoryorder='total ascending')\n",
    "fig2.update_layout({'title':{'text':\"Median Wage by Occupation, Less Than 5 Years' Experience\", 'font':{'size':28}}, \n",
    "                    'xaxis':{'title':{'text':'Median Wage ($)'}, 'range':[200000, 210000]}, \n",
    "                    'yaxis':{'title':{'text':'Occupation'}}, \n",
    "                   })\n",
    "iplot(fig2)"
   ]
  },
  {
   "cell_type": "code",
   "execution_count": 60,
   "id": "1a7cc65e",
   "metadata": {},
   "outputs": [
    {
     "data": {
      "application/vnd.plotly.v1+json": {
       "config": {
        "linkText": "Export to plot.ly",
        "plotlyServerURL": "https://plot.ly",
        "showLink": false
       },
       "data": [
        {
         "hovertemplate": "Title of occupation=Advertising and Promotions Managers<br>median_wage=%{marker.size}<br>percentage_bachelors_degree_or_higher=%{y}<extra></extra>",
         "legendgroup": "Advertising and Promotions Managers",
         "marker": {
          "color": "#2E91E5",
          "size": [
           125510
          ],
          "sizemode": "area",
          "sizeref": 520,
          "symbol": "circle"
         },
         "mode": "markers",
         "name": "Advertising and Promotions Managers",
         "orientation": "v",
         "showlegend": true,
         "type": "scatter",
         "x": [
          125510
         ],
         "xaxis": "x",
         "y": [
          0.8029999999999999
         ],
         "yaxis": "y"
        },
        {
         "hovertemplate": "Title of occupation=Marketing Managers<br>median_wage=%{marker.size}<br>percentage_bachelors_degree_or_higher=%{y}<extra></extra>",
         "legendgroup": "Marketing Managers",
         "marker": {
          "color": "#E15F99",
          "size": [
           136850
          ],
          "sizemode": "area",
          "sizeref": 520,
          "symbol": "circle"
         },
         "mode": "markers",
         "name": "Marketing Managers",
         "orientation": "v",
         "showlegend": true,
         "type": "scatter",
         "x": [
          136850
         ],
         "xaxis": "x",
         "y": [
          0.815
         ],
         "yaxis": "y"
        },
        {
         "hovertemplate": "Title of occupation=Education and Childcare Administrators, Preschool and Daycare<br>median_wage=%{marker.size}<br>percentage_bachelors_degree_or_higher=%{y}<extra></extra>",
         "legendgroup": "Education and Childcare Administrators, Preschool and Daycare",
         "marker": {
          "color": "#1CA71C",
          "size": [
           48210
          ],
          "sizemode": "area",
          "sizeref": 520,
          "symbol": "circle"
         },
         "mode": "markers",
         "name": "Education and Childcare Administrators, Preschool and Daycare",
         "orientation": "v",
         "showlegend": true,
         "type": "scatter",
         "x": [
          48210
         ],
         "xaxis": "x",
         "y": [
          0.835
         ],
         "yaxis": "y"
        },
        {
         "hovertemplate": "Title of occupation=Education Administrators, Kindergarten through Secondary<br>median_wage=%{marker.size}<br>percentage_bachelors_degree_or_higher=%{y}<extra></extra>",
         "legendgroup": "Education Administrators, Kindergarten through Secondary",
         "marker": {
          "color": "#FB0D0D",
          "size": [
           96400
          ],
          "sizemode": "area",
          "sizeref": 520,
          "symbol": "circle"
         },
         "mode": "markers",
         "name": "Education Administrators, Kindergarten through Secondary",
         "orientation": "v",
         "showlegend": true,
         "type": "scatter",
         "x": [
          96400
         ],
         "xaxis": "x",
         "y": [
          0.835
         ],
         "yaxis": "y"
        },
        {
         "hovertemplate": "Title of occupation=Education Administrators, Postsecondary<br>median_wage=%{marker.size}<br>percentage_bachelors_degree_or_higher=%{y}<extra></extra>",
         "legendgroup": "Education Administrators, Postsecondary",
         "marker": {
          "color": "#DA16FF",
          "size": [
           95410
          ],
          "sizemode": "area",
          "sizeref": 520,
          "symbol": "circle"
         },
         "mode": "markers",
         "name": "Education Administrators, Postsecondary",
         "orientation": "v",
         "showlegend": true,
         "type": "scatter",
         "x": [
          95410
         ],
         "xaxis": "x",
         "y": [
          0.835
         ],
         "yaxis": "y"
        },
        {
         "hovertemplate": "Title of occupation=Education Administrators, All Other<br>median_wage=%{marker.size}<br>percentage_bachelors_degree_or_higher=%{y}<extra></extra>",
         "legendgroup": "Education Administrators, All Other",
         "marker": {
          "color": "#222A2A",
          "size": [
           85450
          ],
          "sizemode": "area",
          "sizeref": 520,
          "symbol": "circle"
         },
         "mode": "markers",
         "name": "Education Administrators, All Other",
         "orientation": "v",
         "showlegend": true,
         "type": "scatter",
         "x": [
          85450
         ],
         "xaxis": "x",
         "y": [
          0.835
         ],
         "yaxis": "y"
        },
        {
         "hovertemplate": "Title of occupation=Architectural and Engineering Managers<br>median_wage=%{marker.size}<br>percentage_bachelors_degree_or_higher=%{y}<extra></extra>",
         "legendgroup": "Architectural and Engineering Managers",
         "marker": {
          "color": "#B68100",
          "size": [
           144830
          ],
          "sizemode": "area",
          "sizeref": 520,
          "symbol": "circle"
         },
         "mode": "markers",
         "name": "Architectural and Engineering Managers",
         "orientation": "v",
         "showlegend": true,
         "type": "scatter",
         "x": [
          144830
         ],
         "xaxis": "x",
         "y": [
          0.8340000000000001
         ],
         "yaxis": "y"
        },
        {
         "hovertemplate": "Title of occupation=Natural Sciences Managers<br>median_wage=%{marker.size}<br>percentage_bachelors_degree_or_higher=%{y}<extra></extra>",
         "legendgroup": "Natural Sciences Managers",
         "marker": {
          "color": "#750D86",
          "size": [
           129100
          ],
          "sizemode": "area",
          "sizeref": 520,
          "symbol": "circle"
         },
         "mode": "markers",
         "name": "Natural Sciences Managers",
         "orientation": "v",
         "showlegend": true,
         "type": "scatter",
         "x": [
          129100
         ],
         "xaxis": "x",
         "y": [
          0.888
         ],
         "yaxis": "y"
        },
        {
         "hovertemplate": "Title of occupation=Fundraisers<br>median_wage=%{marker.size}<br>percentage_bachelors_degree_or_higher=%{y}<extra></extra>",
         "legendgroup": "Fundraisers",
         "marker": {
          "color": "#EB663B",
          "size": [
           57970
          ],
          "sizemode": "area",
          "sizeref": 520,
          "symbol": "circle"
         },
         "mode": "markers",
         "name": "Fundraisers",
         "orientation": "v",
         "showlegend": true,
         "type": "scatter",
         "x": [
          57970
         ],
         "xaxis": "x",
         "y": [
          0.889
         ],
         "yaxis": "y"
        },
        {
         "hovertemplate": "Title of occupation=Accountants and Auditors<br>median_wage=%{marker.size}<br>percentage_bachelors_degree_or_higher=%{y}<extra></extra>",
         "legendgroup": "Accountants and Auditors",
         "marker": {
          "color": "#511CFB",
          "size": [
           71550
          ],
          "sizemode": "area",
          "sizeref": 520,
          "symbol": "circle"
         },
         "mode": "markers",
         "name": "Accountants and Auditors",
         "orientation": "v",
         "showlegend": true,
         "type": "scatter",
         "x": [
          71550
         ],
         "xaxis": "x",
         "y": [
          0.858
         ],
         "yaxis": "y"
        },
        {
         "hovertemplate": "Title of occupation=Personal Financial Advisors<br>median_wage=%{marker.size}<br>percentage_bachelors_degree_or_higher=%{y}<extra></extra>",
         "legendgroup": "Personal Financial Advisors",
         "marker": {
          "color": "#00A08B",
          "size": [
           87850
          ],
          "sizemode": "area",
          "sizeref": 520,
          "symbol": "circle"
         },
         "mode": "markers",
         "name": "Personal Financial Advisors",
         "orientation": "v",
         "showlegend": true,
         "type": "scatter",
         "x": [
          87850
         ],
         "xaxis": "x",
         "y": [
          0.828
         ],
         "yaxis": "y"
        },
        {
         "hovertemplate": "Title of occupation=Financial Examiners<br>median_wage=%{marker.size}<br>percentage_bachelors_degree_or_higher=%{y}<extra></extra>",
         "legendgroup": "Financial Examiners",
         "marker": {
          "color": "#FB00D1",
          "size": [
           81090
          ],
          "sizemode": "area",
          "sizeref": 520,
          "symbol": "circle"
         },
         "mode": "markers",
         "name": "Financial Examiners",
         "orientation": "v",
         "showlegend": true,
         "type": "scatter",
         "x": [
          81090
         ],
         "xaxis": "x",
         "y": [
          0.8190000000000001
         ],
         "yaxis": "y"
        },
        {
         "hovertemplate": "Title of occupation=Financial and Investment Analysts, Financial Risk Specialists, and Financial Specialists, All Other<br>median_wage=%{marker.size}<br>percentage_bachelors_degree_or_higher=%{y}<extra></extra>",
         "legendgroup": "Financial and Investment Analysts, Financial Risk Specialists, and Financial Specialists, All Other",
         "marker": {
          "color": "#FC0080",
          "size": [
           81590
          ],
          "sizemode": "area",
          "sizeref": 520,
          "symbol": "circle"
         },
         "mode": "markers",
         "name": "Financial and Investment Analysts, Financial Risk Specialists, and Financial Specialists, All Other",
         "orientation": "v",
         "showlegend": true,
         "type": "scatter",
         "x": [
          81590
         ],
         "xaxis": "x",
         "y": [
          0.8340000000000001
         ],
         "yaxis": "y"
        },
        {
         "hovertemplate": "Title of occupation=Computer and Information Research Scientists<br>median_wage=%{marker.size}<br>percentage_bachelors_degree_or_higher=%{y}<extra></extra>",
         "legendgroup": "Computer and Information Research Scientists",
         "marker": {
          "color": "#B2828D",
          "size": [
           122840
          ],
          "sizemode": "area",
          "sizeref": 520,
          "symbol": "circle"
         },
         "mode": "markers",
         "name": "Computer and Information Research Scientists",
         "orientation": "v",
         "showlegend": true,
         "type": "scatter",
         "x": [
          122840
         ],
         "xaxis": "x",
         "y": [
          0.9440000000000001
         ],
         "yaxis": "y"
        },
        {
         "hovertemplate": "Title of occupation=Software Developers and Software Quality Assurance Analysts and Testers<br>median_wage=%{marker.size}<br>percentage_bachelors_degree_or_higher=%{y}<extra></extra>",
         "legendgroup": "Software Developers and Software Quality Assurance Analysts and Testers",
         "marker": {
          "color": "#6C7C32",
          "size": [
           107510
          ],
          "sizemode": "area",
          "sizeref": 520,
          "symbol": "circle"
         },
         "mode": "markers",
         "name": "Software Developers and Software Quality Assurance Analysts and Testers",
         "orientation": "v",
         "showlegend": true,
         "type": "scatter",
         "x": [
          107510
         ],
         "xaxis": "x",
         "y": [
          0.8590000000000001
         ],
         "yaxis": "y"
        },
        {
         "hovertemplate": "Title of occupation=Actuaries<br>median_wage=%{marker.size}<br>percentage_bachelors_degree_or_higher=%{y}<extra></extra>",
         "legendgroup": "Actuaries",
         "marker": {
          "color": "#778AAE",
          "size": [
           108350
          ],
          "sizemode": "area",
          "sizeref": 520,
          "symbol": "circle"
         },
         "mode": "markers",
         "name": "Actuaries",
         "orientation": "v",
         "showlegend": true,
         "type": "scatter",
         "x": [
          108350
         ],
         "xaxis": "x",
         "y": [
          0.986
         ],
         "yaxis": "y"
        },
        {
         "hovertemplate": "Title of occupation=Mathematicians<br>median_wage=%{marker.size}<br>percentage_bachelors_degree_or_higher=%{y}<extra></extra>",
         "legendgroup": "Mathematicians",
         "marker": {
          "color": "#862A16",
          "size": [
           105030
          ],
          "sizemode": "area",
          "sizeref": 520,
          "symbol": "circle"
         },
         "mode": "markers",
         "name": "Mathematicians",
         "orientation": "v",
         "showlegend": true,
         "type": "scatter",
         "x": [
          105030
         ],
         "xaxis": "x",
         "y": [
          0.845
         ],
         "yaxis": "y"
        },
        {
         "hovertemplate": "Title of occupation=Statisticians<br>median_wage=%{marker.size}<br>percentage_bachelors_degree_or_higher=%{y}<extra></extra>",
         "legendgroup": "Statisticians",
         "marker": {
          "color": "#A777F1",
          "size": [
           91160
          ],
          "sizemode": "area",
          "sizeref": 520,
          "symbol": "circle"
         },
         "mode": "markers",
         "name": "Statisticians",
         "orientation": "v",
         "showlegend": true,
         "type": "scatter",
         "x": [
          91160
         ],
         "xaxis": "x",
         "y": [
          0.845
         ],
         "yaxis": "y"
        },
        {
         "hovertemplate": "Title of occupation=Data Scientists and Mathematical Science Occupations, All Other<br>median_wage=%{marker.size}<br>percentage_bachelors_degree_or_higher=%{y}<extra></extra>",
         "legendgroup": "Data Scientists and Mathematical Science Occupations, All Other",
         "marker": {
          "color": "#620042",
          "size": [
           94280
          ],
          "sizemode": "area",
          "sizeref": 520,
          "symbol": "circle"
         },
         "mode": "markers",
         "name": "Data Scientists and Mathematical Science Occupations, All Other",
         "orientation": "v",
         "showlegend": true,
         "type": "scatter",
         "x": [
          94280
         ],
         "xaxis": "x",
         "y": [
          0.845
         ],
         "yaxis": "y"
        },
        {
         "hovertemplate": "Title of occupation=Architects, Except Landscape and Naval<br>median_wage=%{marker.size}<br>percentage_bachelors_degree_or_higher=%{y}<extra></extra>",
         "legendgroup": "Architects, Except Landscape and Naval",
         "marker": {
          "color": "#1616A7",
          "size": [
           80750
          ],
          "sizemode": "area",
          "sizeref": 520,
          "symbol": "circle"
         },
         "mode": "markers",
         "name": "Architects, Except Landscape and Naval",
         "orientation": "v",
         "showlegend": true,
         "type": "scatter",
         "x": [
          80750
         ],
         "xaxis": "x",
         "y": [
          0.919
         ],
         "yaxis": "y"
        },
        {
         "hovertemplate": "Title of occupation=Landscape Architects<br>median_wage=%{marker.size}<br>percentage_bachelors_degree_or_higher=%{y}<extra></extra>",
         "legendgroup": "Landscape Architects",
         "marker": {
          "color": "#DA60CA",
          "size": [
           69360
          ],
          "sizemode": "area",
          "sizeref": 520,
          "symbol": "circle"
         },
         "mode": "markers",
         "name": "Landscape Architects",
         "orientation": "v",
         "showlegend": true,
         "type": "scatter",
         "x": [
          69360
         ],
         "xaxis": "x",
         "y": [
          0.8370000000000001
         ],
         "yaxis": "y"
        },
        {
         "hovertemplate": "Title of occupation=Aerospace Engineers<br>median_wage=%{marker.size}<br>percentage_bachelors_degree_or_higher=%{y}<extra></extra>",
         "legendgroup": "Aerospace Engineers",
         "marker": {
          "color": "#6C4516",
          "size": [
           116500
          ],
          "sizemode": "area",
          "sizeref": 520,
          "symbol": "circle"
         },
         "mode": "markers",
         "name": "Aerospace Engineers",
         "orientation": "v",
         "showlegend": true,
         "type": "scatter",
         "x": [
          116500
         ],
         "xaxis": "x",
         "y": [
          0.9009999999999999
         ],
         "yaxis": "y"
        },
        {
         "hovertemplate": "Title of occupation=Agricultural Engineers<br>median_wage=%{marker.size}<br>percentage_bachelors_degree_or_higher=%{y}<extra></extra>",
         "legendgroup": "Agricultural Engineers",
         "marker": {
          "color": "#0D2A63",
          "size": [
           80720
          ],
          "sizemode": "area",
          "sizeref": 520,
          "symbol": "circle"
         },
         "mode": "markers",
         "name": "Agricultural Engineers",
         "orientation": "v",
         "showlegend": true,
         "type": "scatter",
         "x": [
          80720
         ],
         "xaxis": "x",
         "y": [
          0.8170000000000001
         ],
         "yaxis": "y"
        },
        {
         "hovertemplate": "Title of occupation=Bioengineers and Biomedical Engineers<br>median_wage=%{marker.size}<br>percentage_bachelors_degree_or_higher=%{y}<extra></extra>",
         "legendgroup": "Bioengineers and Biomedical Engineers",
         "marker": {
          "color": "#AF0038",
          "size": [
           91410
          ],
          "sizemode": "area",
          "sizeref": 520,
          "symbol": "circle"
         },
         "mode": "markers",
         "name": "Bioengineers and Biomedical Engineers",
         "orientation": "v",
         "showlegend": true,
         "type": "scatter",
         "x": [
          91410
         ],
         "xaxis": "x",
         "y": [
          0.8170000000000001
         ],
         "yaxis": "y"
        },
        {
         "hovertemplate": "Title of occupation=Chemical Engineers<br>median_wage=%{marker.size}<br>percentage_bachelors_degree_or_higher=%{y}<extra></extra>",
         "legendgroup": "Chemical Engineers",
         "marker": {
          "color": "#2E91E5",
          "size": [
           108770
          ],
          "sizemode": "area",
          "sizeref": 520,
          "symbol": "circle"
         },
         "mode": "markers",
         "name": "Chemical Engineers",
         "orientation": "v",
         "showlegend": true,
         "type": "scatter",
         "x": [
          108770
         ],
         "xaxis": "x",
         "y": [
          0.888
         ],
         "yaxis": "y"
        },
        {
         "hovertemplate": "Title of occupation=Civil Engineers<br>median_wage=%{marker.size}<br>percentage_bachelors_degree_or_higher=%{y}<extra></extra>",
         "legendgroup": "Civil Engineers",
         "marker": {
          "color": "#E15F99",
          "size": [
           87060
          ],
          "sizemode": "area",
          "sizeref": 520,
          "symbol": "circle"
         },
         "mode": "markers",
         "name": "Civil Engineers",
         "orientation": "v",
         "showlegend": true,
         "type": "scatter",
         "x": [
          87060
         ],
         "xaxis": "x",
         "y": [
          0.89
         ],
         "yaxis": "y"
        },
        {
         "hovertemplate": "Title of occupation=Computer Hardware Engineers<br>median_wage=%{marker.size}<br>percentage_bachelors_degree_or_higher=%{y}<extra></extra>",
         "legendgroup": "Computer Hardware Engineers",
         "marker": {
          "color": "#1CA71C",
          "size": [
           117220
          ],
          "sizemode": "area",
          "sizeref": 520,
          "symbol": "circle"
         },
         "mode": "markers",
         "name": "Computer Hardware Engineers",
         "orientation": "v",
         "showlegend": true,
         "type": "scatter",
         "x": [
          117220
         ],
         "xaxis": "x",
         "y": [
          0.812
         ],
         "yaxis": "y"
        },
        {
         "hovertemplate": "Title of occupation=Electrical Engineers<br>median_wage=%{marker.size}<br>percentage_bachelors_degree_or_higher=%{y}<extra></extra>",
         "legendgroup": "Electrical Engineers",
         "marker": {
          "color": "#FB0D0D",
          "size": [
           98530
          ],
          "sizemode": "area",
          "sizeref": 520,
          "symbol": "circle"
         },
         "mode": "markers",
         "name": "Electrical Engineers",
         "orientation": "v",
         "showlegend": true,
         "type": "scatter",
         "x": [
          98530
         ],
         "xaxis": "x",
         "y": [
          0.846
         ],
         "yaxis": "y"
        },
        {
         "hovertemplate": "Title of occupation=Electronics Engineers, Except Computer<br>median_wage=%{marker.size}<br>percentage_bachelors_degree_or_higher=%{y}<extra></extra>",
         "legendgroup": "Electronics Engineers, Except Computer",
         "marker": {
          "color": "#DA16FF",
          "size": [
           105570
          ],
          "sizemode": "area",
          "sizeref": 520,
          "symbol": "circle"
         },
         "mode": "markers",
         "name": "Electronics Engineers, Except Computer",
         "orientation": "v",
         "showlegend": true,
         "type": "scatter",
         "x": [
          105570
         ],
         "xaxis": "x",
         "y": [
          0.846
         ],
         "yaxis": "y"
        },
        {
         "hovertemplate": "Title of occupation=Environmental Engineers<br>median_wage=%{marker.size}<br>percentage_bachelors_degree_or_higher=%{y}<extra></extra>",
         "legendgroup": "Environmental Engineers",
         "marker": {
          "color": "#222A2A",
          "size": [
           88860
          ],
          "sizemode": "area",
          "sizeref": 520,
          "symbol": "circle"
         },
         "mode": "markers",
         "name": "Environmental Engineers",
         "orientation": "v",
         "showlegend": true,
         "type": "scatter",
         "x": [
          88860
         ],
         "xaxis": "x",
         "y": [
          0.898
         ],
         "yaxis": "y"
        },
        {
         "hovertemplate": "Title of occupation=Mechanical Engineers<br>median_wage=%{marker.size}<br>percentage_bachelors_degree_or_higher=%{y}<extra></extra>",
         "legendgroup": "Mechanical Engineers",
         "marker": {
          "color": "#B68100",
          "size": [
           88430
          ],
          "sizemode": "area",
          "sizeref": 520,
          "symbol": "circle"
         },
         "mode": "markers",
         "name": "Mechanical Engineers",
         "orientation": "v",
         "showlegend": true,
         "type": "scatter",
         "x": [
          88430
         ],
         "xaxis": "x",
         "y": [
          0.809
         ],
         "yaxis": "y"
        },
        {
         "hovertemplate": "Title of occupation=Mining and Geological Engineers, Including Mining Safety Engineers<br>median_wage=%{marker.size}<br>percentage_bachelors_degree_or_higher=%{y}<extra></extra>",
         "legendgroup": "Mining and Geological Engineers, Including Mining Safety Engineers",
         "marker": {
          "color": "#750D86",
          "size": [
           91160
          ],
          "sizemode": "area",
          "sizeref": 520,
          "symbol": "circle"
         },
         "mode": "markers",
         "name": "Mining and Geological Engineers, Including Mining Safety Engineers",
         "orientation": "v",
         "showlegend": true,
         "type": "scatter",
         "x": [
          91160
         ],
         "xaxis": "x",
         "y": [
          0.866
         ],
         "yaxis": "y"
        },
        {
         "hovertemplate": "Title of occupation=Nuclear Engineers<br>median_wage=%{marker.size}<br>percentage_bachelors_degree_or_higher=%{y}<extra></extra>",
         "legendgroup": "Nuclear Engineers",
         "marker": {
          "color": "#EB663B",
          "size": [
           113460
          ],
          "sizemode": "area",
          "sizeref": 520,
          "symbol": "circle"
         },
         "mode": "markers",
         "name": "Nuclear Engineers",
         "orientation": "v",
         "showlegend": true,
         "type": "scatter",
         "x": [
          113460
         ],
         "xaxis": "x",
         "y": [
          0.821
         ],
         "yaxis": "y"
        },
        {
         "hovertemplate": "Title of occupation=Petroleum Engineers<br>median_wage=%{marker.size}<br>percentage_bachelors_degree_or_higher=%{y}<extra></extra>",
         "legendgroup": "Petroleum Engineers",
         "marker": {
          "color": "#511CFB",
          "size": [
           137720
          ],
          "sizemode": "area",
          "sizeref": 520,
          "symbol": "circle"
         },
         "mode": "markers",
         "name": "Petroleum Engineers",
         "orientation": "v",
         "showlegend": true,
         "type": "scatter",
         "x": [
          137720
         ],
         "xaxis": "x",
         "y": [
          0.866
         ],
         "yaxis": "y"
        },
        {
         "hovertemplate": "Title of occupation=Engineers, All Other<br>median_wage=%{marker.size}<br>percentage_bachelors_degree_or_higher=%{y}<extra></extra>",
         "legendgroup": "Engineers, All Other",
         "marker": {
          "color": "#00A08B",
          "size": [
           99040
          ],
          "sizemode": "area",
          "sizeref": 520,
          "symbol": "circle"
         },
         "mode": "markers",
         "name": "Engineers, All Other",
         "orientation": "v",
         "showlegend": true,
         "type": "scatter",
         "x": [
          99040
         ],
         "xaxis": "x",
         "y": [
          0.821
         ],
         "yaxis": "y"
        },
        {
         "hovertemplate": "Title of occupation=Animal Scientists<br>median_wage=%{marker.size}<br>percentage_bachelors_degree_or_higher=%{y}<extra></extra>",
         "legendgroup": "Animal Scientists",
         "marker": {
          "color": "#FB00D1",
          "size": [
           60300
          ],
          "sizemode": "area",
          "sizeref": 520,
          "symbol": "circle"
         },
         "mode": "markers",
         "name": "Animal Scientists",
         "orientation": "v",
         "showlegend": true,
         "type": "scatter",
         "x": [
          60300
         ],
         "xaxis": "x",
         "y": [
          1
         ],
         "yaxis": "y"
        },
        {
         "hovertemplate": "Title of occupation=Food Scientists and Technologists<br>median_wage=%{marker.size}<br>percentage_bachelors_degree_or_higher=%{y}<extra></extra>",
         "legendgroup": "Food Scientists and Technologists",
         "marker": {
          "color": "#FC0080",
          "size": [
           68970
          ],
          "sizemode": "area",
          "sizeref": 520,
          "symbol": "circle"
         },
         "mode": "markers",
         "name": "Food Scientists and Technologists",
         "orientation": "v",
         "showlegend": true,
         "type": "scatter",
         "x": [
          68970
         ],
         "xaxis": "x",
         "y": [
          1
         ],
         "yaxis": "y"
        },
        {
         "hovertemplate": "Title of occupation=Soil and Plant Scientists<br>median_wage=%{marker.size}<br>percentage_bachelors_degree_or_higher=%{y}<extra></extra>",
         "legendgroup": "Soil and Plant Scientists",
         "marker": {
          "color": "#B2828D",
          "size": [
           63200
          ],
          "sizemode": "area",
          "sizeref": 520,
          "symbol": "circle"
         },
         "mode": "markers",
         "name": "Soil and Plant Scientists",
         "orientation": "v",
         "showlegend": true,
         "type": "scatter",
         "x": [
          63200
         ],
         "xaxis": "x",
         "y": [
          1
         ],
         "yaxis": "y"
        },
        {
         "hovertemplate": "Title of occupation=Biochemists and Biophysicists<br>median_wage=%{marker.size}<br>percentage_bachelors_degree_or_higher=%{y}<extra></extra>",
         "legendgroup": "Biochemists and Biophysicists",
         "marker": {
          "color": "#6C7C32",
          "size": [
           94490
          ],
          "sizemode": "area",
          "sizeref": 520,
          "symbol": "circle"
         },
         "mode": "markers",
         "name": "Biochemists and Biophysicists",
         "orientation": "v",
         "showlegend": true,
         "type": "scatter",
         "x": [
          94490
         ],
         "xaxis": "x",
         "y": [
          1
         ],
         "yaxis": "y"
        },
        {
         "hovertemplate": "Title of occupation=Microbiologists<br>median_wage=%{marker.size}<br>percentage_bachelors_degree_or_higher=%{y}<extra></extra>",
         "legendgroup": "Microbiologists",
         "marker": {
          "color": "#778AAE",
          "size": [
           75650
          ],
          "sizemode": "area",
          "sizeref": 520,
          "symbol": "circle"
         },
         "mode": "markers",
         "name": "Microbiologists",
         "orientation": "v",
         "showlegend": true,
         "type": "scatter",
         "x": [
          75650
         ],
         "xaxis": "x",
         "y": [
          1
         ],
         "yaxis": "y"
        },
        {
         "hovertemplate": "Title of occupation=Zoologists and Wildlife Biologists<br>median_wage=%{marker.size}<br>percentage_bachelors_degree_or_higher=%{y}<extra></extra>",
         "legendgroup": "Zoologists and Wildlife Biologists",
         "marker": {
          "color": "#862A16",
          "size": [
           63270
          ],
          "sizemode": "area",
          "sizeref": 520,
          "symbol": "circle"
         },
         "mode": "markers",
         "name": "Zoologists and Wildlife Biologists",
         "orientation": "v",
         "showlegend": true,
         "type": "scatter",
         "x": [
          63270
         ],
         "xaxis": "x",
         "y": [
          1
         ],
         "yaxis": "y"
        },
        {
         "hovertemplate": "Title of occupation=Biological Scientists, All Other<br>median_wage=%{marker.size}<br>percentage_bachelors_degree_or_higher=%{y}<extra></extra>",
         "legendgroup": "Biological Scientists, All Other",
         "marker": {
          "color": "#A777F1",
          "size": [
           82220
          ],
          "sizemode": "area",
          "sizeref": 520,
          "symbol": "circle"
         },
         "mode": "markers",
         "name": "Biological Scientists, All Other",
         "orientation": "v",
         "showlegend": true,
         "type": "scatter",
         "x": [
          82220
         ],
         "xaxis": "x",
         "y": [
          1
         ],
         "yaxis": "y"
        },
        {
         "hovertemplate": "Title of occupation=Conservation Scientists<br>median_wage=%{marker.size}<br>percentage_bachelors_degree_or_higher=%{y}<extra></extra>",
         "legendgroup": "Conservation Scientists",
         "marker": {
          "color": "#620042",
          "size": [
           62660
          ],
          "sizemode": "area",
          "sizeref": 520,
          "symbol": "circle"
         },
         "mode": "markers",
         "name": "Conservation Scientists",
         "orientation": "v",
         "showlegend": true,
         "type": "scatter",
         "x": [
          62660
         ],
         "xaxis": "x",
         "y": [
          1
         ],
         "yaxis": "y"
        },
        {
         "hovertemplate": "Title of occupation=Foresters<br>median_wage=%{marker.size}<br>percentage_bachelors_degree_or_higher=%{y}<extra></extra>",
         "legendgroup": "Foresters",
         "marker": {
          "color": "#1616A7",
          "size": [
           61790
          ],
          "sizemode": "area",
          "sizeref": 520,
          "symbol": "circle"
         },
         "mode": "markers",
         "name": "Foresters",
         "orientation": "v",
         "showlegend": true,
         "type": "scatter",
         "x": [
          61790
         ],
         "xaxis": "x",
         "y": [
          1
         ],
         "yaxis": "y"
        },
        {
         "hovertemplate": "Title of occupation=Epidemiologists<br>median_wage=%{marker.size}<br>percentage_bachelors_degree_or_higher=%{y}<extra></extra>",
         "legendgroup": "Epidemiologists",
         "marker": {
          "color": "#DA60CA",
          "size": [
           70990
          ],
          "sizemode": "area",
          "sizeref": 520,
          "symbol": "circle"
         },
         "mode": "markers",
         "name": "Epidemiologists",
         "orientation": "v",
         "showlegend": true,
         "type": "scatter",
         "x": [
          70990
         ],
         "xaxis": "x",
         "y": [
          0.98
         ],
         "yaxis": "y"
        },
        {
         "hovertemplate": "Title of occupation=Medical Scientists, Except Epidemiologists<br>median_wage=%{marker.size}<br>percentage_bachelors_degree_or_higher=%{y}<extra></extra>",
         "legendgroup": "Medical Scientists, Except Epidemiologists",
         "marker": {
          "color": "#6C4516",
          "size": [
           88790
          ],
          "sizemode": "area",
          "sizeref": 520,
          "symbol": "circle"
         },
         "mode": "markers",
         "name": "Medical Scientists, Except Epidemiologists",
         "orientation": "v",
         "showlegend": true,
         "type": "scatter",
         "x": [
          88790
         ],
         "xaxis": "x",
         "y": [
          0.98
         ],
         "yaxis": "y"
        },
        {
         "hovertemplate": "Title of occupation=Life Scientists, All Other<br>median_wage=%{marker.size}<br>percentage_bachelors_degree_or_higher=%{y}<extra></extra>",
         "legendgroup": "Life Scientists, All Other",
         "marker": {
          "color": "#0D2A63",
          "size": [
           75910
          ],
          "sizemode": "area",
          "sizeref": 520,
          "symbol": "circle"
         },
         "mode": "markers",
         "name": "Life Scientists, All Other",
         "orientation": "v",
         "showlegend": true,
         "type": "scatter",
         "x": [
          75910
         ],
         "xaxis": "x",
         "y": [
          0.98
         ],
         "yaxis": "y"
        },
        {
         "hovertemplate": "Title of occupation=Astronomers<br>median_wage=%{marker.size}<br>percentage_bachelors_degree_or_higher=%{y}<extra></extra>",
         "legendgroup": "Astronomers",
         "marker": {
          "color": "#AF0038",
          "size": [
           114590
          ],
          "sizemode": "area",
          "sizeref": 520,
          "symbol": "circle"
         },
         "mode": "markers",
         "name": "Astronomers",
         "orientation": "v",
         "showlegend": true,
         "type": "scatter",
         "x": [
          114590
         ],
         "xaxis": "x",
         "y": [
          1
         ],
         "yaxis": "y"
        },
        {
         "hovertemplate": "Title of occupation=Physicists<br>median_wage=%{marker.size}<br>percentage_bachelors_degree_or_higher=%{y}<extra></extra>",
         "legendgroup": "Physicists",
         "marker": {
          "color": "#2E91E5",
          "size": [
           122850
          ],
          "sizemode": "area",
          "sizeref": 520,
          "symbol": "circle"
         },
         "mode": "markers",
         "name": "Physicists",
         "orientation": "v",
         "showlegend": true,
         "type": "scatter",
         "x": [
          122850
         ],
         "xaxis": "x",
         "y": [
          1
         ],
         "yaxis": "y"
        },
        {
         "hovertemplate": "Title of occupation=Atmospheric and Space Scientists<br>median_wage=%{marker.size}<br>percentage_bachelors_degree_or_higher=%{y}<extra></extra>",
         "legendgroup": "Atmospheric and Space Scientists",
         "marker": {
          "color": "#E15F99",
          "size": [
           95380
          ],
          "sizemode": "area",
          "sizeref": 520,
          "symbol": "circle"
         },
         "mode": "markers",
         "name": "Atmospheric and Space Scientists",
         "orientation": "v",
         "showlegend": true,
         "type": "scatter",
         "x": [
          95380
         ],
         "xaxis": "x",
         "y": [
          0.9129999999999999
         ],
         "yaxis": "y"
        },
        {
         "hovertemplate": "Title of occupation=Chemists<br>median_wage=%{marker.size}<br>percentage_bachelors_degree_or_higher=%{y}<extra></extra>",
         "legendgroup": "Chemists",
         "marker": {
          "color": "#1CA71C",
          "size": [
           77630
          ],
          "sizemode": "area",
          "sizeref": 520,
          "symbol": "circle"
         },
         "mode": "markers",
         "name": "Chemists",
         "orientation": "v",
         "showlegend": true,
         "type": "scatter",
         "x": [
          77630
         ],
         "xaxis": "x",
         "y": [
          0.9420000000000001
         ],
         "yaxis": "y"
        },
        {
         "hovertemplate": "Title of occupation=Materials Scientists<br>median_wage=%{marker.size}<br>percentage_bachelors_degree_or_higher=%{y}<extra></extra>",
         "legendgroup": "Materials Scientists",
         "marker": {
          "color": "#FB0D0D",
          "size": [
           96810
          ],
          "sizemode": "area",
          "sizeref": 520,
          "symbol": "circle"
         },
         "mode": "markers",
         "name": "Materials Scientists",
         "orientation": "v",
         "showlegend": true,
         "type": "scatter",
         "x": [
          96810
         ],
         "xaxis": "x",
         "y": [
          0.9420000000000001
         ],
         "yaxis": "y"
        },
        {
         "hovertemplate": "Title of occupation=Environmental Scientists and Specialists, Including Health<br>median_wage=%{marker.size}<br>percentage_bachelors_degree_or_higher=%{y}<extra></extra>",
         "legendgroup": "Environmental Scientists and Specialists, Including Health",
         "marker": {
          "color": "#DA16FF",
          "size": [
           71360
          ],
          "sizemode": "area",
          "sizeref": 520,
          "symbol": "circle"
         },
         "mode": "markers",
         "name": "Environmental Scientists and Specialists, Including Health",
         "orientation": "v",
         "showlegend": true,
         "type": "scatter",
         "x": [
          71360
         ],
         "xaxis": "x",
         "y": [
          1
         ],
         "yaxis": "y"
        },
        {
         "hovertemplate": "Title of occupation=Geoscientists, Except Hydrologists and Geographers<br>median_wage=%{marker.size}<br>percentage_bachelors_degree_or_higher=%{y}<extra></extra>",
         "legendgroup": "Geoscientists, Except Hydrologists and Geographers",
         "marker": {
          "color": "#222A2A",
          "size": [
           92040
          ],
          "sizemode": "area",
          "sizeref": 520,
          "symbol": "circle"
         },
         "mode": "markers",
         "name": "Geoscientists, Except Hydrologists and Geographers",
         "orientation": "v",
         "showlegend": true,
         "type": "scatter",
         "x": [
          92040
         ],
         "xaxis": "x",
         "y": [
          1
         ],
         "yaxis": "y"
        },
        {
         "hovertemplate": "Title of occupation=Hydrologists<br>median_wage=%{marker.size}<br>percentage_bachelors_degree_or_higher=%{y}<extra></extra>",
         "legendgroup": "Hydrologists",
         "marker": {
          "color": "#B68100",
          "size": [
           81270
          ],
          "sizemode": "area",
          "sizeref": 520,
          "symbol": "circle"
         },
         "mode": "markers",
         "name": "Hydrologists",
         "orientation": "v",
         "showlegend": true,
         "type": "scatter",
         "x": [
          81270
         ],
         "xaxis": "x",
         "y": [
          1
         ],
         "yaxis": "y"
        },
        {
         "hovertemplate": "Title of occupation=Physical Scientists, All Other<br>median_wage=%{marker.size}<br>percentage_bachelors_degree_or_higher=%{y}<extra></extra>",
         "legendgroup": "Physical Scientists, All Other",
         "marker": {
          "color": "#750D86",
          "size": [
           109910
          ],
          "sizemode": "area",
          "sizeref": 520,
          "symbol": "circle"
         },
         "mode": "markers",
         "name": "Physical Scientists, All Other",
         "orientation": "v",
         "showlegend": true,
         "type": "scatter",
         "x": [
          109910
         ],
         "xaxis": "x",
         "y": [
          1
         ],
         "yaxis": "y"
        },
        {
         "hovertemplate": "Title of occupation=Economists<br>median_wage=%{marker.size}<br>percentage_bachelors_degree_or_higher=%{y}<extra></extra>",
         "legendgroup": "Economists",
         "marker": {
          "color": "#EB663B",
          "size": [
           105020
          ],
          "sizemode": "area",
          "sizeref": 520,
          "symbol": "circle"
         },
         "mode": "markers",
         "name": "Economists",
         "orientation": "v",
         "showlegend": true,
         "type": "scatter",
         "x": [
          105020
         ],
         "xaxis": "x",
         "y": [
          1
         ],
         "yaxis": "y"
        },
        {
         "hovertemplate": "Title of occupation=Survey Researchers<br>median_wage=%{marker.size}<br>percentage_bachelors_degree_or_higher=%{y}<extra></extra>",
         "legendgroup": "Survey Researchers",
         "marker": {
          "color": "#511CFB",
          "size": [
           59170
          ],
          "sizemode": "area",
          "sizeref": 520,
          "symbol": "circle"
         },
         "mode": "markers",
         "name": "Survey Researchers",
         "orientation": "v",
         "showlegend": true,
         "type": "scatter",
         "x": [
          59170
         ],
         "xaxis": "x",
         "y": [
          0.89
         ],
         "yaxis": "y"
        },
        {
         "hovertemplate": "Title of occupation=Clinical, Counseling, and School Psychologists<br>median_wage=%{marker.size}<br>percentage_bachelors_degree_or_higher=%{y}<extra></extra>",
         "legendgroup": "Clinical, Counseling, and School Psychologists",
         "marker": {
          "color": "#00A08B",
          "size": [
           78200
          ],
          "sizemode": "area",
          "sizeref": 520,
          "symbol": "circle"
         },
         "mode": "markers",
         "name": "Clinical, Counseling, and School Psychologists",
         "orientation": "v",
         "showlegend": true,
         "type": "scatter",
         "x": [
          78200
         ],
         "xaxis": "x",
         "y": [
          1
         ],
         "yaxis": "y"
        },
        {
         "hovertemplate": "Title of occupation=Industrial-Organizational Psychologists<br>median_wage=%{marker.size}<br>percentage_bachelors_degree_or_higher=%{y}<extra></extra>",
         "legendgroup": "Industrial-Organizational Psychologists",
         "marker": {
          "color": "#FB00D1",
          "size": [
           92880
          ],
          "sizemode": "area",
          "sizeref": 520,
          "symbol": "circle"
         },
         "mode": "markers",
         "name": "Industrial-Organizational Psychologists",
         "orientation": "v",
         "showlegend": true,
         "type": "scatter",
         "x": [
          92880
         ],
         "xaxis": "x",
         "y": [
          1
         ],
         "yaxis": "y"
        },
        {
         "hovertemplate": "Title of occupation=Psychologists, All Other<br>median_wage=%{marker.size}<br>percentage_bachelors_degree_or_higher=%{y}<extra></extra>",
         "legendgroup": "Psychologists, All Other",
         "marker": {
          "color": "#FC0080",
          "size": [
           101790
          ],
          "sizemode": "area",
          "sizeref": 520,
          "symbol": "circle"
         },
         "mode": "markers",
         "name": "Psychologists, All Other",
         "orientation": "v",
         "showlegend": true,
         "type": "scatter",
         "x": [
          101790
         ],
         "xaxis": "x",
         "y": [
          1
         ],
         "yaxis": "y"
        },
        {
         "hovertemplate": "Title of occupation=Sociologists<br>median_wage=%{marker.size}<br>percentage_bachelors_degree_or_higher=%{y}<extra></extra>",
         "legendgroup": "Sociologists",
         "marker": {
          "color": "#B2828D",
          "size": [
           83420
          ],
          "sizemode": "area",
          "sizeref": 520,
          "symbol": "circle"
         },
         "mode": "markers",
         "name": "Sociologists",
         "orientation": "v",
         "showlegend": true,
         "type": "scatter",
         "x": [
          83420
         ],
         "xaxis": "x",
         "y": [
          0.89
         ],
         "yaxis": "y"
        },
        {
         "hovertemplate": "Title of occupation=Urban and Regional Planners<br>median_wage=%{marker.size}<br>percentage_bachelors_degree_or_higher=%{y}<extra></extra>",
         "legendgroup": "Urban and Regional Planners",
         "marker": {
          "color": "#6C7C32",
          "size": [
           74350
          ],
          "sizemode": "area",
          "sizeref": 520,
          "symbol": "circle"
         },
         "mode": "markers",
         "name": "Urban and Regional Planners",
         "orientation": "v",
         "showlegend": true,
         "type": "scatter",
         "x": [
          74350
         ],
         "xaxis": "x",
         "y": [
          1
         ],
         "yaxis": "y"
        },
        {
         "hovertemplate": "Title of occupation=Anthropologists and Archeologists<br>median_wage=%{marker.size}<br>percentage_bachelors_degree_or_higher=%{y}<extra></extra>",
         "legendgroup": "Anthropologists and Archeologists",
         "marker": {
          "color": "#778AAE",
          "size": [
           63670
          ],
          "sizemode": "area",
          "sizeref": 520,
          "symbol": "circle"
         },
         "mode": "markers",
         "name": "Anthropologists and Archeologists",
         "orientation": "v",
         "showlegend": true,
         "type": "scatter",
         "x": [
          63670
         ],
         "xaxis": "x",
         "y": [
          0.89
         ],
         "yaxis": "y"
        },
        {
         "hovertemplate": "Title of occupation=Geographers<br>median_wage=%{marker.size}<br>percentage_bachelors_degree_or_higher=%{y}<extra></extra>",
         "legendgroup": "Geographers",
         "marker": {
          "color": "#862A16",
          "size": [
           81540
          ],
          "sizemode": "area",
          "sizeref": 520,
          "symbol": "circle"
         },
         "mode": "markers",
         "name": "Geographers",
         "orientation": "v",
         "showlegend": true,
         "type": "scatter",
         "x": [
          81540
         ],
         "xaxis": "x",
         "y": [
          0.89
         ],
         "yaxis": "y"
        },
        {
         "hovertemplate": "Title of occupation=Historians<br>median_wage=%{marker.size}<br>percentage_bachelors_degree_or_higher=%{y}<extra></extra>",
         "legendgroup": "Historians",
         "marker": {
          "color": "#A777F1",
          "size": [
           63680
          ],
          "sizemode": "area",
          "sizeref": 520,
          "symbol": "circle"
         },
         "mode": "markers",
         "name": "Historians",
         "orientation": "v",
         "showlegend": true,
         "type": "scatter",
         "x": [
          63680
         ],
         "xaxis": "x",
         "y": [
          0.89
         ],
         "yaxis": "y"
        },
        {
         "hovertemplate": "Title of occupation=Political Scientists<br>median_wage=%{marker.size}<br>percentage_bachelors_degree_or_higher=%{y}<extra></extra>",
         "legendgroup": "Political Scientists",
         "marker": {
          "color": "#620042",
          "size": [
           122220
          ],
          "sizemode": "area",
          "sizeref": 520,
          "symbol": "circle"
         },
         "mode": "markers",
         "name": "Political Scientists",
         "orientation": "v",
         "showlegend": true,
         "type": "scatter",
         "x": [
          122220
         ],
         "xaxis": "x",
         "y": [
          0.89
         ],
         "yaxis": "y"
        },
        {
         "hovertemplate": "Title of occupation=Social Scientists and Related Workers, All Other<br>median_wage=%{marker.size}<br>percentage_bachelors_degree_or_higher=%{y}<extra></extra>",
         "legendgroup": "Social Scientists and Related Workers, All Other",
         "marker": {
          "color": "#1616A7",
          "size": [
           83330
          ],
          "sizemode": "area",
          "sizeref": 520,
          "symbol": "circle"
         },
         "mode": "markers",
         "name": "Social Scientists and Related Workers, All Other",
         "orientation": "v",
         "showlegend": true,
         "type": "scatter",
         "x": [
          83330
         ],
         "xaxis": "x",
         "y": [
          0.89
         ],
         "yaxis": "y"
        },
        {
         "hovertemplate": "Title of occupation=Educational, Guidance, and Career Counselors and Advisors<br>median_wage=%{marker.size}<br>percentage_bachelors_degree_or_higher=%{y}<extra></extra>",
         "legendgroup": "Educational, Guidance, and Career Counselors and Advisors",
         "marker": {
          "color": "#DA60CA",
          "size": [
           57040
          ],
          "sizemode": "area",
          "sizeref": 520,
          "symbol": "circle"
         },
         "mode": "markers",
         "name": "Educational, Guidance, and Career Counselors and Advisors",
         "orientation": "v",
         "showlegend": true,
         "type": "scatter",
         "x": [
          57040
         ],
         "xaxis": "x",
         "y": [
          0.867
         ],
         "yaxis": "y"
        },
        {
         "hovertemplate": "Title of occupation=Marriage and Family Therapists<br>median_wage=%{marker.size}<br>percentage_bachelors_degree_or_higher=%{y}<extra></extra>",
         "legendgroup": "Marriage and Family Therapists",
         "marker": {
          "color": "#6C4516",
          "size": [
           49610
          ],
          "sizemode": "area",
          "sizeref": 520,
          "symbol": "circle"
         },
         "mode": "markers",
         "name": "Marriage and Family Therapists",
         "orientation": "v",
         "showlegend": true,
         "type": "scatter",
         "x": [
          49610
         ],
         "xaxis": "x",
         "y": [
          0.863
         ],
         "yaxis": "y"
        },
        {
         "hovertemplate": "Title of occupation=Substance Abuse, Behavioral Disorder, and Mental Health Counselors<br>median_wage=%{marker.size}<br>percentage_bachelors_degree_or_higher=%{y}<extra></extra>",
         "legendgroup": "Substance Abuse, Behavioral Disorder, and Mental Health Counselors",
         "marker": {
          "color": "#0D2A63",
          "size": [
           46240
          ],
          "sizemode": "area",
          "sizeref": 520,
          "symbol": "circle"
         },
         "mode": "markers",
         "name": "Substance Abuse, Behavioral Disorder, and Mental Health Counselors",
         "orientation": "v",
         "showlegend": true,
         "type": "scatter",
         "x": [
          46240
         ],
         "xaxis": "x",
         "y": [
          0.805
         ],
         "yaxis": "y"
        },
        {
         "hovertemplate": "Title of occupation=Mental Health and Substance Abuse Social Workers<br>median_wage=%{marker.size}<br>percentage_bachelors_degree_or_higher=%{y}<extra></extra>",
         "legendgroup": "Mental Health and Substance Abuse Social Workers",
         "marker": {
          "color": "#AF0038",
          "size": [
           46650
          ],
          "sizemode": "area",
          "sizeref": 520,
          "symbol": "circle"
         },
         "mode": "markers",
         "name": "Mental Health and Substance Abuse Social Workers",
         "orientation": "v",
         "showlegend": true,
         "type": "scatter",
         "x": [
          46650
         ],
         "xaxis": "x",
         "y": [
          0.938
         ],
         "yaxis": "y"
        },
        {
         "hovertemplate": "Title of occupation=Social Workers, All Other<br>median_wage=%{marker.size}<br>percentage_bachelors_degree_or_higher=%{y}<extra></extra>",
         "legendgroup": "Social Workers, All Other",
         "marker": {
          "color": "#2E91E5",
          "size": [
           61230
          ],
          "sizemode": "area",
          "sizeref": 520,
          "symbol": "circle"
         },
         "mode": "markers",
         "name": "Social Workers, All Other",
         "orientation": "v",
         "showlegend": true,
         "type": "scatter",
         "x": [
          61230
         ],
         "xaxis": "x",
         "y": [
          0.81
         ],
         "yaxis": "y"
        },
        {
         "hovertemplate": "Title of occupation=Probation Officers and Correctional Treatment Specialists<br>median_wage=%{marker.size}<br>percentage_bachelors_degree_or_higher=%{y}<extra></extra>",
         "legendgroup": "Probation Officers and Correctional Treatment Specialists",
         "marker": {
          "color": "#E15F99",
          "size": [
           54290
          ],
          "sizemode": "area",
          "sizeref": 520,
          "symbol": "circle"
         },
         "mode": "markers",
         "name": "Probation Officers and Correctional Treatment Specialists",
         "orientation": "v",
         "showlegend": true,
         "type": "scatter",
         "x": [
          54290
         ],
         "xaxis": "x",
         "y": [
          0.843
         ],
         "yaxis": "y"
        },
        {
         "hovertemplate": "Title of occupation=Lawyers<br>median_wage=%{marker.size}<br>percentage_bachelors_degree_or_higher=%{y}<extra></extra>",
         "legendgroup": "Lawyers",
         "marker": {
          "color": "#1CA71C",
          "size": [
           122960
          ],
          "sizemode": "area",
          "sizeref": 520,
          "symbol": "circle"
         },
         "mode": "markers",
         "name": "Lawyers",
         "orientation": "v",
         "showlegend": true,
         "type": "scatter",
         "x": [
          122960
         ],
         "xaxis": "x",
         "y": [
          0.98
         ],
         "yaxis": "y"
        },
        {
         "hovertemplate": "Title of occupation=Administrative Law Judges, Adjudicators, and Hearing Officers<br>median_wage=%{marker.size}<br>percentage_bachelors_degree_or_higher=%{y}<extra></extra>",
         "legendgroup": "Administrative Law Judges, Adjudicators, and Hearing Officers",
         "marker": {
          "color": "#FB0D0D",
          "size": [
           97870
          ],
          "sizemode": "area",
          "sizeref": 520,
          "symbol": "circle"
         },
         "mode": "markers",
         "name": "Administrative Law Judges, Adjudicators, and Hearing Officers",
         "orientation": "v",
         "showlegend": true,
         "type": "scatter",
         "x": [
          97870
         ],
         "xaxis": "x",
         "y": [
          0.98
         ],
         "yaxis": "y"
        },
        {
         "hovertemplate": "Title of occupation=Arbitrators, Mediators, and Conciliators<br>median_wage=%{marker.size}<br>percentage_bachelors_degree_or_higher=%{y}<extra></extra>",
         "legendgroup": "Arbitrators, Mediators, and Conciliators",
         "marker": {
          "color": "#DA16FF",
          "size": [
           63930
          ],
          "sizemode": "area",
          "sizeref": 520,
          "symbol": "circle"
         },
         "mode": "markers",
         "name": "Arbitrators, Mediators, and Conciliators",
         "orientation": "v",
         "showlegend": true,
         "type": "scatter",
         "x": [
          63930
         ],
         "xaxis": "x",
         "y": [
          0.98
         ],
         "yaxis": "y"
        },
        {
         "hovertemplate": "Title of occupation=Judges, Magistrate Judges, and Magistrates<br>median_wage=%{marker.size}<br>percentage_bachelors_degree_or_higher=%{y}<extra></extra>",
         "legendgroup": "Judges, Magistrate Judges, and Magistrates",
         "marker": {
          "color": "#222A2A",
          "size": [
           136910
          ],
          "sizemode": "area",
          "sizeref": 520,
          "symbol": "circle"
         },
         "mode": "markers",
         "name": "Judges, Magistrate Judges, and Magistrates",
         "orientation": "v",
         "showlegend": true,
         "type": "scatter",
         "x": [
          136910
         ],
         "xaxis": "x",
         "y": [
          0.98
         ],
         "yaxis": "y"
        },
        {
         "hovertemplate": "Title of occupation=Business Teachers, Postsecondary<br>median_wage=%{marker.size}<br>percentage_bachelors_degree_or_higher=%{y}<extra></extra>",
         "legendgroup": "Business Teachers, Postsecondary",
         "marker": {
          "color": "#B68100",
          "size": [
           87200
          ],
          "sizemode": "area",
          "sizeref": 520,
          "symbol": "circle"
         },
         "mode": "markers",
         "name": "Business Teachers, Postsecondary",
         "orientation": "v",
         "showlegend": true,
         "type": "scatter",
         "x": [
          87200
         ],
         "xaxis": "x",
         "y": [
          0.9390000000000001
         ],
         "yaxis": "y"
        },
        {
         "hovertemplate": "Title of occupation=Computer Science Teachers, Postsecondary<br>median_wage=%{marker.size}<br>percentage_bachelors_degree_or_higher=%{y}<extra></extra>",
         "legendgroup": "Computer Science Teachers, Postsecondary",
         "marker": {
          "color": "#750D86",
          "size": [
           85180
          ],
          "sizemode": "area",
          "sizeref": 520,
          "symbol": "circle"
         },
         "mode": "markers",
         "name": "Computer Science Teachers, Postsecondary",
         "orientation": "v",
         "showlegend": true,
         "type": "scatter",
         "x": [
          85180
         ],
         "xaxis": "x",
         "y": [
          0.9390000000000001
         ],
         "yaxis": "y"
        },
        {
         "hovertemplate": "Title of occupation=Mathematical Science Teachers, Postsecondary<br>median_wage=%{marker.size}<br>percentage_bachelors_degree_or_higher=%{y}<extra></extra>",
         "legendgroup": "Mathematical Science Teachers, Postsecondary",
         "marker": {
          "color": "#EB663B",
          "size": [
           73690
          ],
          "sizemode": "area",
          "sizeref": 520,
          "symbol": "circle"
         },
         "mode": "markers",
         "name": "Mathematical Science Teachers, Postsecondary",
         "orientation": "v",
         "showlegend": true,
         "type": "scatter",
         "x": [
          73690
         ],
         "xaxis": "x",
         "y": [
          0.9390000000000001
         ],
         "yaxis": "y"
        },
        {
         "hovertemplate": "Title of occupation=Architecture Teachers, Postsecondary<br>median_wage=%{marker.size}<br>percentage_bachelors_degree_or_higher=%{y}<extra></extra>",
         "legendgroup": "Architecture Teachers, Postsecondary",
         "marker": {
          "color": "#511CFB",
          "size": [
           87900
          ],
          "sizemode": "area",
          "sizeref": 520,
          "symbol": "circle"
         },
         "mode": "markers",
         "name": "Architecture Teachers, Postsecondary",
         "orientation": "v",
         "showlegend": true,
         "type": "scatter",
         "x": [
          87900
         ],
         "xaxis": "x",
         "y": [
          0.9390000000000001
         ],
         "yaxis": "y"
        },
        {
         "hovertemplate": "Title of occupation=Engineering Teachers, Postsecondary<br>median_wage=%{marker.size}<br>percentage_bachelors_degree_or_higher=%{y}<extra></extra>",
         "legendgroup": "Engineering Teachers, Postsecondary",
         "marker": {
          "color": "#00A08B",
          "size": [
           101010
          ],
          "sizemode": "area",
          "sizeref": 520,
          "symbol": "circle"
         },
         "mode": "markers",
         "name": "Engineering Teachers, Postsecondary",
         "orientation": "v",
         "showlegend": true,
         "type": "scatter",
         "x": [
          101010
         ],
         "xaxis": "x",
         "y": [
          0.9390000000000001
         ],
         "yaxis": "y"
        },
        {
         "hovertemplate": "Title of occupation=Agricultural Sciences Teachers, Postsecondary<br>median_wage=%{marker.size}<br>percentage_bachelors_degree_or_higher=%{y}<extra></extra>",
         "legendgroup": "Agricultural Sciences Teachers, Postsecondary",
         "marker": {
          "color": "#FB00D1",
          "size": [
           83260
          ],
          "sizemode": "area",
          "sizeref": 520,
          "symbol": "circle"
         },
         "mode": "markers",
         "name": "Agricultural Sciences Teachers, Postsecondary",
         "orientation": "v",
         "showlegend": true,
         "type": "scatter",
         "x": [
          83260
         ],
         "xaxis": "x",
         "y": [
          0.9390000000000001
         ],
         "yaxis": "y"
        },
        {
         "hovertemplate": "Title of occupation=Biological Science Teachers, Postsecondary<br>median_wage=%{marker.size}<br>percentage_bachelors_degree_or_higher=%{y}<extra></extra>",
         "legendgroup": "Biological Science Teachers, Postsecondary",
         "marker": {
          "color": "#FC0080",
          "size": [
           83300
          ],
          "sizemode": "area",
          "sizeref": 520,
          "symbol": "circle"
         },
         "mode": "markers",
         "name": "Biological Science Teachers, Postsecondary",
         "orientation": "v",
         "showlegend": true,
         "type": "scatter",
         "x": [
          83300
         ],
         "xaxis": "x",
         "y": [
          0.9390000000000001
         ],
         "yaxis": "y"
        },
        {
         "hovertemplate": "Title of occupation=Forestry and Conservation Science Teachers, Postsecondary<br>median_wage=%{marker.size}<br>percentage_bachelors_degree_or_higher=%{y}<extra></extra>",
         "legendgroup": "Forestry and Conservation Science Teachers, Postsecondary",
         "marker": {
          "color": "#B2828D",
          "size": [
           85450
          ],
          "sizemode": "area",
          "sizeref": 520,
          "symbol": "circle"
         },
         "mode": "markers",
         "name": "Forestry and Conservation Science Teachers, Postsecondary",
         "orientation": "v",
         "showlegend": true,
         "type": "scatter",
         "x": [
          85450
         ],
         "xaxis": "x",
         "y": [
          0.9390000000000001
         ],
         "yaxis": "y"
        },
        {
         "hovertemplate": "Title of occupation=Atmospheric, Earth, Marine, and Space Sciences Teachers, Postsecondary<br>median_wage=%{marker.size}<br>percentage_bachelors_degree_or_higher=%{y}<extra></extra>",
         "legendgroup": "Atmospheric, Earth, Marine, and Space Sciences Teachers, Postsecondary",
         "marker": {
          "color": "#6C7C32",
          "size": [
           92040
          ],
          "sizemode": "area",
          "sizeref": 520,
          "symbol": "circle"
         },
         "mode": "markers",
         "name": "Atmospheric, Earth, Marine, and Space Sciences Teachers, Postsecondary",
         "orientation": "v",
         "showlegend": true,
         "type": "scatter",
         "x": [
          92040
         ],
         "xaxis": "x",
         "y": [
          0.9390000000000001
         ],
         "yaxis": "y"
        },
        {
         "hovertemplate": "Title of occupation=Chemistry Teachers, Postsecondary<br>median_wage=%{marker.size}<br>percentage_bachelors_degree_or_higher=%{y}<extra></extra>",
         "legendgroup": "Chemistry Teachers, Postsecondary",
         "marker": {
          "color": "#778AAE",
          "size": [
           79550
          ],
          "sizemode": "area",
          "sizeref": 520,
          "symbol": "circle"
         },
         "mode": "markers",
         "name": "Chemistry Teachers, Postsecondary",
         "orientation": "v",
         "showlegend": true,
         "type": "scatter",
         "x": [
          79550
         ],
         "xaxis": "x",
         "y": [
          0.9390000000000001
         ],
         "yaxis": "y"
        },
        {
         "hovertemplate": "Title of occupation=Environmental Science Teachers, Postsecondary<br>median_wage=%{marker.size}<br>percentage_bachelors_degree_or_higher=%{y}<extra></extra>",
         "legendgroup": "Environmental Science Teachers, Postsecondary",
         "marker": {
          "color": "#862A16",
          "size": [
           82430
          ],
          "sizemode": "area",
          "sizeref": 520,
          "symbol": "circle"
         },
         "mode": "markers",
         "name": "Environmental Science Teachers, Postsecondary",
         "orientation": "v",
         "showlegend": true,
         "type": "scatter",
         "x": [
          82430
         ],
         "xaxis": "x",
         "y": [
          0.9390000000000001
         ],
         "yaxis": "y"
        },
        {
         "hovertemplate": "Title of occupation=Physics Teachers, Postsecondary<br>median_wage=%{marker.size}<br>percentage_bachelors_degree_or_higher=%{y}<extra></extra>",
         "legendgroup": "Physics Teachers, Postsecondary",
         "marker": {
          "color": "#A777F1",
          "size": [
           89590
          ],
          "sizemode": "area",
          "sizeref": 520,
          "symbol": "circle"
         },
         "mode": "markers",
         "name": "Physics Teachers, Postsecondary",
         "orientation": "v",
         "showlegend": true,
         "type": "scatter",
         "x": [
          89590
         ],
         "xaxis": "x",
         "y": [
          0.9390000000000001
         ],
         "yaxis": "y"
        },
        {
         "hovertemplate": "Title of occupation=Anthropology and Archeology Teachers, Postsecondary<br>median_wage=%{marker.size}<br>percentage_bachelors_degree_or_higher=%{y}<extra></extra>",
         "legendgroup": "Anthropology and Archeology Teachers, Postsecondary",
         "marker": {
          "color": "#620042",
          "size": [
           86220
          ],
          "sizemode": "area",
          "sizeref": 520,
          "symbol": "circle"
         },
         "mode": "markers",
         "name": "Anthropology and Archeology Teachers, Postsecondary",
         "orientation": "v",
         "showlegend": true,
         "type": "scatter",
         "x": [
          86220
         ],
         "xaxis": "x",
         "y": [
          0.9390000000000001
         ],
         "yaxis": "y"
        },
        {
         "hovertemplate": "Title of occupation=Area, Ethnic, and Cultural Studies Teachers, Postsecondary<br>median_wage=%{marker.size}<br>percentage_bachelors_degree_or_higher=%{y}<extra></extra>",
         "legendgroup": "Area, Ethnic, and Cultural Studies Teachers, Postsecondary",
         "marker": {
          "color": "#1616A7",
          "size": [
           77070
          ],
          "sizemode": "area",
          "sizeref": 520,
          "symbol": "circle"
         },
         "mode": "markers",
         "name": "Area, Ethnic, and Cultural Studies Teachers, Postsecondary",
         "orientation": "v",
         "showlegend": true,
         "type": "scatter",
         "x": [
          77070
         ],
         "xaxis": "x",
         "y": [
          0.9390000000000001
         ],
         "yaxis": "y"
        },
        {
         "hovertemplate": "Title of occupation=Economics Teachers, Postsecondary<br>median_wage=%{marker.size}<br>percentage_bachelors_degree_or_higher=%{y}<extra></extra>",
         "legendgroup": "Economics Teachers, Postsecondary",
         "marker": {
          "color": "#DA60CA",
          "size": [
           104370
          ],
          "sizemode": "area",
          "sizeref": 520,
          "symbol": "circle"
         },
         "mode": "markers",
         "name": "Economics Teachers, Postsecondary",
         "orientation": "v",
         "showlegend": true,
         "type": "scatter",
         "x": [
          104370
         ],
         "xaxis": "x",
         "y": [
          0.9390000000000001
         ],
         "yaxis": "y"
        },
        {
         "hovertemplate": "Title of occupation=Geography Teachers, Postsecondary<br>median_wage=%{marker.size}<br>percentage_bachelors_degree_or_higher=%{y}<extra></extra>",
         "legendgroup": "Geography Teachers, Postsecondary",
         "marker": {
          "color": "#6C4516",
          "size": [
           80520
          ],
          "sizemode": "area",
          "sizeref": 520,
          "symbol": "circle"
         },
         "mode": "markers",
         "name": "Geography Teachers, Postsecondary",
         "orientation": "v",
         "showlegend": true,
         "type": "scatter",
         "x": [
          80520
         ],
         "xaxis": "x",
         "y": [
          0.9390000000000001
         ],
         "yaxis": "y"
        },
        {
         "hovertemplate": "Title of occupation=Political Science Teachers, Postsecondary<br>median_wage=%{marker.size}<br>percentage_bachelors_degree_or_higher=%{y}<extra></extra>",
         "legendgroup": "Political Science Teachers, Postsecondary",
         "marker": {
          "color": "#0D2A63",
          "size": [
           85930
          ],
          "sizemode": "area",
          "sizeref": 520,
          "symbol": "circle"
         },
         "mode": "markers",
         "name": "Political Science Teachers, Postsecondary",
         "orientation": "v",
         "showlegend": true,
         "type": "scatter",
         "x": [
          85930
         ],
         "xaxis": "x",
         "y": [
          0.9390000000000001
         ],
         "yaxis": "y"
        },
        {
         "hovertemplate": "Title of occupation=Psychology Teachers, Postsecondary<br>median_wage=%{marker.size}<br>percentage_bachelors_degree_or_higher=%{y}<extra></extra>",
         "legendgroup": "Psychology Teachers, Postsecondary",
         "marker": {
          "color": "#AF0038",
          "size": [
           76620
          ],
          "sizemode": "area",
          "sizeref": 520,
          "symbol": "circle"
         },
         "mode": "markers",
         "name": "Psychology Teachers, Postsecondary",
         "orientation": "v",
         "showlegend": true,
         "type": "scatter",
         "x": [
          76620
         ],
         "xaxis": "x",
         "y": [
          0.9390000000000001
         ],
         "yaxis": "y"
        },
        {
         "hovertemplate": "Title of occupation=Sociology Teachers, Postsecondary<br>median_wage=%{marker.size}<br>percentage_bachelors_degree_or_higher=%{y}<extra></extra>",
         "legendgroup": "Sociology Teachers, Postsecondary",
         "marker": {
          "color": "#2E91E5",
          "size": [
           75290
          ],
          "sizemode": "area",
          "sizeref": 520,
          "symbol": "circle"
         },
         "mode": "markers",
         "name": "Sociology Teachers, Postsecondary",
         "orientation": "v",
         "showlegend": true,
         "type": "scatter",
         "x": [
          75290
         ],
         "xaxis": "x",
         "y": [
          0.9390000000000001
         ],
         "yaxis": "y"
        },
        {
         "hovertemplate": "Title of occupation=Social Sciences Teachers, Postsecondary, All Other<br>median_wage=%{marker.size}<br>percentage_bachelors_degree_or_higher=%{y}<extra></extra>",
         "legendgroup": "Social Sciences Teachers, Postsecondary, All Other",
         "marker": {
          "color": "#E15F99",
          "size": [
           71530
          ],
          "sizemode": "area",
          "sizeref": 520,
          "symbol": "circle"
         },
         "mode": "markers",
         "name": "Social Sciences Teachers, Postsecondary, All Other",
         "orientation": "v",
         "showlegend": true,
         "type": "scatter",
         "x": [
          71530
         ],
         "xaxis": "x",
         "y": [
          0.9390000000000001
         ],
         "yaxis": "y"
        },
        {
         "hovertemplate": "Title of occupation=Health Specialties Teachers, Postsecondary<br>median_wage=%{marker.size}<br>percentage_bachelors_degree_or_higher=%{y}<extra></extra>",
         "legendgroup": "Health Specialties Teachers, Postsecondary",
         "marker": {
          "color": "#1CA71C",
          "size": [
           97320
          ],
          "sizemode": "area",
          "sizeref": 520,
          "symbol": "circle"
         },
         "mode": "markers",
         "name": "Health Specialties Teachers, Postsecondary",
         "orientation": "v",
         "showlegend": true,
         "type": "scatter",
         "x": [
          97320
         ],
         "xaxis": "x",
         "y": [
          0.9390000000000001
         ],
         "yaxis": "y"
        },
        {
         "hovertemplate": "Title of occupation=Nursing Instructors and Teachers, Postsecondary<br>median_wage=%{marker.size}<br>percentage_bachelors_degree_or_higher=%{y}<extra></extra>",
         "legendgroup": "Nursing Instructors and Teachers, Postsecondary",
         "marker": {
          "color": "#FB0D0D",
          "size": [
           74600
          ],
          "sizemode": "area",
          "sizeref": 520,
          "symbol": "circle"
         },
         "mode": "markers",
         "name": "Nursing Instructors and Teachers, Postsecondary",
         "orientation": "v",
         "showlegend": true,
         "type": "scatter",
         "x": [
          74600
         ],
         "xaxis": "x",
         "y": [
          0.9390000000000001
         ],
         "yaxis": "y"
        },
        {
         "hovertemplate": "Title of occupation=Education Teachers, Postsecondary<br>median_wage=%{marker.size}<br>percentage_bachelors_degree_or_higher=%{y}<extra></extra>",
         "legendgroup": "Education Teachers, Postsecondary",
         "marker": {
          "color": "#DA16FF",
          "size": [
           65510
          ],
          "sizemode": "area",
          "sizeref": 520,
          "symbol": "circle"
         },
         "mode": "markers",
         "name": "Education Teachers, Postsecondary",
         "orientation": "v",
         "showlegend": true,
         "type": "scatter",
         "x": [
          65510
         ],
         "xaxis": "x",
         "y": [
          0.9390000000000001
         ],
         "yaxis": "y"
        },
        {
         "hovertemplate": "Title of occupation=Library Science Teachers, Postsecondary<br>median_wage=%{marker.size}<br>percentage_bachelors_degree_or_higher=%{y}<extra></extra>",
         "legendgroup": "Library Science Teachers, Postsecondary",
         "marker": {
          "color": "#222A2A",
          "size": [
           71410
          ],
          "sizemode": "area",
          "sizeref": 520,
          "symbol": "circle"
         },
         "mode": "markers",
         "name": "Library Science Teachers, Postsecondary",
         "orientation": "v",
         "showlegend": true,
         "type": "scatter",
         "x": [
          71410
         ],
         "xaxis": "x",
         "y": [
          0.9390000000000001
         ],
         "yaxis": "y"
        },
        {
         "hovertemplate": "Title of occupation=Criminal Justice and Law Enforcement Teachers, Postsecondary<br>median_wage=%{marker.size}<br>percentage_bachelors_degree_or_higher=%{y}<extra></extra>",
         "legendgroup": "Criminal Justice and Law Enforcement Teachers, Postsecondary",
         "marker": {
          "color": "#B68100",
          "size": [
           62860
          ],
          "sizemode": "area",
          "sizeref": 520,
          "symbol": "circle"
         },
         "mode": "markers",
         "name": "Criminal Justice and Law Enforcement Teachers, Postsecondary",
         "orientation": "v",
         "showlegend": true,
         "type": "scatter",
         "x": [
          62860
         ],
         "xaxis": "x",
         "y": [
          0.9390000000000001
         ],
         "yaxis": "y"
        },
        {
         "hovertemplate": "Title of occupation=Law Teachers, Postsecondary<br>median_wage=%{marker.size}<br>percentage_bachelors_degree_or_higher=%{y}<extra></extra>",
         "legendgroup": "Law Teachers, Postsecondary",
         "marker": {
          "color": "#750D86",
          "size": [
           113530
          ],
          "sizemode": "area",
          "sizeref": 520,
          "symbol": "circle"
         },
         "mode": "markers",
         "name": "Law Teachers, Postsecondary",
         "orientation": "v",
         "showlegend": true,
         "type": "scatter",
         "x": [
          113530
         ],
         "xaxis": "x",
         "y": [
          0.9390000000000001
         ],
         "yaxis": "y"
        },
        {
         "hovertemplate": "Title of occupation=Social Work Teachers, Postsecondary<br>median_wage=%{marker.size}<br>percentage_bachelors_degree_or_higher=%{y}<extra></extra>",
         "legendgroup": "Social Work Teachers, Postsecondary",
         "marker": {
          "color": "#EB663B",
          "size": [
           72070
          ],
          "sizemode": "area",
          "sizeref": 520,
          "symbol": "circle"
         },
         "mode": "markers",
         "name": "Social Work Teachers, Postsecondary",
         "orientation": "v",
         "showlegend": true,
         "type": "scatter",
         "x": [
          72070
         ],
         "xaxis": "x",
         "y": [
          0.9390000000000001
         ],
         "yaxis": "y"
        },
        {
         "hovertemplate": "Title of occupation=Art, Drama, and Music Teachers, Postsecondary<br>median_wage=%{marker.size}<br>percentage_bachelors_degree_or_higher=%{y}<extra></extra>",
         "legendgroup": "Art, Drama, and Music Teachers, Postsecondary",
         "marker": {
          "color": "#511CFB",
          "size": [
           69530
          ],
          "sizemode": "area",
          "sizeref": 520,
          "symbol": "circle"
         },
         "mode": "markers",
         "name": "Art, Drama, and Music Teachers, Postsecondary",
         "orientation": "v",
         "showlegend": true,
         "type": "scatter",
         "x": [
          69530
         ],
         "xaxis": "x",
         "y": [
          0.9390000000000001
         ],
         "yaxis": "y"
        },
        {
         "hovertemplate": "Title of occupation=Communications Teachers, Postsecondary<br>median_wage=%{marker.size}<br>percentage_bachelors_degree_or_higher=%{y}<extra></extra>",
         "legendgroup": "Communications Teachers, Postsecondary",
         "marker": {
          "color": "#00A08B",
          "size": [
           70630
          ],
          "sizemode": "area",
          "sizeref": 520,
          "symbol": "circle"
         },
         "mode": "markers",
         "name": "Communications Teachers, Postsecondary",
         "orientation": "v",
         "showlegend": true,
         "type": "scatter",
         "x": [
          70630
         ],
         "xaxis": "x",
         "y": [
          0.9390000000000001
         ],
         "yaxis": "y"
        },
        {
         "hovertemplate": "Title of occupation=English Language and Literature Teachers, Postsecondary<br>median_wage=%{marker.size}<br>percentage_bachelors_degree_or_higher=%{y}<extra></extra>",
         "legendgroup": "English Language and Literature Teachers, Postsecondary",
         "marker": {
          "color": "#FB00D1",
          "size": [
           68490
          ],
          "sizemode": "area",
          "sizeref": 520,
          "symbol": "circle"
         },
         "mode": "markers",
         "name": "English Language and Literature Teachers, Postsecondary",
         "orientation": "v",
         "showlegend": true,
         "type": "scatter",
         "x": [
          68490
         ],
         "xaxis": "x",
         "y": [
          0.9390000000000001
         ],
         "yaxis": "y"
        },
        {
         "hovertemplate": "Title of occupation=Foreign Language and Literature Teachers, Postsecondary<br>median_wage=%{marker.size}<br>percentage_bachelors_degree_or_higher=%{y}<extra></extra>",
         "legendgroup": "Foreign Language and Literature Teachers, Postsecondary",
         "marker": {
          "color": "#FC0080",
          "size": [
           69990
          ],
          "sizemode": "area",
          "sizeref": 520,
          "symbol": "circle"
         },
         "mode": "markers",
         "name": "Foreign Language and Literature Teachers, Postsecondary",
         "orientation": "v",
         "showlegend": true,
         "type": "scatter",
         "x": [
          69990
         ],
         "xaxis": "x",
         "y": [
          0.9390000000000001
         ],
         "yaxis": "y"
        },
        {
         "hovertemplate": "Title of occupation=History Teachers, Postsecondary<br>median_wage=%{marker.size}<br>percentage_bachelors_degree_or_higher=%{y}<extra></extra>",
         "legendgroup": "History Teachers, Postsecondary",
         "marker": {
          "color": "#B2828D",
          "size": [
           75170
          ],
          "sizemode": "area",
          "sizeref": 520,
          "symbol": "circle"
         },
         "mode": "markers",
         "name": "History Teachers, Postsecondary",
         "orientation": "v",
         "showlegend": true,
         "type": "scatter",
         "x": [
          75170
         ],
         "xaxis": "x",
         "y": [
          0.9390000000000001
         ],
         "yaxis": "y"
        },
        {
         "hovertemplate": "Title of occupation=Philosophy and Religion Teachers, Postsecondary<br>median_wage=%{marker.size}<br>percentage_bachelors_degree_or_higher=%{y}<extra></extra>",
         "legendgroup": "Philosophy and Religion Teachers, Postsecondary",
         "marker": {
          "color": "#6C7C32",
          "size": [
           75240
          ],
          "sizemode": "area",
          "sizeref": 520,
          "symbol": "circle"
         },
         "mode": "markers",
         "name": "Philosophy and Religion Teachers, Postsecondary",
         "orientation": "v",
         "showlegend": true,
         "type": "scatter",
         "x": [
          75240
         ],
         "xaxis": "x",
         "y": [
          0.9390000000000001
         ],
         "yaxis": "y"
        },
        {
         "hovertemplate": "Title of occupation=Family and Consumer Sciences Teachers, Postsecondary<br>median_wage=%{marker.size}<br>percentage_bachelors_degree_or_higher=%{y}<extra></extra>",
         "legendgroup": "Family and Consumer Sciences Teachers, Postsecondary",
         "marker": {
          "color": "#778AAE",
          "size": [
           76480
          ],
          "sizemode": "area",
          "sizeref": 520,
          "symbol": "circle"
         },
         "mode": "markers",
         "name": "Family and Consumer Sciences Teachers, Postsecondary",
         "orientation": "v",
         "showlegend": true,
         "type": "scatter",
         "x": [
          76480
         ],
         "xaxis": "x",
         "y": [
          0.9390000000000001
         ],
         "yaxis": "y"
        },
        {
         "hovertemplate": "Title of occupation=Recreation and Fitness Studies Teachers, Postsecondary<br>median_wage=%{marker.size}<br>percentage_bachelors_degree_or_higher=%{y}<extra></extra>",
         "legendgroup": "Recreation and Fitness Studies Teachers, Postsecondary",
         "marker": {
          "color": "#862A16",
          "size": [
           64380
          ],
          "sizemode": "area",
          "sizeref": 520,
          "symbol": "circle"
         },
         "mode": "markers",
         "name": "Recreation and Fitness Studies Teachers, Postsecondary",
         "orientation": "v",
         "showlegend": true,
         "type": "scatter",
         "x": [
          64380
         ],
         "xaxis": "x",
         "y": [
          0.9390000000000001
         ],
         "yaxis": "y"
        },
        {
         "hovertemplate": "Title of occupation=Career/Technical Education Teachers, Postsecondary<br>median_wage=%{marker.size}<br>percentage_bachelors_degree_or_higher=%{y}<extra></extra>",
         "legendgroup": "Career/Technical Education Teachers, Postsecondary",
         "marker": {
          "color": "#A777F1",
          "size": [
           54620
          ],
          "sizemode": "area",
          "sizeref": 520,
          "symbol": "circle"
         },
         "mode": "markers",
         "name": "Career/Technical Education Teachers, Postsecondary",
         "orientation": "v",
         "showlegend": true,
         "type": "scatter",
         "x": [
          54620
         ],
         "xaxis": "x",
         "y": [
          0.9390000000000001
         ],
         "yaxis": "y"
        },
        {
         "hovertemplate": "Title of occupation=Postsecondary Teachers, All Other<br>median_wage=%{marker.size}<br>percentage_bachelors_degree_or_higher=%{y}<extra></extra>",
         "legendgroup": "Postsecondary Teachers, All Other",
         "marker": {
          "color": "#620042",
          "size": [
           68970
          ],
          "sizemode": "area",
          "sizeref": 520,
          "symbol": "circle"
         },
         "mode": "markers",
         "name": "Postsecondary Teachers, All Other",
         "orientation": "v",
         "showlegend": true,
         "type": "scatter",
         "x": [
          68970
         ],
         "xaxis": "x",
         "y": [
          0.9390000000000001
         ],
         "yaxis": "y"
        },
        {
         "hovertemplate": "Title of occupation=Elementary School Teachers, Except Special Education<br>median_wage=%{marker.size}<br>percentage_bachelors_degree_or_higher=%{y}<extra></extra>",
         "legendgroup": "Elementary School Teachers, Except Special Education",
         "marker": {
          "color": "#1616A7",
          "size": [
           59670
          ],
          "sizemode": "area",
          "sizeref": 520,
          "symbol": "circle"
         },
         "mode": "markers",
         "name": "Elementary School Teachers, Except Special Education",
         "orientation": "v",
         "showlegend": true,
         "type": "scatter",
         "x": [
          59670
         ],
         "xaxis": "x",
         "y": [
          0.946
         ],
         "yaxis": "y"
        },
        {
         "hovertemplate": "Title of occupation=Middle School Teachers, Except Special and Career/Technical Education<br>median_wage=%{marker.size}<br>percentage_bachelors_degree_or_higher=%{y}<extra></extra>",
         "legendgroup": "Middle School Teachers, Except Special and Career/Technical Education",
         "marker": {
          "color": "#DA60CA",
          "size": [
           59660
          ],
          "sizemode": "area",
          "sizeref": 520,
          "symbol": "circle"
         },
         "mode": "markers",
         "name": "Middle School Teachers, Except Special and Career/Technical Education",
         "orientation": "v",
         "showlegend": true,
         "type": "scatter",
         "x": [
          59660
         ],
         "xaxis": "x",
         "y": [
          0.946
         ],
         "yaxis": "y"
        },
        {
         "hovertemplate": "Title of occupation=Career/Technical Education Teachers, Middle School<br>median_wage=%{marker.size}<br>percentage_bachelors_degree_or_higher=%{y}<extra></extra>",
         "legendgroup": "Career/Technical Education Teachers, Middle School",
         "marker": {
          "color": "#6C4516",
          "size": [
           60800
          ],
          "sizemode": "area",
          "sizeref": 520,
          "symbol": "circle"
         },
         "mode": "markers",
         "name": "Career/Technical Education Teachers, Middle School",
         "orientation": "v",
         "showlegend": true,
         "type": "scatter",
         "x": [
          60800
         ],
         "xaxis": "x",
         "y": [
          0.946
         ],
         "yaxis": "y"
        },
        {
         "hovertemplate": "Title of occupation=Secondary School Teachers, Except Special and Career/Technical Education<br>median_wage=%{marker.size}<br>percentage_bachelors_degree_or_higher=%{y}<extra></extra>",
         "legendgroup": "Secondary School Teachers, Except Special and Career/Technical Education",
         "marker": {
          "color": "#0D2A63",
          "size": [
           61660
          ],
          "sizemode": "area",
          "sizeref": 520,
          "symbol": "circle"
         },
         "mode": "markers",
         "name": "Secondary School Teachers, Except Special and Career/Technical Education",
         "orientation": "v",
         "showlegend": true,
         "type": "scatter",
         "x": [
          61660
         ],
         "xaxis": "x",
         "y": [
          0.965
         ],
         "yaxis": "y"
        },
        {
         "hovertemplate": "Title of occupation=Career/Technical Education Teachers, Secondary School<br>median_wage=%{marker.size}<br>percentage_bachelors_degree_or_higher=%{y}<extra></extra>",
         "legendgroup": "Career/Technical Education Teachers, Secondary School",
         "marker": {
          "color": "#AF0038",
          "size": [
           61710
          ],
          "sizemode": "area",
          "sizeref": 520,
          "symbol": "circle"
         },
         "mode": "markers",
         "name": "Career/Technical Education Teachers, Secondary School",
         "orientation": "v",
         "showlegend": true,
         "type": "scatter",
         "x": [
          61710
         ],
         "xaxis": "x",
         "y": [
          0.965
         ],
         "yaxis": "y"
        },
        {
         "hovertemplate": "Title of occupation=Special Education Teachers, Preschool<br>median_wage=%{marker.size}<br>percentage_bachelors_degree_or_higher=%{y}<extra></extra>",
         "legendgroup": "Special Education Teachers, Preschool",
         "marker": {
          "color": "#2E91E5",
          "size": [
           60000
          ],
          "sizemode": "area",
          "sizeref": 520,
          "symbol": "circle"
         },
         "mode": "markers",
         "name": "Special Education Teachers, Preschool",
         "orientation": "v",
         "showlegend": true,
         "type": "scatter",
         "x": [
          60000
         ],
         "xaxis": "x",
         "y": [
          0.89
         ],
         "yaxis": "y"
        },
        {
         "hovertemplate": "Title of occupation=Special Education Teachers, Kindergarten and Elementary School<br>median_wage=%{marker.size}<br>percentage_bachelors_degree_or_higher=%{y}<extra></extra>",
         "legendgroup": "Special Education Teachers, Kindergarten and Elementary School",
         "marker": {
          "color": "#E15F99",
          "size": [
           60460
          ],
          "sizemode": "area",
          "sizeref": 520,
          "symbol": "circle"
         },
         "mode": "markers",
         "name": "Special Education Teachers, Kindergarten and Elementary School",
         "orientation": "v",
         "showlegend": true,
         "type": "scatter",
         "x": [
          60460
         ],
         "xaxis": "x",
         "y": [
          0.89
         ],
         "yaxis": "y"
        },
        {
         "hovertemplate": "Title of occupation=Special Education Teachers, Middle School<br>median_wage=%{marker.size}<br>percentage_bachelors_degree_or_higher=%{y}<extra></extra>",
         "legendgroup": "Special Education Teachers, Middle School",
         "marker": {
          "color": "#1CA71C",
          "size": [
           61440
          ],
          "sizemode": "area",
          "sizeref": 520,
          "symbol": "circle"
         },
         "mode": "markers",
         "name": "Special Education Teachers, Middle School",
         "orientation": "v",
         "showlegend": true,
         "type": "scatter",
         "x": [
          61440
         ],
         "xaxis": "x",
         "y": [
          0.89
         ],
         "yaxis": "y"
        },
        {
         "hovertemplate": "Title of occupation=Special Education Teachers, Secondary School<br>median_wage=%{marker.size}<br>percentage_bachelors_degree_or_higher=%{y}<extra></extra>",
         "legendgroup": "Special Education Teachers, Secondary School",
         "marker": {
          "color": "#FB0D0D",
          "size": [
           61710
          ],
          "sizemode": "area",
          "sizeref": 520,
          "symbol": "circle"
         },
         "mode": "markers",
         "name": "Special Education Teachers, Secondary School",
         "orientation": "v",
         "showlegend": true,
         "type": "scatter",
         "x": [
          61710
         ],
         "xaxis": "x",
         "y": [
          0.89
         ],
         "yaxis": "y"
        },
        {
         "hovertemplate": "Title of occupation=Special Education Teachers, All Other<br>median_wage=%{marker.size}<br>percentage_bachelors_degree_or_higher=%{y}<extra></extra>",
         "legendgroup": "Special Education Teachers, All Other",
         "marker": {
          "color": "#DA16FF",
          "size": [
           61190
          ],
          "sizemode": "area",
          "sizeref": 520,
          "symbol": "circle"
         },
         "mode": "markers",
         "name": "Special Education Teachers, All Other",
         "orientation": "v",
         "showlegend": true,
         "type": "scatter",
         "x": [
          61190
         ],
         "xaxis": "x",
         "y": [
          0.89
         ],
         "yaxis": "y"
        },
        {
         "hovertemplate": "Title of occupation=Librarians and Media Collections Specialists<br>median_wage=%{marker.size}<br>percentage_bachelors_degree_or_higher=%{y}<extra></extra>",
         "legendgroup": "Librarians and Media Collections Specialists",
         "marker": {
          "color": "#222A2A",
          "size": [
           59500
          ],
          "sizemode": "area",
          "sizeref": 520,
          "symbol": "circle"
         },
         "mode": "markers",
         "name": "Librarians and Media Collections Specialists",
         "orientation": "v",
         "showlegend": true,
         "type": "scatter",
         "x": [
          59500
         ],
         "xaxis": "x",
         "y": [
          0.868
         ],
         "yaxis": "y"
        },
        {
         "hovertemplate": "Title of occupation=Farm and Home Management Educators<br>median_wage=%{marker.size}<br>percentage_bachelors_degree_or_higher=%{y}<extra></extra>",
         "legendgroup": "Farm and Home Management Educators",
         "marker": {
          "color": "#B68100",
          "size": [
           49710
          ],
          "sizemode": "area",
          "sizeref": 520,
          "symbol": "circle"
         },
         "mode": "markers",
         "name": "Farm and Home Management Educators",
         "orientation": "v",
         "showlegend": true,
         "type": "scatter",
         "x": [
          49710
         ],
         "xaxis": "x",
         "y": [
          0.8540000000000001
         ],
         "yaxis": "y"
        },
        {
         "hovertemplate": "Title of occupation=Instructional Coordinators<br>median_wage=%{marker.size}<br>percentage_bachelors_degree_or_higher=%{y}<extra></extra>",
         "legendgroup": "Instructional Coordinators",
         "marker": {
          "color": "#750D86",
          "size": [
           66290
          ],
          "sizemode": "area",
          "sizeref": 520,
          "symbol": "circle"
         },
         "mode": "markers",
         "name": "Instructional Coordinators",
         "orientation": "v",
         "showlegend": true,
         "type": "scatter",
         "x": [
          66290
         ],
         "xaxis": "x",
         "y": [
          0.8540000000000001
         ],
         "yaxis": "y"
        },
        {
         "hovertemplate": "Title of occupation=Educational Instruction and Library Workers, All Other<br>median_wage=%{marker.size}<br>percentage_bachelors_degree_or_higher=%{y}<extra></extra>",
         "legendgroup": "Educational Instruction and Library Workers, All Other",
         "marker": {
          "color": "#EB663B",
          "size": [
           40310
          ],
          "sizemode": "area",
          "sizeref": 520,
          "symbol": "circle"
         },
         "mode": "markers",
         "name": "Educational Instruction and Library Workers, All Other",
         "orientation": "v",
         "showlegend": true,
         "type": "scatter",
         "x": [
          40310
         ],
         "xaxis": "x",
         "y": [
          0.8540000000000001
         ],
         "yaxis": "y"
        },
        {
         "hovertemplate": "Title of occupation=News Analysts, Reporters, and Journalists<br>median_wage=%{marker.size}<br>percentage_bachelors_degree_or_higher=%{y}<extra></extra>",
         "legendgroup": "News Analysts, Reporters, and Journalists",
         "marker": {
          "color": "#511CFB",
          "size": [
           46270
          ],
          "sizemode": "area",
          "sizeref": 520,
          "symbol": "circle"
         },
         "mode": "markers",
         "name": "News Analysts, Reporters, and Journalists",
         "orientation": "v",
         "showlegend": true,
         "type": "scatter",
         "x": [
          46270
         ],
         "xaxis": "x",
         "y": [
          0.846
         ],
         "yaxis": "y"
        },
        {
         "hovertemplate": "Title of occupation=Public Relations Specialists<br>median_wage=%{marker.size}<br>percentage_bachelors_degree_or_higher=%{y}<extra></extra>",
         "legendgroup": "Public Relations Specialists",
         "marker": {
          "color": "#00A08B",
          "size": [
           61150
          ],
          "sizemode": "area",
          "sizeref": 520,
          "symbol": "circle"
         },
         "mode": "markers",
         "name": "Public Relations Specialists",
         "orientation": "v",
         "showlegend": true,
         "type": "scatter",
         "x": [
          61150
         ],
         "xaxis": "x",
         "y": [
          0.846
         ],
         "yaxis": "y"
        },
        {
         "hovertemplate": "Title of occupation=Editors<br>median_wage=%{marker.size}<br>percentage_bachelors_degree_or_higher=%{y}<extra></extra>",
         "legendgroup": "Editors",
         "marker": {
          "color": "#FB00D1",
          "size": [
           61370
          ],
          "sizemode": "area",
          "sizeref": 520,
          "symbol": "circle"
         },
         "mode": "markers",
         "name": "Editors",
         "orientation": "v",
         "showlegend": true,
         "type": "scatter",
         "x": [
          61370
         ],
         "xaxis": "x",
         "y": [
          0.8390000000000001
         ],
         "yaxis": "y"
        },
        {
         "hovertemplate": "Title of occupation=Writers and Authors<br>median_wage=%{marker.size}<br>percentage_bachelors_degree_or_higher=%{y}<extra></extra>",
         "legendgroup": "Writers and Authors",
         "marker": {
          "color": "#FC0080",
          "size": [
           63200
          ],
          "sizemode": "area",
          "sizeref": 520,
          "symbol": "circle"
         },
         "mode": "markers",
         "name": "Writers and Authors",
         "orientation": "v",
         "showlegend": true,
         "type": "scatter",
         "x": [
          63200
         ],
         "xaxis": "x",
         "y": [
          0.8440000000000001
         ],
         "yaxis": "y"
        },
        {
         "hovertemplate": "Title of occupation=Chiropractors<br>median_wage=%{marker.size}<br>percentage_bachelors_degree_or_higher=%{y}<extra></extra>",
         "legendgroup": "Chiropractors",
         "marker": {
          "color": "#B2828D",
          "size": [
           70340
          ],
          "sizemode": "area",
          "sizeref": 520,
          "symbol": "circle"
         },
         "mode": "markers",
         "name": "Chiropractors",
         "orientation": "v",
         "showlegend": true,
         "type": "scatter",
         "x": [
          70340
         ],
         "xaxis": "x",
         "y": [
          0.973
         ],
         "yaxis": "y"
        },
        {
         "hovertemplate": "Title of occupation=Dentists, General<br>median_wage=%{marker.size}<br>percentage_bachelors_degree_or_higher=%{y}<extra></extra>",
         "legendgroup": "Dentists, General",
         "marker": {
          "color": "#6C7C32",
          "size": [
           155600
          ],
          "sizemode": "area",
          "sizeref": 520,
          "symbol": "circle"
         },
         "mode": "markers",
         "name": "Dentists, General",
         "orientation": "v",
         "showlegend": true,
         "type": "scatter",
         "x": [
          155600
         ],
         "xaxis": "x",
         "y": [
          1
         ],
         "yaxis": "y"
        },
        {
         "hovertemplate": "Title of occupation=Oral and Maxillofacial Surgeons<br>median_wage=%{marker.size}<br>percentage_bachelors_degree_or_higher=%{y}<extra></extra>",
         "legendgroup": "Oral and Maxillofacial Surgeons",
         "marker": {
          "color": "#778AAE",
          "size": [
           208000
          ],
          "sizemode": "area",
          "sizeref": 520,
          "symbol": "circle"
         },
         "mode": "markers",
         "name": "Oral and Maxillofacial Surgeons",
         "orientation": "v",
         "showlegend": true,
         "type": "scatter",
         "x": [
          208000
         ],
         "xaxis": "x",
         "y": [
          1
         ],
         "yaxis": "y"
        },
        {
         "hovertemplate": "Title of occupation=Orthodontists<br>median_wage=%{marker.size}<br>percentage_bachelors_degree_or_higher=%{y}<extra></extra>",
         "legendgroup": "Orthodontists",
         "marker": {
          "color": "#862A16",
          "size": [
           208000
          ],
          "sizemode": "area",
          "sizeref": 520,
          "symbol": "circle"
         },
         "mode": "markers",
         "name": "Orthodontists",
         "orientation": "v",
         "showlegend": true,
         "type": "scatter",
         "x": [
          208000
         ],
         "xaxis": "x",
         "y": [
          1
         ],
         "yaxis": "y"
        },
        {
         "hovertemplate": "Title of occupation=Prosthodontists<br>median_wage=%{marker.size}<br>percentage_bachelors_degree_or_higher=%{y}<extra></extra>",
         "legendgroup": "Prosthodontists",
         "marker": {
          "color": "#A777F1",
          "size": [
           208000
          ],
          "sizemode": "area",
          "sizeref": 520,
          "symbol": "circle"
         },
         "mode": "markers",
         "name": "Prosthodontists",
         "orientation": "v",
         "showlegend": true,
         "type": "scatter",
         "x": [
          208000
         ],
         "xaxis": "x",
         "y": [
          1
         ],
         "yaxis": "y"
        },
        {
         "hovertemplate": "Title of occupation=Dentists, All Other Specialists<br>median_wage=%{marker.size}<br>percentage_bachelors_degree_or_higher=%{y}<extra></extra>",
         "legendgroup": "Dentists, All Other Specialists",
         "marker": {
          "color": "#620042",
          "size": [
           147220
          ],
          "sizemode": "area",
          "sizeref": 520,
          "symbol": "circle"
         },
         "mode": "markers",
         "name": "Dentists, All Other Specialists",
         "orientation": "v",
         "showlegend": true,
         "type": "scatter",
         "x": [
          147220
         ],
         "xaxis": "x",
         "y": [
          1
         ],
         "yaxis": "y"
        },
        {
         "hovertemplate": "Title of occupation=Optometrists<br>median_wage=%{marker.size}<br>percentage_bachelors_degree_or_higher=%{y}<extra></extra>",
         "legendgroup": "Optometrists",
         "marker": {
          "color": "#1616A7",
          "size": [
           115250
          ],
          "sizemode": "area",
          "sizeref": 520,
          "symbol": "circle"
         },
         "mode": "markers",
         "name": "Optometrists",
         "orientation": "v",
         "showlegend": true,
         "type": "scatter",
         "x": [
          115250
         ],
         "xaxis": "x",
         "y": [
          1
         ],
         "yaxis": "y"
        },
        {
         "hovertemplate": "Title of occupation=Pharmacists<br>median_wage=%{marker.size}<br>percentage_bachelors_degree_or_higher=%{y}<extra></extra>",
         "legendgroup": "Pharmacists",
         "marker": {
          "color": "#DA60CA",
          "size": [
           128090
          ],
          "sizemode": "area",
          "sizeref": 520,
          "symbol": "circle"
         },
         "mode": "markers",
         "name": "Pharmacists",
         "orientation": "v",
         "showlegend": true,
         "type": "scatter",
         "x": [
          128090
         ],
         "xaxis": "x",
         "y": [
          0.972
         ],
         "yaxis": "y"
        },
        {
         "hovertemplate": "Title of occupation=Physician Assistants<br>median_wage=%{marker.size}<br>percentage_bachelors_degree_or_higher=%{y}<extra></extra>",
         "legendgroup": "Physician Assistants",
         "marker": {
          "color": "#6C4516",
          "size": [
           112260
          ],
          "sizemode": "area",
          "sizeref": 520,
          "symbol": "circle"
         },
         "mode": "markers",
         "name": "Physician Assistants",
         "orientation": "v",
         "showlegend": true,
         "type": "scatter",
         "x": [
          112260
         ],
         "xaxis": "x",
         "y": [
          0.905
         ],
         "yaxis": "y"
        },
        {
         "hovertemplate": "Title of occupation=Podiatrists<br>median_wage=%{marker.size}<br>percentage_bachelors_degree_or_higher=%{y}<extra></extra>",
         "legendgroup": "Podiatrists",
         "marker": {
          "color": "#0D2A63",
          "size": [
           126240
          ],
          "sizemode": "area",
          "sizeref": 520,
          "symbol": "circle"
         },
         "mode": "markers",
         "name": "Podiatrists",
         "orientation": "v",
         "showlegend": true,
         "type": "scatter",
         "x": [
          126240
         ],
         "xaxis": "x",
         "y": [
          1
         ],
         "yaxis": "y"
        },
        {
         "hovertemplate": "Title of occupation=Occupational Therapists<br>median_wage=%{marker.size}<br>percentage_bachelors_degree_or_higher=%{y}<extra></extra>",
         "legendgroup": "Occupational Therapists",
         "marker": {
          "color": "#AF0038",
          "size": [
           84950
          ],
          "sizemode": "area",
          "sizeref": 520,
          "symbol": "circle"
         },
         "mode": "markers",
         "name": "Occupational Therapists",
         "orientation": "v",
         "showlegend": true,
         "type": "scatter",
         "x": [
          84950
         ],
         "xaxis": "x",
         "y": [
          0.9279999999999999
         ],
         "yaxis": "y"
        },
        {
         "hovertemplate": "Title of occupation=Physical Therapists<br>median_wage=%{marker.size}<br>percentage_bachelors_degree_or_higher=%{y}<extra></extra>",
         "legendgroup": "Physical Therapists",
         "marker": {
          "color": "#2E91E5",
          "size": [
           89440
          ],
          "sizemode": "area",
          "sizeref": 520,
          "symbol": "circle"
         },
         "mode": "markers",
         "name": "Physical Therapists",
         "orientation": "v",
         "showlegend": true,
         "type": "scatter",
         "x": [
          89440
         ],
         "xaxis": "x",
         "y": [
          0.946
         ],
         "yaxis": "y"
        },
        {
         "hovertemplate": "Title of occupation=Speech-Language Pathologists<br>median_wage=%{marker.size}<br>percentage_bachelors_degree_or_higher=%{y}<extra></extra>",
         "legendgroup": "Speech-Language Pathologists",
         "marker": {
          "color": "#E15F99",
          "size": [
           79120
          ],
          "sizemode": "area",
          "sizeref": 520,
          "symbol": "circle"
         },
         "mode": "markers",
         "name": "Speech-Language Pathologists",
         "orientation": "v",
         "showlegend": true,
         "type": "scatter",
         "x": [
          79120
         ],
         "xaxis": "x",
         "y": [
          0.968
         ],
         "yaxis": "y"
        },
        {
         "hovertemplate": "Title of occupation=Exercise Physiologists<br>median_wage=%{marker.size}<br>percentage_bachelors_degree_or_higher=%{y}<extra></extra>",
         "legendgroup": "Exercise Physiologists",
         "marker": {
          "color": "#1CA71C",
          "size": [
           49170
          ],
          "sizemode": "area",
          "sizeref": 520,
          "symbol": "circle"
         },
         "mode": "markers",
         "name": "Exercise Physiologists",
         "orientation": "v",
         "showlegend": true,
         "type": "scatter",
         "x": [
          49170
         ],
         "xaxis": "x",
         "y": [
          0.875
         ],
         "yaxis": "y"
        },
        {
         "hovertemplate": "Title of occupation=Therapists, All Other<br>median_wage=%{marker.size}<br>percentage_bachelors_degree_or_higher=%{y}<extra></extra>",
         "legendgroup": "Therapists, All Other",
         "marker": {
          "color": "#FB0D0D",
          "size": [
           52650
          ],
          "sizemode": "area",
          "sizeref": 520,
          "symbol": "circle"
         },
         "mode": "markers",
         "name": "Therapists, All Other",
         "orientation": "v",
         "showlegend": true,
         "type": "scatter",
         "x": [
          52650
         ],
         "xaxis": "x",
         "y": [
          0.875
         ],
         "yaxis": "y"
        },
        {
         "hovertemplate": "Title of occupation=Veterinarians<br>median_wage=%{marker.size}<br>percentage_bachelors_degree_or_higher=%{y}<extra></extra>",
         "legendgroup": "Veterinarians",
         "marker": {
          "color": "#DA16FF",
          "size": [
           95460
          ],
          "sizemode": "area",
          "sizeref": 520,
          "symbol": "circle"
         },
         "mode": "markers",
         "name": "Veterinarians",
         "orientation": "v",
         "showlegend": true,
         "type": "scatter",
         "x": [
          95460
         ],
         "xaxis": "x",
         "y": [
          1
         ],
         "yaxis": "y"
        },
        {
         "hovertemplate": "Title of occupation=Nurse Anesthetists<br>median_wage=%{marker.size}<br>percentage_bachelors_degree_or_higher=%{y}<extra></extra>",
         "legendgroup": "Nurse Anesthetists",
         "marker": {
          "color": "#222A2A",
          "size": [
           174790
          ],
          "sizemode": "area",
          "sizeref": 520,
          "symbol": "circle"
         },
         "mode": "markers",
         "name": "Nurse Anesthetists",
         "orientation": "v",
         "showlegend": true,
         "type": "scatter",
         "x": [
          174790
         ],
         "xaxis": "x",
         "y": [
          0.971
         ],
         "yaxis": "y"
        },
        {
         "hovertemplate": "Title of occupation=Nurse Midwives<br>median_wage=%{marker.size}<br>percentage_bachelors_degree_or_higher=%{y}<extra></extra>",
         "legendgroup": "Nurse Midwives",
         "marker": {
          "color": "#B68100",
          "size": [
           105030
          ],
          "sizemode": "area",
          "sizeref": 520,
          "symbol": "circle"
         },
         "mode": "markers",
         "name": "Nurse Midwives",
         "orientation": "v",
         "showlegend": true,
         "type": "scatter",
         "x": [
          105030
         ],
         "xaxis": "x",
         "y": [
          0.986
         ],
         "yaxis": "y"
        },
        {
         "hovertemplate": "Title of occupation=Nurse Practitioners<br>median_wage=%{marker.size}<br>percentage_bachelors_degree_or_higher=%{y}<extra></extra>",
         "legendgroup": "Nurse Practitioners",
         "marker": {
          "color": "#750D86",
          "size": [
           109820
          ],
          "sizemode": "area",
          "sizeref": 520,
          "symbol": "circle"
         },
         "mode": "markers",
         "name": "Nurse Practitioners",
         "orientation": "v",
         "showlegend": true,
         "type": "scatter",
         "x": [
          109820
         ],
         "xaxis": "x",
         "y": [
          0.986
         ],
         "yaxis": "y"
        },
        {
         "hovertemplate": "Title of occupation=Audiologists<br>median_wage=%{marker.size}<br>percentage_bachelors_degree_or_higher=%{y}<extra></extra>",
         "legendgroup": "Audiologists",
         "marker": {
          "color": "#EB663B",
          "size": [
           77600
          ],
          "sizemode": "area",
          "sizeref": 520,
          "symbol": "circle"
         },
         "mode": "markers",
         "name": "Audiologists",
         "orientation": "v",
         "showlegend": true,
         "type": "scatter",
         "x": [
          77600
         ],
         "xaxis": "x",
         "y": [
          0.9840000000000001
         ],
         "yaxis": "y"
        },
        {
         "hovertemplate": "Title of occupation=Anesthesiologists<br>median_wage=%{marker.size}<br>percentage_bachelors_degree_or_higher=%{y}<extra></extra>",
         "legendgroup": "Anesthesiologists",
         "marker": {
          "color": "#511CFB",
          "size": [
           208000
          ],
          "sizemode": "area",
          "sizeref": 520,
          "symbol": "circle"
         },
         "mode": "markers",
         "name": "Anesthesiologists",
         "orientation": "v",
         "showlegend": true,
         "type": "scatter",
         "x": [
          208000
         ],
         "xaxis": "x",
         "y": [
          1
         ],
         "yaxis": "y"
        },
        {
         "hovertemplate": "Title of occupation=Family Medicine Physicians<br>median_wage=%{marker.size}<br>percentage_bachelors_degree_or_higher=%{y}<extra></extra>",
         "legendgroup": "Family Medicine Physicians",
         "marker": {
          "color": "#00A08B",
          "size": [
           205590
          ],
          "sizemode": "area",
          "sizeref": 520,
          "symbol": "circle"
         },
         "mode": "markers",
         "name": "Family Medicine Physicians",
         "orientation": "v",
         "showlegend": true,
         "type": "scatter",
         "x": [
          205590
         ],
         "xaxis": "x",
         "y": [
          1
         ],
         "yaxis": "y"
        },
        {
         "hovertemplate": "Title of occupation=General Internal Medicine Physicians<br>median_wage=%{marker.size}<br>percentage_bachelors_degree_or_higher=%{y}<extra></extra>",
         "legendgroup": "General Internal Medicine Physicians",
         "marker": {
          "color": "#FB00D1",
          "size": [
           201590
          ],
          "sizemode": "area",
          "sizeref": 520,
          "symbol": "circle"
         },
         "mode": "markers",
         "name": "General Internal Medicine Physicians",
         "orientation": "v",
         "showlegend": true,
         "type": "scatter",
         "x": [
          201590
         ],
         "xaxis": "x",
         "y": [
          1
         ],
         "yaxis": "y"
        },
        {
         "hovertemplate": "Title of occupation=Obstetricians and Gynecologists<br>median_wage=%{marker.size}<br>percentage_bachelors_degree_or_higher=%{y}<extra></extra>",
         "legendgroup": "Obstetricians and Gynecologists",
         "marker": {
          "color": "#FC0080",
          "size": [
           208000
          ],
          "sizemode": "area",
          "sizeref": 520,
          "symbol": "circle"
         },
         "mode": "markers",
         "name": "Obstetricians and Gynecologists",
         "orientation": "v",
         "showlegend": true,
         "type": "scatter",
         "x": [
          208000
         ],
         "xaxis": "x",
         "y": [
          1
         ],
         "yaxis": "y"
        },
        {
         "hovertemplate": "Title of occupation=Pediatricians, General<br>median_wage=%{marker.size}<br>percentage_bachelors_degree_or_higher=%{y}<extra></extra>",
         "legendgroup": "Pediatricians, General",
         "marker": {
          "color": "#B2828D",
          "size": [
           175310
          ],
          "sizemode": "area",
          "sizeref": 520,
          "symbol": "circle"
         },
         "mode": "markers",
         "name": "Pediatricians, General",
         "orientation": "v",
         "showlegend": true,
         "type": "scatter",
         "x": [
          175310
         ],
         "xaxis": "x",
         "y": [
          1
         ],
         "yaxis": "y"
        },
        {
         "hovertemplate": "Title of occupation=Psychiatrists<br>median_wage=%{marker.size}<br>percentage_bachelors_degree_or_higher=%{y}<extra></extra>",
         "legendgroup": "Psychiatrists",
         "marker": {
          "color": "#6C7C32",
          "size": [
           208000
          ],
          "sizemode": "area",
          "sizeref": 520,
          "symbol": "circle"
         },
         "mode": "markers",
         "name": "Psychiatrists",
         "orientation": "v",
         "showlegend": true,
         "type": "scatter",
         "x": [
          208000
         ],
         "xaxis": "x",
         "y": [
          1
         ],
         "yaxis": "y"
        },
        {
         "hovertemplate": "Title of occupation=Physicians, All Other; and Ophthalmologists, Except Pediatric<br>median_wage=%{marker.size}<br>percentage_bachelors_degree_or_higher=%{y}<extra></extra>",
         "legendgroup": "Physicians, All Other; and Ophthalmologists, Except Pediatric",
         "marker": {
          "color": "#778AAE",
          "size": [
           206500
          ],
          "sizemode": "area",
          "sizeref": 520,
          "symbol": "circle"
         },
         "mode": "markers",
         "name": "Physicians, All Other; and Ophthalmologists, Except Pediatric",
         "orientation": "v",
         "showlegend": true,
         "type": "scatter",
         "x": [
          206500
         ],
         "xaxis": "x",
         "y": [
          1
         ],
         "yaxis": "y"
        },
        {
         "hovertemplate": "Title of occupation=Surgeons, Except Ophthalmologists<br>median_wage=%{marker.size}<br>percentage_bachelors_degree_or_higher=%{y}<extra></extra>",
         "legendgroup": "Surgeons, Except Ophthalmologists",
         "marker": {
          "color": "#862A16",
          "size": [
           208000
          ],
          "sizemode": "area",
          "sizeref": 520,
          "symbol": "circle"
         },
         "mode": "markers",
         "name": "Surgeons, Except Ophthalmologists",
         "orientation": "v",
         "showlegend": true,
         "type": "scatter",
         "x": [
          208000
         ],
         "xaxis": "x",
         "y": [
          1
         ],
         "yaxis": "y"
        },
        {
         "hovertemplate": "Title of occupation=Acupuncturists and Healthcare Diagnosing or Treating Practitioners, All Other<br>median_wage=%{marker.size}<br>percentage_bachelors_degree_or_higher=%{y}<extra></extra>",
         "legendgroup": "Acupuncturists and Healthcare Diagnosing or Treating Practitioners, All Other",
         "marker": {
          "color": "#A777F1",
          "size": [
           75640
          ],
          "sizemode": "area",
          "sizeref": 520,
          "symbol": "circle"
         },
         "mode": "markers",
         "name": "Acupuncturists and Healthcare Diagnosing or Treating Practitioners, All Other",
         "orientation": "v",
         "showlegend": true,
         "type": "scatter",
         "x": [
          75640
         ],
         "xaxis": "x",
         "y": [
          0.8290000000000001
         ],
         "yaxis": "y"
        }
       ],
       "layout": {
        "legend": {
         "itemsizing": "constant",
         "title": {
          "text": "Title of occupation"
         },
         "tracegroupgap": 0
        },
        "margin": {
         "t": 60
        },
        "template": {
         "data": {
          "bar": [
           {
            "error_x": {
             "color": "#2a3f5f"
            },
            "error_y": {
             "color": "#2a3f5f"
            },
            "marker": {
             "line": {
              "color": "#E5ECF6",
              "width": 0.5
             }
            },
            "type": "bar"
           }
          ],
          "barpolar": [
           {
            "marker": {
             "line": {
              "color": "#E5ECF6",
              "width": 0.5
             }
            },
            "type": "barpolar"
           }
          ],
          "carpet": [
           {
            "aaxis": {
             "endlinecolor": "#2a3f5f",
             "gridcolor": "white",
             "linecolor": "white",
             "minorgridcolor": "white",
             "startlinecolor": "#2a3f5f"
            },
            "baxis": {
             "endlinecolor": "#2a3f5f",
             "gridcolor": "white",
             "linecolor": "white",
             "minorgridcolor": "white",
             "startlinecolor": "#2a3f5f"
            },
            "type": "carpet"
           }
          ],
          "choropleth": [
           {
            "colorbar": {
             "outlinewidth": 0,
             "ticks": ""
            },
            "type": "choropleth"
           }
          ],
          "contour": [
           {
            "colorbar": {
             "outlinewidth": 0,
             "ticks": ""
            },
            "colorscale": [
             [
              0,
              "#0d0887"
             ],
             [
              0.1111111111111111,
              "#46039f"
             ],
             [
              0.2222222222222222,
              "#7201a8"
             ],
             [
              0.3333333333333333,
              "#9c179e"
             ],
             [
              0.4444444444444444,
              "#bd3786"
             ],
             [
              0.5555555555555556,
              "#d8576b"
             ],
             [
              0.6666666666666666,
              "#ed7953"
             ],
             [
              0.7777777777777778,
              "#fb9f3a"
             ],
             [
              0.8888888888888888,
              "#fdca26"
             ],
             [
              1,
              "#f0f921"
             ]
            ],
            "type": "contour"
           }
          ],
          "contourcarpet": [
           {
            "colorbar": {
             "outlinewidth": 0,
             "ticks": ""
            },
            "type": "contourcarpet"
           }
          ],
          "heatmap": [
           {
            "colorbar": {
             "outlinewidth": 0,
             "ticks": ""
            },
            "colorscale": [
             [
              0,
              "#0d0887"
             ],
             [
              0.1111111111111111,
              "#46039f"
             ],
             [
              0.2222222222222222,
              "#7201a8"
             ],
             [
              0.3333333333333333,
              "#9c179e"
             ],
             [
              0.4444444444444444,
              "#bd3786"
             ],
             [
              0.5555555555555556,
              "#d8576b"
             ],
             [
              0.6666666666666666,
              "#ed7953"
             ],
             [
              0.7777777777777778,
              "#fb9f3a"
             ],
             [
              0.8888888888888888,
              "#fdca26"
             ],
             [
              1,
              "#f0f921"
             ]
            ],
            "type": "heatmap"
           }
          ],
          "heatmapgl": [
           {
            "colorbar": {
             "outlinewidth": 0,
             "ticks": ""
            },
            "colorscale": [
             [
              0,
              "#0d0887"
             ],
             [
              0.1111111111111111,
              "#46039f"
             ],
             [
              0.2222222222222222,
              "#7201a8"
             ],
             [
              0.3333333333333333,
              "#9c179e"
             ],
             [
              0.4444444444444444,
              "#bd3786"
             ],
             [
              0.5555555555555556,
              "#d8576b"
             ],
             [
              0.6666666666666666,
              "#ed7953"
             ],
             [
              0.7777777777777778,
              "#fb9f3a"
             ],
             [
              0.8888888888888888,
              "#fdca26"
             ],
             [
              1,
              "#f0f921"
             ]
            ],
            "type": "heatmapgl"
           }
          ],
          "histogram": [
           {
            "marker": {
             "colorbar": {
              "outlinewidth": 0,
              "ticks": ""
             }
            },
            "type": "histogram"
           }
          ],
          "histogram2d": [
           {
            "colorbar": {
             "outlinewidth": 0,
             "ticks": ""
            },
            "colorscale": [
             [
              0,
              "#0d0887"
             ],
             [
              0.1111111111111111,
              "#46039f"
             ],
             [
              0.2222222222222222,
              "#7201a8"
             ],
             [
              0.3333333333333333,
              "#9c179e"
             ],
             [
              0.4444444444444444,
              "#bd3786"
             ],
             [
              0.5555555555555556,
              "#d8576b"
             ],
             [
              0.6666666666666666,
              "#ed7953"
             ],
             [
              0.7777777777777778,
              "#fb9f3a"
             ],
             [
              0.8888888888888888,
              "#fdca26"
             ],
             [
              1,
              "#f0f921"
             ]
            ],
            "type": "histogram2d"
           }
          ],
          "histogram2dcontour": [
           {
            "colorbar": {
             "outlinewidth": 0,
             "ticks": ""
            },
            "colorscale": [
             [
              0,
              "#0d0887"
             ],
             [
              0.1111111111111111,
              "#46039f"
             ],
             [
              0.2222222222222222,
              "#7201a8"
             ],
             [
              0.3333333333333333,
              "#9c179e"
             ],
             [
              0.4444444444444444,
              "#bd3786"
             ],
             [
              0.5555555555555556,
              "#d8576b"
             ],
             [
              0.6666666666666666,
              "#ed7953"
             ],
             [
              0.7777777777777778,
              "#fb9f3a"
             ],
             [
              0.8888888888888888,
              "#fdca26"
             ],
             [
              1,
              "#f0f921"
             ]
            ],
            "type": "histogram2dcontour"
           }
          ],
          "mesh3d": [
           {
            "colorbar": {
             "outlinewidth": 0,
             "ticks": ""
            },
            "type": "mesh3d"
           }
          ],
          "parcoords": [
           {
            "line": {
             "colorbar": {
              "outlinewidth": 0,
              "ticks": ""
             }
            },
            "type": "parcoords"
           }
          ],
          "pie": [
           {
            "automargin": true,
            "type": "pie"
           }
          ],
          "scatter": [
           {
            "marker": {
             "colorbar": {
              "outlinewidth": 0,
              "ticks": ""
             }
            },
            "type": "scatter"
           }
          ],
          "scatter3d": [
           {
            "line": {
             "colorbar": {
              "outlinewidth": 0,
              "ticks": ""
             }
            },
            "marker": {
             "colorbar": {
              "outlinewidth": 0,
              "ticks": ""
             }
            },
            "type": "scatter3d"
           }
          ],
          "scattercarpet": [
           {
            "marker": {
             "colorbar": {
              "outlinewidth": 0,
              "ticks": ""
             }
            },
            "type": "scattercarpet"
           }
          ],
          "scattergeo": [
           {
            "marker": {
             "colorbar": {
              "outlinewidth": 0,
              "ticks": ""
             }
            },
            "type": "scattergeo"
           }
          ],
          "scattergl": [
           {
            "marker": {
             "colorbar": {
              "outlinewidth": 0,
              "ticks": ""
             }
            },
            "type": "scattergl"
           }
          ],
          "scattermapbox": [
           {
            "marker": {
             "colorbar": {
              "outlinewidth": 0,
              "ticks": ""
             }
            },
            "type": "scattermapbox"
           }
          ],
          "scatterpolar": [
           {
            "marker": {
             "colorbar": {
              "outlinewidth": 0,
              "ticks": ""
             }
            },
            "type": "scatterpolar"
           }
          ],
          "scatterpolargl": [
           {
            "marker": {
             "colorbar": {
              "outlinewidth": 0,
              "ticks": ""
             }
            },
            "type": "scatterpolargl"
           }
          ],
          "scatterternary": [
           {
            "marker": {
             "colorbar": {
              "outlinewidth": 0,
              "ticks": ""
             }
            },
            "type": "scatterternary"
           }
          ],
          "surface": [
           {
            "colorbar": {
             "outlinewidth": 0,
             "ticks": ""
            },
            "colorscale": [
             [
              0,
              "#0d0887"
             ],
             [
              0.1111111111111111,
              "#46039f"
             ],
             [
              0.2222222222222222,
              "#7201a8"
             ],
             [
              0.3333333333333333,
              "#9c179e"
             ],
             [
              0.4444444444444444,
              "#bd3786"
             ],
             [
              0.5555555555555556,
              "#d8576b"
             ],
             [
              0.6666666666666666,
              "#ed7953"
             ],
             [
              0.7777777777777778,
              "#fb9f3a"
             ],
             [
              0.8888888888888888,
              "#fdca26"
             ],
             [
              1,
              "#f0f921"
             ]
            ],
            "type": "surface"
           }
          ],
          "table": [
           {
            "cells": {
             "fill": {
              "color": "#EBF0F8"
             },
             "line": {
              "color": "white"
             }
            },
            "header": {
             "fill": {
              "color": "#C8D4E3"
             },
             "line": {
              "color": "white"
             }
            },
            "type": "table"
           }
          ]
         },
         "layout": {
          "annotationdefaults": {
           "arrowcolor": "#2a3f5f",
           "arrowhead": 0,
           "arrowwidth": 1
          },
          "autotypenumbers": "strict",
          "coloraxis": {
           "colorbar": {
            "outlinewidth": 0,
            "ticks": ""
           }
          },
          "colorscale": {
           "diverging": [
            [
             0,
             "#8e0152"
            ],
            [
             0.1,
             "#c51b7d"
            ],
            [
             0.2,
             "#de77ae"
            ],
            [
             0.3,
             "#f1b6da"
            ],
            [
             0.4,
             "#fde0ef"
            ],
            [
             0.5,
             "#f7f7f7"
            ],
            [
             0.6,
             "#e6f5d0"
            ],
            [
             0.7,
             "#b8e186"
            ],
            [
             0.8,
             "#7fbc41"
            ],
            [
             0.9,
             "#4d9221"
            ],
            [
             1,
             "#276419"
            ]
           ],
           "sequential": [
            [
             0,
             "#0d0887"
            ],
            [
             0.1111111111111111,
             "#46039f"
            ],
            [
             0.2222222222222222,
             "#7201a8"
            ],
            [
             0.3333333333333333,
             "#9c179e"
            ],
            [
             0.4444444444444444,
             "#bd3786"
            ],
            [
             0.5555555555555556,
             "#d8576b"
            ],
            [
             0.6666666666666666,
             "#ed7953"
            ],
            [
             0.7777777777777778,
             "#fb9f3a"
            ],
            [
             0.8888888888888888,
             "#fdca26"
            ],
            [
             1,
             "#f0f921"
            ]
           ],
           "sequentialminus": [
            [
             0,
             "#0d0887"
            ],
            [
             0.1111111111111111,
             "#46039f"
            ],
            [
             0.2222222222222222,
             "#7201a8"
            ],
            [
             0.3333333333333333,
             "#9c179e"
            ],
            [
             0.4444444444444444,
             "#bd3786"
            ],
            [
             0.5555555555555556,
             "#d8576b"
            ],
            [
             0.6666666666666666,
             "#ed7953"
            ],
            [
             0.7777777777777778,
             "#fb9f3a"
            ],
            [
             0.8888888888888888,
             "#fdca26"
            ],
            [
             1,
             "#f0f921"
            ]
           ]
          },
          "colorway": [
           "#636efa",
           "#EF553B",
           "#00cc96",
           "#ab63fa",
           "#FFA15A",
           "#19d3f3",
           "#FF6692",
           "#B6E880",
           "#FF97FF",
           "#FECB52"
          ],
          "font": {
           "color": "#2a3f5f"
          },
          "geo": {
           "bgcolor": "white",
           "lakecolor": "white",
           "landcolor": "#E5ECF6",
           "showlakes": true,
           "showland": true,
           "subunitcolor": "white"
          },
          "hoverlabel": {
           "align": "left"
          },
          "hovermode": "closest",
          "mapbox": {
           "style": "light"
          },
          "paper_bgcolor": "white",
          "plot_bgcolor": "#E5ECF6",
          "polar": {
           "angularaxis": {
            "gridcolor": "white",
            "linecolor": "white",
            "ticks": ""
           },
           "bgcolor": "#E5ECF6",
           "radialaxis": {
            "gridcolor": "white",
            "linecolor": "white",
            "ticks": ""
           }
          },
          "scene": {
           "xaxis": {
            "backgroundcolor": "#E5ECF6",
            "gridcolor": "white",
            "gridwidth": 2,
            "linecolor": "white",
            "showbackground": true,
            "ticks": "",
            "zerolinecolor": "white"
           },
           "yaxis": {
            "backgroundcolor": "#E5ECF6",
            "gridcolor": "white",
            "gridwidth": 2,
            "linecolor": "white",
            "showbackground": true,
            "ticks": "",
            "zerolinecolor": "white"
           },
           "zaxis": {
            "backgroundcolor": "#E5ECF6",
            "gridcolor": "white",
            "gridwidth": 2,
            "linecolor": "white",
            "showbackground": true,
            "ticks": "",
            "zerolinecolor": "white"
           }
          },
          "shapedefaults": {
           "line": {
            "color": "#2a3f5f"
           }
          },
          "ternary": {
           "aaxis": {
            "gridcolor": "white",
            "linecolor": "white",
            "ticks": ""
           },
           "baxis": {
            "gridcolor": "white",
            "linecolor": "white",
            "ticks": ""
           },
           "bgcolor": "#E5ECF6",
           "caxis": {
            "gridcolor": "white",
            "linecolor": "white",
            "ticks": ""
           }
          },
          "title": {
           "x": 0.05
          },
          "xaxis": {
           "automargin": true,
           "gridcolor": "white",
           "linecolor": "white",
           "ticks": "",
           "title": {
            "standoff": 15
           },
           "zerolinecolor": "white",
           "zerolinewidth": 2
          },
          "yaxis": {
           "automargin": true,
           "gridcolor": "white",
           "linecolor": "white",
           "ticks": "",
           "title": {
            "standoff": 15
           },
           "zerolinecolor": "white",
           "zerolinewidth": 2
          }
         }
        },
        "title": {
         "font": {
          "size": 28
         },
         "text": "Jobs With 40K Salary (or higher), Bachelors"
        },
        "xaxis": {
         "anchor": "y",
         "domain": [
          0,
          1
         ],
         "title": {
          "text": "Median Wage($)"
         }
        },
        "yaxis": {
         "anchor": "x",
         "categoryorder": "category ascending",
         "domain": [
          0,
          1
         ],
         "title": {
          "text": "Bachelors (%)"
         }
        }
       }
      },
      "text/html": [
       "<div>                            <div id=\"132651da-dc93-487d-8492-56695308da89\" class=\"plotly-graph-div\" style=\"height:525px; width:100%;\"></div>            <script type=\"text/javascript\">                require([\"plotly\"], function(Plotly) {                    window.PLOTLYENV=window.PLOTLYENV || {};                                    if (document.getElementById(\"132651da-dc93-487d-8492-56695308da89\")) {                    Plotly.newPlot(                        \"132651da-dc93-487d-8492-56695308da89\",                        [{\"hovertemplate\": \"Title of occupation=Advertising and Promotions Managers<br>median_wage=%{marker.size}<br>percentage_bachelors_degree_or_higher=%{y}<extra></extra>\", \"legendgroup\": \"Advertising and Promotions Managers\", \"marker\": {\"color\": \"#2E91E5\", \"size\": [125510.0], \"sizemode\": \"area\", \"sizeref\": 520.0, \"symbol\": \"circle\"}, \"mode\": \"markers\", \"name\": \"Advertising and Promotions Managers\", \"orientation\": \"v\", \"showlegend\": true, \"type\": \"scatter\", \"x\": [125510.0], \"xaxis\": \"x\", \"y\": [0.8029999999999999], \"yaxis\": \"y\"}, {\"hovertemplate\": \"Title of occupation=Marketing Managers<br>median_wage=%{marker.size}<br>percentage_bachelors_degree_or_higher=%{y}<extra></extra>\", \"legendgroup\": \"Marketing Managers\", \"marker\": {\"color\": \"#E15F99\", \"size\": [136850.0], \"sizemode\": \"area\", \"sizeref\": 520.0, \"symbol\": \"circle\"}, \"mode\": \"markers\", \"name\": \"Marketing Managers\", \"orientation\": \"v\", \"showlegend\": true, \"type\": \"scatter\", \"x\": [136850.0], \"xaxis\": \"x\", \"y\": [0.815], \"yaxis\": \"y\"}, {\"hovertemplate\": \"Title of occupation=Education and Childcare Administrators, Preschool and Daycare<br>median_wage=%{marker.size}<br>percentage_bachelors_degree_or_higher=%{y}<extra></extra>\", \"legendgroup\": \"Education and Childcare Administrators, Preschool and Daycare\", \"marker\": {\"color\": \"#1CA71C\", \"size\": [48210.0], \"sizemode\": \"area\", \"sizeref\": 520.0, \"symbol\": \"circle\"}, \"mode\": \"markers\", \"name\": \"Education and Childcare Administrators, Preschool and Daycare\", \"orientation\": \"v\", \"showlegend\": true, \"type\": \"scatter\", \"x\": [48210.0], \"xaxis\": \"x\", \"y\": [0.835], \"yaxis\": \"y\"}, {\"hovertemplate\": \"Title of occupation=Education Administrators, Kindergarten through Secondary<br>median_wage=%{marker.size}<br>percentage_bachelors_degree_or_higher=%{y}<extra></extra>\", \"legendgroup\": \"Education Administrators, Kindergarten through Secondary\", \"marker\": {\"color\": \"#FB0D0D\", \"size\": [96400.0], \"sizemode\": \"area\", \"sizeref\": 520.0, \"symbol\": \"circle\"}, \"mode\": \"markers\", \"name\": \"Education Administrators, Kindergarten through Secondary\", \"orientation\": \"v\", \"showlegend\": true, \"type\": \"scatter\", \"x\": [96400.0], \"xaxis\": \"x\", \"y\": [0.835], \"yaxis\": \"y\"}, {\"hovertemplate\": \"Title of occupation=Education Administrators, Postsecondary<br>median_wage=%{marker.size}<br>percentage_bachelors_degree_or_higher=%{y}<extra></extra>\", \"legendgroup\": \"Education Administrators, Postsecondary\", \"marker\": {\"color\": \"#DA16FF\", \"size\": [95410.0], \"sizemode\": \"area\", \"sizeref\": 520.0, \"symbol\": \"circle\"}, \"mode\": \"markers\", \"name\": \"Education Administrators, Postsecondary\", \"orientation\": \"v\", \"showlegend\": true, \"type\": \"scatter\", \"x\": [95410.0], \"xaxis\": \"x\", \"y\": [0.835], \"yaxis\": \"y\"}, {\"hovertemplate\": \"Title of occupation=Education Administrators, All Other<br>median_wage=%{marker.size}<br>percentage_bachelors_degree_or_higher=%{y}<extra></extra>\", \"legendgroup\": \"Education Administrators, All Other\", \"marker\": {\"color\": \"#222A2A\", \"size\": [85450.0], \"sizemode\": \"area\", \"sizeref\": 520.0, \"symbol\": \"circle\"}, \"mode\": \"markers\", \"name\": \"Education Administrators, All Other\", \"orientation\": \"v\", \"showlegend\": true, \"type\": \"scatter\", \"x\": [85450.0], \"xaxis\": \"x\", \"y\": [0.835], \"yaxis\": \"y\"}, {\"hovertemplate\": \"Title of occupation=Architectural and Engineering Managers<br>median_wage=%{marker.size}<br>percentage_bachelors_degree_or_higher=%{y}<extra></extra>\", \"legendgroup\": \"Architectural and Engineering Managers\", \"marker\": {\"color\": \"#B68100\", \"size\": [144830.0], \"sizemode\": \"area\", \"sizeref\": 520.0, \"symbol\": \"circle\"}, \"mode\": \"markers\", \"name\": \"Architectural and Engineering Managers\", \"orientation\": \"v\", \"showlegend\": true, \"type\": \"scatter\", \"x\": [144830.0], \"xaxis\": \"x\", \"y\": [0.8340000000000001], \"yaxis\": \"y\"}, {\"hovertemplate\": \"Title of occupation=Natural Sciences Managers<br>median_wage=%{marker.size}<br>percentage_bachelors_degree_or_higher=%{y}<extra></extra>\", \"legendgroup\": \"Natural Sciences Managers\", \"marker\": {\"color\": \"#750D86\", \"size\": [129100.0], \"sizemode\": \"area\", \"sizeref\": 520.0, \"symbol\": \"circle\"}, \"mode\": \"markers\", \"name\": \"Natural Sciences Managers\", \"orientation\": \"v\", \"showlegend\": true, \"type\": \"scatter\", \"x\": [129100.0], \"xaxis\": \"x\", \"y\": [0.888], \"yaxis\": \"y\"}, {\"hovertemplate\": \"Title of occupation=Fundraisers<br>median_wage=%{marker.size}<br>percentage_bachelors_degree_or_higher=%{y}<extra></extra>\", \"legendgroup\": \"Fundraisers\", \"marker\": {\"color\": \"#EB663B\", \"size\": [57970.0], \"sizemode\": \"area\", \"sizeref\": 520.0, \"symbol\": \"circle\"}, \"mode\": \"markers\", \"name\": \"Fundraisers\", \"orientation\": \"v\", \"showlegend\": true, \"type\": \"scatter\", \"x\": [57970.0], \"xaxis\": \"x\", \"y\": [0.889], \"yaxis\": \"y\"}, {\"hovertemplate\": \"Title of occupation=Accountants and Auditors<br>median_wage=%{marker.size}<br>percentage_bachelors_degree_or_higher=%{y}<extra></extra>\", \"legendgroup\": \"Accountants and Auditors\", \"marker\": {\"color\": \"#511CFB\", \"size\": [71550.0], \"sizemode\": \"area\", \"sizeref\": 520.0, \"symbol\": \"circle\"}, \"mode\": \"markers\", \"name\": \"Accountants and Auditors\", \"orientation\": \"v\", \"showlegend\": true, \"type\": \"scatter\", \"x\": [71550.0], \"xaxis\": \"x\", \"y\": [0.858], \"yaxis\": \"y\"}, {\"hovertemplate\": \"Title of occupation=Personal Financial Advisors<br>median_wage=%{marker.size}<br>percentage_bachelors_degree_or_higher=%{y}<extra></extra>\", \"legendgroup\": \"Personal Financial Advisors\", \"marker\": {\"color\": \"#00A08B\", \"size\": [87850.0], \"sizemode\": \"area\", \"sizeref\": 520.0, \"symbol\": \"circle\"}, \"mode\": \"markers\", \"name\": \"Personal Financial Advisors\", \"orientation\": \"v\", \"showlegend\": true, \"type\": \"scatter\", \"x\": [87850.0], \"xaxis\": \"x\", \"y\": [0.828], \"yaxis\": \"y\"}, {\"hovertemplate\": \"Title of occupation=Financial Examiners<br>median_wage=%{marker.size}<br>percentage_bachelors_degree_or_higher=%{y}<extra></extra>\", \"legendgroup\": \"Financial Examiners\", \"marker\": {\"color\": \"#FB00D1\", \"size\": [81090.0], \"sizemode\": \"area\", \"sizeref\": 520.0, \"symbol\": \"circle\"}, \"mode\": \"markers\", \"name\": \"Financial Examiners\", \"orientation\": \"v\", \"showlegend\": true, \"type\": \"scatter\", \"x\": [81090.0], \"xaxis\": \"x\", \"y\": [0.8190000000000001], \"yaxis\": \"y\"}, {\"hovertemplate\": \"Title of occupation=Financial and Investment Analysts, Financial Risk Specialists, and Financial Specialists, All Other<br>median_wage=%{marker.size}<br>percentage_bachelors_degree_or_higher=%{y}<extra></extra>\", \"legendgroup\": \"Financial and Investment Analysts, Financial Risk Specialists, and Financial Specialists, All Other\", \"marker\": {\"color\": \"#FC0080\", \"size\": [81590.0], \"sizemode\": \"area\", \"sizeref\": 520.0, \"symbol\": \"circle\"}, \"mode\": \"markers\", \"name\": \"Financial and Investment Analysts, Financial Risk Specialists, and Financial Specialists, All Other\", \"orientation\": \"v\", \"showlegend\": true, \"type\": \"scatter\", \"x\": [81590.0], \"xaxis\": \"x\", \"y\": [0.8340000000000001], \"yaxis\": \"y\"}, {\"hovertemplate\": \"Title of occupation=Computer and Information Research Scientists<br>median_wage=%{marker.size}<br>percentage_bachelors_degree_or_higher=%{y}<extra></extra>\", \"legendgroup\": \"Computer and Information Research Scientists\", \"marker\": {\"color\": \"#B2828D\", \"size\": [122840.0], \"sizemode\": \"area\", \"sizeref\": 520.0, \"symbol\": \"circle\"}, \"mode\": \"markers\", \"name\": \"Computer and Information Research Scientists\", \"orientation\": \"v\", \"showlegend\": true, \"type\": \"scatter\", \"x\": [122840.0], \"xaxis\": \"x\", \"y\": [0.9440000000000001], \"yaxis\": \"y\"}, {\"hovertemplate\": \"Title of occupation=Software Developers and Software Quality Assurance Analysts and Testers<br>median_wage=%{marker.size}<br>percentage_bachelors_degree_or_higher=%{y}<extra></extra>\", \"legendgroup\": \"Software Developers and Software Quality Assurance Analysts and Testers\", \"marker\": {\"color\": \"#6C7C32\", \"size\": [107510.0], \"sizemode\": \"area\", \"sizeref\": 520.0, \"symbol\": \"circle\"}, \"mode\": \"markers\", \"name\": \"Software Developers and Software Quality Assurance Analysts and Testers\", \"orientation\": \"v\", \"showlegend\": true, \"type\": \"scatter\", \"x\": [107510.0], \"xaxis\": \"x\", \"y\": [0.8590000000000001], \"yaxis\": \"y\"}, {\"hovertemplate\": \"Title of occupation=Actuaries<br>median_wage=%{marker.size}<br>percentage_bachelors_degree_or_higher=%{y}<extra></extra>\", \"legendgroup\": \"Actuaries\", \"marker\": {\"color\": \"#778AAE\", \"size\": [108350.0], \"sizemode\": \"area\", \"sizeref\": 520.0, \"symbol\": \"circle\"}, \"mode\": \"markers\", \"name\": \"Actuaries\", \"orientation\": \"v\", \"showlegend\": true, \"type\": \"scatter\", \"x\": [108350.0], \"xaxis\": \"x\", \"y\": [0.986], \"yaxis\": \"y\"}, {\"hovertemplate\": \"Title of occupation=Mathematicians<br>median_wage=%{marker.size}<br>percentage_bachelors_degree_or_higher=%{y}<extra></extra>\", \"legendgroup\": \"Mathematicians\", \"marker\": {\"color\": \"#862A16\", \"size\": [105030.0], \"sizemode\": \"area\", \"sizeref\": 520.0, \"symbol\": \"circle\"}, \"mode\": \"markers\", \"name\": \"Mathematicians\", \"orientation\": \"v\", \"showlegend\": true, \"type\": \"scatter\", \"x\": [105030.0], \"xaxis\": \"x\", \"y\": [0.845], \"yaxis\": \"y\"}, {\"hovertemplate\": \"Title of occupation=Statisticians<br>median_wage=%{marker.size}<br>percentage_bachelors_degree_or_higher=%{y}<extra></extra>\", \"legendgroup\": \"Statisticians\", \"marker\": {\"color\": \"#A777F1\", \"size\": [91160.0], \"sizemode\": \"area\", \"sizeref\": 520.0, \"symbol\": \"circle\"}, \"mode\": \"markers\", \"name\": \"Statisticians\", \"orientation\": \"v\", \"showlegend\": true, \"type\": \"scatter\", \"x\": [91160.0], \"xaxis\": \"x\", \"y\": [0.845], \"yaxis\": \"y\"}, {\"hovertemplate\": \"Title of occupation=Data Scientists and Mathematical Science Occupations, All Other<br>median_wage=%{marker.size}<br>percentage_bachelors_degree_or_higher=%{y}<extra></extra>\", \"legendgroup\": \"Data Scientists and Mathematical Science Occupations, All Other\", \"marker\": {\"color\": \"#620042\", \"size\": [94280.0], \"sizemode\": \"area\", \"sizeref\": 520.0, \"symbol\": \"circle\"}, \"mode\": \"markers\", \"name\": \"Data Scientists and Mathematical Science Occupations, All Other\", \"orientation\": \"v\", \"showlegend\": true, \"type\": \"scatter\", \"x\": [94280.0], \"xaxis\": \"x\", \"y\": [0.845], \"yaxis\": \"y\"}, {\"hovertemplate\": \"Title of occupation=Architects, Except Landscape and Naval<br>median_wage=%{marker.size}<br>percentage_bachelors_degree_or_higher=%{y}<extra></extra>\", \"legendgroup\": \"Architects, Except Landscape and Naval\", \"marker\": {\"color\": \"#1616A7\", \"size\": [80750.0], \"sizemode\": \"area\", \"sizeref\": 520.0, \"symbol\": \"circle\"}, \"mode\": \"markers\", \"name\": \"Architects, Except Landscape and Naval\", \"orientation\": \"v\", \"showlegend\": true, \"type\": \"scatter\", \"x\": [80750.0], \"xaxis\": \"x\", \"y\": [0.919], \"yaxis\": \"y\"}, {\"hovertemplate\": \"Title of occupation=Landscape Architects<br>median_wage=%{marker.size}<br>percentage_bachelors_degree_or_higher=%{y}<extra></extra>\", \"legendgroup\": \"Landscape Architects\", \"marker\": {\"color\": \"#DA60CA\", \"size\": [69360.0], \"sizemode\": \"area\", \"sizeref\": 520.0, \"symbol\": \"circle\"}, \"mode\": \"markers\", \"name\": \"Landscape Architects\", \"orientation\": \"v\", \"showlegend\": true, \"type\": \"scatter\", \"x\": [69360.0], \"xaxis\": \"x\", \"y\": [0.8370000000000001], \"yaxis\": \"y\"}, {\"hovertemplate\": \"Title of occupation=Aerospace Engineers<br>median_wage=%{marker.size}<br>percentage_bachelors_degree_or_higher=%{y}<extra></extra>\", \"legendgroup\": \"Aerospace Engineers\", \"marker\": {\"color\": \"#6C4516\", \"size\": [116500.0], \"sizemode\": \"area\", \"sizeref\": 520.0, \"symbol\": \"circle\"}, \"mode\": \"markers\", \"name\": \"Aerospace Engineers\", \"orientation\": \"v\", \"showlegend\": true, \"type\": \"scatter\", \"x\": [116500.0], \"xaxis\": \"x\", \"y\": [0.9009999999999999], \"yaxis\": \"y\"}, {\"hovertemplate\": \"Title of occupation=Agricultural Engineers<br>median_wage=%{marker.size}<br>percentage_bachelors_degree_or_higher=%{y}<extra></extra>\", \"legendgroup\": \"Agricultural Engineers\", \"marker\": {\"color\": \"#0D2A63\", \"size\": [80720.0], \"sizemode\": \"area\", \"sizeref\": 520.0, \"symbol\": \"circle\"}, \"mode\": \"markers\", \"name\": \"Agricultural Engineers\", \"orientation\": \"v\", \"showlegend\": true, \"type\": \"scatter\", \"x\": [80720.0], \"xaxis\": \"x\", \"y\": [0.8170000000000001], \"yaxis\": \"y\"}, {\"hovertemplate\": \"Title of occupation=Bioengineers and Biomedical Engineers<br>median_wage=%{marker.size}<br>percentage_bachelors_degree_or_higher=%{y}<extra></extra>\", \"legendgroup\": \"Bioengineers and Biomedical Engineers\", \"marker\": {\"color\": \"#AF0038\", \"size\": [91410.0], \"sizemode\": \"area\", \"sizeref\": 520.0, \"symbol\": \"circle\"}, \"mode\": \"markers\", \"name\": \"Bioengineers and Biomedical Engineers\", \"orientation\": \"v\", \"showlegend\": true, \"type\": \"scatter\", \"x\": [91410.0], \"xaxis\": \"x\", \"y\": [0.8170000000000001], \"yaxis\": \"y\"}, {\"hovertemplate\": \"Title of occupation=Chemical Engineers<br>median_wage=%{marker.size}<br>percentage_bachelors_degree_or_higher=%{y}<extra></extra>\", \"legendgroup\": \"Chemical Engineers\", \"marker\": {\"color\": \"#2E91E5\", \"size\": [108770.0], \"sizemode\": \"area\", \"sizeref\": 520.0, \"symbol\": \"circle\"}, \"mode\": \"markers\", \"name\": \"Chemical Engineers\", \"orientation\": \"v\", \"showlegend\": true, \"type\": \"scatter\", \"x\": [108770.0], \"xaxis\": \"x\", \"y\": [0.888], \"yaxis\": \"y\"}, {\"hovertemplate\": \"Title of occupation=Civil Engineers<br>median_wage=%{marker.size}<br>percentage_bachelors_degree_or_higher=%{y}<extra></extra>\", \"legendgroup\": \"Civil Engineers\", \"marker\": {\"color\": \"#E15F99\", \"size\": [87060.0], \"sizemode\": \"area\", \"sizeref\": 520.0, \"symbol\": \"circle\"}, \"mode\": \"markers\", \"name\": \"Civil Engineers\", \"orientation\": \"v\", \"showlegend\": true, \"type\": \"scatter\", \"x\": [87060.0], \"xaxis\": \"x\", \"y\": [0.89], \"yaxis\": \"y\"}, {\"hovertemplate\": \"Title of occupation=Computer Hardware Engineers<br>median_wage=%{marker.size}<br>percentage_bachelors_degree_or_higher=%{y}<extra></extra>\", \"legendgroup\": \"Computer Hardware Engineers\", \"marker\": {\"color\": \"#1CA71C\", \"size\": [117220.0], \"sizemode\": \"area\", \"sizeref\": 520.0, \"symbol\": \"circle\"}, \"mode\": \"markers\", \"name\": \"Computer Hardware Engineers\", \"orientation\": \"v\", \"showlegend\": true, \"type\": \"scatter\", \"x\": [117220.0], \"xaxis\": \"x\", \"y\": [0.812], \"yaxis\": \"y\"}, {\"hovertemplate\": \"Title of occupation=Electrical Engineers<br>median_wage=%{marker.size}<br>percentage_bachelors_degree_or_higher=%{y}<extra></extra>\", \"legendgroup\": \"Electrical Engineers\", \"marker\": {\"color\": \"#FB0D0D\", \"size\": [98530.0], \"sizemode\": \"area\", \"sizeref\": 520.0, \"symbol\": \"circle\"}, \"mode\": \"markers\", \"name\": \"Electrical Engineers\", \"orientation\": \"v\", \"showlegend\": true, \"type\": \"scatter\", \"x\": [98530.0], \"xaxis\": \"x\", \"y\": [0.846], \"yaxis\": \"y\"}, {\"hovertemplate\": \"Title of occupation=Electronics Engineers, Except Computer<br>median_wage=%{marker.size}<br>percentage_bachelors_degree_or_higher=%{y}<extra></extra>\", \"legendgroup\": \"Electronics Engineers, Except Computer\", \"marker\": {\"color\": \"#DA16FF\", \"size\": [105570.0], \"sizemode\": \"area\", \"sizeref\": 520.0, \"symbol\": \"circle\"}, \"mode\": \"markers\", \"name\": \"Electronics Engineers, Except Computer\", \"orientation\": \"v\", \"showlegend\": true, \"type\": \"scatter\", \"x\": [105570.0], \"xaxis\": \"x\", \"y\": [0.846], \"yaxis\": \"y\"}, {\"hovertemplate\": \"Title of occupation=Environmental Engineers<br>median_wage=%{marker.size}<br>percentage_bachelors_degree_or_higher=%{y}<extra></extra>\", \"legendgroup\": \"Environmental Engineers\", \"marker\": {\"color\": \"#222A2A\", \"size\": [88860.0], \"sizemode\": \"area\", \"sizeref\": 520.0, \"symbol\": \"circle\"}, \"mode\": \"markers\", \"name\": \"Environmental Engineers\", \"orientation\": \"v\", \"showlegend\": true, \"type\": \"scatter\", \"x\": [88860.0], \"xaxis\": \"x\", \"y\": [0.898], \"yaxis\": \"y\"}, {\"hovertemplate\": \"Title of occupation=Mechanical Engineers<br>median_wage=%{marker.size}<br>percentage_bachelors_degree_or_higher=%{y}<extra></extra>\", \"legendgroup\": \"Mechanical Engineers\", \"marker\": {\"color\": \"#B68100\", \"size\": [88430.0], \"sizemode\": \"area\", \"sizeref\": 520.0, \"symbol\": \"circle\"}, \"mode\": \"markers\", \"name\": \"Mechanical Engineers\", \"orientation\": \"v\", \"showlegend\": true, \"type\": \"scatter\", \"x\": [88430.0], \"xaxis\": \"x\", \"y\": [0.809], \"yaxis\": \"y\"}, {\"hovertemplate\": \"Title of occupation=Mining and Geological Engineers, Including Mining Safety Engineers<br>median_wage=%{marker.size}<br>percentage_bachelors_degree_or_higher=%{y}<extra></extra>\", \"legendgroup\": \"Mining and Geological Engineers, Including Mining Safety Engineers\", \"marker\": {\"color\": \"#750D86\", \"size\": [91160.0], \"sizemode\": \"area\", \"sizeref\": 520.0, \"symbol\": \"circle\"}, \"mode\": \"markers\", \"name\": \"Mining and Geological Engineers, Including Mining Safety Engineers\", \"orientation\": \"v\", \"showlegend\": true, \"type\": \"scatter\", \"x\": [91160.0], \"xaxis\": \"x\", \"y\": [0.866], \"yaxis\": \"y\"}, {\"hovertemplate\": \"Title of occupation=Nuclear Engineers<br>median_wage=%{marker.size}<br>percentage_bachelors_degree_or_higher=%{y}<extra></extra>\", \"legendgroup\": \"Nuclear Engineers\", \"marker\": {\"color\": \"#EB663B\", \"size\": [113460.0], \"sizemode\": \"area\", \"sizeref\": 520.0, \"symbol\": \"circle\"}, \"mode\": \"markers\", \"name\": \"Nuclear Engineers\", \"orientation\": \"v\", \"showlegend\": true, \"type\": \"scatter\", \"x\": [113460.0], \"xaxis\": \"x\", \"y\": [0.821], \"yaxis\": \"y\"}, {\"hovertemplate\": \"Title of occupation=Petroleum Engineers<br>median_wage=%{marker.size}<br>percentage_bachelors_degree_or_higher=%{y}<extra></extra>\", \"legendgroup\": \"Petroleum Engineers\", \"marker\": {\"color\": \"#511CFB\", \"size\": [137720.0], \"sizemode\": \"area\", \"sizeref\": 520.0, \"symbol\": \"circle\"}, \"mode\": \"markers\", \"name\": \"Petroleum Engineers\", \"orientation\": \"v\", \"showlegend\": true, \"type\": \"scatter\", \"x\": [137720.0], \"xaxis\": \"x\", \"y\": [0.866], \"yaxis\": \"y\"}, {\"hovertemplate\": \"Title of occupation=Engineers, All Other<br>median_wage=%{marker.size}<br>percentage_bachelors_degree_or_higher=%{y}<extra></extra>\", \"legendgroup\": \"Engineers, All Other\", \"marker\": {\"color\": \"#00A08B\", \"size\": [99040.0], \"sizemode\": \"area\", \"sizeref\": 520.0, \"symbol\": \"circle\"}, \"mode\": \"markers\", \"name\": \"Engineers, All Other\", \"orientation\": \"v\", \"showlegend\": true, \"type\": \"scatter\", \"x\": [99040.0], \"xaxis\": \"x\", \"y\": [0.821], \"yaxis\": \"y\"}, {\"hovertemplate\": \"Title of occupation=Animal Scientists<br>median_wage=%{marker.size}<br>percentage_bachelors_degree_or_higher=%{y}<extra></extra>\", \"legendgroup\": \"Animal Scientists\", \"marker\": {\"color\": \"#FB00D1\", \"size\": [60300.0], \"sizemode\": \"area\", \"sizeref\": 520.0, \"symbol\": \"circle\"}, \"mode\": \"markers\", \"name\": \"Animal Scientists\", \"orientation\": \"v\", \"showlegend\": true, \"type\": \"scatter\", \"x\": [60300.0], \"xaxis\": \"x\", \"y\": [1.0], \"yaxis\": \"y\"}, {\"hovertemplate\": \"Title of occupation=Food Scientists and Technologists<br>median_wage=%{marker.size}<br>percentage_bachelors_degree_or_higher=%{y}<extra></extra>\", \"legendgroup\": \"Food Scientists and Technologists\", \"marker\": {\"color\": \"#FC0080\", \"size\": [68970.0], \"sizemode\": \"area\", \"sizeref\": 520.0, \"symbol\": \"circle\"}, \"mode\": \"markers\", \"name\": \"Food Scientists and Technologists\", \"orientation\": \"v\", \"showlegend\": true, \"type\": \"scatter\", \"x\": [68970.0], \"xaxis\": \"x\", \"y\": [1.0], \"yaxis\": \"y\"}, {\"hovertemplate\": \"Title of occupation=Soil and Plant Scientists<br>median_wage=%{marker.size}<br>percentage_bachelors_degree_or_higher=%{y}<extra></extra>\", \"legendgroup\": \"Soil and Plant Scientists\", \"marker\": {\"color\": \"#B2828D\", \"size\": [63200.0], \"sizemode\": \"area\", \"sizeref\": 520.0, \"symbol\": \"circle\"}, \"mode\": \"markers\", \"name\": \"Soil and Plant Scientists\", \"orientation\": \"v\", \"showlegend\": true, \"type\": \"scatter\", \"x\": [63200.0], \"xaxis\": \"x\", \"y\": [1.0], \"yaxis\": \"y\"}, {\"hovertemplate\": \"Title of occupation=Biochemists and Biophysicists<br>median_wage=%{marker.size}<br>percentage_bachelors_degree_or_higher=%{y}<extra></extra>\", \"legendgroup\": \"Biochemists and Biophysicists\", \"marker\": {\"color\": \"#6C7C32\", \"size\": [94490.0], \"sizemode\": \"area\", \"sizeref\": 520.0, \"symbol\": \"circle\"}, \"mode\": \"markers\", \"name\": \"Biochemists and Biophysicists\", \"orientation\": \"v\", \"showlegend\": true, \"type\": \"scatter\", \"x\": [94490.0], \"xaxis\": \"x\", \"y\": [1.0], \"yaxis\": \"y\"}, {\"hovertemplate\": \"Title of occupation=Microbiologists<br>median_wage=%{marker.size}<br>percentage_bachelors_degree_or_higher=%{y}<extra></extra>\", \"legendgroup\": \"Microbiologists\", \"marker\": {\"color\": \"#778AAE\", \"size\": [75650.0], \"sizemode\": \"area\", \"sizeref\": 520.0, \"symbol\": \"circle\"}, \"mode\": \"markers\", \"name\": \"Microbiologists\", \"orientation\": \"v\", \"showlegend\": true, \"type\": \"scatter\", \"x\": [75650.0], \"xaxis\": \"x\", \"y\": [1.0], \"yaxis\": \"y\"}, {\"hovertemplate\": \"Title of occupation=Zoologists and Wildlife Biologists<br>median_wage=%{marker.size}<br>percentage_bachelors_degree_or_higher=%{y}<extra></extra>\", \"legendgroup\": \"Zoologists and Wildlife Biologists\", \"marker\": {\"color\": \"#862A16\", \"size\": [63270.0], \"sizemode\": \"area\", \"sizeref\": 520.0, \"symbol\": \"circle\"}, \"mode\": \"markers\", \"name\": \"Zoologists and Wildlife Biologists\", \"orientation\": \"v\", \"showlegend\": true, \"type\": \"scatter\", \"x\": [63270.0], \"xaxis\": \"x\", \"y\": [1.0], \"yaxis\": \"y\"}, {\"hovertemplate\": \"Title of occupation=Biological Scientists, All Other<br>median_wage=%{marker.size}<br>percentage_bachelors_degree_or_higher=%{y}<extra></extra>\", \"legendgroup\": \"Biological Scientists, All Other\", \"marker\": {\"color\": \"#A777F1\", \"size\": [82220.0], \"sizemode\": \"area\", \"sizeref\": 520.0, \"symbol\": \"circle\"}, \"mode\": \"markers\", \"name\": \"Biological Scientists, All Other\", \"orientation\": \"v\", \"showlegend\": true, \"type\": \"scatter\", \"x\": [82220.0], \"xaxis\": \"x\", \"y\": [1.0], \"yaxis\": \"y\"}, {\"hovertemplate\": \"Title of occupation=Conservation Scientists<br>median_wage=%{marker.size}<br>percentage_bachelors_degree_or_higher=%{y}<extra></extra>\", \"legendgroup\": \"Conservation Scientists\", \"marker\": {\"color\": \"#620042\", \"size\": [62660.0], \"sizemode\": \"area\", \"sizeref\": 520.0, \"symbol\": \"circle\"}, \"mode\": \"markers\", \"name\": \"Conservation Scientists\", \"orientation\": \"v\", \"showlegend\": true, \"type\": \"scatter\", \"x\": [62660.0], \"xaxis\": \"x\", \"y\": [1.0], \"yaxis\": \"y\"}, {\"hovertemplate\": \"Title of occupation=Foresters<br>median_wage=%{marker.size}<br>percentage_bachelors_degree_or_higher=%{y}<extra></extra>\", \"legendgroup\": \"Foresters\", \"marker\": {\"color\": \"#1616A7\", \"size\": [61790.0], \"sizemode\": \"area\", \"sizeref\": 520.0, \"symbol\": \"circle\"}, \"mode\": \"markers\", \"name\": \"Foresters\", \"orientation\": \"v\", \"showlegend\": true, \"type\": \"scatter\", \"x\": [61790.0], \"xaxis\": \"x\", \"y\": [1.0], \"yaxis\": \"y\"}, {\"hovertemplate\": \"Title of occupation=Epidemiologists<br>median_wage=%{marker.size}<br>percentage_bachelors_degree_or_higher=%{y}<extra></extra>\", \"legendgroup\": \"Epidemiologists\", \"marker\": {\"color\": \"#DA60CA\", \"size\": [70990.0], \"sizemode\": \"area\", \"sizeref\": 520.0, \"symbol\": \"circle\"}, \"mode\": \"markers\", \"name\": \"Epidemiologists\", \"orientation\": \"v\", \"showlegend\": true, \"type\": \"scatter\", \"x\": [70990.0], \"xaxis\": \"x\", \"y\": [0.98], \"yaxis\": \"y\"}, {\"hovertemplate\": \"Title of occupation=Medical Scientists, Except Epidemiologists<br>median_wage=%{marker.size}<br>percentage_bachelors_degree_or_higher=%{y}<extra></extra>\", \"legendgroup\": \"Medical Scientists, Except Epidemiologists\", \"marker\": {\"color\": \"#6C4516\", \"size\": [88790.0], \"sizemode\": \"area\", \"sizeref\": 520.0, \"symbol\": \"circle\"}, \"mode\": \"markers\", \"name\": \"Medical Scientists, Except Epidemiologists\", \"orientation\": \"v\", \"showlegend\": true, \"type\": \"scatter\", \"x\": [88790.0], \"xaxis\": \"x\", \"y\": [0.98], \"yaxis\": \"y\"}, {\"hovertemplate\": \"Title of occupation=Life Scientists, All Other<br>median_wage=%{marker.size}<br>percentage_bachelors_degree_or_higher=%{y}<extra></extra>\", \"legendgroup\": \"Life Scientists, All Other\", \"marker\": {\"color\": \"#0D2A63\", \"size\": [75910.0], \"sizemode\": \"area\", \"sizeref\": 520.0, \"symbol\": \"circle\"}, \"mode\": \"markers\", \"name\": \"Life Scientists, All Other\", \"orientation\": \"v\", \"showlegend\": true, \"type\": \"scatter\", \"x\": [75910.0], \"xaxis\": \"x\", \"y\": [0.98], \"yaxis\": \"y\"}, {\"hovertemplate\": \"Title of occupation=Astronomers<br>median_wage=%{marker.size}<br>percentage_bachelors_degree_or_higher=%{y}<extra></extra>\", \"legendgroup\": \"Astronomers\", \"marker\": {\"color\": \"#AF0038\", \"size\": [114590.0], \"sizemode\": \"area\", \"sizeref\": 520.0, \"symbol\": \"circle\"}, \"mode\": \"markers\", \"name\": \"Astronomers\", \"orientation\": \"v\", \"showlegend\": true, \"type\": \"scatter\", \"x\": [114590.0], \"xaxis\": \"x\", \"y\": [1.0], \"yaxis\": \"y\"}, {\"hovertemplate\": \"Title of occupation=Physicists<br>median_wage=%{marker.size}<br>percentage_bachelors_degree_or_higher=%{y}<extra></extra>\", \"legendgroup\": \"Physicists\", \"marker\": {\"color\": \"#2E91E5\", \"size\": [122850.0], \"sizemode\": \"area\", \"sizeref\": 520.0, \"symbol\": \"circle\"}, \"mode\": \"markers\", \"name\": \"Physicists\", \"orientation\": \"v\", \"showlegend\": true, \"type\": \"scatter\", \"x\": [122850.0], \"xaxis\": \"x\", \"y\": [1.0], \"yaxis\": \"y\"}, {\"hovertemplate\": \"Title of occupation=Atmospheric and Space Scientists<br>median_wage=%{marker.size}<br>percentage_bachelors_degree_or_higher=%{y}<extra></extra>\", \"legendgroup\": \"Atmospheric and Space Scientists\", \"marker\": {\"color\": \"#E15F99\", \"size\": [95380.0], \"sizemode\": \"area\", \"sizeref\": 520.0, \"symbol\": \"circle\"}, \"mode\": \"markers\", \"name\": \"Atmospheric and Space Scientists\", \"orientation\": \"v\", \"showlegend\": true, \"type\": \"scatter\", \"x\": [95380.0], \"xaxis\": \"x\", \"y\": [0.9129999999999999], \"yaxis\": \"y\"}, {\"hovertemplate\": \"Title of occupation=Chemists<br>median_wage=%{marker.size}<br>percentage_bachelors_degree_or_higher=%{y}<extra></extra>\", \"legendgroup\": \"Chemists\", \"marker\": {\"color\": \"#1CA71C\", \"size\": [77630.0], \"sizemode\": \"area\", \"sizeref\": 520.0, \"symbol\": \"circle\"}, \"mode\": \"markers\", \"name\": \"Chemists\", \"orientation\": \"v\", \"showlegend\": true, \"type\": \"scatter\", \"x\": [77630.0], \"xaxis\": \"x\", \"y\": [0.9420000000000001], \"yaxis\": \"y\"}, {\"hovertemplate\": \"Title of occupation=Materials Scientists<br>median_wage=%{marker.size}<br>percentage_bachelors_degree_or_higher=%{y}<extra></extra>\", \"legendgroup\": \"Materials Scientists\", \"marker\": {\"color\": \"#FB0D0D\", \"size\": [96810.0], \"sizemode\": \"area\", \"sizeref\": 520.0, \"symbol\": \"circle\"}, \"mode\": \"markers\", \"name\": \"Materials Scientists\", \"orientation\": \"v\", \"showlegend\": true, \"type\": \"scatter\", \"x\": [96810.0], \"xaxis\": \"x\", \"y\": [0.9420000000000001], \"yaxis\": \"y\"}, {\"hovertemplate\": \"Title of occupation=Environmental Scientists and Specialists, Including Health<br>median_wage=%{marker.size}<br>percentage_bachelors_degree_or_higher=%{y}<extra></extra>\", \"legendgroup\": \"Environmental Scientists and Specialists, Including Health\", \"marker\": {\"color\": \"#DA16FF\", \"size\": [71360.0], \"sizemode\": \"area\", \"sizeref\": 520.0, \"symbol\": \"circle\"}, \"mode\": \"markers\", \"name\": \"Environmental Scientists and Specialists, Including Health\", \"orientation\": \"v\", \"showlegend\": true, \"type\": \"scatter\", \"x\": [71360.0], \"xaxis\": \"x\", \"y\": [1.0], \"yaxis\": \"y\"}, {\"hovertemplate\": \"Title of occupation=Geoscientists, Except Hydrologists and Geographers<br>median_wage=%{marker.size}<br>percentage_bachelors_degree_or_higher=%{y}<extra></extra>\", \"legendgroup\": \"Geoscientists, Except Hydrologists and Geographers\", \"marker\": {\"color\": \"#222A2A\", \"size\": [92040.0], \"sizemode\": \"area\", \"sizeref\": 520.0, \"symbol\": \"circle\"}, \"mode\": \"markers\", \"name\": \"Geoscientists, Except Hydrologists and Geographers\", \"orientation\": \"v\", \"showlegend\": true, \"type\": \"scatter\", \"x\": [92040.0], \"xaxis\": \"x\", \"y\": [1.0], \"yaxis\": \"y\"}, {\"hovertemplate\": \"Title of occupation=Hydrologists<br>median_wage=%{marker.size}<br>percentage_bachelors_degree_or_higher=%{y}<extra></extra>\", \"legendgroup\": \"Hydrologists\", \"marker\": {\"color\": \"#B68100\", \"size\": [81270.0], \"sizemode\": \"area\", \"sizeref\": 520.0, \"symbol\": \"circle\"}, \"mode\": \"markers\", \"name\": \"Hydrologists\", \"orientation\": \"v\", \"showlegend\": true, \"type\": \"scatter\", \"x\": [81270.0], \"xaxis\": \"x\", \"y\": [1.0], \"yaxis\": \"y\"}, {\"hovertemplate\": \"Title of occupation=Physical Scientists, All Other<br>median_wage=%{marker.size}<br>percentage_bachelors_degree_or_higher=%{y}<extra></extra>\", \"legendgroup\": \"Physical Scientists, All Other\", \"marker\": {\"color\": \"#750D86\", \"size\": [109910.0], \"sizemode\": \"area\", \"sizeref\": 520.0, \"symbol\": \"circle\"}, \"mode\": \"markers\", \"name\": \"Physical Scientists, All Other\", \"orientation\": \"v\", \"showlegend\": true, \"type\": \"scatter\", \"x\": [109910.0], \"xaxis\": \"x\", \"y\": [1.0], \"yaxis\": \"y\"}, {\"hovertemplate\": \"Title of occupation=Economists<br>median_wage=%{marker.size}<br>percentage_bachelors_degree_or_higher=%{y}<extra></extra>\", \"legendgroup\": \"Economists\", \"marker\": {\"color\": \"#EB663B\", \"size\": [105020.0], \"sizemode\": \"area\", \"sizeref\": 520.0, \"symbol\": \"circle\"}, \"mode\": \"markers\", \"name\": \"Economists\", \"orientation\": \"v\", \"showlegend\": true, \"type\": \"scatter\", \"x\": [105020.0], \"xaxis\": \"x\", \"y\": [1.0], \"yaxis\": \"y\"}, {\"hovertemplate\": \"Title of occupation=Survey Researchers<br>median_wage=%{marker.size}<br>percentage_bachelors_degree_or_higher=%{y}<extra></extra>\", \"legendgroup\": \"Survey Researchers\", \"marker\": {\"color\": \"#511CFB\", \"size\": [59170.0], \"sizemode\": \"area\", \"sizeref\": 520.0, \"symbol\": \"circle\"}, \"mode\": \"markers\", \"name\": \"Survey Researchers\", \"orientation\": \"v\", \"showlegend\": true, \"type\": \"scatter\", \"x\": [59170.0], \"xaxis\": \"x\", \"y\": [0.89], \"yaxis\": \"y\"}, {\"hovertemplate\": \"Title of occupation=Clinical, Counseling, and School Psychologists<br>median_wage=%{marker.size}<br>percentage_bachelors_degree_or_higher=%{y}<extra></extra>\", \"legendgroup\": \"Clinical, Counseling, and School Psychologists\", \"marker\": {\"color\": \"#00A08B\", \"size\": [78200.0], \"sizemode\": \"area\", \"sizeref\": 520.0, \"symbol\": \"circle\"}, \"mode\": \"markers\", \"name\": \"Clinical, Counseling, and School Psychologists\", \"orientation\": \"v\", \"showlegend\": true, \"type\": \"scatter\", \"x\": [78200.0], \"xaxis\": \"x\", \"y\": [1.0], \"yaxis\": \"y\"}, {\"hovertemplate\": \"Title of occupation=Industrial-Organizational Psychologists<br>median_wage=%{marker.size}<br>percentage_bachelors_degree_or_higher=%{y}<extra></extra>\", \"legendgroup\": \"Industrial-Organizational Psychologists\", \"marker\": {\"color\": \"#FB00D1\", \"size\": [92880.0], \"sizemode\": \"area\", \"sizeref\": 520.0, \"symbol\": \"circle\"}, \"mode\": \"markers\", \"name\": \"Industrial-Organizational Psychologists\", \"orientation\": \"v\", \"showlegend\": true, \"type\": \"scatter\", \"x\": [92880.0], \"xaxis\": \"x\", \"y\": [1.0], \"yaxis\": \"y\"}, {\"hovertemplate\": \"Title of occupation=Psychologists, All Other<br>median_wage=%{marker.size}<br>percentage_bachelors_degree_or_higher=%{y}<extra></extra>\", \"legendgroup\": \"Psychologists, All Other\", \"marker\": {\"color\": \"#FC0080\", \"size\": [101790.0], \"sizemode\": \"area\", \"sizeref\": 520.0, \"symbol\": \"circle\"}, \"mode\": \"markers\", \"name\": \"Psychologists, All Other\", \"orientation\": \"v\", \"showlegend\": true, \"type\": \"scatter\", \"x\": [101790.0], \"xaxis\": \"x\", \"y\": [1.0], \"yaxis\": \"y\"}, {\"hovertemplate\": \"Title of occupation=Sociologists<br>median_wage=%{marker.size}<br>percentage_bachelors_degree_or_higher=%{y}<extra></extra>\", \"legendgroup\": \"Sociologists\", \"marker\": {\"color\": \"#B2828D\", \"size\": [83420.0], \"sizemode\": \"area\", \"sizeref\": 520.0, \"symbol\": \"circle\"}, \"mode\": \"markers\", \"name\": \"Sociologists\", \"orientation\": \"v\", \"showlegend\": true, \"type\": \"scatter\", \"x\": [83420.0], \"xaxis\": \"x\", \"y\": [0.89], \"yaxis\": \"y\"}, {\"hovertemplate\": \"Title of occupation=Urban and Regional Planners<br>median_wage=%{marker.size}<br>percentage_bachelors_degree_or_higher=%{y}<extra></extra>\", \"legendgroup\": \"Urban and Regional Planners\", \"marker\": {\"color\": \"#6C7C32\", \"size\": [74350.0], \"sizemode\": \"area\", \"sizeref\": 520.0, \"symbol\": \"circle\"}, \"mode\": \"markers\", \"name\": \"Urban and Regional Planners\", \"orientation\": \"v\", \"showlegend\": true, \"type\": \"scatter\", \"x\": [74350.0], \"xaxis\": \"x\", \"y\": [1.0], \"yaxis\": \"y\"}, {\"hovertemplate\": \"Title of occupation=Anthropologists and Archeologists<br>median_wage=%{marker.size}<br>percentage_bachelors_degree_or_higher=%{y}<extra></extra>\", \"legendgroup\": \"Anthropologists and Archeologists\", \"marker\": {\"color\": \"#778AAE\", \"size\": [63670.0], \"sizemode\": \"area\", \"sizeref\": 520.0, \"symbol\": \"circle\"}, \"mode\": \"markers\", \"name\": \"Anthropologists and Archeologists\", \"orientation\": \"v\", \"showlegend\": true, \"type\": \"scatter\", \"x\": [63670.0], \"xaxis\": \"x\", \"y\": [0.89], \"yaxis\": \"y\"}, {\"hovertemplate\": \"Title of occupation=Geographers<br>median_wage=%{marker.size}<br>percentage_bachelors_degree_or_higher=%{y}<extra></extra>\", \"legendgroup\": \"Geographers\", \"marker\": {\"color\": \"#862A16\", \"size\": [81540.0], \"sizemode\": \"area\", \"sizeref\": 520.0, \"symbol\": \"circle\"}, \"mode\": \"markers\", \"name\": \"Geographers\", \"orientation\": \"v\", \"showlegend\": true, \"type\": \"scatter\", \"x\": [81540.0], \"xaxis\": \"x\", \"y\": [0.89], \"yaxis\": \"y\"}, {\"hovertemplate\": \"Title of occupation=Historians<br>median_wage=%{marker.size}<br>percentage_bachelors_degree_or_higher=%{y}<extra></extra>\", \"legendgroup\": \"Historians\", \"marker\": {\"color\": \"#A777F1\", \"size\": [63680.0], \"sizemode\": \"area\", \"sizeref\": 520.0, \"symbol\": \"circle\"}, \"mode\": \"markers\", \"name\": \"Historians\", \"orientation\": \"v\", \"showlegend\": true, \"type\": \"scatter\", \"x\": [63680.0], \"xaxis\": \"x\", \"y\": [0.89], \"yaxis\": \"y\"}, {\"hovertemplate\": \"Title of occupation=Political Scientists<br>median_wage=%{marker.size}<br>percentage_bachelors_degree_or_higher=%{y}<extra></extra>\", \"legendgroup\": \"Political Scientists\", \"marker\": {\"color\": \"#620042\", \"size\": [122220.0], \"sizemode\": \"area\", \"sizeref\": 520.0, \"symbol\": \"circle\"}, \"mode\": \"markers\", \"name\": \"Political Scientists\", \"orientation\": \"v\", \"showlegend\": true, \"type\": \"scatter\", \"x\": [122220.0], \"xaxis\": \"x\", \"y\": [0.89], \"yaxis\": \"y\"}, {\"hovertemplate\": \"Title of occupation=Social Scientists and Related Workers, All Other<br>median_wage=%{marker.size}<br>percentage_bachelors_degree_or_higher=%{y}<extra></extra>\", \"legendgroup\": \"Social Scientists and Related Workers, All Other\", \"marker\": {\"color\": \"#1616A7\", \"size\": [83330.0], \"sizemode\": \"area\", \"sizeref\": 520.0, \"symbol\": \"circle\"}, \"mode\": \"markers\", \"name\": \"Social Scientists and Related Workers, All Other\", \"orientation\": \"v\", \"showlegend\": true, \"type\": \"scatter\", \"x\": [83330.0], \"xaxis\": \"x\", \"y\": [0.89], \"yaxis\": \"y\"}, {\"hovertemplate\": \"Title of occupation=Educational, Guidance, and Career Counselors and Advisors<br>median_wage=%{marker.size}<br>percentage_bachelors_degree_or_higher=%{y}<extra></extra>\", \"legendgroup\": \"Educational, Guidance, and Career Counselors and Advisors\", \"marker\": {\"color\": \"#DA60CA\", \"size\": [57040.0], \"sizemode\": \"area\", \"sizeref\": 520.0, \"symbol\": \"circle\"}, \"mode\": \"markers\", \"name\": \"Educational, Guidance, and Career Counselors and Advisors\", \"orientation\": \"v\", \"showlegend\": true, \"type\": \"scatter\", \"x\": [57040.0], \"xaxis\": \"x\", \"y\": [0.867], \"yaxis\": \"y\"}, {\"hovertemplate\": \"Title of occupation=Marriage and Family Therapists<br>median_wage=%{marker.size}<br>percentage_bachelors_degree_or_higher=%{y}<extra></extra>\", \"legendgroup\": \"Marriage and Family Therapists\", \"marker\": {\"color\": \"#6C4516\", \"size\": [49610.0], \"sizemode\": \"area\", \"sizeref\": 520.0, \"symbol\": \"circle\"}, \"mode\": \"markers\", \"name\": \"Marriage and Family Therapists\", \"orientation\": \"v\", \"showlegend\": true, \"type\": \"scatter\", \"x\": [49610.0], \"xaxis\": \"x\", \"y\": [0.863], \"yaxis\": \"y\"}, {\"hovertemplate\": \"Title of occupation=Substance Abuse, Behavioral Disorder, and Mental Health Counselors<br>median_wage=%{marker.size}<br>percentage_bachelors_degree_or_higher=%{y}<extra></extra>\", \"legendgroup\": \"Substance Abuse, Behavioral Disorder, and Mental Health Counselors\", \"marker\": {\"color\": \"#0D2A63\", \"size\": [46240.0], \"sizemode\": \"area\", \"sizeref\": 520.0, \"symbol\": \"circle\"}, \"mode\": \"markers\", \"name\": \"Substance Abuse, Behavioral Disorder, and Mental Health Counselors\", \"orientation\": \"v\", \"showlegend\": true, \"type\": \"scatter\", \"x\": [46240.0], \"xaxis\": \"x\", \"y\": [0.805], \"yaxis\": \"y\"}, {\"hovertemplate\": \"Title of occupation=Mental Health and Substance Abuse Social Workers<br>median_wage=%{marker.size}<br>percentage_bachelors_degree_or_higher=%{y}<extra></extra>\", \"legendgroup\": \"Mental Health and Substance Abuse Social Workers\", \"marker\": {\"color\": \"#AF0038\", \"size\": [46650.0], \"sizemode\": \"area\", \"sizeref\": 520.0, \"symbol\": \"circle\"}, \"mode\": \"markers\", \"name\": \"Mental Health and Substance Abuse Social Workers\", \"orientation\": \"v\", \"showlegend\": true, \"type\": \"scatter\", \"x\": [46650.0], \"xaxis\": \"x\", \"y\": [0.938], \"yaxis\": \"y\"}, {\"hovertemplate\": \"Title of occupation=Social Workers, All Other<br>median_wage=%{marker.size}<br>percentage_bachelors_degree_or_higher=%{y}<extra></extra>\", \"legendgroup\": \"Social Workers, All Other\", \"marker\": {\"color\": \"#2E91E5\", \"size\": [61230.0], \"sizemode\": \"area\", \"sizeref\": 520.0, \"symbol\": \"circle\"}, \"mode\": \"markers\", \"name\": \"Social Workers, All Other\", \"orientation\": \"v\", \"showlegend\": true, \"type\": \"scatter\", \"x\": [61230.0], \"xaxis\": \"x\", \"y\": [0.81], \"yaxis\": \"y\"}, {\"hovertemplate\": \"Title of occupation=Probation Officers and Correctional Treatment Specialists<br>median_wage=%{marker.size}<br>percentage_bachelors_degree_or_higher=%{y}<extra></extra>\", \"legendgroup\": \"Probation Officers and Correctional Treatment Specialists\", \"marker\": {\"color\": \"#E15F99\", \"size\": [54290.0], \"sizemode\": \"area\", \"sizeref\": 520.0, \"symbol\": \"circle\"}, \"mode\": \"markers\", \"name\": \"Probation Officers and Correctional Treatment Specialists\", \"orientation\": \"v\", \"showlegend\": true, \"type\": \"scatter\", \"x\": [54290.0], \"xaxis\": \"x\", \"y\": [0.843], \"yaxis\": \"y\"}, {\"hovertemplate\": \"Title of occupation=Lawyers<br>median_wage=%{marker.size}<br>percentage_bachelors_degree_or_higher=%{y}<extra></extra>\", \"legendgroup\": \"Lawyers\", \"marker\": {\"color\": \"#1CA71C\", \"size\": [122960.0], \"sizemode\": \"area\", \"sizeref\": 520.0, \"symbol\": \"circle\"}, \"mode\": \"markers\", \"name\": \"Lawyers\", \"orientation\": \"v\", \"showlegend\": true, \"type\": \"scatter\", \"x\": [122960.0], \"xaxis\": \"x\", \"y\": [0.98], \"yaxis\": \"y\"}, {\"hovertemplate\": \"Title of occupation=Administrative Law Judges, Adjudicators, and Hearing Officers<br>median_wage=%{marker.size}<br>percentage_bachelors_degree_or_higher=%{y}<extra></extra>\", \"legendgroup\": \"Administrative Law Judges, Adjudicators, and Hearing Officers\", \"marker\": {\"color\": \"#FB0D0D\", \"size\": [97870.0], \"sizemode\": \"area\", \"sizeref\": 520.0, \"symbol\": \"circle\"}, \"mode\": \"markers\", \"name\": \"Administrative Law Judges, Adjudicators, and Hearing Officers\", \"orientation\": \"v\", \"showlegend\": true, \"type\": \"scatter\", \"x\": [97870.0], \"xaxis\": \"x\", \"y\": [0.98], \"yaxis\": \"y\"}, {\"hovertemplate\": \"Title of occupation=Arbitrators, Mediators, and Conciliators<br>median_wage=%{marker.size}<br>percentage_bachelors_degree_or_higher=%{y}<extra></extra>\", \"legendgroup\": \"Arbitrators, Mediators, and Conciliators\", \"marker\": {\"color\": \"#DA16FF\", \"size\": [63930.0], \"sizemode\": \"area\", \"sizeref\": 520.0, \"symbol\": \"circle\"}, \"mode\": \"markers\", \"name\": \"Arbitrators, Mediators, and Conciliators\", \"orientation\": \"v\", \"showlegend\": true, \"type\": \"scatter\", \"x\": [63930.0], \"xaxis\": \"x\", \"y\": [0.98], \"yaxis\": \"y\"}, {\"hovertemplate\": \"Title of occupation=Judges, Magistrate Judges, and Magistrates<br>median_wage=%{marker.size}<br>percentage_bachelors_degree_or_higher=%{y}<extra></extra>\", \"legendgroup\": \"Judges, Magistrate Judges, and Magistrates\", \"marker\": {\"color\": \"#222A2A\", \"size\": [136910.0], \"sizemode\": \"area\", \"sizeref\": 520.0, \"symbol\": \"circle\"}, \"mode\": \"markers\", \"name\": \"Judges, Magistrate Judges, and Magistrates\", \"orientation\": \"v\", \"showlegend\": true, \"type\": \"scatter\", \"x\": [136910.0], \"xaxis\": \"x\", \"y\": [0.98], \"yaxis\": \"y\"}, {\"hovertemplate\": \"Title of occupation=Business Teachers, Postsecondary<br>median_wage=%{marker.size}<br>percentage_bachelors_degree_or_higher=%{y}<extra></extra>\", \"legendgroup\": \"Business Teachers, Postsecondary\", \"marker\": {\"color\": \"#B68100\", \"size\": [87200.0], \"sizemode\": \"area\", \"sizeref\": 520.0, \"symbol\": \"circle\"}, \"mode\": \"markers\", \"name\": \"Business Teachers, Postsecondary\", \"orientation\": \"v\", \"showlegend\": true, \"type\": \"scatter\", \"x\": [87200.0], \"xaxis\": \"x\", \"y\": [0.9390000000000001], \"yaxis\": \"y\"}, {\"hovertemplate\": \"Title of occupation=Computer Science Teachers, Postsecondary<br>median_wage=%{marker.size}<br>percentage_bachelors_degree_or_higher=%{y}<extra></extra>\", \"legendgroup\": \"Computer Science Teachers, Postsecondary\", \"marker\": {\"color\": \"#750D86\", \"size\": [85180.0], \"sizemode\": \"area\", \"sizeref\": 520.0, \"symbol\": \"circle\"}, \"mode\": \"markers\", \"name\": \"Computer Science Teachers, Postsecondary\", \"orientation\": \"v\", \"showlegend\": true, \"type\": \"scatter\", \"x\": [85180.0], \"xaxis\": \"x\", \"y\": [0.9390000000000001], \"yaxis\": \"y\"}, {\"hovertemplate\": \"Title of occupation=Mathematical Science Teachers, Postsecondary<br>median_wage=%{marker.size}<br>percentage_bachelors_degree_or_higher=%{y}<extra></extra>\", \"legendgroup\": \"Mathematical Science Teachers, Postsecondary\", \"marker\": {\"color\": \"#EB663B\", \"size\": [73690.0], \"sizemode\": \"area\", \"sizeref\": 520.0, \"symbol\": \"circle\"}, \"mode\": \"markers\", \"name\": \"Mathematical Science Teachers, Postsecondary\", \"orientation\": \"v\", \"showlegend\": true, \"type\": \"scatter\", \"x\": [73690.0], \"xaxis\": \"x\", \"y\": [0.9390000000000001], \"yaxis\": \"y\"}, {\"hovertemplate\": \"Title of occupation=Architecture Teachers, Postsecondary<br>median_wage=%{marker.size}<br>percentage_bachelors_degree_or_higher=%{y}<extra></extra>\", \"legendgroup\": \"Architecture Teachers, Postsecondary\", \"marker\": {\"color\": \"#511CFB\", \"size\": [87900.0], \"sizemode\": \"area\", \"sizeref\": 520.0, \"symbol\": \"circle\"}, \"mode\": \"markers\", \"name\": \"Architecture Teachers, Postsecondary\", \"orientation\": \"v\", \"showlegend\": true, \"type\": \"scatter\", \"x\": [87900.0], \"xaxis\": \"x\", \"y\": [0.9390000000000001], \"yaxis\": \"y\"}, {\"hovertemplate\": \"Title of occupation=Engineering Teachers, Postsecondary<br>median_wage=%{marker.size}<br>percentage_bachelors_degree_or_higher=%{y}<extra></extra>\", \"legendgroup\": \"Engineering Teachers, Postsecondary\", \"marker\": {\"color\": \"#00A08B\", \"size\": [101010.0], \"sizemode\": \"area\", \"sizeref\": 520.0, \"symbol\": \"circle\"}, \"mode\": \"markers\", \"name\": \"Engineering Teachers, Postsecondary\", \"orientation\": \"v\", \"showlegend\": true, \"type\": \"scatter\", \"x\": [101010.0], \"xaxis\": \"x\", \"y\": [0.9390000000000001], \"yaxis\": \"y\"}, {\"hovertemplate\": \"Title of occupation=Agricultural Sciences Teachers, Postsecondary<br>median_wage=%{marker.size}<br>percentage_bachelors_degree_or_higher=%{y}<extra></extra>\", \"legendgroup\": \"Agricultural Sciences Teachers, Postsecondary\", \"marker\": {\"color\": \"#FB00D1\", \"size\": [83260.0], \"sizemode\": \"area\", \"sizeref\": 520.0, \"symbol\": \"circle\"}, \"mode\": \"markers\", \"name\": \"Agricultural Sciences Teachers, Postsecondary\", \"orientation\": \"v\", \"showlegend\": true, \"type\": \"scatter\", \"x\": [83260.0], \"xaxis\": \"x\", \"y\": [0.9390000000000001], \"yaxis\": \"y\"}, {\"hovertemplate\": \"Title of occupation=Biological Science Teachers, Postsecondary<br>median_wage=%{marker.size}<br>percentage_bachelors_degree_or_higher=%{y}<extra></extra>\", \"legendgroup\": \"Biological Science Teachers, Postsecondary\", \"marker\": {\"color\": \"#FC0080\", \"size\": [83300.0], \"sizemode\": \"area\", \"sizeref\": 520.0, \"symbol\": \"circle\"}, \"mode\": \"markers\", \"name\": \"Biological Science Teachers, Postsecondary\", \"orientation\": \"v\", \"showlegend\": true, \"type\": \"scatter\", \"x\": [83300.0], \"xaxis\": \"x\", \"y\": [0.9390000000000001], \"yaxis\": \"y\"}, {\"hovertemplate\": \"Title of occupation=Forestry and Conservation Science Teachers, Postsecondary<br>median_wage=%{marker.size}<br>percentage_bachelors_degree_or_higher=%{y}<extra></extra>\", \"legendgroup\": \"Forestry and Conservation Science Teachers, Postsecondary\", \"marker\": {\"color\": \"#B2828D\", \"size\": [85450.0], \"sizemode\": \"area\", \"sizeref\": 520.0, \"symbol\": \"circle\"}, \"mode\": \"markers\", \"name\": \"Forestry and Conservation Science Teachers, Postsecondary\", \"orientation\": \"v\", \"showlegend\": true, \"type\": \"scatter\", \"x\": [85450.0], \"xaxis\": \"x\", \"y\": [0.9390000000000001], \"yaxis\": \"y\"}, {\"hovertemplate\": \"Title of occupation=Atmospheric, Earth, Marine, and Space Sciences Teachers, Postsecondary<br>median_wage=%{marker.size}<br>percentage_bachelors_degree_or_higher=%{y}<extra></extra>\", \"legendgroup\": \"Atmospheric, Earth, Marine, and Space Sciences Teachers, Postsecondary\", \"marker\": {\"color\": \"#6C7C32\", \"size\": [92040.0], \"sizemode\": \"area\", \"sizeref\": 520.0, \"symbol\": \"circle\"}, \"mode\": \"markers\", \"name\": \"Atmospheric, Earth, Marine, and Space Sciences Teachers, Postsecondary\", \"orientation\": \"v\", \"showlegend\": true, \"type\": \"scatter\", \"x\": [92040.0], \"xaxis\": \"x\", \"y\": [0.9390000000000001], \"yaxis\": \"y\"}, {\"hovertemplate\": \"Title of occupation=Chemistry Teachers, Postsecondary<br>median_wage=%{marker.size}<br>percentage_bachelors_degree_or_higher=%{y}<extra></extra>\", \"legendgroup\": \"Chemistry Teachers, Postsecondary\", \"marker\": {\"color\": \"#778AAE\", \"size\": [79550.0], \"sizemode\": \"area\", \"sizeref\": 520.0, \"symbol\": \"circle\"}, \"mode\": \"markers\", \"name\": \"Chemistry Teachers, Postsecondary\", \"orientation\": \"v\", \"showlegend\": true, \"type\": \"scatter\", \"x\": [79550.0], \"xaxis\": \"x\", \"y\": [0.9390000000000001], \"yaxis\": \"y\"}, {\"hovertemplate\": \"Title of occupation=Environmental Science Teachers, Postsecondary<br>median_wage=%{marker.size}<br>percentage_bachelors_degree_or_higher=%{y}<extra></extra>\", \"legendgroup\": \"Environmental Science Teachers, Postsecondary\", \"marker\": {\"color\": \"#862A16\", \"size\": [82430.0], \"sizemode\": \"area\", \"sizeref\": 520.0, \"symbol\": \"circle\"}, \"mode\": \"markers\", \"name\": \"Environmental Science Teachers, Postsecondary\", \"orientation\": \"v\", \"showlegend\": true, \"type\": \"scatter\", \"x\": [82430.0], \"xaxis\": \"x\", \"y\": [0.9390000000000001], \"yaxis\": \"y\"}, {\"hovertemplate\": \"Title of occupation=Physics Teachers, Postsecondary<br>median_wage=%{marker.size}<br>percentage_bachelors_degree_or_higher=%{y}<extra></extra>\", \"legendgroup\": \"Physics Teachers, Postsecondary\", \"marker\": {\"color\": \"#A777F1\", \"size\": [89590.0], \"sizemode\": \"area\", \"sizeref\": 520.0, \"symbol\": \"circle\"}, \"mode\": \"markers\", \"name\": \"Physics Teachers, Postsecondary\", \"orientation\": \"v\", \"showlegend\": true, \"type\": \"scatter\", \"x\": [89590.0], \"xaxis\": \"x\", \"y\": [0.9390000000000001], \"yaxis\": \"y\"}, {\"hovertemplate\": \"Title of occupation=Anthropology and Archeology Teachers, Postsecondary<br>median_wage=%{marker.size}<br>percentage_bachelors_degree_or_higher=%{y}<extra></extra>\", \"legendgroup\": \"Anthropology and Archeology Teachers, Postsecondary\", \"marker\": {\"color\": \"#620042\", \"size\": [86220.0], \"sizemode\": \"area\", \"sizeref\": 520.0, \"symbol\": \"circle\"}, \"mode\": \"markers\", \"name\": \"Anthropology and Archeology Teachers, Postsecondary\", \"orientation\": \"v\", \"showlegend\": true, \"type\": \"scatter\", \"x\": [86220.0], \"xaxis\": \"x\", \"y\": [0.9390000000000001], \"yaxis\": \"y\"}, {\"hovertemplate\": \"Title of occupation=Area, Ethnic, and Cultural Studies Teachers, Postsecondary<br>median_wage=%{marker.size}<br>percentage_bachelors_degree_or_higher=%{y}<extra></extra>\", \"legendgroup\": \"Area, Ethnic, and Cultural Studies Teachers, Postsecondary\", \"marker\": {\"color\": \"#1616A7\", \"size\": [77070.0], \"sizemode\": \"area\", \"sizeref\": 520.0, \"symbol\": \"circle\"}, \"mode\": \"markers\", \"name\": \"Area, Ethnic, and Cultural Studies Teachers, Postsecondary\", \"orientation\": \"v\", \"showlegend\": true, \"type\": \"scatter\", \"x\": [77070.0], \"xaxis\": \"x\", \"y\": [0.9390000000000001], \"yaxis\": \"y\"}, {\"hovertemplate\": \"Title of occupation=Economics Teachers, Postsecondary<br>median_wage=%{marker.size}<br>percentage_bachelors_degree_or_higher=%{y}<extra></extra>\", \"legendgroup\": \"Economics Teachers, Postsecondary\", \"marker\": {\"color\": \"#DA60CA\", \"size\": [104370.0], \"sizemode\": \"area\", \"sizeref\": 520.0, \"symbol\": \"circle\"}, \"mode\": \"markers\", \"name\": \"Economics Teachers, Postsecondary\", \"orientation\": \"v\", \"showlegend\": true, \"type\": \"scatter\", \"x\": [104370.0], \"xaxis\": \"x\", \"y\": [0.9390000000000001], \"yaxis\": \"y\"}, {\"hovertemplate\": \"Title of occupation=Geography Teachers, Postsecondary<br>median_wage=%{marker.size}<br>percentage_bachelors_degree_or_higher=%{y}<extra></extra>\", \"legendgroup\": \"Geography Teachers, Postsecondary\", \"marker\": {\"color\": \"#6C4516\", \"size\": [80520.0], \"sizemode\": \"area\", \"sizeref\": 520.0, \"symbol\": \"circle\"}, \"mode\": \"markers\", \"name\": \"Geography Teachers, Postsecondary\", \"orientation\": \"v\", \"showlegend\": true, \"type\": \"scatter\", \"x\": [80520.0], \"xaxis\": \"x\", \"y\": [0.9390000000000001], \"yaxis\": \"y\"}, {\"hovertemplate\": \"Title of occupation=Political Science Teachers, Postsecondary<br>median_wage=%{marker.size}<br>percentage_bachelors_degree_or_higher=%{y}<extra></extra>\", \"legendgroup\": \"Political Science Teachers, Postsecondary\", \"marker\": {\"color\": \"#0D2A63\", \"size\": [85930.0], \"sizemode\": \"area\", \"sizeref\": 520.0, \"symbol\": \"circle\"}, \"mode\": \"markers\", \"name\": \"Political Science Teachers, Postsecondary\", \"orientation\": \"v\", \"showlegend\": true, \"type\": \"scatter\", \"x\": [85930.0], \"xaxis\": \"x\", \"y\": [0.9390000000000001], \"yaxis\": \"y\"}, {\"hovertemplate\": \"Title of occupation=Psychology Teachers, Postsecondary<br>median_wage=%{marker.size}<br>percentage_bachelors_degree_or_higher=%{y}<extra></extra>\", \"legendgroup\": \"Psychology Teachers, Postsecondary\", \"marker\": {\"color\": \"#AF0038\", \"size\": [76620.0], \"sizemode\": \"area\", \"sizeref\": 520.0, \"symbol\": \"circle\"}, \"mode\": \"markers\", \"name\": \"Psychology Teachers, Postsecondary\", \"orientation\": \"v\", \"showlegend\": true, \"type\": \"scatter\", \"x\": [76620.0], \"xaxis\": \"x\", \"y\": [0.9390000000000001], \"yaxis\": \"y\"}, {\"hovertemplate\": \"Title of occupation=Sociology Teachers, Postsecondary<br>median_wage=%{marker.size}<br>percentage_bachelors_degree_or_higher=%{y}<extra></extra>\", \"legendgroup\": \"Sociology Teachers, Postsecondary\", \"marker\": {\"color\": \"#2E91E5\", \"size\": [75290.0], \"sizemode\": \"area\", \"sizeref\": 520.0, \"symbol\": \"circle\"}, \"mode\": \"markers\", \"name\": \"Sociology Teachers, Postsecondary\", \"orientation\": \"v\", \"showlegend\": true, \"type\": \"scatter\", \"x\": [75290.0], \"xaxis\": \"x\", \"y\": [0.9390000000000001], \"yaxis\": \"y\"}, {\"hovertemplate\": \"Title of occupation=Social Sciences Teachers, Postsecondary, All Other<br>median_wage=%{marker.size}<br>percentage_bachelors_degree_or_higher=%{y}<extra></extra>\", \"legendgroup\": \"Social Sciences Teachers, Postsecondary, All Other\", \"marker\": {\"color\": \"#E15F99\", \"size\": [71530.0], \"sizemode\": \"area\", \"sizeref\": 520.0, \"symbol\": \"circle\"}, \"mode\": \"markers\", \"name\": \"Social Sciences Teachers, Postsecondary, All Other\", \"orientation\": \"v\", \"showlegend\": true, \"type\": \"scatter\", \"x\": [71530.0], \"xaxis\": \"x\", \"y\": [0.9390000000000001], \"yaxis\": \"y\"}, {\"hovertemplate\": \"Title of occupation=Health Specialties Teachers, Postsecondary<br>median_wage=%{marker.size}<br>percentage_bachelors_degree_or_higher=%{y}<extra></extra>\", \"legendgroup\": \"Health Specialties Teachers, Postsecondary\", \"marker\": {\"color\": \"#1CA71C\", \"size\": [97320.0], \"sizemode\": \"area\", \"sizeref\": 520.0, \"symbol\": \"circle\"}, \"mode\": \"markers\", \"name\": \"Health Specialties Teachers, Postsecondary\", \"orientation\": \"v\", \"showlegend\": true, \"type\": \"scatter\", \"x\": [97320.0], \"xaxis\": \"x\", \"y\": [0.9390000000000001], \"yaxis\": \"y\"}, {\"hovertemplate\": \"Title of occupation=Nursing Instructors and Teachers, Postsecondary<br>median_wage=%{marker.size}<br>percentage_bachelors_degree_or_higher=%{y}<extra></extra>\", \"legendgroup\": \"Nursing Instructors and Teachers, Postsecondary\", \"marker\": {\"color\": \"#FB0D0D\", \"size\": [74600.0], \"sizemode\": \"area\", \"sizeref\": 520.0, \"symbol\": \"circle\"}, \"mode\": \"markers\", \"name\": \"Nursing Instructors and Teachers, Postsecondary\", \"orientation\": \"v\", \"showlegend\": true, \"type\": \"scatter\", \"x\": [74600.0], \"xaxis\": \"x\", \"y\": [0.9390000000000001], \"yaxis\": \"y\"}, {\"hovertemplate\": \"Title of occupation=Education Teachers, Postsecondary<br>median_wage=%{marker.size}<br>percentage_bachelors_degree_or_higher=%{y}<extra></extra>\", \"legendgroup\": \"Education Teachers, Postsecondary\", \"marker\": {\"color\": \"#DA16FF\", \"size\": [65510.0], \"sizemode\": \"area\", \"sizeref\": 520.0, \"symbol\": \"circle\"}, \"mode\": \"markers\", \"name\": \"Education Teachers, Postsecondary\", \"orientation\": \"v\", \"showlegend\": true, \"type\": \"scatter\", \"x\": [65510.0], \"xaxis\": \"x\", \"y\": [0.9390000000000001], \"yaxis\": \"y\"}, {\"hovertemplate\": \"Title of occupation=Library Science Teachers, Postsecondary<br>median_wage=%{marker.size}<br>percentage_bachelors_degree_or_higher=%{y}<extra></extra>\", \"legendgroup\": \"Library Science Teachers, Postsecondary\", \"marker\": {\"color\": \"#222A2A\", \"size\": [71410.0], \"sizemode\": \"area\", \"sizeref\": 520.0, \"symbol\": \"circle\"}, \"mode\": \"markers\", \"name\": \"Library Science Teachers, Postsecondary\", \"orientation\": \"v\", \"showlegend\": true, \"type\": \"scatter\", \"x\": [71410.0], \"xaxis\": \"x\", \"y\": [0.9390000000000001], \"yaxis\": \"y\"}, {\"hovertemplate\": \"Title of occupation=Criminal Justice and Law Enforcement Teachers, Postsecondary<br>median_wage=%{marker.size}<br>percentage_bachelors_degree_or_higher=%{y}<extra></extra>\", \"legendgroup\": \"Criminal Justice and Law Enforcement Teachers, Postsecondary\", \"marker\": {\"color\": \"#B68100\", \"size\": [62860.0], \"sizemode\": \"area\", \"sizeref\": 520.0, \"symbol\": \"circle\"}, \"mode\": \"markers\", \"name\": \"Criminal Justice and Law Enforcement Teachers, Postsecondary\", \"orientation\": \"v\", \"showlegend\": true, \"type\": \"scatter\", \"x\": [62860.0], \"xaxis\": \"x\", \"y\": [0.9390000000000001], \"yaxis\": \"y\"}, {\"hovertemplate\": \"Title of occupation=Law Teachers, Postsecondary<br>median_wage=%{marker.size}<br>percentage_bachelors_degree_or_higher=%{y}<extra></extra>\", \"legendgroup\": \"Law Teachers, Postsecondary\", \"marker\": {\"color\": \"#750D86\", \"size\": [113530.0], \"sizemode\": \"area\", \"sizeref\": 520.0, \"symbol\": \"circle\"}, \"mode\": \"markers\", \"name\": \"Law Teachers, Postsecondary\", \"orientation\": \"v\", \"showlegend\": true, \"type\": \"scatter\", \"x\": [113530.0], \"xaxis\": \"x\", \"y\": [0.9390000000000001], \"yaxis\": \"y\"}, {\"hovertemplate\": \"Title of occupation=Social Work Teachers, Postsecondary<br>median_wage=%{marker.size}<br>percentage_bachelors_degree_or_higher=%{y}<extra></extra>\", \"legendgroup\": \"Social Work Teachers, Postsecondary\", \"marker\": {\"color\": \"#EB663B\", \"size\": [72070.0], \"sizemode\": \"area\", \"sizeref\": 520.0, \"symbol\": \"circle\"}, \"mode\": \"markers\", \"name\": \"Social Work Teachers, Postsecondary\", \"orientation\": \"v\", \"showlegend\": true, \"type\": \"scatter\", \"x\": [72070.0], \"xaxis\": \"x\", \"y\": [0.9390000000000001], \"yaxis\": \"y\"}, {\"hovertemplate\": \"Title of occupation=Art, Drama, and Music Teachers, Postsecondary<br>median_wage=%{marker.size}<br>percentage_bachelors_degree_or_higher=%{y}<extra></extra>\", \"legendgroup\": \"Art, Drama, and Music Teachers, Postsecondary\", \"marker\": {\"color\": \"#511CFB\", \"size\": [69530.0], \"sizemode\": \"area\", \"sizeref\": 520.0, \"symbol\": \"circle\"}, \"mode\": \"markers\", \"name\": \"Art, Drama, and Music Teachers, Postsecondary\", \"orientation\": \"v\", \"showlegend\": true, \"type\": \"scatter\", \"x\": [69530.0], \"xaxis\": \"x\", \"y\": [0.9390000000000001], \"yaxis\": \"y\"}, {\"hovertemplate\": \"Title of occupation=Communications Teachers, Postsecondary<br>median_wage=%{marker.size}<br>percentage_bachelors_degree_or_higher=%{y}<extra></extra>\", \"legendgroup\": \"Communications Teachers, Postsecondary\", \"marker\": {\"color\": \"#00A08B\", \"size\": [70630.0], \"sizemode\": \"area\", \"sizeref\": 520.0, \"symbol\": \"circle\"}, \"mode\": \"markers\", \"name\": \"Communications Teachers, Postsecondary\", \"orientation\": \"v\", \"showlegend\": true, \"type\": \"scatter\", \"x\": [70630.0], \"xaxis\": \"x\", \"y\": [0.9390000000000001], \"yaxis\": \"y\"}, {\"hovertemplate\": \"Title of occupation=English Language and Literature Teachers, Postsecondary<br>median_wage=%{marker.size}<br>percentage_bachelors_degree_or_higher=%{y}<extra></extra>\", \"legendgroup\": \"English Language and Literature Teachers, Postsecondary\", \"marker\": {\"color\": \"#FB00D1\", \"size\": [68490.0], \"sizemode\": \"area\", \"sizeref\": 520.0, \"symbol\": \"circle\"}, \"mode\": \"markers\", \"name\": \"English Language and Literature Teachers, Postsecondary\", \"orientation\": \"v\", \"showlegend\": true, \"type\": \"scatter\", \"x\": [68490.0], \"xaxis\": \"x\", \"y\": [0.9390000000000001], \"yaxis\": \"y\"}, {\"hovertemplate\": \"Title of occupation=Foreign Language and Literature Teachers, Postsecondary<br>median_wage=%{marker.size}<br>percentage_bachelors_degree_or_higher=%{y}<extra></extra>\", \"legendgroup\": \"Foreign Language and Literature Teachers, Postsecondary\", \"marker\": {\"color\": \"#FC0080\", \"size\": [69990.0], \"sizemode\": \"area\", \"sizeref\": 520.0, \"symbol\": \"circle\"}, \"mode\": \"markers\", \"name\": \"Foreign Language and Literature Teachers, Postsecondary\", \"orientation\": \"v\", \"showlegend\": true, \"type\": \"scatter\", \"x\": [69990.0], \"xaxis\": \"x\", \"y\": [0.9390000000000001], \"yaxis\": \"y\"}, {\"hovertemplate\": \"Title of occupation=History Teachers, Postsecondary<br>median_wage=%{marker.size}<br>percentage_bachelors_degree_or_higher=%{y}<extra></extra>\", \"legendgroup\": \"History Teachers, Postsecondary\", \"marker\": {\"color\": \"#B2828D\", \"size\": [75170.0], \"sizemode\": \"area\", \"sizeref\": 520.0, \"symbol\": \"circle\"}, \"mode\": \"markers\", \"name\": \"History Teachers, Postsecondary\", \"orientation\": \"v\", \"showlegend\": true, \"type\": \"scatter\", \"x\": [75170.0], \"xaxis\": \"x\", \"y\": [0.9390000000000001], \"yaxis\": \"y\"}, {\"hovertemplate\": \"Title of occupation=Philosophy and Religion Teachers, Postsecondary<br>median_wage=%{marker.size}<br>percentage_bachelors_degree_or_higher=%{y}<extra></extra>\", \"legendgroup\": \"Philosophy and Religion Teachers, Postsecondary\", \"marker\": {\"color\": \"#6C7C32\", \"size\": [75240.0], \"sizemode\": \"area\", \"sizeref\": 520.0, \"symbol\": \"circle\"}, \"mode\": \"markers\", \"name\": \"Philosophy and Religion Teachers, Postsecondary\", \"orientation\": \"v\", \"showlegend\": true, \"type\": \"scatter\", \"x\": [75240.0], \"xaxis\": \"x\", \"y\": [0.9390000000000001], \"yaxis\": \"y\"}, {\"hovertemplate\": \"Title of occupation=Family and Consumer Sciences Teachers, Postsecondary<br>median_wage=%{marker.size}<br>percentage_bachelors_degree_or_higher=%{y}<extra></extra>\", \"legendgroup\": \"Family and Consumer Sciences Teachers, Postsecondary\", \"marker\": {\"color\": \"#778AAE\", \"size\": [76480.0], \"sizemode\": \"area\", \"sizeref\": 520.0, \"symbol\": \"circle\"}, \"mode\": \"markers\", \"name\": \"Family and Consumer Sciences Teachers, Postsecondary\", \"orientation\": \"v\", \"showlegend\": true, \"type\": \"scatter\", \"x\": [76480.0], \"xaxis\": \"x\", \"y\": [0.9390000000000001], \"yaxis\": \"y\"}, {\"hovertemplate\": \"Title of occupation=Recreation and Fitness Studies Teachers, Postsecondary<br>median_wage=%{marker.size}<br>percentage_bachelors_degree_or_higher=%{y}<extra></extra>\", \"legendgroup\": \"Recreation and Fitness Studies Teachers, Postsecondary\", \"marker\": {\"color\": \"#862A16\", \"size\": [64380.0], \"sizemode\": \"area\", \"sizeref\": 520.0, \"symbol\": \"circle\"}, \"mode\": \"markers\", \"name\": \"Recreation and Fitness Studies Teachers, Postsecondary\", \"orientation\": \"v\", \"showlegend\": true, \"type\": \"scatter\", \"x\": [64380.0], \"xaxis\": \"x\", \"y\": [0.9390000000000001], \"yaxis\": \"y\"}, {\"hovertemplate\": \"Title of occupation=Career/Technical Education Teachers, Postsecondary<br>median_wage=%{marker.size}<br>percentage_bachelors_degree_or_higher=%{y}<extra></extra>\", \"legendgroup\": \"Career/Technical Education Teachers, Postsecondary\", \"marker\": {\"color\": \"#A777F1\", \"size\": [54620.0], \"sizemode\": \"area\", \"sizeref\": 520.0, \"symbol\": \"circle\"}, \"mode\": \"markers\", \"name\": \"Career/Technical Education Teachers, Postsecondary\", \"orientation\": \"v\", \"showlegend\": true, \"type\": \"scatter\", \"x\": [54620.0], \"xaxis\": \"x\", \"y\": [0.9390000000000001], \"yaxis\": \"y\"}, {\"hovertemplate\": \"Title of occupation=Postsecondary Teachers, All Other<br>median_wage=%{marker.size}<br>percentage_bachelors_degree_or_higher=%{y}<extra></extra>\", \"legendgroup\": \"Postsecondary Teachers, All Other\", \"marker\": {\"color\": \"#620042\", \"size\": [68970.0], \"sizemode\": \"area\", \"sizeref\": 520.0, \"symbol\": \"circle\"}, \"mode\": \"markers\", \"name\": \"Postsecondary Teachers, All Other\", \"orientation\": \"v\", \"showlegend\": true, \"type\": \"scatter\", \"x\": [68970.0], \"xaxis\": \"x\", \"y\": [0.9390000000000001], \"yaxis\": \"y\"}, {\"hovertemplate\": \"Title of occupation=Elementary School Teachers, Except Special Education<br>median_wage=%{marker.size}<br>percentage_bachelors_degree_or_higher=%{y}<extra></extra>\", \"legendgroup\": \"Elementary School Teachers, Except Special Education\", \"marker\": {\"color\": \"#1616A7\", \"size\": [59670.0], \"sizemode\": \"area\", \"sizeref\": 520.0, \"symbol\": \"circle\"}, \"mode\": \"markers\", \"name\": \"Elementary School Teachers, Except Special Education\", \"orientation\": \"v\", \"showlegend\": true, \"type\": \"scatter\", \"x\": [59670.0], \"xaxis\": \"x\", \"y\": [0.946], \"yaxis\": \"y\"}, {\"hovertemplate\": \"Title of occupation=Middle School Teachers, Except Special and Career/Technical Education<br>median_wage=%{marker.size}<br>percentage_bachelors_degree_or_higher=%{y}<extra></extra>\", \"legendgroup\": \"Middle School Teachers, Except Special and Career/Technical Education\", \"marker\": {\"color\": \"#DA60CA\", \"size\": [59660.0], \"sizemode\": \"area\", \"sizeref\": 520.0, \"symbol\": \"circle\"}, \"mode\": \"markers\", \"name\": \"Middle School Teachers, Except Special and Career/Technical Education\", \"orientation\": \"v\", \"showlegend\": true, \"type\": \"scatter\", \"x\": [59660.0], \"xaxis\": \"x\", \"y\": [0.946], \"yaxis\": \"y\"}, {\"hovertemplate\": \"Title of occupation=Career/Technical Education Teachers, Middle School<br>median_wage=%{marker.size}<br>percentage_bachelors_degree_or_higher=%{y}<extra></extra>\", \"legendgroup\": \"Career/Technical Education Teachers, Middle School\", \"marker\": {\"color\": \"#6C4516\", \"size\": [60800.0], \"sizemode\": \"area\", \"sizeref\": 520.0, \"symbol\": \"circle\"}, \"mode\": \"markers\", \"name\": \"Career/Technical Education Teachers, Middle School\", \"orientation\": \"v\", \"showlegend\": true, \"type\": \"scatter\", \"x\": [60800.0], \"xaxis\": \"x\", \"y\": [0.946], \"yaxis\": \"y\"}, {\"hovertemplate\": \"Title of occupation=Secondary School Teachers, Except Special and Career/Technical Education<br>median_wage=%{marker.size}<br>percentage_bachelors_degree_or_higher=%{y}<extra></extra>\", \"legendgroup\": \"Secondary School Teachers, Except Special and Career/Technical Education\", \"marker\": {\"color\": \"#0D2A63\", \"size\": [61660.0], \"sizemode\": \"area\", \"sizeref\": 520.0, \"symbol\": \"circle\"}, \"mode\": \"markers\", \"name\": \"Secondary School Teachers, Except Special and Career/Technical Education\", \"orientation\": \"v\", \"showlegend\": true, \"type\": \"scatter\", \"x\": [61660.0], \"xaxis\": \"x\", \"y\": [0.965], \"yaxis\": \"y\"}, {\"hovertemplate\": \"Title of occupation=Career/Technical Education Teachers, Secondary School<br>median_wage=%{marker.size}<br>percentage_bachelors_degree_or_higher=%{y}<extra></extra>\", \"legendgroup\": \"Career/Technical Education Teachers, Secondary School\", \"marker\": {\"color\": \"#AF0038\", \"size\": [61710.0], \"sizemode\": \"area\", \"sizeref\": 520.0, \"symbol\": \"circle\"}, \"mode\": \"markers\", \"name\": \"Career/Technical Education Teachers, Secondary School\", \"orientation\": \"v\", \"showlegend\": true, \"type\": \"scatter\", \"x\": [61710.0], \"xaxis\": \"x\", \"y\": [0.965], \"yaxis\": \"y\"}, {\"hovertemplate\": \"Title of occupation=Special Education Teachers, Preschool<br>median_wage=%{marker.size}<br>percentage_bachelors_degree_or_higher=%{y}<extra></extra>\", \"legendgroup\": \"Special Education Teachers, Preschool\", \"marker\": {\"color\": \"#2E91E5\", \"size\": [60000.0], \"sizemode\": \"area\", \"sizeref\": 520.0, \"symbol\": \"circle\"}, \"mode\": \"markers\", \"name\": \"Special Education Teachers, Preschool\", \"orientation\": \"v\", \"showlegend\": true, \"type\": \"scatter\", \"x\": [60000.0], \"xaxis\": \"x\", \"y\": [0.89], \"yaxis\": \"y\"}, {\"hovertemplate\": \"Title of occupation=Special Education Teachers, Kindergarten and Elementary School<br>median_wage=%{marker.size}<br>percentage_bachelors_degree_or_higher=%{y}<extra></extra>\", \"legendgroup\": \"Special Education Teachers, Kindergarten and Elementary School\", \"marker\": {\"color\": \"#E15F99\", \"size\": [60460.0], \"sizemode\": \"area\", \"sizeref\": 520.0, \"symbol\": \"circle\"}, \"mode\": \"markers\", \"name\": \"Special Education Teachers, Kindergarten and Elementary School\", \"orientation\": \"v\", \"showlegend\": true, \"type\": \"scatter\", \"x\": [60460.0], \"xaxis\": \"x\", \"y\": [0.89], \"yaxis\": \"y\"}, {\"hovertemplate\": \"Title of occupation=Special Education Teachers, Middle School<br>median_wage=%{marker.size}<br>percentage_bachelors_degree_or_higher=%{y}<extra></extra>\", \"legendgroup\": \"Special Education Teachers, Middle School\", \"marker\": {\"color\": \"#1CA71C\", \"size\": [61440.0], \"sizemode\": \"area\", \"sizeref\": 520.0, \"symbol\": \"circle\"}, \"mode\": \"markers\", \"name\": \"Special Education Teachers, Middle School\", \"orientation\": \"v\", \"showlegend\": true, \"type\": \"scatter\", \"x\": [61440.0], \"xaxis\": \"x\", \"y\": [0.89], \"yaxis\": \"y\"}, {\"hovertemplate\": \"Title of occupation=Special Education Teachers, Secondary School<br>median_wage=%{marker.size}<br>percentage_bachelors_degree_or_higher=%{y}<extra></extra>\", \"legendgroup\": \"Special Education Teachers, Secondary School\", \"marker\": {\"color\": \"#FB0D0D\", \"size\": [61710.0], \"sizemode\": \"area\", \"sizeref\": 520.0, \"symbol\": \"circle\"}, \"mode\": \"markers\", \"name\": \"Special Education Teachers, Secondary School\", \"orientation\": \"v\", \"showlegend\": true, \"type\": \"scatter\", \"x\": [61710.0], \"xaxis\": \"x\", \"y\": [0.89], \"yaxis\": \"y\"}, {\"hovertemplate\": \"Title of occupation=Special Education Teachers, All Other<br>median_wage=%{marker.size}<br>percentage_bachelors_degree_or_higher=%{y}<extra></extra>\", \"legendgroup\": \"Special Education Teachers, All Other\", \"marker\": {\"color\": \"#DA16FF\", \"size\": [61190.0], \"sizemode\": \"area\", \"sizeref\": 520.0, \"symbol\": \"circle\"}, \"mode\": \"markers\", \"name\": \"Special Education Teachers, All Other\", \"orientation\": \"v\", \"showlegend\": true, \"type\": \"scatter\", \"x\": [61190.0], \"xaxis\": \"x\", \"y\": [0.89], \"yaxis\": \"y\"}, {\"hovertemplate\": \"Title of occupation=Librarians and Media Collections Specialists<br>median_wage=%{marker.size}<br>percentage_bachelors_degree_or_higher=%{y}<extra></extra>\", \"legendgroup\": \"Librarians and Media Collections Specialists\", \"marker\": {\"color\": \"#222A2A\", \"size\": [59500.0], \"sizemode\": \"area\", \"sizeref\": 520.0, \"symbol\": \"circle\"}, \"mode\": \"markers\", \"name\": \"Librarians and Media Collections Specialists\", \"orientation\": \"v\", \"showlegend\": true, \"type\": \"scatter\", \"x\": [59500.0], \"xaxis\": \"x\", \"y\": [0.868], \"yaxis\": \"y\"}, {\"hovertemplate\": \"Title of occupation=Farm and Home Management Educators<br>median_wage=%{marker.size}<br>percentage_bachelors_degree_or_higher=%{y}<extra></extra>\", \"legendgroup\": \"Farm and Home Management Educators\", \"marker\": {\"color\": \"#B68100\", \"size\": [49710.0], \"sizemode\": \"area\", \"sizeref\": 520.0, \"symbol\": \"circle\"}, \"mode\": \"markers\", \"name\": \"Farm and Home Management Educators\", \"orientation\": \"v\", \"showlegend\": true, \"type\": \"scatter\", \"x\": [49710.0], \"xaxis\": \"x\", \"y\": [0.8540000000000001], \"yaxis\": \"y\"}, {\"hovertemplate\": \"Title of occupation=Instructional Coordinators<br>median_wage=%{marker.size}<br>percentage_bachelors_degree_or_higher=%{y}<extra></extra>\", \"legendgroup\": \"Instructional Coordinators\", \"marker\": {\"color\": \"#750D86\", \"size\": [66290.0], \"sizemode\": \"area\", \"sizeref\": 520.0, \"symbol\": \"circle\"}, \"mode\": \"markers\", \"name\": \"Instructional Coordinators\", \"orientation\": \"v\", \"showlegend\": true, \"type\": \"scatter\", \"x\": [66290.0], \"xaxis\": \"x\", \"y\": [0.8540000000000001], \"yaxis\": \"y\"}, {\"hovertemplate\": \"Title of occupation=Educational Instruction and Library Workers, All Other<br>median_wage=%{marker.size}<br>percentage_bachelors_degree_or_higher=%{y}<extra></extra>\", \"legendgroup\": \"Educational Instruction and Library Workers, All Other\", \"marker\": {\"color\": \"#EB663B\", \"size\": [40310.0], \"sizemode\": \"area\", \"sizeref\": 520.0, \"symbol\": \"circle\"}, \"mode\": \"markers\", \"name\": \"Educational Instruction and Library Workers, All Other\", \"orientation\": \"v\", \"showlegend\": true, \"type\": \"scatter\", \"x\": [40310.0], \"xaxis\": \"x\", \"y\": [0.8540000000000001], \"yaxis\": \"y\"}, {\"hovertemplate\": \"Title of occupation=News Analysts, Reporters, and Journalists<br>median_wage=%{marker.size}<br>percentage_bachelors_degree_or_higher=%{y}<extra></extra>\", \"legendgroup\": \"News Analysts, Reporters, and Journalists\", \"marker\": {\"color\": \"#511CFB\", \"size\": [46270.0], \"sizemode\": \"area\", \"sizeref\": 520.0, \"symbol\": \"circle\"}, \"mode\": \"markers\", \"name\": \"News Analysts, Reporters, and Journalists\", \"orientation\": \"v\", \"showlegend\": true, \"type\": \"scatter\", \"x\": [46270.0], \"xaxis\": \"x\", \"y\": [0.846], \"yaxis\": \"y\"}, {\"hovertemplate\": \"Title of occupation=Public Relations Specialists<br>median_wage=%{marker.size}<br>percentage_bachelors_degree_or_higher=%{y}<extra></extra>\", \"legendgroup\": \"Public Relations Specialists\", \"marker\": {\"color\": \"#00A08B\", \"size\": [61150.0], \"sizemode\": \"area\", \"sizeref\": 520.0, \"symbol\": \"circle\"}, \"mode\": \"markers\", \"name\": \"Public Relations Specialists\", \"orientation\": \"v\", \"showlegend\": true, \"type\": \"scatter\", \"x\": [61150.0], \"xaxis\": \"x\", \"y\": [0.846], \"yaxis\": \"y\"}, {\"hovertemplate\": \"Title of occupation=Editors<br>median_wage=%{marker.size}<br>percentage_bachelors_degree_or_higher=%{y}<extra></extra>\", \"legendgroup\": \"Editors\", \"marker\": {\"color\": \"#FB00D1\", \"size\": [61370.0], \"sizemode\": \"area\", \"sizeref\": 520.0, \"symbol\": \"circle\"}, \"mode\": \"markers\", \"name\": \"Editors\", \"orientation\": \"v\", \"showlegend\": true, \"type\": \"scatter\", \"x\": [61370.0], \"xaxis\": \"x\", \"y\": [0.8390000000000001], \"yaxis\": \"y\"}, {\"hovertemplate\": \"Title of occupation=Writers and Authors<br>median_wage=%{marker.size}<br>percentage_bachelors_degree_or_higher=%{y}<extra></extra>\", \"legendgroup\": \"Writers and Authors\", \"marker\": {\"color\": \"#FC0080\", \"size\": [63200.0], \"sizemode\": \"area\", \"sizeref\": 520.0, \"symbol\": \"circle\"}, \"mode\": \"markers\", \"name\": \"Writers and Authors\", \"orientation\": \"v\", \"showlegend\": true, \"type\": \"scatter\", \"x\": [63200.0], \"xaxis\": \"x\", \"y\": [0.8440000000000001], \"yaxis\": \"y\"}, {\"hovertemplate\": \"Title of occupation=Chiropractors<br>median_wage=%{marker.size}<br>percentage_bachelors_degree_or_higher=%{y}<extra></extra>\", \"legendgroup\": \"Chiropractors\", \"marker\": {\"color\": \"#B2828D\", \"size\": [70340.0], \"sizemode\": \"area\", \"sizeref\": 520.0, \"symbol\": \"circle\"}, \"mode\": \"markers\", \"name\": \"Chiropractors\", \"orientation\": \"v\", \"showlegend\": true, \"type\": \"scatter\", \"x\": [70340.0], \"xaxis\": \"x\", \"y\": [0.973], \"yaxis\": \"y\"}, {\"hovertemplate\": \"Title of occupation=Dentists, General<br>median_wage=%{marker.size}<br>percentage_bachelors_degree_or_higher=%{y}<extra></extra>\", \"legendgroup\": \"Dentists, General\", \"marker\": {\"color\": \"#6C7C32\", \"size\": [155600.0], \"sizemode\": \"area\", \"sizeref\": 520.0, \"symbol\": \"circle\"}, \"mode\": \"markers\", \"name\": \"Dentists, General\", \"orientation\": \"v\", \"showlegend\": true, \"type\": \"scatter\", \"x\": [155600.0], \"xaxis\": \"x\", \"y\": [1.0], \"yaxis\": \"y\"}, {\"hovertemplate\": \"Title of occupation=Oral and Maxillofacial Surgeons<br>median_wage=%{marker.size}<br>percentage_bachelors_degree_or_higher=%{y}<extra></extra>\", \"legendgroup\": \"Oral and Maxillofacial Surgeons\", \"marker\": {\"color\": \"#778AAE\", \"size\": [208000.0], \"sizemode\": \"area\", \"sizeref\": 520.0, \"symbol\": \"circle\"}, \"mode\": \"markers\", \"name\": \"Oral and Maxillofacial Surgeons\", \"orientation\": \"v\", \"showlegend\": true, \"type\": \"scatter\", \"x\": [208000.0], \"xaxis\": \"x\", \"y\": [1.0], \"yaxis\": \"y\"}, {\"hovertemplate\": \"Title of occupation=Orthodontists<br>median_wage=%{marker.size}<br>percentage_bachelors_degree_or_higher=%{y}<extra></extra>\", \"legendgroup\": \"Orthodontists\", \"marker\": {\"color\": \"#862A16\", \"size\": [208000.0], \"sizemode\": \"area\", \"sizeref\": 520.0, \"symbol\": \"circle\"}, \"mode\": \"markers\", \"name\": \"Orthodontists\", \"orientation\": \"v\", \"showlegend\": true, \"type\": \"scatter\", \"x\": [208000.0], \"xaxis\": \"x\", \"y\": [1.0], \"yaxis\": \"y\"}, {\"hovertemplate\": \"Title of occupation=Prosthodontists<br>median_wage=%{marker.size}<br>percentage_bachelors_degree_or_higher=%{y}<extra></extra>\", \"legendgroup\": \"Prosthodontists\", \"marker\": {\"color\": \"#A777F1\", \"size\": [208000.0], \"sizemode\": \"area\", \"sizeref\": 520.0, \"symbol\": \"circle\"}, \"mode\": \"markers\", \"name\": \"Prosthodontists\", \"orientation\": \"v\", \"showlegend\": true, \"type\": \"scatter\", \"x\": [208000.0], \"xaxis\": \"x\", \"y\": [1.0], \"yaxis\": \"y\"}, {\"hovertemplate\": \"Title of occupation=Dentists, All Other Specialists<br>median_wage=%{marker.size}<br>percentage_bachelors_degree_or_higher=%{y}<extra></extra>\", \"legendgroup\": \"Dentists, All Other Specialists\", \"marker\": {\"color\": \"#620042\", \"size\": [147220.0], \"sizemode\": \"area\", \"sizeref\": 520.0, \"symbol\": \"circle\"}, \"mode\": \"markers\", \"name\": \"Dentists, All Other Specialists\", \"orientation\": \"v\", \"showlegend\": true, \"type\": \"scatter\", \"x\": [147220.0], \"xaxis\": \"x\", \"y\": [1.0], \"yaxis\": \"y\"}, {\"hovertemplate\": \"Title of occupation=Optometrists<br>median_wage=%{marker.size}<br>percentage_bachelors_degree_or_higher=%{y}<extra></extra>\", \"legendgroup\": \"Optometrists\", \"marker\": {\"color\": \"#1616A7\", \"size\": [115250.0], \"sizemode\": \"area\", \"sizeref\": 520.0, \"symbol\": \"circle\"}, \"mode\": \"markers\", \"name\": \"Optometrists\", \"orientation\": \"v\", \"showlegend\": true, \"type\": \"scatter\", \"x\": [115250.0], \"xaxis\": \"x\", \"y\": [1.0], \"yaxis\": \"y\"}, {\"hovertemplate\": \"Title of occupation=Pharmacists<br>median_wage=%{marker.size}<br>percentage_bachelors_degree_or_higher=%{y}<extra></extra>\", \"legendgroup\": \"Pharmacists\", \"marker\": {\"color\": \"#DA60CA\", \"size\": [128090.0], \"sizemode\": \"area\", \"sizeref\": 520.0, \"symbol\": \"circle\"}, \"mode\": \"markers\", \"name\": \"Pharmacists\", \"orientation\": \"v\", \"showlegend\": true, \"type\": \"scatter\", \"x\": [128090.0], \"xaxis\": \"x\", \"y\": [0.972], \"yaxis\": \"y\"}, {\"hovertemplate\": \"Title of occupation=Physician Assistants<br>median_wage=%{marker.size}<br>percentage_bachelors_degree_or_higher=%{y}<extra></extra>\", \"legendgroup\": \"Physician Assistants\", \"marker\": {\"color\": \"#6C4516\", \"size\": [112260.0], \"sizemode\": \"area\", \"sizeref\": 520.0, \"symbol\": \"circle\"}, \"mode\": \"markers\", \"name\": \"Physician Assistants\", \"orientation\": \"v\", \"showlegend\": true, \"type\": \"scatter\", \"x\": [112260.0], \"xaxis\": \"x\", \"y\": [0.905], \"yaxis\": \"y\"}, {\"hovertemplate\": \"Title of occupation=Podiatrists<br>median_wage=%{marker.size}<br>percentage_bachelors_degree_or_higher=%{y}<extra></extra>\", \"legendgroup\": \"Podiatrists\", \"marker\": {\"color\": \"#0D2A63\", \"size\": [126240.0], \"sizemode\": \"area\", \"sizeref\": 520.0, \"symbol\": \"circle\"}, \"mode\": \"markers\", \"name\": \"Podiatrists\", \"orientation\": \"v\", \"showlegend\": true, \"type\": \"scatter\", \"x\": [126240.0], \"xaxis\": \"x\", \"y\": [1.0], \"yaxis\": \"y\"}, {\"hovertemplate\": \"Title of occupation=Occupational Therapists<br>median_wage=%{marker.size}<br>percentage_bachelors_degree_or_higher=%{y}<extra></extra>\", \"legendgroup\": \"Occupational Therapists\", \"marker\": {\"color\": \"#AF0038\", \"size\": [84950.0], \"sizemode\": \"area\", \"sizeref\": 520.0, \"symbol\": \"circle\"}, \"mode\": \"markers\", \"name\": \"Occupational Therapists\", \"orientation\": \"v\", \"showlegend\": true, \"type\": \"scatter\", \"x\": [84950.0], \"xaxis\": \"x\", \"y\": [0.9279999999999999], \"yaxis\": \"y\"}, {\"hovertemplate\": \"Title of occupation=Physical Therapists<br>median_wage=%{marker.size}<br>percentage_bachelors_degree_or_higher=%{y}<extra></extra>\", \"legendgroup\": \"Physical Therapists\", \"marker\": {\"color\": \"#2E91E5\", \"size\": [89440.0], \"sizemode\": \"area\", \"sizeref\": 520.0, \"symbol\": \"circle\"}, \"mode\": \"markers\", \"name\": \"Physical Therapists\", \"orientation\": \"v\", \"showlegend\": true, \"type\": \"scatter\", \"x\": [89440.0], \"xaxis\": \"x\", \"y\": [0.946], \"yaxis\": \"y\"}, {\"hovertemplate\": \"Title of occupation=Speech-Language Pathologists<br>median_wage=%{marker.size}<br>percentage_bachelors_degree_or_higher=%{y}<extra></extra>\", \"legendgroup\": \"Speech-Language Pathologists\", \"marker\": {\"color\": \"#E15F99\", \"size\": [79120.0], \"sizemode\": \"area\", \"sizeref\": 520.0, \"symbol\": \"circle\"}, \"mode\": \"markers\", \"name\": \"Speech-Language Pathologists\", \"orientation\": \"v\", \"showlegend\": true, \"type\": \"scatter\", \"x\": [79120.0], \"xaxis\": \"x\", \"y\": [0.968], \"yaxis\": \"y\"}, {\"hovertemplate\": \"Title of occupation=Exercise Physiologists<br>median_wage=%{marker.size}<br>percentage_bachelors_degree_or_higher=%{y}<extra></extra>\", \"legendgroup\": \"Exercise Physiologists\", \"marker\": {\"color\": \"#1CA71C\", \"size\": [49170.0], \"sizemode\": \"area\", \"sizeref\": 520.0, \"symbol\": \"circle\"}, \"mode\": \"markers\", \"name\": \"Exercise Physiologists\", \"orientation\": \"v\", \"showlegend\": true, \"type\": \"scatter\", \"x\": [49170.0], \"xaxis\": \"x\", \"y\": [0.875], \"yaxis\": \"y\"}, {\"hovertemplate\": \"Title of occupation=Therapists, All Other<br>median_wage=%{marker.size}<br>percentage_bachelors_degree_or_higher=%{y}<extra></extra>\", \"legendgroup\": \"Therapists, All Other\", \"marker\": {\"color\": \"#FB0D0D\", \"size\": [52650.0], \"sizemode\": \"area\", \"sizeref\": 520.0, \"symbol\": \"circle\"}, \"mode\": \"markers\", \"name\": \"Therapists, All Other\", \"orientation\": \"v\", \"showlegend\": true, \"type\": \"scatter\", \"x\": [52650.0], \"xaxis\": \"x\", \"y\": [0.875], \"yaxis\": \"y\"}, {\"hovertemplate\": \"Title of occupation=Veterinarians<br>median_wage=%{marker.size}<br>percentage_bachelors_degree_or_higher=%{y}<extra></extra>\", \"legendgroup\": \"Veterinarians\", \"marker\": {\"color\": \"#DA16FF\", \"size\": [95460.0], \"sizemode\": \"area\", \"sizeref\": 520.0, \"symbol\": \"circle\"}, \"mode\": \"markers\", \"name\": \"Veterinarians\", \"orientation\": \"v\", \"showlegend\": true, \"type\": \"scatter\", \"x\": [95460.0], \"xaxis\": \"x\", \"y\": [1.0], \"yaxis\": \"y\"}, {\"hovertemplate\": \"Title of occupation=Nurse Anesthetists<br>median_wage=%{marker.size}<br>percentage_bachelors_degree_or_higher=%{y}<extra></extra>\", \"legendgroup\": \"Nurse Anesthetists\", \"marker\": {\"color\": \"#222A2A\", \"size\": [174790.0], \"sizemode\": \"area\", \"sizeref\": 520.0, \"symbol\": \"circle\"}, \"mode\": \"markers\", \"name\": \"Nurse Anesthetists\", \"orientation\": \"v\", \"showlegend\": true, \"type\": \"scatter\", \"x\": [174790.0], \"xaxis\": \"x\", \"y\": [0.971], \"yaxis\": \"y\"}, {\"hovertemplate\": \"Title of occupation=Nurse Midwives<br>median_wage=%{marker.size}<br>percentage_bachelors_degree_or_higher=%{y}<extra></extra>\", \"legendgroup\": \"Nurse Midwives\", \"marker\": {\"color\": \"#B68100\", \"size\": [105030.0], \"sizemode\": \"area\", \"sizeref\": 520.0, \"symbol\": \"circle\"}, \"mode\": \"markers\", \"name\": \"Nurse Midwives\", \"orientation\": \"v\", \"showlegend\": true, \"type\": \"scatter\", \"x\": [105030.0], \"xaxis\": \"x\", \"y\": [0.986], \"yaxis\": \"y\"}, {\"hovertemplate\": \"Title of occupation=Nurse Practitioners<br>median_wage=%{marker.size}<br>percentage_bachelors_degree_or_higher=%{y}<extra></extra>\", \"legendgroup\": \"Nurse Practitioners\", \"marker\": {\"color\": \"#750D86\", \"size\": [109820.0], \"sizemode\": \"area\", \"sizeref\": 520.0, \"symbol\": \"circle\"}, \"mode\": \"markers\", \"name\": \"Nurse Practitioners\", \"orientation\": \"v\", \"showlegend\": true, \"type\": \"scatter\", \"x\": [109820.0], \"xaxis\": \"x\", \"y\": [0.986], \"yaxis\": \"y\"}, {\"hovertemplate\": \"Title of occupation=Audiologists<br>median_wage=%{marker.size}<br>percentage_bachelors_degree_or_higher=%{y}<extra></extra>\", \"legendgroup\": \"Audiologists\", \"marker\": {\"color\": \"#EB663B\", \"size\": [77600.0], \"sizemode\": \"area\", \"sizeref\": 520.0, \"symbol\": \"circle\"}, \"mode\": \"markers\", \"name\": \"Audiologists\", \"orientation\": \"v\", \"showlegend\": true, \"type\": \"scatter\", \"x\": [77600.0], \"xaxis\": \"x\", \"y\": [0.9840000000000001], \"yaxis\": \"y\"}, {\"hovertemplate\": \"Title of occupation=Anesthesiologists<br>median_wage=%{marker.size}<br>percentage_bachelors_degree_or_higher=%{y}<extra></extra>\", \"legendgroup\": \"Anesthesiologists\", \"marker\": {\"color\": \"#511CFB\", \"size\": [208000.0], \"sizemode\": \"area\", \"sizeref\": 520.0, \"symbol\": \"circle\"}, \"mode\": \"markers\", \"name\": \"Anesthesiologists\", \"orientation\": \"v\", \"showlegend\": true, \"type\": \"scatter\", \"x\": [208000.0], \"xaxis\": \"x\", \"y\": [1.0], \"yaxis\": \"y\"}, {\"hovertemplate\": \"Title of occupation=Family Medicine Physicians<br>median_wage=%{marker.size}<br>percentage_bachelors_degree_or_higher=%{y}<extra></extra>\", \"legendgroup\": \"Family Medicine Physicians\", \"marker\": {\"color\": \"#00A08B\", \"size\": [205590.0], \"sizemode\": \"area\", \"sizeref\": 520.0, \"symbol\": \"circle\"}, \"mode\": \"markers\", \"name\": \"Family Medicine Physicians\", \"orientation\": \"v\", \"showlegend\": true, \"type\": \"scatter\", \"x\": [205590.0], \"xaxis\": \"x\", \"y\": [1.0], \"yaxis\": \"y\"}, {\"hovertemplate\": \"Title of occupation=General Internal Medicine Physicians<br>median_wage=%{marker.size}<br>percentage_bachelors_degree_or_higher=%{y}<extra></extra>\", \"legendgroup\": \"General Internal Medicine Physicians\", \"marker\": {\"color\": \"#FB00D1\", \"size\": [201590.0], \"sizemode\": \"area\", \"sizeref\": 520.0, \"symbol\": \"circle\"}, \"mode\": \"markers\", \"name\": \"General Internal Medicine Physicians\", \"orientation\": \"v\", \"showlegend\": true, \"type\": \"scatter\", \"x\": [201590.0], \"xaxis\": \"x\", \"y\": [1.0], \"yaxis\": \"y\"}, {\"hovertemplate\": \"Title of occupation=Obstetricians and Gynecologists<br>median_wage=%{marker.size}<br>percentage_bachelors_degree_or_higher=%{y}<extra></extra>\", \"legendgroup\": \"Obstetricians and Gynecologists\", \"marker\": {\"color\": \"#FC0080\", \"size\": [208000.0], \"sizemode\": \"area\", \"sizeref\": 520.0, \"symbol\": \"circle\"}, \"mode\": \"markers\", \"name\": \"Obstetricians and Gynecologists\", \"orientation\": \"v\", \"showlegend\": true, \"type\": \"scatter\", \"x\": [208000.0], \"xaxis\": \"x\", \"y\": [1.0], \"yaxis\": \"y\"}, {\"hovertemplate\": \"Title of occupation=Pediatricians, General<br>median_wage=%{marker.size}<br>percentage_bachelors_degree_or_higher=%{y}<extra></extra>\", \"legendgroup\": \"Pediatricians, General\", \"marker\": {\"color\": \"#B2828D\", \"size\": [175310.0], \"sizemode\": \"area\", \"sizeref\": 520.0, \"symbol\": \"circle\"}, \"mode\": \"markers\", \"name\": \"Pediatricians, General\", \"orientation\": \"v\", \"showlegend\": true, \"type\": \"scatter\", \"x\": [175310.0], \"xaxis\": \"x\", \"y\": [1.0], \"yaxis\": \"y\"}, {\"hovertemplate\": \"Title of occupation=Psychiatrists<br>median_wage=%{marker.size}<br>percentage_bachelors_degree_or_higher=%{y}<extra></extra>\", \"legendgroup\": \"Psychiatrists\", \"marker\": {\"color\": \"#6C7C32\", \"size\": [208000.0], \"sizemode\": \"area\", \"sizeref\": 520.0, \"symbol\": \"circle\"}, \"mode\": \"markers\", \"name\": \"Psychiatrists\", \"orientation\": \"v\", \"showlegend\": true, \"type\": \"scatter\", \"x\": [208000.0], \"xaxis\": \"x\", \"y\": [1.0], \"yaxis\": \"y\"}, {\"hovertemplate\": \"Title of occupation=Physicians, All Other; and Ophthalmologists, Except Pediatric<br>median_wage=%{marker.size}<br>percentage_bachelors_degree_or_higher=%{y}<extra></extra>\", \"legendgroup\": \"Physicians, All Other; and Ophthalmologists, Except Pediatric\", \"marker\": {\"color\": \"#778AAE\", \"size\": [206500.0], \"sizemode\": \"area\", \"sizeref\": 520.0, \"symbol\": \"circle\"}, \"mode\": \"markers\", \"name\": \"Physicians, All Other; and Ophthalmologists, Except Pediatric\", \"orientation\": \"v\", \"showlegend\": true, \"type\": \"scatter\", \"x\": [206500.0], \"xaxis\": \"x\", \"y\": [1.0], \"yaxis\": \"y\"}, {\"hovertemplate\": \"Title of occupation=Surgeons, Except Ophthalmologists<br>median_wage=%{marker.size}<br>percentage_bachelors_degree_or_higher=%{y}<extra></extra>\", \"legendgroup\": \"Surgeons, Except Ophthalmologists\", \"marker\": {\"color\": \"#862A16\", \"size\": [208000.0], \"sizemode\": \"area\", \"sizeref\": 520.0, \"symbol\": \"circle\"}, \"mode\": \"markers\", \"name\": \"Surgeons, Except Ophthalmologists\", \"orientation\": \"v\", \"showlegend\": true, \"type\": \"scatter\", \"x\": [208000.0], \"xaxis\": \"x\", \"y\": [1.0], \"yaxis\": \"y\"}, {\"hovertemplate\": \"Title of occupation=Acupuncturists and Healthcare Diagnosing or Treating Practitioners, All Other<br>median_wage=%{marker.size}<br>percentage_bachelors_degree_or_higher=%{y}<extra></extra>\", \"legendgroup\": \"Acupuncturists and Healthcare Diagnosing or Treating Practitioners, All Other\", \"marker\": {\"color\": \"#A777F1\", \"size\": [75640.0], \"sizemode\": \"area\", \"sizeref\": 520.0, \"symbol\": \"circle\"}, \"mode\": \"markers\", \"name\": \"Acupuncturists and Healthcare Diagnosing or Treating Practitioners, All Other\", \"orientation\": \"v\", \"showlegend\": true, \"type\": \"scatter\", \"x\": [75640.0], \"xaxis\": \"x\", \"y\": [0.8290000000000001], \"yaxis\": \"y\"}],                        {\"legend\": {\"itemsizing\": \"constant\", \"title\": {\"text\": \"Title of occupation\"}, \"tracegroupgap\": 0}, \"margin\": {\"t\": 60}, \"template\": {\"data\": {\"bar\": [{\"error_x\": {\"color\": \"#2a3f5f\"}, \"error_y\": {\"color\": \"#2a3f5f\"}, \"marker\": {\"line\": {\"color\": \"#E5ECF6\", \"width\": 0.5}}, \"type\": \"bar\"}], \"barpolar\": [{\"marker\": {\"line\": {\"color\": \"#E5ECF6\", \"width\": 0.5}}, \"type\": \"barpolar\"}], \"carpet\": [{\"aaxis\": {\"endlinecolor\": \"#2a3f5f\", \"gridcolor\": \"white\", \"linecolor\": \"white\", \"minorgridcolor\": \"white\", \"startlinecolor\": \"#2a3f5f\"}, \"baxis\": {\"endlinecolor\": \"#2a3f5f\", \"gridcolor\": \"white\", \"linecolor\": \"white\", \"minorgridcolor\": \"white\", \"startlinecolor\": \"#2a3f5f\"}, \"type\": \"carpet\"}], \"choropleth\": [{\"colorbar\": {\"outlinewidth\": 0, \"ticks\": \"\"}, \"type\": \"choropleth\"}], \"contour\": [{\"colorbar\": {\"outlinewidth\": 0, \"ticks\": \"\"}, \"colorscale\": [[0.0, \"#0d0887\"], [0.1111111111111111, \"#46039f\"], [0.2222222222222222, \"#7201a8\"], [0.3333333333333333, \"#9c179e\"], [0.4444444444444444, \"#bd3786\"], [0.5555555555555556, \"#d8576b\"], [0.6666666666666666, \"#ed7953\"], [0.7777777777777778, \"#fb9f3a\"], [0.8888888888888888, \"#fdca26\"], [1.0, \"#f0f921\"]], \"type\": \"contour\"}], \"contourcarpet\": [{\"colorbar\": {\"outlinewidth\": 0, \"ticks\": \"\"}, \"type\": \"contourcarpet\"}], \"heatmap\": [{\"colorbar\": {\"outlinewidth\": 0, \"ticks\": \"\"}, \"colorscale\": [[0.0, \"#0d0887\"], [0.1111111111111111, \"#46039f\"], [0.2222222222222222, \"#7201a8\"], [0.3333333333333333, \"#9c179e\"], [0.4444444444444444, \"#bd3786\"], [0.5555555555555556, \"#d8576b\"], [0.6666666666666666, \"#ed7953\"], [0.7777777777777778, \"#fb9f3a\"], [0.8888888888888888, \"#fdca26\"], [1.0, \"#f0f921\"]], \"type\": \"heatmap\"}], \"heatmapgl\": [{\"colorbar\": {\"outlinewidth\": 0, \"ticks\": \"\"}, \"colorscale\": [[0.0, \"#0d0887\"], [0.1111111111111111, \"#46039f\"], [0.2222222222222222, \"#7201a8\"], [0.3333333333333333, \"#9c179e\"], [0.4444444444444444, \"#bd3786\"], [0.5555555555555556, \"#d8576b\"], [0.6666666666666666, \"#ed7953\"], [0.7777777777777778, \"#fb9f3a\"], [0.8888888888888888, \"#fdca26\"], [1.0, \"#f0f921\"]], \"type\": \"heatmapgl\"}], \"histogram\": [{\"marker\": {\"colorbar\": {\"outlinewidth\": 0, \"ticks\": \"\"}}, \"type\": \"histogram\"}], \"histogram2d\": [{\"colorbar\": {\"outlinewidth\": 0, \"ticks\": \"\"}, \"colorscale\": [[0.0, \"#0d0887\"], [0.1111111111111111, \"#46039f\"], [0.2222222222222222, \"#7201a8\"], [0.3333333333333333, \"#9c179e\"], [0.4444444444444444, \"#bd3786\"], [0.5555555555555556, \"#d8576b\"], [0.6666666666666666, \"#ed7953\"], [0.7777777777777778, \"#fb9f3a\"], [0.8888888888888888, \"#fdca26\"], [1.0, \"#f0f921\"]], \"type\": \"histogram2d\"}], \"histogram2dcontour\": [{\"colorbar\": {\"outlinewidth\": 0, \"ticks\": \"\"}, \"colorscale\": [[0.0, \"#0d0887\"], [0.1111111111111111, \"#46039f\"], [0.2222222222222222, \"#7201a8\"], [0.3333333333333333, \"#9c179e\"], [0.4444444444444444, \"#bd3786\"], [0.5555555555555556, \"#d8576b\"], [0.6666666666666666, \"#ed7953\"], [0.7777777777777778, \"#fb9f3a\"], [0.8888888888888888, \"#fdca26\"], [1.0, \"#f0f921\"]], \"type\": \"histogram2dcontour\"}], \"mesh3d\": [{\"colorbar\": {\"outlinewidth\": 0, \"ticks\": \"\"}, \"type\": \"mesh3d\"}], \"parcoords\": [{\"line\": {\"colorbar\": {\"outlinewidth\": 0, \"ticks\": \"\"}}, \"type\": \"parcoords\"}], \"pie\": [{\"automargin\": true, \"type\": \"pie\"}], \"scatter\": [{\"marker\": {\"colorbar\": {\"outlinewidth\": 0, \"ticks\": \"\"}}, \"type\": \"scatter\"}], \"scatter3d\": [{\"line\": {\"colorbar\": {\"outlinewidth\": 0, \"ticks\": \"\"}}, \"marker\": {\"colorbar\": {\"outlinewidth\": 0, \"ticks\": \"\"}}, \"type\": \"scatter3d\"}], \"scattercarpet\": [{\"marker\": {\"colorbar\": {\"outlinewidth\": 0, \"ticks\": \"\"}}, \"type\": \"scattercarpet\"}], \"scattergeo\": [{\"marker\": {\"colorbar\": {\"outlinewidth\": 0, \"ticks\": \"\"}}, \"type\": \"scattergeo\"}], \"scattergl\": [{\"marker\": {\"colorbar\": {\"outlinewidth\": 0, \"ticks\": \"\"}}, \"type\": \"scattergl\"}], \"scattermapbox\": [{\"marker\": {\"colorbar\": {\"outlinewidth\": 0, \"ticks\": \"\"}}, \"type\": \"scattermapbox\"}], \"scatterpolar\": [{\"marker\": {\"colorbar\": {\"outlinewidth\": 0, \"ticks\": \"\"}}, \"type\": \"scatterpolar\"}], \"scatterpolargl\": [{\"marker\": {\"colorbar\": {\"outlinewidth\": 0, \"ticks\": \"\"}}, \"type\": \"scatterpolargl\"}], \"scatterternary\": [{\"marker\": {\"colorbar\": {\"outlinewidth\": 0, \"ticks\": \"\"}}, \"type\": \"scatterternary\"}], \"surface\": [{\"colorbar\": {\"outlinewidth\": 0, \"ticks\": \"\"}, \"colorscale\": [[0.0, \"#0d0887\"], [0.1111111111111111, \"#46039f\"], [0.2222222222222222, \"#7201a8\"], [0.3333333333333333, \"#9c179e\"], [0.4444444444444444, \"#bd3786\"], [0.5555555555555556, \"#d8576b\"], [0.6666666666666666, \"#ed7953\"], [0.7777777777777778, \"#fb9f3a\"], [0.8888888888888888, \"#fdca26\"], [1.0, \"#f0f921\"]], \"type\": \"surface\"}], \"table\": [{\"cells\": {\"fill\": {\"color\": \"#EBF0F8\"}, \"line\": {\"color\": \"white\"}}, \"header\": {\"fill\": {\"color\": \"#C8D4E3\"}, \"line\": {\"color\": \"white\"}}, \"type\": \"table\"}]}, \"layout\": {\"annotationdefaults\": {\"arrowcolor\": \"#2a3f5f\", \"arrowhead\": 0, \"arrowwidth\": 1}, \"autotypenumbers\": \"strict\", \"coloraxis\": {\"colorbar\": {\"outlinewidth\": 0, \"ticks\": \"\"}}, \"colorscale\": {\"diverging\": [[0, \"#8e0152\"], [0.1, \"#c51b7d\"], [0.2, \"#de77ae\"], [0.3, \"#f1b6da\"], [0.4, \"#fde0ef\"], [0.5, \"#f7f7f7\"], [0.6, \"#e6f5d0\"], [0.7, \"#b8e186\"], [0.8, \"#7fbc41\"], [0.9, \"#4d9221\"], [1, \"#276419\"]], \"sequential\": [[0.0, \"#0d0887\"], [0.1111111111111111, \"#46039f\"], [0.2222222222222222, \"#7201a8\"], [0.3333333333333333, \"#9c179e\"], [0.4444444444444444, \"#bd3786\"], [0.5555555555555556, \"#d8576b\"], [0.6666666666666666, \"#ed7953\"], [0.7777777777777778, \"#fb9f3a\"], [0.8888888888888888, \"#fdca26\"], [1.0, \"#f0f921\"]], \"sequentialminus\": [[0.0, \"#0d0887\"], [0.1111111111111111, \"#46039f\"], [0.2222222222222222, \"#7201a8\"], [0.3333333333333333, \"#9c179e\"], [0.4444444444444444, \"#bd3786\"], [0.5555555555555556, \"#d8576b\"], [0.6666666666666666, \"#ed7953\"], [0.7777777777777778, \"#fb9f3a\"], [0.8888888888888888, \"#fdca26\"], [1.0, \"#f0f921\"]]}, \"colorway\": [\"#636efa\", \"#EF553B\", \"#00cc96\", \"#ab63fa\", \"#FFA15A\", \"#19d3f3\", \"#FF6692\", \"#B6E880\", \"#FF97FF\", \"#FECB52\"], \"font\": {\"color\": \"#2a3f5f\"}, \"geo\": {\"bgcolor\": \"white\", \"lakecolor\": \"white\", \"landcolor\": \"#E5ECF6\", \"showlakes\": true, \"showland\": true, \"subunitcolor\": \"white\"}, \"hoverlabel\": {\"align\": \"left\"}, \"hovermode\": \"closest\", \"mapbox\": {\"style\": \"light\"}, \"paper_bgcolor\": \"white\", \"plot_bgcolor\": \"#E5ECF6\", \"polar\": {\"angularaxis\": {\"gridcolor\": \"white\", \"linecolor\": \"white\", \"ticks\": \"\"}, \"bgcolor\": \"#E5ECF6\", \"radialaxis\": {\"gridcolor\": \"white\", \"linecolor\": \"white\", \"ticks\": \"\"}}, \"scene\": {\"xaxis\": {\"backgroundcolor\": \"#E5ECF6\", \"gridcolor\": \"white\", \"gridwidth\": 2, \"linecolor\": \"white\", \"showbackground\": true, \"ticks\": \"\", \"zerolinecolor\": \"white\"}, \"yaxis\": {\"backgroundcolor\": \"#E5ECF6\", \"gridcolor\": \"white\", \"gridwidth\": 2, \"linecolor\": \"white\", \"showbackground\": true, \"ticks\": \"\", \"zerolinecolor\": \"white\"}, \"zaxis\": {\"backgroundcolor\": \"#E5ECF6\", \"gridcolor\": \"white\", \"gridwidth\": 2, \"linecolor\": \"white\", \"showbackground\": true, \"ticks\": \"\", \"zerolinecolor\": \"white\"}}, \"shapedefaults\": {\"line\": {\"color\": \"#2a3f5f\"}}, \"ternary\": {\"aaxis\": {\"gridcolor\": \"white\", \"linecolor\": \"white\", \"ticks\": \"\"}, \"baxis\": {\"gridcolor\": \"white\", \"linecolor\": \"white\", \"ticks\": \"\"}, \"bgcolor\": \"#E5ECF6\", \"caxis\": {\"gridcolor\": \"white\", \"linecolor\": \"white\", \"ticks\": \"\"}}, \"title\": {\"x\": 0.05}, \"xaxis\": {\"automargin\": true, \"gridcolor\": \"white\", \"linecolor\": \"white\", \"ticks\": \"\", \"title\": {\"standoff\": 15}, \"zerolinecolor\": \"white\", \"zerolinewidth\": 2}, \"yaxis\": {\"automargin\": true, \"gridcolor\": \"white\", \"linecolor\": \"white\", \"ticks\": \"\", \"title\": {\"standoff\": 15}, \"zerolinecolor\": \"white\", \"zerolinewidth\": 2}}}, \"title\": {\"font\": {\"size\": 28}, \"text\": \"Jobs With 40K Salary (or higher), Bachelors\"}, \"xaxis\": {\"anchor\": \"y\", \"domain\": [0.0, 1.0], \"title\": {\"text\": \"Median Wage($)\"}}, \"yaxis\": {\"anchor\": \"x\", \"categoryorder\": \"category ascending\", \"domain\": [0.0, 1.0], \"title\": {\"text\": \"Bachelors (%)\"}}},                        {\"responsive\": true}                    ).then(function(){\n",
       "                            \n",
       "var gd = document.getElementById('132651da-dc93-487d-8492-56695308da89');\n",
       "var x = new MutationObserver(function (mutations, observer) {{\n",
       "        var display = window.getComputedStyle(gd).display;\n",
       "        if (!display || display === 'none') {{\n",
       "            console.log([gd, 'removed!']);\n",
       "            Plotly.purge(gd);\n",
       "            observer.disconnect();\n",
       "        }}\n",
       "}});\n",
       "\n",
       "// Listen for the removal of the full notebook cells\n",
       "var notebookContainer = gd.closest('#notebook-container');\n",
       "if (notebookContainer) {{\n",
       "    x.observe(notebookContainer, {childList: true});\n",
       "}}\n",
       "\n",
       "// Listen for the clearing of the current output cell\n",
       "var outputEl = gd.closest('.output');\n",
       "if (outputEl) {{\n",
       "    x.observe(outputEl, {childList: true});\n",
       "}}\n",
       "\n",
       "                        })                };                });            </script>        </div>"
      ]
     },
     "metadata": {},
     "output_type": "display_data"
    }
   ],
   "source": [
    "# What occupations pay more than $40k/yr on average and don't usually require a bachelor's degree\n",
    "\n",
    "paymorethan40k = master[(master.median_wage > 40000) & (master.percentage_bachelors_degree_or_higher > 0.800)]\n",
    "\n",
    "fig3 = px.scatter(paymorethan40k, x='median_wage',y='percentage_bachelors_degree_or_higher', size='median_wage', color='occ_title', color_discrete_sequence=px.colors.qualitative.Dark24, labels={'occ_title': 'Title of occupation'}).update_yaxes(categoryorder='category ascending')\n",
    "fig3.update_layout({'title':{'text':'Jobs With 40K Salary (or higher), Bachelors', 'font':{'size':28}}, \n",
    "                    'xaxis':{'title':{'text':'Median Wage($)'}}, \n",
    "                    'yaxis':{'title':{'text':'Bachelors (%)'}}, \n",
    "                   })\n",
    "iplot(fig3)"
   ]
  },
  {
   "cell_type": "code",
   "execution_count": 61,
   "id": "c5279a92",
   "metadata": {},
   "outputs": [
    {
     "data": {
      "application/vnd.plotly.v1+json": {
       "config": {
        "linkText": "Export to plot.ly",
        "plotlyServerURL": "https://plot.ly",
        "showLink": false
       },
       "data": [
        {
         "autobinx": false,
         "histnorm": "probability density",
         "legendgroup": "all education",
         "marker": {
          "color": "rgb(31, 119, 180)"
         },
         "name": "all education",
         "opacity": 0.7,
         "type": "histogram",
         "x": [
          184460,
          100780,
          29270,
          125510,
          136850,
          126640,
          146360,
          129890,
          105480,
          121110,
          94560,
          122270,
          116720,
          113350,
          71160,
          95260,
          48210,
          96400,
          95410,
          85450,
          144830,
          55320,
          74970,
          54430,
          100980,
          129100,
          76900,
          58760,
          67150,
          74590,
          76350,
          110630,
          73740,
          66790,
          63270,
          69050,
          65250,
          61920,
          61910,
          69020,
          74750,
          85260,
          50600,
          57970,
          64560,
          61210,
          63790,
          73570,
          71550,
          76540,
          73650,
          87850,
          70020,
          81090,
          45950,
          63270,
          54890,
          43080,
          81590,
          90920,
          99730,
          122840,
          63460,
          52270,
          112690,
          83510,
          93750,
          86550,
          107510,
          73760,
          88550,
          108350,
          105030,
          84810,
          91160,
          94280,
          80750,
          69360,
          65470,
          63420,
          116500,
          80720,
          91410,
          108770,
          87060,
          117220,
          98530,
          105570,
          88860,
          91410,
          88020,
          92400,
          93360,
          88430,
          91160,
          113460,
          137720,
          99040,
          56340,
          61530,
          57060,
          52830,
          66020,
          53410,
          65260,
          58350,
          50620,
          56550,
          56980,
          45010,
          62990,
          60300,
          68970,
          63200,
          94490,
          75650,
          63270,
          82220,
          62660,
          61790,
          70990,
          88790,
          75910,
          114590,
          122850,
          95380,
          77630,
          96810,
          71360,
          92040,
          81270,
          109910,
          105020,
          59170,
          78200,
          92880,
          101790,
          83420,
          74350,
          63670,
          81540,
          63680,
          122220,
          83330,
          45860,
          49260,
          46540,
          51130,
          82080,
          47510,
          45500,
          59150,
          50550,
          74100,
          51550,
          57040,
          49610,
          35950,
          46240,
          42930,
          47390,
          56750,
          46650,
          61230,
          55220,
          54290,
          35060,
          40360,
          43790,
          50400,
          43860,
          31630,
          122960,
          54010,
          97870,
          63930,
          136910,
          51740,
          48180,
          58400,
          87200,
          85180,
          73690,
          87900,
          101010,
          83260,
          83300,
          85450,
          92040,
          79550,
          82430,
          89590,
          86220,
          77070,
          104370,
          80520,
          85930,
          76620,
          75290,
          71530,
          97320,
          74600,
          65510,
          71410,
          62860,
          113530,
          72070,
          69530,
          70630,
          68490,
          69990,
          75170,
          75240,
          76480,
          64380,
          54620,
          68970,
          30520,
          56850,
          59670,
          59660,
          60800,
          61660,
          61710,
          60000,
          60460,
          61440,
          61710,
          61190,
          54350,
          39190,
          28790,
          39350,
          53950,
          54570,
          44430,
          59500,
          34900,
          49710,
          66290,
          32080,
          27920,
          40310,
          94220,
          34710,
          50550,
          75270,
          64490,
          68890,
          73790,
          28040,
          52110,
          56040,
          29460,
          54600,
          64620,
          74420,
          51370,
          34840,
          28550,
          46330,
          51670,
          34630,
          46270,
          61150,
          61370,
          72850,
          63200,
          51830,
          60130,
          47580,
          45910,
          40570,
          54740,
          36280,
          55160,
          63780,
          73460,
          70340,
          155600,
          208000,
          208000,
          208000,
          147220,
          61270,
          115250,
          128090,
          112260,
          126240,
          84950,
          89440,
          85560,
          48220,
          61330,
          79120,
          49170,
          52650,
          95460,
          73300,
          174790,
          105030,
          109820,
          77600,
          208000,
          205590,
          201590,
          208000,
          175310,
          208000,
          206500,
          208000,
          76220,
          75640,
          57720,
          74320,
          77950,
          60510,
          73410,
          28400,
          33950,
          33780,
          48300,
          35320,
          36940,
          47480,
          37840,
          68410,
          53420,
          42630,
          48440,
          81880,
          49850,
          29660,
          28980,
          31110,
          61510,
          29230,
          58790,
          27000,
          42820,
          40080,
          34800,
          37440,
          33380,
          27850,
          28590,
          35510,
          38460,
          63730,
          91090,
          77800,
          50850,
          61660,
          45270,
          47830,
          45180,
          83170,
          57500,
          40920,
          63150,
          71820,
          37590,
          50510,
          34190,
          29680,
          29760,
          23420,
          41770,
          30990,
          51530,
          33400,
          23510,
          27750,
          37870,
          27790,
          25150,
          30760,
          24800,
          23680,
          22740,
          22890,
          24430,
          23470,
          23970,
          23090,
          24970,
          40780,
          49370,
          27430,
          24850,
          31230,
          37330,
          30440,
          35840,
          39980,
          32090,
          50710,
          39800,
          30430,
          24780,
          21260,
          24750,
          28300,
          25150,
          23500,
          23370,
          41410,
          25110,
          26460,
          47760,
          27930,
          54150,
          30150,
          26090,
          75730,
          25770,
          22550,
          34090,
          25580,
          31390,
          24230,
          40390,
          26350,
          29450,
          27130,
          40350,
          74760,
          23650,
          25690,
          28820,
          31710,
          25250,
          53310,
          50940,
          62270,
          40660,
          56130,
          81020,
          59930,
          30930,
          28350,
          59720,
          48930,
          103900,
          26290,
          27420,
          31820,
          56620,
          30610,
          35750,
          42790,
          37000,
          38740,
          41230,
          28040,
          46180,
          43310,
          31230,
          42420,
          52750,
          38140,
          39380,
          40100,
          34710,
          46590,
          32710,
          24470,
          34970,
          27490,
          40640,
          36550,
          34240,
          41430,
          30050,
          38380,
          41360,
          43740,
          29690,
          41910,
          40190,
          42280,
          48330,
          51310,
          60140,
          48260,
          34190,
          35040,
          60890,
          47300,
          36580,
          37690,
          33490,
          40340,
          45390,
          40750,
          30960,
          34040,
          33450,
          40630,
          49870,
          35470,
          48280,
          45490,
          42920,
          25670,
          31950,
          25440,
          27830,
          29590,
          31770,
          44650,
          41440,
          37280,
          39780,
          66210,
          63100,
          53100,
          43280,
          48330,
          40090,
          44240,
          39610,
          43050,
          44810,
          52180,
          36860,
          40130,
          62600,
          48980,
          45700,
          59070,
          56180,
          44630,
          40380,
          48690,
          40280,
          40520,
          38820,
          55160,
          45440,
          49100,
          42100,
          50400,
          55040,
          44890,
          35410,
          33060,
          32830,
          31340,
          32100,
          32110,
          31910,
          60710,
          84990,
          35800,
          43900,
          40730,
          56100,
          39870,
          46990,
          54980,
          46740,
          44800,
          55280,
          59090,
          54210,
          36070,
          38910,
          37120,
          46250,
          50160,
          67460,
          39530,
          55380,
          57910,
          65700,
          44070,
          62530,
          59300,
          82780,
          37380,
          39510,
          48970,
          64090,
          43580,
          35790,
          42090,
          48500,
          42200,
          53370,
          56390,
          41330,
          37600,
          36100,
          30330,
          38570,
          28640,
          41570,
          58100,
          48730,
          40260,
          53590,
          47520,
          55560,
          53990,
          72520,
          56750,
          38880,
          49280,
          36650,
          42520,
          58720,
          39080,
          52910,
          35420,
          49980,
          41940,
          33890,
          50860,
          73890,
          30530,
          39830,
          61310,
          54210,
          36520,
          34810,
          45660,
          40390,
          35480,
          35080,
          27700,
          32500,
          28100,
          29230,
          31590,
          30790,
          31110,
          27550,
          36320,
          39670,
          40490,
          35610,
          38910,
          36100,
          40100,
          43210,
          44420,
          42250,
          38620,
          57020,
          46910,
          35590,
          32130,
          36330,
          53920,
          42490,
          38310,
          38250,
          49940,
          33500,
          39330,
          34830,
          40510,
          36910,
          33040,
          24220,
          24190,
          26420,
          29560,
          30570,
          29950,
          31520,
          29460,
          28730,
          29980,
          29790,
          36110,
          45070,
          35130,
          27970,
          35790,
          32480,
          59260,
          64880,
          30410,
          30990,
          33110,
          100530,
          90700,
          81990,
          62150,
          47760,
          62550,
          70710,
          74180,
          58390,
          49130,
          41330,
          37560,
          30600,
          37780,
          30200,
          35600,
          35480,
          40090,
          39140,
          40870,
          41340,
          40690,
          32620,
          30990,
          32950,
          38150,
          38060,
          32280,
          41200,
          56450,
          34340,
          31850,
          35290,
          30620,
          34030,
          39210,
          46010,
          29100,
          29800,
          53850,
          55060,
          147220,
          86080,
          122990,
          52650,
          56640,
          25890,
          25860,
          45260,
          34730,
          43030,
          31340,
          32910,
          67090,
          49330,
          60260,
          65990,
          67880,
          51600,
          43480,
          72340,
          48260,
          74610,
          50110,
          25140,
          25200,
          47480,
          75820,
          26570,
          37000,
          34660,
          56690,
          47040,
          59720,
          36200,
          25800,
          29510,
          31180,
          25910,
          27380,
          66160,
          45040,
          55040,
          37840,
          42360,
          31770
         ],
         "xaxis": "x",
         "xbins": {
          "end": 208000,
          "size": 2000,
          "start": 21260
         },
         "yaxis": "y"
        },
        {
         "legendgroup": "all education",
         "marker": {
          "color": "rgb(31, 119, 180)"
         },
         "mode": "lines",
         "name": "all education",
         "showlegend": false,
         "type": "scatter",
         "x": [
          21260,
          21633.48,
          22006.96,
          22380.44,
          22753.92,
          23127.4,
          23500.88,
          23874.36,
          24247.84,
          24621.32,
          24994.8,
          25368.28,
          25741.760000000002,
          26115.239999999998,
          26488.72,
          26862.2,
          27235.68,
          27609.16,
          27982.64,
          28356.12,
          28729.6,
          29103.08,
          29476.559999999998,
          29850.04,
          30223.52,
          30597,
          30970.48,
          31343.96,
          31717.440000000002,
          32090.92,
          32464.4,
          32837.88,
          33211.36,
          33584.84,
          33958.32,
          34331.8,
          34705.28,
          35078.76,
          35452.24,
          35825.72,
          36199.2,
          36572.68,
          36946.16,
          37319.64,
          37693.119999999995,
          38066.6,
          38440.08,
          38813.56,
          39187.04,
          39560.520000000004,
          39934,
          40307.479999999996,
          40680.96,
          41054.44,
          41427.92,
          41801.4,
          42174.880000000005,
          42548.36,
          42921.84,
          43295.32,
          43668.8,
          44042.28,
          44415.759999999995,
          44789.240000000005,
          45162.72,
          45536.2,
          45909.68,
          46283.16,
          46656.64,
          47030.119999999995,
          47403.6,
          47777.08,
          48150.56,
          48524.04,
          48897.520000000004,
          49271,
          49644.479999999996,
          50017.96,
          50391.44,
          50764.92,
          51138.4,
          51511.880000000005,
          51885.36,
          52258.84,
          52632.32,
          53005.8,
          53379.28,
          53752.759999999995,
          54126.24,
          54499.72,
          54873.2,
          55246.68,
          55620.16,
          55993.64,
          56367.12,
          56740.6,
          57114.08,
          57487.56,
          57861.04,
          58234.52,
          58608,
          58981.48,
          59354.96,
          59728.44,
          60101.92,
          60475.4,
          60848.88,
          61222.36,
          61595.84,
          61969.32,
          62342.8,
          62716.28,
          63089.76,
          63463.24,
          63836.72,
          64210.2,
          64583.68,
          64957.16,
          65330.64,
          65704.12,
          66077.6,
          66451.08,
          66824.56,
          67198.04000000001,
          67571.51999999999,
          67945,
          68318.48000000001,
          68691.95999999999,
          69065.44,
          69438.92,
          69812.4,
          70185.88,
          70559.36,
          70932.84,
          71306.32,
          71679.8,
          72053.28,
          72426.76000000001,
          72800.23999999999,
          73173.72,
          73547.2,
          73920.68,
          74294.16,
          74667.64,
          75041.12,
          75414.6,
          75788.08,
          76161.56,
          76535.04000000001,
          76908.51999999999,
          77282,
          77655.48000000001,
          78028.95999999999,
          78402.44,
          78775.92,
          79149.4,
          79522.88,
          79896.36,
          80269.84,
          80643.32,
          81016.8,
          81390.28,
          81763.76000000001,
          82137.23999999999,
          82510.72,
          82884.2,
          83257.68,
          83631.16,
          84004.64,
          84378.12,
          84751.6,
          85125.08,
          85498.56,
          85872.04000000001,
          86245.51999999999,
          86619,
          86992.48,
          87365.96,
          87739.44,
          88112.92,
          88486.4,
          88859.88,
          89233.36,
          89606.84,
          89980.32,
          90353.8,
          90727.28,
          91100.76,
          91474.24,
          91847.72,
          92221.2,
          92594.68,
          92968.16,
          93341.64,
          93715.12,
          94088.6,
          94462.08,
          94835.56,
          95209.04,
          95582.52,
          95956,
          96329.48,
          96702.96,
          97076.44,
          97449.92,
          97823.4,
          98196.88,
          98570.36,
          98943.84,
          99317.32,
          99690.8,
          100064.28,
          100437.76,
          100811.24,
          101184.72,
          101558.2,
          101931.68,
          102305.16,
          102678.64,
          103052.12,
          103425.6,
          103799.08,
          104172.56,
          104546.04,
          104919.52,
          105293,
          105666.48,
          106039.96,
          106413.44,
          106786.92,
          107160.4,
          107533.88,
          107907.36,
          108280.84,
          108654.32,
          109027.8,
          109401.28,
          109774.76,
          110148.24,
          110521.72,
          110895.2,
          111268.68,
          111642.16,
          112015.64,
          112389.12,
          112762.6,
          113136.08,
          113509.56,
          113883.04,
          114256.52,
          114630,
          115003.48,
          115376.96,
          115750.44,
          116123.92,
          116497.4,
          116870.88,
          117244.36,
          117617.84,
          117991.32,
          118364.8,
          118738.28,
          119111.76,
          119485.24,
          119858.72,
          120232.2,
          120605.68,
          120979.16,
          121352.64,
          121726.12,
          122099.6,
          122473.08,
          122846.56,
          123220.04,
          123593.52,
          123967,
          124340.48,
          124713.96,
          125087.44,
          125460.92,
          125834.4,
          126207.88,
          126581.36,
          126954.84,
          127328.32,
          127701.8,
          128075.28,
          128448.76,
          128822.24,
          129195.72,
          129569.2,
          129942.68,
          130316.16,
          130689.64,
          131063.12,
          131436.6,
          131810.08000000002,
          132183.56,
          132557.03999999998,
          132930.52000000002,
          133304,
          133677.47999999998,
          134050.96000000002,
          134424.44,
          134797.91999999998,
          135171.4,
          135544.88,
          135918.36,
          136291.84,
          136665.32,
          137038.8,
          137412.28,
          137785.76,
          138159.24,
          138532.72,
          138906.2,
          139279.68,
          139653.16,
          140026.64,
          140400.12,
          140773.6,
          141147.08000000002,
          141520.56,
          141894.03999999998,
          142267.52000000002,
          142641,
          143014.47999999998,
          143387.96000000002,
          143761.44,
          144134.91999999998,
          144508.4,
          144881.88,
          145255.36,
          145628.84,
          146002.32,
          146375.8,
          146749.28,
          147122.76,
          147496.24,
          147869.72,
          148243.2,
          148616.68,
          148990.16,
          149363.64,
          149737.12,
          150110.6,
          150484.08000000002,
          150857.56,
          151231.03999999998,
          151604.52000000002,
          151978,
          152351.48,
          152724.96,
          153098.44,
          153471.92,
          153845.4,
          154218.88,
          154592.36,
          154965.84,
          155339.32,
          155712.8,
          156086.28,
          156459.76,
          156833.24,
          157206.72,
          157580.2,
          157953.68,
          158327.16,
          158700.64,
          159074.12,
          159447.6,
          159821.08,
          160194.56,
          160568.04,
          160941.52,
          161315,
          161688.48,
          162061.96,
          162435.44,
          162808.92,
          163182.4,
          163555.88,
          163929.36,
          164302.84,
          164676.32,
          165049.8,
          165423.28,
          165796.76,
          166170.24,
          166543.72,
          166917.2,
          167290.68,
          167664.16,
          168037.64,
          168411.12,
          168784.6,
          169158.08,
          169531.56,
          169905.04,
          170278.52,
          170652,
          171025.48,
          171398.96,
          171772.44,
          172145.92,
          172519.4,
          172892.88,
          173266.36,
          173639.84,
          174013.32,
          174386.8,
          174760.28,
          175133.76,
          175507.24,
          175880.72,
          176254.2,
          176627.68,
          177001.16,
          177374.64,
          177748.12,
          178121.6,
          178495.08,
          178868.56,
          179242.04,
          179615.52,
          179989,
          180362.48,
          180735.96,
          181109.44,
          181482.92,
          181856.4,
          182229.88,
          182603.36,
          182976.84,
          183350.32,
          183723.8,
          184097.28,
          184470.76,
          184844.24,
          185217.72,
          185591.2,
          185964.68,
          186338.16,
          186711.64,
          187085.12,
          187458.6,
          187832.08,
          188205.56,
          188579.04,
          188952.52,
          189326,
          189699.48,
          190072.96,
          190446.44,
          190819.92,
          191193.4,
          191566.88,
          191940.36,
          192313.84,
          192687.32,
          193060.8,
          193434.28,
          193807.76,
          194181.24,
          194554.72,
          194928.2,
          195301.68,
          195675.16,
          196048.64,
          196422.12,
          196795.6,
          197169.08,
          197542.56,
          197916.04,
          198289.52,
          198663,
          199036.48,
          199409.96,
          199783.44,
          200156.92,
          200530.4,
          200903.88,
          201277.36,
          201650.84,
          202024.32,
          202397.8,
          202771.28,
          203144.76,
          203518.24,
          203891.72,
          204265.2,
          204638.68,
          205012.16,
          205385.64,
          205759.12,
          206132.6,
          206506.08,
          206879.56,
          207253.04,
          207626.52
         ],
         "xaxis": "x",
         "y": [
          7.516486109571128e-06,
          7.861313149361573e-06,
          8.210790575848938e-06,
          8.56427845253747e-06,
          8.921110018306195e-06,
          9.280594817135351e-06,
          9.64202201647639e-06,
          1.000466388584636e-05,
          1.0367779405608095e-05,
          1.0730617974680767e-05,
          1.1092423185126869e-05,
          1.1452436631187464e-05,
          1.1809901720388865e-05,
          1.216406745481124e-05,
          1.2514192151478855e-05,
          1.2859547072078212e-05,
          1.3199419933808001e-05,
          1.3533118275074897e-05,
          1.3859972651935423e-05,
          1.417933964360075e-05,
          1.449060464792189e-05,
          1.4793184450508336e-05,
          1.5086529553956093e-05,
          1.537012625651952e-05,
          1.5643498472409666e-05,
          1.5906209288694363e-05,
          1.615786225646923e-05,
          1.639810241652675e-05,
          1.6626617062140862e-05,
          1.6843136243776174e-05,
          1.70474330225058e-05,
          1.7239323480661486e-05,
          1.7418666499734694e-05,
          1.758536331679483e-05,
          1.7739356871691016e-05,
          1.7880630958064667e-05,
          1.8009209191734762e-05,
          1.812515381033874e-05,
          1.8228564318244033e-05,
          1.83195759907071e-05,
          1.8398358251073967e-05,
          1.8465112934515604e-05,
          1.852007245139825e-05,
          1.856349786292769e-05,
          1.8595676881205102e-05,
          1.8616921805309926e-05,
          1.862756740450641e-05,
          1.8627968759170536e-05,
          1.86184990695693e-05,
          1.8599547442207017e-05,
          1.8571516663090216e-05,
          1.8534820966961048e-05,
          1.8489883811308558e-05,
          1.8437135663788146e-05,
          1.8377011811556626e-05,
          1.8309950200957095e-05,
          1.8236389315955755e-05,
          1.8156766103730835e-05,
          1.8071513955829986e-05,
          1.798106075333379e-05,
          1.788582698447682e-05,
          1.7786223943170037e-05,
          1.7682652016825284e-05,
          1.7575499071793935e-05,
          1.746513894458415e-05,
          1.7351930046804162e-05,
          1.7236214091485133e-05,
          1.711831494805895e-05,
          1.6998537632793434e-05,
          1.6877167440925282e-05,
          1.6754469226066082e-05,
          1.6630686831696435e-05,
          1.650604267870566e-05,
          1.6380737511981305e-05,
          1.6254950308011198e-05,
          1.612883834433408e-05,
          1.600253743047237e-05,
          1.587616229871226e-05,
          1.5749807151768835e-05,
          1.5623546363006665e-05,
          1.549743532348446e-05,
          1.5371511428678845e-05,
          1.5245795196328636e-05,
          1.5120291505445973e-05,
          1.4994990945185845e-05,
          1.4869871260965496e-05,
          1.4744898884007468e-05,
          1.462003052935795e-05,
          1.4495214846434955e-05,
          1.4370394105303093e-05,
          1.4245505901178845e-05,
          1.4120484859158994e-05,
          1.3995264320855916e-05,
          1.386977799453073e-05,
          1.3743961550454311e-05,
          1.3617754143607747e-05,
          1.3491099846463193e-05,
          1.3363948975469714e-05,
          1.3236259296003487e-05,
          1.3107997091920133e-05,
          1.297913808746427e-05,
          1.2849668211123092e-05,
          1.2719584193044395e-05,
          1.2588893989841779e-05,
          1.2457617032955522e-05,
          1.232578429918826e-05,
          1.219343820455154e-05,
          1.2060632325103936e-05,
          1.1927430950983113e-05,
          1.1793908482294061e-05,
          1.1660148677862534e-05,
          1.1526243770053144e-05,
          1.1392293460842453e-05,
          1.1258403816085748e-05,
          1.1124686076386333e-05,
          1.0991255404137731e-05,
          1.0858229587130611e-05,
          1.0725727719585197e-05,
          1.0593868881567029e-05,
          1.046277083746978e-05,
          1.0332548773603832e-05,
          1.0203314093925657e-05,
          1.0075173291601752e-05,
          9.948226912445328e-06,
          9.822568624333868e-06,
          9.698284404544138e-06,
          9.575451854582312e-06,
          9.454139649583406e-06,
          9.334407126764121e-06,
          9.216304014789586e-06,
          9.09987030331265e-06,
          8.985136249420481e-06,
          8.872122515327536e-06,
          8.76084042943659e-06,
          8.651292360894374e-06,
          8.543472196033875e-06,
          8.437365903651602e-06,
          8.332952174942368e-06,
          8.230203123119913e-06,
          8.129085027298719e-06,
          8.02955910510021e-06,
          7.931582298667647e-06,
          7.835108059311948e-06,
          7.740087116842488e-06,
          7.646468220734717e-06,
          7.5541988416134305e-06,
          7.46322582304971e-06,
          7.373495975336255e-06,
          7.28495660467757e-06,
          7.197555973061321e-06,
          7.11124368591989e-06,
          7.025971006504586e-06,
          6.941691097634184e-06,
          6.858359193111762e-06,
          6.775932702589655e-06,
          6.694371254978301e-06,
          6.6136366866137575e-06,
          6.533692981306669e-06,
          6.454506170077668e-06,
          6.37604419883908e-06,
          6.298276772507876e-06,
          6.221175184038559e-06,
          6.144712136657111e-06,
          6.068861567175045e-06,
          5.993598477685145e-06,
          5.918898782212353e-06,
          5.844739174037724e-06,
          5.771097018460103e-06,
          5.697950274736213e-06,
          5.625277449872936e-06,
          5.553057585865491e-06,
          5.481270280906055e-06,
          5.4098957440559595e-06,
          5.338914881901942e-06,
          5.2683094148237595e-06,
          5.198062019702337e-06,
          5.128156495210123e-06,
          5.058577945255531e-06,
          4.9893129757117465e-06,
          4.920349899247489e-06,
          4.851678942895606e-06,
          4.783292452941797e-06,
          4.715185091785552e-06,
          4.64735402161057e-06,
          4.579799069993943e-06,
          4.5125228729704435e-06,
          4.445530991538907e-06,
          4.378831998137144e-06,
          4.312437530208638e-06,
          4.246362308621096e-06,
          4.18062411936329e-06,
          4.115243757624708e-06,
          4.0502449340434455e-06,
          3.985654143574569e-06,
          3.92150049807549e-06,
          3.857815524315558e-06,
          3.7946329296823307e-06,
          3.7319883383725978e-06,
          3.66991900131205e-06,
          3.608463483439483e-06,
          3.5476613323153354e-06,
          3.4875527322665044e-06,
          3.4281781484591897e-06,
          3.3695779653970305e-06,
          3.3117921243752894e-06,
          3.254859764383485e-06,
          3.1988188708428103e-06,
          3.1437059363929403e-06,
          3.089555637711585e-06,
          3.036400532063134e-06,
          2.984270776936268e-06,
          2.9331938757511535e-06,
          2.883194452200832e-06,
          2.834294055346449e-06,
          2.7865109971188395e-06,
          2.7398602233974194e-06,
          2.6943532193492827e-06,
          2.6499979492233407e-06,
          2.6067988303147273e-06,
          2.5647567403499574e-06,
          2.523869057100647e-06,
          2.4841297286191835e-06,
          2.4455293721094226e-06,
          2.408055399105237e-06,
          2.3716921643332736e-06,
          2.3364211353886876e-06,
          2.3022210801564495e-06,
          2.2690682687688112e-06,
          2.2369366868033184e-06,
          2.2057982563961062e-06,
          2.175623061971861e-06,
          2.146379577373813e-06,
          2.1180348913122688e-06,
          2.0905549282363196e-06,
          2.0639046619653932e-06,
          2.038048319692498e-06,
          2.012949574282244e-06,
          1.988571723129518e-06,
          1.964877852211446e-06,
          1.941830984349257e-06,
          1.919394211090697e-06,
          1.897530808019299e-06,
          1.8762043336868417e-06,
          1.8553787127416573e-06,
          1.8350183041803711e-06,
          1.8150879559768001e-06,
          1.7955530476325295e-06,
          1.776379522442532e-06,
          1.7575339114708688e-06,
          1.7389833513814984e-06,
          1.7206955983639368e-06,
          1.7026390404306328e-06,
          1.6847827103413447e-06,
          1.6670963013297363e-06,
          1.6495501876698316e-06,
          1.6321154519286457e-06,
          1.6147639205088038e-06,
          1.597468208797878e-06,
          1.5802017769148693e-06,
          1.5629389966865802e-06,
          1.5456552301053898e-06,
          1.5283269191242112e-06,
          1.5109316862432875e-06,
          1.4934484449465158e-06,
          1.4758575186617932e-06,
          1.4581407665596744e-06,
          1.440281714176435e-06,
          1.4222656865595578e-06,
          1.4040799413933231e-06,
          1.3857137993755296e-06,
          1.36715876898898e-06,
          1.34840866274662e-06,
          1.329459701989564e-06,
          1.3103106073836744e-06,
          1.2909626723916366e-06,
          1.2714198171919572e-06,
          1.2516886207697582e-06,
          1.2317783292118155e-06,
          1.2117008385935374e-06,
          1.1914706512411049e-06,
          1.1711048045795179e-06,
          1.1506227722275891e-06,
          1.1300463374648693e-06,
          1.1093994396630221e-06,
          1.0887079947359472e-06,
          1.0679996911092427e-06,
          1.0473037631316993e-06,
          1.0266507442410134e-06,
          1.0060722025454023e-06,
          9.856004617859242e-07,
          9.652683108957248e-07,
          9.451087055682569e-07,
          9.251544653837602e-07,
          9.054379701207851e-07,
          8.859908588969062e-07,
          8.668437357412582e-07,
          8.480258851032669e-07,
          8.29565000650349e-07,
          8.114869305065727e-07,
          7.938154418393985e-07,
          7.765720074183243e-07,
          7.597756164534808e-07,
          7.434426116806775e-07,
          7.275865542983976e-07,
          7.122181179882816e-07,
          6.97345012870467e-07,
          6.829719398643191e-07,
          6.69100575549725e-07,
          6.557295872593029e-07,
          6.428546777822544e-07,
          6.304686587302923e-07,
          6.185615513086595e-07,
          6.071207129535339e-07,
          5.961309880434075e-07,
          5.855748806680384e-07,
          5.754327472456001e-07,
          5.656830066171821e-07,
          5.563023651184088e-07,
          5.472660540302993e-07,
          5.385480767453134e-07,
          5.301214629491655e-07,
          5.219585271134025e-07,
          5.140311286170717e-07,
          5.063109308665558e-07,
          4.987696568597078e-07,
          4.913793387421287e-07,
          4.84112559028186e-07,
          4.769426813056501e-07,
          4.69844068408506e-07,
          4.6279228622583313e-07,
          4.5576429151351304e-07,
          4.4873860228751574e-07,
          4.416954496004946e-07,
          4.346169097345866e-07,
          4.2748701608021444e-07,
          4.202918502103241e-07,
          4.1301961189909174e-07,
          4.056606680706599e-07,
          3.982075808938472e-07,
          3.9065511546017754e-07,
          3.830002276919024e-07,
          3.7524203332123606e-07,
          3.673817589592318e-07,
          3.594226764301319e-07,
          3.513700216827481e-07,
          3.432308997026787e-07,
          3.350141769368321e-07,
          3.267303628039702e-07,
          3.183914819015126e-07,
          3.100109385300166e-07,
          3.016033751431264e-07,
          2.931845262937727e-07,
          2.8477106958873754e-07,
          2.763804750853559e-07,
          2.680308544689818e-07,
          2.5974081124046064e-07,
          2.5152929302259657e-07,
          2.434154469666985e-07,
          2.3541847910802774e-07,
          2.2755751838597227e-07,
          2.1985148591399208e-07,
          2.1231896995924864e-07,
          2.0497810697490891e-07,
          1.978464689220317e-07,
          1.9094095702479214e-07,
          1.8427770202412115e-07,
          1.7787197093185892e-07,
          1.7173808024082303e-07,
          1.6588931551588183e-07,
          1.6033785727677225e-07,
          1.550947130840909e-07,
          1.501696557542689e-07,
          1.455711676555407e-07,
          1.4130639107289483e-07,
          1.3738108467323867e-07,
          1.3379958614991186e-07,
          1.3056478117551974e-07,
          1.2767807884096213e-07,
          1.2513939380383476e-07,
          1.2294713540842e-07,
          1.2109820406984918e-07,
          1.1958799523463663e-07,
          1.1841041123682941e-07,
          1.1755788136215471e-07,
          1.1702139041083488e-07,
          1.1679051601273003e-07,
          1.1685347489620418e-07,
          1.1719717824511615e-07,
          1.1780729619762648e-07,
          1.1866833144755482e-07,
          1.197637018056987e-07,
          1.2107583146708516e-07,
          1.225862506131348e-07,
          1.2427570285794797e-07,
          1.2612425992835514e-07,
          1.2811144285101317e-07,
          1.3021634880970775e-07,
          1.3241778273509354e-07,
          1.3469439260008496e-07,
          1.370248073195562e-07,
          1.393877760950668e-07,
          1.4176230800579432e-07,
          1.4412781062710506e-07,
          1.4646422645903906e-07,
          1.4875216596882408e-07,
          1.5097303609414007e-07,
          1.5310916311654126e-07,
          1.5514390889594887e-07,
          1.5706177955574676e-07,
          1.5884852582154577e-07,
          1.6049123434257674e-07,
          1.6197840945999934e-07,
          1.6330004502802905e-07,
          1.6444768603832376e-07,
          1.654144799421301e-07,
          1.6619521770479833e-07,
          1.6678636476012667e-07,
          1.6718608215438492e-07,
          1.6739423827890387e-07,
          1.6741241168321283e-07,
          1.6724388553568803e-07,
          1.6689363435381538e-07,
          1.6636830366026958e-07,
          1.6567618323337572e-07,
          1.6482717461103175e-07,
          1.6383275347627388e-07,
          1.627059275013367e-07,
          1.6146119015682761e-07,
          1.6011447090550528e-07,
          1.586830820986024e-07,
          1.5718566277950386e-07,
          1.5564211947809644e-07,
          1.5407356395268708e-07,
          1.5250224770867966e-07,
          1.5095149299796416e-07,
          1.4944561988398033e-07,
          1.4800986884838707e-07,
          1.4667031831982447e-07,
          1.4545379642676577e-07,
          1.443877862180719e-07,
          1.435003235593804e-07,
          1.428198869032506e-07,
          1.423752781480521e-07,
          1.4219549384634963e-07,
          1.4230958609896322e-07,
          1.4274651257635156e-07,
          1.435349752442679e-07,
          1.4470324753498984e-07,
          1.462789898974216e-07,
          1.482890538770135e-07,
          1.5075927511713243e-07,
          1.5371425593408175e-07,
          1.5717713839465288e-07,
          1.6116936911365768e-07,
          1.6571045728454964e-07,
          1.70817727753869e-07,
          1.7650607124423242e-07,
          1.8278769411507364e-07,
          1.8967187031933122e-07,
          1.97164698461383e-07,
          2.0526886708071237e-07,
          2.1398343147071079e-07,
          2.2330360548677149e-07,
          2.332205718968368e-07,
          2.4372131487544737e-07,
          2.547884782346728e-07,
          2.664002529181127e-07,
          2.7853029715431623e-07,
          2.9114769247157104e-07,
          3.0421693851587887e-07,
          3.1769798928840805e-07,
          3.3154633302906023e-07,
          3.4571311752201483e-07,
          3.601453220910667e-07,
          3.7478597699296645e-07,
          3.895744303125097e-07,
          4.0444666182186147e-07,
          4.1933564259800247e-07,
          4.341717385063876e-07,
          4.48883154967234e-07,
          4.6339641973543293e-07,
          4.776368997580203e-07,
          4.915293475374955e-07,
          5.049984718376123e-07,
          5.179695270328403e-07,
          5.303689149357407e-07,
          5.421247925485591e-07,
          5.531676788866275e-07,
          5.634310538200302e-07,
          5.728519417831727e-07,
          5.813714732146444e-07,
          5.889354167148453e-07,
          5.954946751472915e-07,
          6.010057392598129e-07,
          6.05431092860555e-07,
          6.087395641447826e-07,
          6.109066184240385e-07,
          6.11914588249225e-07,
          6.117528377316702e-07,
          6.10417858737829e-07
         ],
         "yaxis": "y"
        },
        {
         "legendgroup": "all education",
         "marker": {
          "color": "rgb(31, 119, 180)",
          "symbol": "line-ns-open"
         },
         "mode": "markers",
         "name": "all education",
         "showlegend": false,
         "type": "scatter",
         "x": [
          184460,
          100780,
          29270,
          125510,
          136850,
          126640,
          146360,
          129890,
          105480,
          121110,
          94560,
          122270,
          116720,
          113350,
          71160,
          95260,
          48210,
          96400,
          95410,
          85450,
          144830,
          55320,
          74970,
          54430,
          100980,
          129100,
          76900,
          58760,
          67150,
          74590,
          76350,
          110630,
          73740,
          66790,
          63270,
          69050,
          65250,
          61920,
          61910,
          69020,
          74750,
          85260,
          50600,
          57970,
          64560,
          61210,
          63790,
          73570,
          71550,
          76540,
          73650,
          87850,
          70020,
          81090,
          45950,
          63270,
          54890,
          43080,
          81590,
          90920,
          99730,
          122840,
          63460,
          52270,
          112690,
          83510,
          93750,
          86550,
          107510,
          73760,
          88550,
          108350,
          105030,
          84810,
          91160,
          94280,
          80750,
          69360,
          65470,
          63420,
          116500,
          80720,
          91410,
          108770,
          87060,
          117220,
          98530,
          105570,
          88860,
          91410,
          88020,
          92400,
          93360,
          88430,
          91160,
          113460,
          137720,
          99040,
          56340,
          61530,
          57060,
          52830,
          66020,
          53410,
          65260,
          58350,
          50620,
          56550,
          56980,
          45010,
          62990,
          60300,
          68970,
          63200,
          94490,
          75650,
          63270,
          82220,
          62660,
          61790,
          70990,
          88790,
          75910,
          114590,
          122850,
          95380,
          77630,
          96810,
          71360,
          92040,
          81270,
          109910,
          105020,
          59170,
          78200,
          92880,
          101790,
          83420,
          74350,
          63670,
          81540,
          63680,
          122220,
          83330,
          45860,
          49260,
          46540,
          51130,
          82080,
          47510,
          45500,
          59150,
          50550,
          74100,
          51550,
          57040,
          49610,
          35950,
          46240,
          42930,
          47390,
          56750,
          46650,
          61230,
          55220,
          54290,
          35060,
          40360,
          43790,
          50400,
          43860,
          31630,
          122960,
          54010,
          97870,
          63930,
          136910,
          51740,
          48180,
          58400,
          87200,
          85180,
          73690,
          87900,
          101010,
          83260,
          83300,
          85450,
          92040,
          79550,
          82430,
          89590,
          86220,
          77070,
          104370,
          80520,
          85930,
          76620,
          75290,
          71530,
          97320,
          74600,
          65510,
          71410,
          62860,
          113530,
          72070,
          69530,
          70630,
          68490,
          69990,
          75170,
          75240,
          76480,
          64380,
          54620,
          68970,
          30520,
          56850,
          59670,
          59660,
          60800,
          61660,
          61710,
          60000,
          60460,
          61440,
          61710,
          61190,
          54350,
          39190,
          28790,
          39350,
          53950,
          54570,
          44430,
          59500,
          34900,
          49710,
          66290,
          32080,
          27920,
          40310,
          94220,
          34710,
          50550,
          75270,
          64490,
          68890,
          73790,
          28040,
          52110,
          56040,
          29460,
          54600,
          64620,
          74420,
          51370,
          34840,
          28550,
          46330,
          51670,
          34630,
          46270,
          61150,
          61370,
          72850,
          63200,
          51830,
          60130,
          47580,
          45910,
          40570,
          54740,
          36280,
          55160,
          63780,
          73460,
          70340,
          155600,
          208000,
          208000,
          208000,
          147220,
          61270,
          115250,
          128090,
          112260,
          126240,
          84950,
          89440,
          85560,
          48220,
          61330,
          79120,
          49170,
          52650,
          95460,
          73300,
          174790,
          105030,
          109820,
          77600,
          208000,
          205590,
          201590,
          208000,
          175310,
          208000,
          206500,
          208000,
          76220,
          75640,
          57720,
          74320,
          77950,
          60510,
          73410,
          28400,
          33950,
          33780,
          48300,
          35320,
          36940,
          47480,
          37840,
          68410,
          53420,
          42630,
          48440,
          81880,
          49850,
          29660,
          28980,
          31110,
          61510,
          29230,
          58790,
          27000,
          42820,
          40080,
          34800,
          37440,
          33380,
          27850,
          28590,
          35510,
          38460,
          63730,
          91090,
          77800,
          50850,
          61660,
          45270,
          47830,
          45180,
          83170,
          57500,
          40920,
          63150,
          71820,
          37590,
          50510,
          34190,
          29680,
          29760,
          23420,
          41770,
          30990,
          51530,
          33400,
          23510,
          27750,
          37870,
          27790,
          25150,
          30760,
          24800,
          23680,
          22740,
          22890,
          24430,
          23470,
          23970,
          23090,
          24970,
          40780,
          49370,
          27430,
          24850,
          31230,
          37330,
          30440,
          35840,
          39980,
          32090,
          50710,
          39800,
          30430,
          24780,
          21260,
          24750,
          28300,
          25150,
          23500,
          23370,
          41410,
          25110,
          26460,
          47760,
          27930,
          54150,
          30150,
          26090,
          75730,
          25770,
          22550,
          34090,
          25580,
          31390,
          24230,
          40390,
          26350,
          29450,
          27130,
          40350,
          74760,
          23650,
          25690,
          28820,
          31710,
          25250,
          53310,
          50940,
          62270,
          40660,
          56130,
          81020,
          59930,
          30930,
          28350,
          59720,
          48930,
          103900,
          26290,
          27420,
          31820,
          56620,
          30610,
          35750,
          42790,
          37000,
          38740,
          41230,
          28040,
          46180,
          43310,
          31230,
          42420,
          52750,
          38140,
          39380,
          40100,
          34710,
          46590,
          32710,
          24470,
          34970,
          27490,
          40640,
          36550,
          34240,
          41430,
          30050,
          38380,
          41360,
          43740,
          29690,
          41910,
          40190,
          42280,
          48330,
          51310,
          60140,
          48260,
          34190,
          35040,
          60890,
          47300,
          36580,
          37690,
          33490,
          40340,
          45390,
          40750,
          30960,
          34040,
          33450,
          40630,
          49870,
          35470,
          48280,
          45490,
          42920,
          25670,
          31950,
          25440,
          27830,
          29590,
          31770,
          44650,
          41440,
          37280,
          39780,
          66210,
          63100,
          53100,
          43280,
          48330,
          40090,
          44240,
          39610,
          43050,
          44810,
          52180,
          36860,
          40130,
          62600,
          48980,
          45700,
          59070,
          56180,
          44630,
          40380,
          48690,
          40280,
          40520,
          38820,
          55160,
          45440,
          49100,
          42100,
          50400,
          55040,
          44890,
          35410,
          33060,
          32830,
          31340,
          32100,
          32110,
          31910,
          60710,
          84990,
          35800,
          43900,
          40730,
          56100,
          39870,
          46990,
          54980,
          46740,
          44800,
          55280,
          59090,
          54210,
          36070,
          38910,
          37120,
          46250,
          50160,
          67460,
          39530,
          55380,
          57910,
          65700,
          44070,
          62530,
          59300,
          82780,
          37380,
          39510,
          48970,
          64090,
          43580,
          35790,
          42090,
          48500,
          42200,
          53370,
          56390,
          41330,
          37600,
          36100,
          30330,
          38570,
          28640,
          41570,
          58100,
          48730,
          40260,
          53590,
          47520,
          55560,
          53990,
          72520,
          56750,
          38880,
          49280,
          36650,
          42520,
          58720,
          39080,
          52910,
          35420,
          49980,
          41940,
          33890,
          50860,
          73890,
          30530,
          39830,
          61310,
          54210,
          36520,
          34810,
          45660,
          40390,
          35480,
          35080,
          27700,
          32500,
          28100,
          29230,
          31590,
          30790,
          31110,
          27550,
          36320,
          39670,
          40490,
          35610,
          38910,
          36100,
          40100,
          43210,
          44420,
          42250,
          38620,
          57020,
          46910,
          35590,
          32130,
          36330,
          53920,
          42490,
          38310,
          38250,
          49940,
          33500,
          39330,
          34830,
          40510,
          36910,
          33040,
          24220,
          24190,
          26420,
          29560,
          30570,
          29950,
          31520,
          29460,
          28730,
          29980,
          29790,
          36110,
          45070,
          35130,
          27970,
          35790,
          32480,
          59260,
          64880,
          30410,
          30990,
          33110,
          100530,
          90700,
          81990,
          62150,
          47760,
          62550,
          70710,
          74180,
          58390,
          49130,
          41330,
          37560,
          30600,
          37780,
          30200,
          35600,
          35480,
          40090,
          39140,
          40870,
          41340,
          40690,
          32620,
          30990,
          32950,
          38150,
          38060,
          32280,
          41200,
          56450,
          34340,
          31850,
          35290,
          30620,
          34030,
          39210,
          46010,
          29100,
          29800,
          53850,
          55060,
          147220,
          86080,
          122990,
          52650,
          56640,
          25890,
          25860,
          45260,
          34730,
          43030,
          31340,
          32910,
          67090,
          49330,
          60260,
          65990,
          67880,
          51600,
          43480,
          72340,
          48260,
          74610,
          50110,
          25140,
          25200,
          47480,
          75820,
          26570,
          37000,
          34660,
          56690,
          47040,
          59720,
          36200,
          25800,
          29510,
          31180,
          25910,
          27380,
          66160,
          45040,
          55040,
          37840,
          42360,
          31770
         ],
         "xaxis": "x",
         "y": [
          "all education",
          "all education",
          "all education",
          "all education",
          "all education",
          "all education",
          "all education",
          "all education",
          "all education",
          "all education",
          "all education",
          "all education",
          "all education",
          "all education",
          "all education",
          "all education",
          "all education",
          "all education",
          "all education",
          "all education",
          "all education",
          "all education",
          "all education",
          "all education",
          "all education",
          "all education",
          "all education",
          "all education",
          "all education",
          "all education",
          "all education",
          "all education",
          "all education",
          "all education",
          "all education",
          "all education",
          "all education",
          "all education",
          "all education",
          "all education",
          "all education",
          "all education",
          "all education",
          "all education",
          "all education",
          "all education",
          "all education",
          "all education",
          "all education",
          "all education",
          "all education",
          "all education",
          "all education",
          "all education",
          "all education",
          "all education",
          "all education",
          "all education",
          "all education",
          "all education",
          "all education",
          "all education",
          "all education",
          "all education",
          "all education",
          "all education",
          "all education",
          "all education",
          "all education",
          "all education",
          "all education",
          "all education",
          "all education",
          "all education",
          "all education",
          "all education",
          "all education",
          "all education",
          "all education",
          "all education",
          "all education",
          "all education",
          "all education",
          "all education",
          "all education",
          "all education",
          "all education",
          "all education",
          "all education",
          "all education",
          "all education",
          "all education",
          "all education",
          "all education",
          "all education",
          "all education",
          "all education",
          "all education",
          "all education",
          "all education",
          "all education",
          "all education",
          "all education",
          "all education",
          "all education",
          "all education",
          "all education",
          "all education",
          "all education",
          "all education",
          "all education",
          "all education",
          "all education",
          "all education",
          "all education",
          "all education",
          "all education",
          "all education",
          "all education",
          "all education",
          "all education",
          "all education",
          "all education",
          "all education",
          "all education",
          "all education",
          "all education",
          "all education",
          "all education",
          "all education",
          "all education",
          "all education",
          "all education",
          "all education",
          "all education",
          "all education",
          "all education",
          "all education",
          "all education",
          "all education",
          "all education",
          "all education",
          "all education",
          "all education",
          "all education",
          "all education",
          "all education",
          "all education",
          "all education",
          "all education",
          "all education",
          "all education",
          "all education",
          "all education",
          "all education",
          "all education",
          "all education",
          "all education",
          "all education",
          "all education",
          "all education",
          "all education",
          "all education",
          "all education",
          "all education",
          "all education",
          "all education",
          "all education",
          "all education",
          "all education",
          "all education",
          "all education",
          "all education",
          "all education",
          "all education",
          "all education",
          "all education",
          "all education",
          "all education",
          "all education",
          "all education",
          "all education",
          "all education",
          "all education",
          "all education",
          "all education",
          "all education",
          "all education",
          "all education",
          "all education",
          "all education",
          "all education",
          "all education",
          "all education",
          "all education",
          "all education",
          "all education",
          "all education",
          "all education",
          "all education",
          "all education",
          "all education",
          "all education",
          "all education",
          "all education",
          "all education",
          "all education",
          "all education",
          "all education",
          "all education",
          "all education",
          "all education",
          "all education",
          "all education",
          "all education",
          "all education",
          "all education",
          "all education",
          "all education",
          "all education",
          "all education",
          "all education",
          "all education",
          "all education",
          "all education",
          "all education",
          "all education",
          "all education",
          "all education",
          "all education",
          "all education",
          "all education",
          "all education",
          "all education",
          "all education",
          "all education",
          "all education",
          "all education",
          "all education",
          "all education",
          "all education",
          "all education",
          "all education",
          "all education",
          "all education",
          "all education",
          "all education",
          "all education",
          "all education",
          "all education",
          "all education",
          "all education",
          "all education",
          "all education",
          "all education",
          "all education",
          "all education",
          "all education",
          "all education",
          "all education",
          "all education",
          "all education",
          "all education",
          "all education",
          "all education",
          "all education",
          "all education",
          "all education",
          "all education",
          "all education",
          "all education",
          "all education",
          "all education",
          "all education",
          "all education",
          "all education",
          "all education",
          "all education",
          "all education",
          "all education",
          "all education",
          "all education",
          "all education",
          "all education",
          "all education",
          "all education",
          "all education",
          "all education",
          "all education",
          "all education",
          "all education",
          "all education",
          "all education",
          "all education",
          "all education",
          "all education",
          "all education",
          "all education",
          "all education",
          "all education",
          "all education",
          "all education",
          "all education",
          "all education",
          "all education",
          "all education",
          "all education",
          "all education",
          "all education",
          "all education",
          "all education",
          "all education",
          "all education",
          "all education",
          "all education",
          "all education",
          "all education",
          "all education",
          "all education",
          "all education",
          "all education",
          "all education",
          "all education",
          "all education",
          "all education",
          "all education",
          "all education",
          "all education",
          "all education",
          "all education",
          "all education",
          "all education",
          "all education",
          "all education",
          "all education",
          "all education",
          "all education",
          "all education",
          "all education",
          "all education",
          "all education",
          "all education",
          "all education",
          "all education",
          "all education",
          "all education",
          "all education",
          "all education",
          "all education",
          "all education",
          "all education",
          "all education",
          "all education",
          "all education",
          "all education",
          "all education",
          "all education",
          "all education",
          "all education",
          "all education",
          "all education",
          "all education",
          "all education",
          "all education",
          "all education",
          "all education",
          "all education",
          "all education",
          "all education",
          "all education",
          "all education",
          "all education",
          "all education",
          "all education",
          "all education",
          "all education",
          "all education",
          "all education",
          "all education",
          "all education",
          "all education",
          "all education",
          "all education",
          "all education",
          "all education",
          "all education",
          "all education",
          "all education",
          "all education",
          "all education",
          "all education",
          "all education",
          "all education",
          "all education",
          "all education",
          "all education",
          "all education",
          "all education",
          "all education",
          "all education",
          "all education",
          "all education",
          "all education",
          "all education",
          "all education",
          "all education",
          "all education",
          "all education",
          "all education",
          "all education",
          "all education",
          "all education",
          "all education",
          "all education",
          "all education",
          "all education",
          "all education",
          "all education",
          "all education",
          "all education",
          "all education",
          "all education",
          "all education",
          "all education",
          "all education",
          "all education",
          "all education",
          "all education",
          "all education",
          "all education",
          "all education",
          "all education",
          "all education",
          "all education",
          "all education",
          "all education",
          "all education",
          "all education",
          "all education",
          "all education",
          "all education",
          "all education",
          "all education",
          "all education",
          "all education",
          "all education",
          "all education",
          "all education",
          "all education",
          "all education",
          "all education",
          "all education",
          "all education",
          "all education",
          "all education",
          "all education",
          "all education",
          "all education",
          "all education",
          "all education",
          "all education",
          "all education",
          "all education",
          "all education",
          "all education",
          "all education",
          "all education",
          "all education",
          "all education",
          "all education",
          "all education",
          "all education",
          "all education",
          "all education",
          "all education",
          "all education",
          "all education",
          "all education",
          "all education",
          "all education",
          "all education",
          "all education",
          "all education",
          "all education",
          "all education",
          "all education",
          "all education",
          "all education",
          "all education",
          "all education",
          "all education",
          "all education",
          "all education",
          "all education",
          "all education",
          "all education",
          "all education",
          "all education",
          "all education",
          "all education",
          "all education",
          "all education",
          "all education",
          "all education",
          "all education",
          "all education",
          "all education",
          "all education",
          "all education",
          "all education",
          "all education",
          "all education",
          "all education",
          "all education",
          "all education",
          "all education",
          "all education",
          "all education",
          "all education",
          "all education",
          "all education",
          "all education",
          "all education",
          "all education",
          "all education",
          "all education",
          "all education",
          "all education",
          "all education",
          "all education",
          "all education",
          "all education",
          "all education",
          "all education",
          "all education",
          "all education",
          "all education",
          "all education",
          "all education",
          "all education",
          "all education",
          "all education",
          "all education",
          "all education",
          "all education",
          "all education",
          "all education",
          "all education",
          "all education",
          "all education",
          "all education",
          "all education",
          "all education",
          "all education",
          "all education",
          "all education",
          "all education",
          "all education",
          "all education",
          "all education",
          "all education",
          "all education",
          "all education",
          "all education",
          "all education",
          "all education",
          "all education",
          "all education",
          "all education",
          "all education",
          "all education",
          "all education",
          "all education",
          "all education",
          "all education",
          "all education",
          "all education",
          "all education",
          "all education",
          "all education",
          "all education",
          "all education",
          "all education",
          "all education",
          "all education",
          "all education",
          "all education",
          "all education",
          "all education",
          "all education",
          "all education",
          "all education",
          "all education",
          "all education",
          "all education",
          "all education",
          "all education",
          "all education",
          "all education",
          "all education",
          "all education",
          "all education",
          "all education",
          "all education",
          "all education",
          "all education",
          "all education",
          "all education",
          "all education",
          "all education",
          "all education",
          "all education",
          "all education",
          "all education",
          "all education",
          "all education",
          "all education",
          "all education",
          "all education",
          "all education",
          "all education",
          "all education",
          "all education",
          "all education",
          "all education",
          "all education",
          "all education",
          "all education",
          "all education",
          "all education",
          "all education",
          "all education",
          "all education",
          "all education",
          "all education",
          "all education",
          "all education",
          "all education",
          "all education",
          "all education",
          "all education",
          "all education",
          "all education",
          "all education",
          "all education",
          "all education",
          "all education",
          "all education",
          "all education",
          "all education",
          "all education",
          "all education",
          "all education",
          "all education",
          "all education",
          "all education",
          "all education",
          "all education",
          "all education",
          "all education",
          "all education",
          "all education",
          "all education",
          "all education",
          "all education",
          "all education",
          "all education",
          "all education",
          "all education",
          "all education",
          "all education",
          "all education",
          "all education",
          "all education",
          "all education",
          "all education",
          "all education",
          "all education",
          "all education",
          "all education",
          "all education",
          "all education",
          "all education",
          "all education",
          "all education",
          "all education",
          "all education",
          "all education",
          "all education",
          "all education",
          "all education",
          "all education",
          "all education",
          "all education",
          "all education",
          "all education",
          "all education",
          "all education",
          "all education",
          "all education",
          "all education",
          "all education",
          "all education",
          "all education",
          "all education",
          "all education",
          "all education",
          "all education",
          "all education",
          "all education",
          "all education",
          "all education",
          "all education",
          "all education",
          "all education",
          "all education",
          "all education",
          "all education",
          "all education",
          "all education",
          "all education",
          "all education",
          "all education",
          "all education",
          "all education",
          "all education",
          "all education",
          "all education",
          "all education",
          "all education",
          "all education",
          "all education",
          "all education",
          "all education",
          "all education",
          "all education",
          "all education",
          "all education",
          "all education",
          "all education",
          "all education",
          "all education",
          "all education",
          "all education",
          "all education",
          "all education",
          "all education",
          "all education",
          "all education",
          "all education",
          "all education",
          "all education",
          "all education",
          "all education",
          "all education",
          "all education",
          "all education",
          "all education",
          "all education",
          "all education",
          "all education",
          "all education",
          "all education",
          "all education",
          "all education",
          "all education",
          "all education",
          "all education",
          "all education",
          "all education",
          "all education",
          "all education",
          "all education"
         ],
         "yaxis": "y2"
        }
       ],
       "layout": {
        "barmode": "overlay",
        "hovermode": "closest",
        "legend": {
         "traceorder": "reversed"
        },
        "showlegend": false,
        "template": {
         "data": {
          "bar": [
           {
            "error_x": {
             "color": "#2a3f5f"
            },
            "error_y": {
             "color": "#2a3f5f"
            },
            "marker": {
             "line": {
              "color": "#E5ECF6",
              "width": 0.5
             }
            },
            "type": "bar"
           }
          ],
          "barpolar": [
           {
            "marker": {
             "line": {
              "color": "#E5ECF6",
              "width": 0.5
             }
            },
            "type": "barpolar"
           }
          ],
          "carpet": [
           {
            "aaxis": {
             "endlinecolor": "#2a3f5f",
             "gridcolor": "white",
             "linecolor": "white",
             "minorgridcolor": "white",
             "startlinecolor": "#2a3f5f"
            },
            "baxis": {
             "endlinecolor": "#2a3f5f",
             "gridcolor": "white",
             "linecolor": "white",
             "minorgridcolor": "white",
             "startlinecolor": "#2a3f5f"
            },
            "type": "carpet"
           }
          ],
          "choropleth": [
           {
            "colorbar": {
             "outlinewidth": 0,
             "ticks": ""
            },
            "type": "choropleth"
           }
          ],
          "contour": [
           {
            "colorbar": {
             "outlinewidth": 0,
             "ticks": ""
            },
            "colorscale": [
             [
              0,
              "#0d0887"
             ],
             [
              0.1111111111111111,
              "#46039f"
             ],
             [
              0.2222222222222222,
              "#7201a8"
             ],
             [
              0.3333333333333333,
              "#9c179e"
             ],
             [
              0.4444444444444444,
              "#bd3786"
             ],
             [
              0.5555555555555556,
              "#d8576b"
             ],
             [
              0.6666666666666666,
              "#ed7953"
             ],
             [
              0.7777777777777778,
              "#fb9f3a"
             ],
             [
              0.8888888888888888,
              "#fdca26"
             ],
             [
              1,
              "#f0f921"
             ]
            ],
            "type": "contour"
           }
          ],
          "contourcarpet": [
           {
            "colorbar": {
             "outlinewidth": 0,
             "ticks": ""
            },
            "type": "contourcarpet"
           }
          ],
          "heatmap": [
           {
            "colorbar": {
             "outlinewidth": 0,
             "ticks": ""
            },
            "colorscale": [
             [
              0,
              "#0d0887"
             ],
             [
              0.1111111111111111,
              "#46039f"
             ],
             [
              0.2222222222222222,
              "#7201a8"
             ],
             [
              0.3333333333333333,
              "#9c179e"
             ],
             [
              0.4444444444444444,
              "#bd3786"
             ],
             [
              0.5555555555555556,
              "#d8576b"
             ],
             [
              0.6666666666666666,
              "#ed7953"
             ],
             [
              0.7777777777777778,
              "#fb9f3a"
             ],
             [
              0.8888888888888888,
              "#fdca26"
             ],
             [
              1,
              "#f0f921"
             ]
            ],
            "type": "heatmap"
           }
          ],
          "heatmapgl": [
           {
            "colorbar": {
             "outlinewidth": 0,
             "ticks": ""
            },
            "colorscale": [
             [
              0,
              "#0d0887"
             ],
             [
              0.1111111111111111,
              "#46039f"
             ],
             [
              0.2222222222222222,
              "#7201a8"
             ],
             [
              0.3333333333333333,
              "#9c179e"
             ],
             [
              0.4444444444444444,
              "#bd3786"
             ],
             [
              0.5555555555555556,
              "#d8576b"
             ],
             [
              0.6666666666666666,
              "#ed7953"
             ],
             [
              0.7777777777777778,
              "#fb9f3a"
             ],
             [
              0.8888888888888888,
              "#fdca26"
             ],
             [
              1,
              "#f0f921"
             ]
            ],
            "type": "heatmapgl"
           }
          ],
          "histogram": [
           {
            "marker": {
             "colorbar": {
              "outlinewidth": 0,
              "ticks": ""
             }
            },
            "type": "histogram"
           }
          ],
          "histogram2d": [
           {
            "colorbar": {
             "outlinewidth": 0,
             "ticks": ""
            },
            "colorscale": [
             [
              0,
              "#0d0887"
             ],
             [
              0.1111111111111111,
              "#46039f"
             ],
             [
              0.2222222222222222,
              "#7201a8"
             ],
             [
              0.3333333333333333,
              "#9c179e"
             ],
             [
              0.4444444444444444,
              "#bd3786"
             ],
             [
              0.5555555555555556,
              "#d8576b"
             ],
             [
              0.6666666666666666,
              "#ed7953"
             ],
             [
              0.7777777777777778,
              "#fb9f3a"
             ],
             [
              0.8888888888888888,
              "#fdca26"
             ],
             [
              1,
              "#f0f921"
             ]
            ],
            "type": "histogram2d"
           }
          ],
          "histogram2dcontour": [
           {
            "colorbar": {
             "outlinewidth": 0,
             "ticks": ""
            },
            "colorscale": [
             [
              0,
              "#0d0887"
             ],
             [
              0.1111111111111111,
              "#46039f"
             ],
             [
              0.2222222222222222,
              "#7201a8"
             ],
             [
              0.3333333333333333,
              "#9c179e"
             ],
             [
              0.4444444444444444,
              "#bd3786"
             ],
             [
              0.5555555555555556,
              "#d8576b"
             ],
             [
              0.6666666666666666,
              "#ed7953"
             ],
             [
              0.7777777777777778,
              "#fb9f3a"
             ],
             [
              0.8888888888888888,
              "#fdca26"
             ],
             [
              1,
              "#f0f921"
             ]
            ],
            "type": "histogram2dcontour"
           }
          ],
          "mesh3d": [
           {
            "colorbar": {
             "outlinewidth": 0,
             "ticks": ""
            },
            "type": "mesh3d"
           }
          ],
          "parcoords": [
           {
            "line": {
             "colorbar": {
              "outlinewidth": 0,
              "ticks": ""
             }
            },
            "type": "parcoords"
           }
          ],
          "pie": [
           {
            "automargin": true,
            "type": "pie"
           }
          ],
          "scatter": [
           {
            "marker": {
             "colorbar": {
              "outlinewidth": 0,
              "ticks": ""
             }
            },
            "type": "scatter"
           }
          ],
          "scatter3d": [
           {
            "line": {
             "colorbar": {
              "outlinewidth": 0,
              "ticks": ""
             }
            },
            "marker": {
             "colorbar": {
              "outlinewidth": 0,
              "ticks": ""
             }
            },
            "type": "scatter3d"
           }
          ],
          "scattercarpet": [
           {
            "marker": {
             "colorbar": {
              "outlinewidth": 0,
              "ticks": ""
             }
            },
            "type": "scattercarpet"
           }
          ],
          "scattergeo": [
           {
            "marker": {
             "colorbar": {
              "outlinewidth": 0,
              "ticks": ""
             }
            },
            "type": "scattergeo"
           }
          ],
          "scattergl": [
           {
            "marker": {
             "colorbar": {
              "outlinewidth": 0,
              "ticks": ""
             }
            },
            "type": "scattergl"
           }
          ],
          "scattermapbox": [
           {
            "marker": {
             "colorbar": {
              "outlinewidth": 0,
              "ticks": ""
             }
            },
            "type": "scattermapbox"
           }
          ],
          "scatterpolar": [
           {
            "marker": {
             "colorbar": {
              "outlinewidth": 0,
              "ticks": ""
             }
            },
            "type": "scatterpolar"
           }
          ],
          "scatterpolargl": [
           {
            "marker": {
             "colorbar": {
              "outlinewidth": 0,
              "ticks": ""
             }
            },
            "type": "scatterpolargl"
           }
          ],
          "scatterternary": [
           {
            "marker": {
             "colorbar": {
              "outlinewidth": 0,
              "ticks": ""
             }
            },
            "type": "scatterternary"
           }
          ],
          "surface": [
           {
            "colorbar": {
             "outlinewidth": 0,
             "ticks": ""
            },
            "colorscale": [
             [
              0,
              "#0d0887"
             ],
             [
              0.1111111111111111,
              "#46039f"
             ],
             [
              0.2222222222222222,
              "#7201a8"
             ],
             [
              0.3333333333333333,
              "#9c179e"
             ],
             [
              0.4444444444444444,
              "#bd3786"
             ],
             [
              0.5555555555555556,
              "#d8576b"
             ],
             [
              0.6666666666666666,
              "#ed7953"
             ],
             [
              0.7777777777777778,
              "#fb9f3a"
             ],
             [
              0.8888888888888888,
              "#fdca26"
             ],
             [
              1,
              "#f0f921"
             ]
            ],
            "type": "surface"
           }
          ],
          "table": [
           {
            "cells": {
             "fill": {
              "color": "#EBF0F8"
             },
             "line": {
              "color": "white"
             }
            },
            "header": {
             "fill": {
              "color": "#C8D4E3"
             },
             "line": {
              "color": "white"
             }
            },
            "type": "table"
           }
          ]
         },
         "layout": {
          "annotationdefaults": {
           "arrowcolor": "#2a3f5f",
           "arrowhead": 0,
           "arrowwidth": 1
          },
          "autotypenumbers": "strict",
          "coloraxis": {
           "colorbar": {
            "outlinewidth": 0,
            "ticks": ""
           }
          },
          "colorscale": {
           "diverging": [
            [
             0,
             "#8e0152"
            ],
            [
             0.1,
             "#c51b7d"
            ],
            [
             0.2,
             "#de77ae"
            ],
            [
             0.3,
             "#f1b6da"
            ],
            [
             0.4,
             "#fde0ef"
            ],
            [
             0.5,
             "#f7f7f7"
            ],
            [
             0.6,
             "#e6f5d0"
            ],
            [
             0.7,
             "#b8e186"
            ],
            [
             0.8,
             "#7fbc41"
            ],
            [
             0.9,
             "#4d9221"
            ],
            [
             1,
             "#276419"
            ]
           ],
           "sequential": [
            [
             0,
             "#0d0887"
            ],
            [
             0.1111111111111111,
             "#46039f"
            ],
            [
             0.2222222222222222,
             "#7201a8"
            ],
            [
             0.3333333333333333,
             "#9c179e"
            ],
            [
             0.4444444444444444,
             "#bd3786"
            ],
            [
             0.5555555555555556,
             "#d8576b"
            ],
            [
             0.6666666666666666,
             "#ed7953"
            ],
            [
             0.7777777777777778,
             "#fb9f3a"
            ],
            [
             0.8888888888888888,
             "#fdca26"
            ],
            [
             1,
             "#f0f921"
            ]
           ],
           "sequentialminus": [
            [
             0,
             "#0d0887"
            ],
            [
             0.1111111111111111,
             "#46039f"
            ],
            [
             0.2222222222222222,
             "#7201a8"
            ],
            [
             0.3333333333333333,
             "#9c179e"
            ],
            [
             0.4444444444444444,
             "#bd3786"
            ],
            [
             0.5555555555555556,
             "#d8576b"
            ],
            [
             0.6666666666666666,
             "#ed7953"
            ],
            [
             0.7777777777777778,
             "#fb9f3a"
            ],
            [
             0.8888888888888888,
             "#fdca26"
            ],
            [
             1,
             "#f0f921"
            ]
           ]
          },
          "colorway": [
           "#636efa",
           "#EF553B",
           "#00cc96",
           "#ab63fa",
           "#FFA15A",
           "#19d3f3",
           "#FF6692",
           "#B6E880",
           "#FF97FF",
           "#FECB52"
          ],
          "font": {
           "color": "#2a3f5f"
          },
          "geo": {
           "bgcolor": "white",
           "lakecolor": "white",
           "landcolor": "#E5ECF6",
           "showlakes": true,
           "showland": true,
           "subunitcolor": "white"
          },
          "hoverlabel": {
           "align": "left"
          },
          "hovermode": "closest",
          "mapbox": {
           "style": "light"
          },
          "paper_bgcolor": "white",
          "plot_bgcolor": "#E5ECF6",
          "polar": {
           "angularaxis": {
            "gridcolor": "white",
            "linecolor": "white",
            "ticks": ""
           },
           "bgcolor": "#E5ECF6",
           "radialaxis": {
            "gridcolor": "white",
            "linecolor": "white",
            "ticks": ""
           }
          },
          "scene": {
           "xaxis": {
            "backgroundcolor": "#E5ECF6",
            "gridcolor": "white",
            "gridwidth": 2,
            "linecolor": "white",
            "showbackground": true,
            "ticks": "",
            "zerolinecolor": "white"
           },
           "yaxis": {
            "backgroundcolor": "#E5ECF6",
            "gridcolor": "white",
            "gridwidth": 2,
            "linecolor": "white",
            "showbackground": true,
            "ticks": "",
            "zerolinecolor": "white"
           },
           "zaxis": {
            "backgroundcolor": "#E5ECF6",
            "gridcolor": "white",
            "gridwidth": 2,
            "linecolor": "white",
            "showbackground": true,
            "ticks": "",
            "zerolinecolor": "white"
           }
          },
          "shapedefaults": {
           "line": {
            "color": "#2a3f5f"
           }
          },
          "ternary": {
           "aaxis": {
            "gridcolor": "white",
            "linecolor": "white",
            "ticks": ""
           },
           "baxis": {
            "gridcolor": "white",
            "linecolor": "white",
            "ticks": ""
           },
           "bgcolor": "#E5ECF6",
           "caxis": {
            "gridcolor": "white",
            "linecolor": "white",
            "ticks": ""
           }
          },
          "title": {
           "x": 0.05
          },
          "xaxis": {
           "automargin": true,
           "gridcolor": "white",
           "linecolor": "white",
           "ticks": "",
           "title": {
            "standoff": 15
           },
           "zerolinecolor": "white",
           "zerolinewidth": 2
          },
          "yaxis": {
           "automargin": true,
           "gridcolor": "white",
           "linecolor": "white",
           "ticks": "",
           "title": {
            "standoff": 15
           },
           "zerolinecolor": "white",
           "zerolinewidth": 2
          }
         }
        },
        "title": {
         "font": {
          "size": 28
         },
         "text": "Distribution of Median Wage, All Education Levels"
        },
        "xaxis": {
         "anchor": "y2",
         "domain": [
          0,
          1
         ],
         "title": {
          "text": "Median Wage ($)"
         },
         "zeroline": false
        },
        "yaxis": {
         "anchor": "free",
         "domain": [
          0.35,
          1
         ],
         "position": 0,
         "title": {
          "text": "Frequency"
         }
        },
        "yaxis2": {
         "anchor": "x",
         "domain": [
          0,
          0.25
         ],
         "dtick": 1,
         "showticklabels": false
        }
       }
      },
      "text/html": [
       "<div>                            <div id=\"23428634-6b95-4ab3-8ec8-0cbf14f18832\" class=\"plotly-graph-div\" style=\"height:525px; width:100%;\"></div>            <script type=\"text/javascript\">                require([\"plotly\"], function(Plotly) {                    window.PLOTLYENV=window.PLOTLYENV || {};                                    if (document.getElementById(\"23428634-6b95-4ab3-8ec8-0cbf14f18832\")) {                    Plotly.newPlot(                        \"23428634-6b95-4ab3-8ec8-0cbf14f18832\",                        [{\"autobinx\": false, \"histnorm\": \"probability density\", \"legendgroup\": \"all education\", \"marker\": {\"color\": \"rgb(31, 119, 180)\"}, \"name\": \"all education\", \"opacity\": 0.7, \"type\": \"histogram\", \"x\": [184460.0, 100780.0, 29270.0, 125510.0, 136850.0, 126640.0, 146360.0, 129890.0, 105480.0, 121110.0, 94560.0, 122270.0, 116720.0, 113350.0, 71160.0, 95260.0, 48210.0, 96400.0, 95410.0, 85450.0, 144830.0, 55320.0, 74970.0, 54430.0, 100980.0, 129100.0, 76900.0, 58760.0, 67150.0, 74590.0, 76350.0, 110630.0, 73740.0, 66790.0, 63270.0, 69050.0, 65250.0, 61920.0, 61910.0, 69020.0, 74750.0, 85260.0, 50600.0, 57970.0, 64560.0, 61210.0, 63790.0, 73570.0, 71550.0, 76540.0, 73650.0, 87850.0, 70020.0, 81090.0, 45950.0, 63270.0, 54890.0, 43080.0, 81590.0, 90920.0, 99730.0, 122840.0, 63460.0, 52270.0, 112690.0, 83510.0, 93750.0, 86550.0, 107510.0, 73760.0, 88550.0, 108350.0, 105030.0, 84810.0, 91160.0, 94280.0, 80750.0, 69360.0, 65470.0, 63420.0, 116500.0, 80720.0, 91410.0, 108770.0, 87060.0, 117220.0, 98530.0, 105570.0, 88860.0, 91410.0, 88020.0, 92400.0, 93360.0, 88430.0, 91160.0, 113460.0, 137720.0, 99040.0, 56340.0, 61530.0, 57060.0, 52830.0, 66020.0, 53410.0, 65260.0, 58350.0, 50620.0, 56550.0, 56980.0, 45010.0, 62990.0, 60300.0, 68970.0, 63200.0, 94490.0, 75650.0, 63270.0, 82220.0, 62660.0, 61790.0, 70990.0, 88790.0, 75910.0, 114590.0, 122850.0, 95380.0, 77630.0, 96810.0, 71360.0, 92040.0, 81270.0, 109910.0, 105020.0, 59170.0, 78200.0, 92880.0, 101790.0, 83420.0, 74350.0, 63670.0, 81540.0, 63680.0, 122220.0, 83330.0, 45860.0, 49260.0, 46540.0, 51130.0, 82080.0, 47510.0, 45500.0, 59150.0, 50550.0, 74100.0, 51550.0, 57040.0, 49610.0, 35950.0, 46240.0, 42930.0, 47390.0, 56750.0, 46650.0, 61230.0, 55220.0, 54290.0, 35060.0, 40360.0, 43790.0, 50400.0, 43860.0, 31630.0, 122960.0, 54010.0, 97870.0, 63930.0, 136910.0, 51740.0, 48180.0, 58400.0, 87200.0, 85180.0, 73690.0, 87900.0, 101010.0, 83260.0, 83300.0, 85450.0, 92040.0, 79550.0, 82430.0, 89590.0, 86220.0, 77070.0, 104370.0, 80520.0, 85930.0, 76620.0, 75290.0, 71530.0, 97320.0, 74600.0, 65510.0, 71410.0, 62860.0, 113530.0, 72070.0, 69530.0, 70630.0, 68490.0, 69990.0, 75170.0, 75240.0, 76480.0, 64380.0, 54620.0, 68970.0, 30520.0, 56850.0, 59670.0, 59660.0, 60800.0, 61660.0, 61710.0, 60000.0, 60460.0, 61440.0, 61710.0, 61190.0, 54350.0, 39190.0, 28790.0, 39350.0, 53950.0, 54570.0, 44430.0, 59500.0, 34900.0, 49710.0, 66290.0, 32080.0, 27920.0, 40310.0, 94220.0, 34710.0, 50550.0, 75270.0, 64490.0, 68890.0, 73790.0, 28040.0, 52110.0, 56040.0, 29460.0, 54600.0, 64620.0, 74420.0, 51370.0, 34840.0, 28550.0, 46330.0, 51670.0, 34630.0, 46270.0, 61150.0, 61370.0, 72850.0, 63200.0, 51830.0, 60130.0, 47580.0, 45910.0, 40570.0, 54740.0, 36280.0, 55160.0, 63780.0, 73460.0, 70340.0, 155600.0, 208000.0, 208000.0, 208000.0, 147220.0, 61270.0, 115250.0, 128090.0, 112260.0, 126240.0, 84950.0, 89440.0, 85560.0, 48220.0, 61330.0, 79120.0, 49170.0, 52650.0, 95460.0, 73300.0, 174790.0, 105030.0, 109820.0, 77600.0, 208000.0, 205590.0, 201590.0, 208000.0, 175310.0, 208000.0, 206500.0, 208000.0, 76220.0, 75640.0, 57720.0, 74320.0, 77950.0, 60510.0, 73410.0, 28400.0, 33950.0, 33780.0, 48300.0, 35320.0, 36940.0, 47480.0, 37840.0, 68410.0, 53420.0, 42630.0, 48440.0, 81880.0, 49850.0, 29660.0, 28980.0, 31110.0, 61510.0, 29230.0, 58790.0, 27000.0, 42820.0, 40080.0, 34800.0, 37440.0, 33380.0, 27850.0, 28590.0, 35510.0, 38460.0, 63730.0, 91090.0, 77800.0, 50850.0, 61660.0, 45270.0, 47830.0, 45180.0, 83170.0, 57500.0, 40920.0, 63150.0, 71820.0, 37590.0, 50510.0, 34190.0, 29680.0, 29760.0, 23420.0, 41770.0, 30990.0, 51530.0, 33400.0, 23510.0, 27750.0, 37870.0, 27790.0, 25150.0, 30760.0, 24800.0, 23680.0, 22740.0, 22890.0, 24430.0, 23470.0, 23970.0, 23090.0, 24970.0, 40780.0, 49370.0, 27430.0, 24850.0, 31230.0, 37330.0, 30440.0, 35840.0, 39980.0, 32090.0, 50710.0, 39800.0, 30430.0, 24780.0, 21260.0, 24750.0, 28300.0, 25150.0, 23500.0, 23370.0, 41410.0, 25110.0, 26460.0, 47760.0, 27930.0, 54150.0, 30150.0, 26090.0, 75730.0, 25770.0, 22550.0, 34090.0, 25580.0, 31390.0, 24230.0, 40390.0, 26350.0, 29450.0, 27130.0, 40350.0, 74760.0, 23650.0, 25690.0, 28820.0, 31710.0, 25250.0, 53310.0, 50940.0, 62270.0, 40660.0, 56130.0, 81020.0, 59930.0, 30930.0, 28350.0, 59720.0, 48930.0, 103900.0, 26290.0, 27420.0, 31820.0, 56620.0, 30610.0, 35750.0, 42790.0, 37000.0, 38740.0, 41230.0, 28040.0, 46180.0, 43310.0, 31230.0, 42420.0, 52750.0, 38140.0, 39380.0, 40100.0, 34710.0, 46590.0, 32710.0, 24470.0, 34970.0, 27490.0, 40640.0, 36550.0, 34240.0, 41430.0, 30050.0, 38380.0, 41360.0, 43740.0, 29690.0, 41910.0, 40190.0, 42280.0, 48330.0, 51310.0, 60140.0, 48260.0, 34190.0, 35040.0, 60890.0, 47300.0, 36580.0, 37690.0, 33490.0, 40340.0, 45390.0, 40750.0, 30960.0, 34040.0, 33450.0, 40630.0, 49870.0, 35470.0, 48280.0, 45490.0, 42920.0, 25670.0, 31950.0, 25440.0, 27830.0, 29590.0, 31770.0, 44650.0, 41440.0, 37280.0, 39780.0, 66210.0, 63100.0, 53100.0, 43280.0, 48330.0, 40090.0, 44240.0, 39610.0, 43050.0, 44810.0, 52180.0, 36860.0, 40130.0, 62600.0, 48980.0, 45700.0, 59070.0, 56180.0, 44630.0, 40380.0, 48690.0, 40280.0, 40520.0, 38820.0, 55160.0, 45440.0, 49100.0, 42100.0, 50400.0, 55040.0, 44890.0, 35410.0, 33060.0, 32830.0, 31340.0, 32100.0, 32110.0, 31910.0, 60710.0, 84990.0, 35800.0, 43900.0, 40730.0, 56100.0, 39870.0, 46990.0, 54980.0, 46740.0, 44800.0, 55280.0, 59090.0, 54210.0, 36070.0, 38910.0, 37120.0, 46250.0, 50160.0, 67460.0, 39530.0, 55380.0, 57910.0, 65700.0, 44070.0, 62530.0, 59300.0, 82780.0, 37380.0, 39510.0, 48970.0, 64090.0, 43580.0, 35790.0, 42090.0, 48500.0, 42200.0, 53370.0, 56390.0, 41330.0, 37600.0, 36100.0, 30330.0, 38570.0, 28640.0, 41570.0, 58100.0, 48730.0, 40260.0, 53590.0, 47520.0, 55560.0, 53990.0, 72520.0, 56750.0, 38880.0, 49280.0, 36650.0, 42520.0, 58720.0, 39080.0, 52910.0, 35420.0, 49980.0, 41940.0, 33890.0, 50860.0, 73890.0, 30530.0, 39830.0, 61310.0, 54210.0, 36520.0, 34810.0, 45660.0, 40390.0, 35480.0, 35080.0, 27700.0, 32500.0, 28100.0, 29230.0, 31590.0, 30790.0, 31110.0, 27550.0, 36320.0, 39670.0, 40490.0, 35610.0, 38910.0, 36100.0, 40100.0, 43210.0, 44420.0, 42250.0, 38620.0, 57020.0, 46910.0, 35590.0, 32130.0, 36330.0, 53920.0, 42490.0, 38310.0, 38250.0, 49940.0, 33500.0, 39330.0, 34830.0, 40510.0, 36910.0, 33040.0, 24220.0, 24190.0, 26420.0, 29560.0, 30570.0, 29950.0, 31520.0, 29460.0, 28730.0, 29980.0, 29790.0, 36110.0, 45070.0, 35130.0, 27970.0, 35790.0, 32480.0, 59260.0, 64880.0, 30410.0, 30990.0, 33110.0, 100530.0, 90700.0, 81990.0, 62150.0, 47760.0, 62550.0, 70710.0, 74180.0, 58390.0, 49130.0, 41330.0, 37560.0, 30600.0, 37780.0, 30200.0, 35600.0, 35480.0, 40090.0, 39140.0, 40870.0, 41340.0, 40690.0, 32620.0, 30990.0, 32950.0, 38150.0, 38060.0, 32280.0, 41200.0, 56450.0, 34340.0, 31850.0, 35290.0, 30620.0, 34030.0, 39210.0, 46010.0, 29100.0, 29800.0, 53850.0, 55060.0, 147220.0, 86080.0, 122990.0, 52650.0, 56640.0, 25890.0, 25860.0, 45260.0, 34730.0, 43030.0, 31340.0, 32910.0, 67090.0, 49330.0, 60260.0, 65990.0, 67880.0, 51600.0, 43480.0, 72340.0, 48260.0, 74610.0, 50110.0, 25140.0, 25200.0, 47480.0, 75820.0, 26570.0, 37000.0, 34660.0, 56690.0, 47040.0, 59720.0, 36200.0, 25800.0, 29510.0, 31180.0, 25910.0, 27380.0, 66160.0, 45040.0, 55040.0, 37840.0, 42360.0, 31770.0], \"xaxis\": \"x\", \"xbins\": {\"end\": 208000.0, \"size\": 2000, \"start\": 21260.0}, \"yaxis\": \"y\"}, {\"legendgroup\": \"all education\", \"marker\": {\"color\": \"rgb(31, 119, 180)\"}, \"mode\": \"lines\", \"name\": \"all education\", \"showlegend\": false, \"type\": \"scatter\", \"x\": [21260.0, 21633.48, 22006.96, 22380.44, 22753.92, 23127.4, 23500.88, 23874.36, 24247.84, 24621.32, 24994.8, 25368.28, 25741.760000000002, 26115.239999999998, 26488.72, 26862.2, 27235.68, 27609.16, 27982.64, 28356.12, 28729.6, 29103.08, 29476.559999999998, 29850.04, 30223.52, 30597.0, 30970.48, 31343.96, 31717.440000000002, 32090.92, 32464.4, 32837.88, 33211.36, 33584.84, 33958.32, 34331.8, 34705.28, 35078.76, 35452.24, 35825.72, 36199.2, 36572.68, 36946.16, 37319.64, 37693.119999999995, 38066.6, 38440.08, 38813.56, 39187.04, 39560.520000000004, 39934.0, 40307.479999999996, 40680.96, 41054.44, 41427.92, 41801.4, 42174.880000000005, 42548.36, 42921.84, 43295.32, 43668.8, 44042.28, 44415.759999999995, 44789.240000000005, 45162.72, 45536.2, 45909.68, 46283.16, 46656.64, 47030.119999999995, 47403.6, 47777.08, 48150.56, 48524.04, 48897.520000000004, 49271.0, 49644.479999999996, 50017.96, 50391.44, 50764.92, 51138.4, 51511.880000000005, 51885.36, 52258.84, 52632.32, 53005.8, 53379.28, 53752.759999999995, 54126.24, 54499.72, 54873.2, 55246.68, 55620.16, 55993.64, 56367.12, 56740.6, 57114.08, 57487.56, 57861.04, 58234.52, 58608.0, 58981.48, 59354.96, 59728.44, 60101.92, 60475.4, 60848.88, 61222.36, 61595.84, 61969.32, 62342.8, 62716.28, 63089.76, 63463.24, 63836.72, 64210.2, 64583.68, 64957.16, 65330.64, 65704.12, 66077.6, 66451.08, 66824.56, 67198.04000000001, 67571.51999999999, 67945.0, 68318.48000000001, 68691.95999999999, 69065.44, 69438.92, 69812.4, 70185.88, 70559.36, 70932.84, 71306.32, 71679.8, 72053.28, 72426.76000000001, 72800.23999999999, 73173.72, 73547.2, 73920.68, 74294.16, 74667.64, 75041.12, 75414.6, 75788.08, 76161.56, 76535.04000000001, 76908.51999999999, 77282.0, 77655.48000000001, 78028.95999999999, 78402.44, 78775.92, 79149.4, 79522.88, 79896.36, 80269.84, 80643.32, 81016.8, 81390.28, 81763.76000000001, 82137.23999999999, 82510.72, 82884.2, 83257.68, 83631.16, 84004.64, 84378.12, 84751.6, 85125.08, 85498.56, 85872.04000000001, 86245.51999999999, 86619.0, 86992.48, 87365.96, 87739.44, 88112.92, 88486.4, 88859.88, 89233.36, 89606.84, 89980.32, 90353.8, 90727.28, 91100.76, 91474.24, 91847.72, 92221.2, 92594.68, 92968.16, 93341.64, 93715.12, 94088.6, 94462.08, 94835.56, 95209.04, 95582.52, 95956.0, 96329.48, 96702.96, 97076.44, 97449.92, 97823.4, 98196.88, 98570.36, 98943.84, 99317.32, 99690.8, 100064.28, 100437.76, 100811.24, 101184.72, 101558.2, 101931.68, 102305.16, 102678.64, 103052.12, 103425.6, 103799.08, 104172.56, 104546.04, 104919.52, 105293.0, 105666.48, 106039.96, 106413.44, 106786.92, 107160.4, 107533.88, 107907.36, 108280.84, 108654.32, 109027.8, 109401.28, 109774.76, 110148.24, 110521.72, 110895.2, 111268.68, 111642.16, 112015.64, 112389.12, 112762.6, 113136.08, 113509.56, 113883.04, 114256.52, 114630.0, 115003.48, 115376.96, 115750.44, 116123.92, 116497.4, 116870.88, 117244.36, 117617.84, 117991.32, 118364.8, 118738.28, 119111.76, 119485.24, 119858.72, 120232.2, 120605.68, 120979.16, 121352.64, 121726.12, 122099.6, 122473.08, 122846.56, 123220.04, 123593.52, 123967.0, 124340.48, 124713.96, 125087.44, 125460.92, 125834.4, 126207.88, 126581.36, 126954.84, 127328.32, 127701.8, 128075.28, 128448.76, 128822.24, 129195.72, 129569.2, 129942.68, 130316.16, 130689.64, 131063.12, 131436.6, 131810.08000000002, 132183.56, 132557.03999999998, 132930.52000000002, 133304.0, 133677.47999999998, 134050.96000000002, 134424.44, 134797.91999999998, 135171.4, 135544.88, 135918.36, 136291.84, 136665.32, 137038.8, 137412.28, 137785.76, 138159.24, 138532.72, 138906.2, 139279.68, 139653.16, 140026.64, 140400.12, 140773.6, 141147.08000000002, 141520.56, 141894.03999999998, 142267.52000000002, 142641.0, 143014.47999999998, 143387.96000000002, 143761.44, 144134.91999999998, 144508.4, 144881.88, 145255.36, 145628.84, 146002.32, 146375.8, 146749.28, 147122.76, 147496.24, 147869.72, 148243.2, 148616.68, 148990.16, 149363.64, 149737.12, 150110.6, 150484.08000000002, 150857.56, 151231.03999999998, 151604.52000000002, 151978.0, 152351.48, 152724.96, 153098.44, 153471.92, 153845.4, 154218.88, 154592.36, 154965.84, 155339.32, 155712.8, 156086.28, 156459.76, 156833.24, 157206.72, 157580.2, 157953.68, 158327.16, 158700.64, 159074.12, 159447.6, 159821.08, 160194.56, 160568.04, 160941.52, 161315.0, 161688.48, 162061.96, 162435.44, 162808.92, 163182.4, 163555.88, 163929.36, 164302.84, 164676.32, 165049.8, 165423.28, 165796.76, 166170.24, 166543.72, 166917.2, 167290.68, 167664.16, 168037.64, 168411.12, 168784.6, 169158.08, 169531.56, 169905.04, 170278.52, 170652.0, 171025.48, 171398.96, 171772.44, 172145.92, 172519.4, 172892.88, 173266.36, 173639.84, 174013.32, 174386.8, 174760.28, 175133.76, 175507.24, 175880.72, 176254.2, 176627.68, 177001.16, 177374.64, 177748.12, 178121.6, 178495.08, 178868.56, 179242.04, 179615.52, 179989.0, 180362.48, 180735.96, 181109.44, 181482.92, 181856.4, 182229.88, 182603.36, 182976.84, 183350.32, 183723.8, 184097.28, 184470.76, 184844.24, 185217.72, 185591.2, 185964.68, 186338.16, 186711.64, 187085.12, 187458.6, 187832.08, 188205.56, 188579.04, 188952.52, 189326.0, 189699.48, 190072.96, 190446.44, 190819.92, 191193.4, 191566.88, 191940.36, 192313.84, 192687.32, 193060.8, 193434.28, 193807.76, 194181.24, 194554.72, 194928.2, 195301.68, 195675.16, 196048.64, 196422.12, 196795.6, 197169.08, 197542.56, 197916.04, 198289.52, 198663.0, 199036.48, 199409.96, 199783.44, 200156.92, 200530.4, 200903.88, 201277.36, 201650.84, 202024.32, 202397.8, 202771.28, 203144.76, 203518.24, 203891.72, 204265.2, 204638.68, 205012.16, 205385.64, 205759.12, 206132.6, 206506.08, 206879.56, 207253.04, 207626.52], \"xaxis\": \"x\", \"y\": [7.516486109571128e-06, 7.861313149361573e-06, 8.210790575848938e-06, 8.56427845253747e-06, 8.921110018306195e-06, 9.280594817135351e-06, 9.64202201647639e-06, 1.000466388584636e-05, 1.0367779405608095e-05, 1.0730617974680767e-05, 1.1092423185126869e-05, 1.1452436631187464e-05, 1.1809901720388865e-05, 1.216406745481124e-05, 1.2514192151478855e-05, 1.2859547072078212e-05, 1.3199419933808001e-05, 1.3533118275074897e-05, 1.3859972651935423e-05, 1.417933964360075e-05, 1.449060464792189e-05, 1.4793184450508336e-05, 1.5086529553956093e-05, 1.537012625651952e-05, 1.5643498472409666e-05, 1.5906209288694363e-05, 1.615786225646923e-05, 1.639810241652675e-05, 1.6626617062140862e-05, 1.6843136243776174e-05, 1.70474330225058e-05, 1.7239323480661486e-05, 1.7418666499734694e-05, 1.758536331679483e-05, 1.7739356871691016e-05, 1.7880630958064667e-05, 1.8009209191734762e-05, 1.812515381033874e-05, 1.8228564318244033e-05, 1.83195759907071e-05, 1.8398358251073967e-05, 1.8465112934515604e-05, 1.852007245139825e-05, 1.856349786292769e-05, 1.8595676881205102e-05, 1.8616921805309926e-05, 1.862756740450641e-05, 1.8627968759170536e-05, 1.86184990695693e-05, 1.8599547442207017e-05, 1.8571516663090216e-05, 1.8534820966961048e-05, 1.8489883811308558e-05, 1.8437135663788146e-05, 1.8377011811556626e-05, 1.8309950200957095e-05, 1.8236389315955755e-05, 1.8156766103730835e-05, 1.8071513955829986e-05, 1.798106075333379e-05, 1.788582698447682e-05, 1.7786223943170037e-05, 1.7682652016825284e-05, 1.7575499071793935e-05, 1.746513894458415e-05, 1.7351930046804162e-05, 1.7236214091485133e-05, 1.711831494805895e-05, 1.6998537632793434e-05, 1.6877167440925282e-05, 1.6754469226066082e-05, 1.6630686831696435e-05, 1.650604267870566e-05, 1.6380737511981305e-05, 1.6254950308011198e-05, 1.612883834433408e-05, 1.600253743047237e-05, 1.587616229871226e-05, 1.5749807151768835e-05, 1.5623546363006665e-05, 1.549743532348446e-05, 1.5371511428678845e-05, 1.5245795196328636e-05, 1.5120291505445973e-05, 1.4994990945185845e-05, 1.4869871260965496e-05, 1.4744898884007468e-05, 1.462003052935795e-05, 1.4495214846434955e-05, 1.4370394105303093e-05, 1.4245505901178845e-05, 1.4120484859158994e-05, 1.3995264320855916e-05, 1.386977799453073e-05, 1.3743961550454311e-05, 1.3617754143607747e-05, 1.3491099846463193e-05, 1.3363948975469714e-05, 1.3236259296003487e-05, 1.3107997091920133e-05, 1.297913808746427e-05, 1.2849668211123092e-05, 1.2719584193044395e-05, 1.2588893989841779e-05, 1.2457617032955522e-05, 1.232578429918826e-05, 1.219343820455154e-05, 1.2060632325103936e-05, 1.1927430950983113e-05, 1.1793908482294061e-05, 1.1660148677862534e-05, 1.1526243770053144e-05, 1.1392293460842453e-05, 1.1258403816085748e-05, 1.1124686076386333e-05, 1.0991255404137731e-05, 1.0858229587130611e-05, 1.0725727719585197e-05, 1.0593868881567029e-05, 1.046277083746978e-05, 1.0332548773603832e-05, 1.0203314093925657e-05, 1.0075173291601752e-05, 9.948226912445328e-06, 9.822568624333868e-06, 9.698284404544138e-06, 9.575451854582312e-06, 9.454139649583406e-06, 9.334407126764121e-06, 9.216304014789586e-06, 9.09987030331265e-06, 8.985136249420481e-06, 8.872122515327536e-06, 8.76084042943659e-06, 8.651292360894374e-06, 8.543472196033875e-06, 8.437365903651602e-06, 8.332952174942368e-06, 8.230203123119913e-06, 8.129085027298719e-06, 8.02955910510021e-06, 7.931582298667647e-06, 7.835108059311948e-06, 7.740087116842488e-06, 7.646468220734717e-06, 7.5541988416134305e-06, 7.46322582304971e-06, 7.373495975336255e-06, 7.28495660467757e-06, 7.197555973061321e-06, 7.11124368591989e-06, 7.025971006504586e-06, 6.941691097634184e-06, 6.858359193111762e-06, 6.775932702589655e-06, 6.694371254978301e-06, 6.6136366866137575e-06, 6.533692981306669e-06, 6.454506170077668e-06, 6.37604419883908e-06, 6.298276772507876e-06, 6.221175184038559e-06, 6.144712136657111e-06, 6.068861567175045e-06, 5.993598477685145e-06, 5.918898782212353e-06, 5.844739174037724e-06, 5.771097018460103e-06, 5.697950274736213e-06, 5.625277449872936e-06, 5.553057585865491e-06, 5.481270280906055e-06, 5.4098957440559595e-06, 5.338914881901942e-06, 5.2683094148237595e-06, 5.198062019702337e-06, 5.128156495210123e-06, 5.058577945255531e-06, 4.9893129757117465e-06, 4.920349899247489e-06, 4.851678942895606e-06, 4.783292452941797e-06, 4.715185091785552e-06, 4.64735402161057e-06, 4.579799069993943e-06, 4.5125228729704435e-06, 4.445530991538907e-06, 4.378831998137144e-06, 4.312437530208638e-06, 4.246362308621096e-06, 4.18062411936329e-06, 4.115243757624708e-06, 4.0502449340434455e-06, 3.985654143574569e-06, 3.92150049807549e-06, 3.857815524315558e-06, 3.7946329296823307e-06, 3.7319883383725978e-06, 3.66991900131205e-06, 3.608463483439483e-06, 3.5476613323153354e-06, 3.4875527322665044e-06, 3.4281781484591897e-06, 3.3695779653970305e-06, 3.3117921243752894e-06, 3.254859764383485e-06, 3.1988188708428103e-06, 3.1437059363929403e-06, 3.089555637711585e-06, 3.036400532063134e-06, 2.984270776936268e-06, 2.9331938757511535e-06, 2.883194452200832e-06, 2.834294055346449e-06, 2.7865109971188395e-06, 2.7398602233974194e-06, 2.6943532193492827e-06, 2.6499979492233407e-06, 2.6067988303147273e-06, 2.5647567403499574e-06, 2.523869057100647e-06, 2.4841297286191835e-06, 2.4455293721094226e-06, 2.408055399105237e-06, 2.3716921643332736e-06, 2.3364211353886876e-06, 2.3022210801564495e-06, 2.2690682687688112e-06, 2.2369366868033184e-06, 2.2057982563961062e-06, 2.175623061971861e-06, 2.146379577373813e-06, 2.1180348913122688e-06, 2.0905549282363196e-06, 2.0639046619653932e-06, 2.038048319692498e-06, 2.012949574282244e-06, 1.988571723129518e-06, 1.964877852211446e-06, 1.941830984349257e-06, 1.919394211090697e-06, 1.897530808019299e-06, 1.8762043336868417e-06, 1.8553787127416573e-06, 1.8350183041803711e-06, 1.8150879559768001e-06, 1.7955530476325295e-06, 1.776379522442532e-06, 1.7575339114708688e-06, 1.7389833513814984e-06, 1.7206955983639368e-06, 1.7026390404306328e-06, 1.6847827103413447e-06, 1.6670963013297363e-06, 1.6495501876698316e-06, 1.6321154519286457e-06, 1.6147639205088038e-06, 1.597468208797878e-06, 1.5802017769148693e-06, 1.5629389966865802e-06, 1.5456552301053898e-06, 1.5283269191242112e-06, 1.5109316862432875e-06, 1.4934484449465158e-06, 1.4758575186617932e-06, 1.4581407665596744e-06, 1.440281714176435e-06, 1.4222656865595578e-06, 1.4040799413933231e-06, 1.3857137993755296e-06, 1.36715876898898e-06, 1.34840866274662e-06, 1.329459701989564e-06, 1.3103106073836744e-06, 1.2909626723916366e-06, 1.2714198171919572e-06, 1.2516886207697582e-06, 1.2317783292118155e-06, 1.2117008385935374e-06, 1.1914706512411049e-06, 1.1711048045795179e-06, 1.1506227722275891e-06, 1.1300463374648693e-06, 1.1093994396630221e-06, 1.0887079947359472e-06, 1.0679996911092427e-06, 1.0473037631316993e-06, 1.0266507442410134e-06, 1.0060722025454023e-06, 9.856004617859242e-07, 9.652683108957248e-07, 9.451087055682569e-07, 9.251544653837602e-07, 9.054379701207851e-07, 8.859908588969062e-07, 8.668437357412582e-07, 8.480258851032669e-07, 8.29565000650349e-07, 8.114869305065727e-07, 7.938154418393985e-07, 7.765720074183243e-07, 7.597756164534808e-07, 7.434426116806775e-07, 7.275865542983976e-07, 7.122181179882816e-07, 6.97345012870467e-07, 6.829719398643191e-07, 6.69100575549725e-07, 6.557295872593029e-07, 6.428546777822544e-07, 6.304686587302923e-07, 6.185615513086595e-07, 6.071207129535339e-07, 5.961309880434075e-07, 5.855748806680384e-07, 5.754327472456001e-07, 5.656830066171821e-07, 5.563023651184088e-07, 5.472660540302993e-07, 5.385480767453134e-07, 5.301214629491655e-07, 5.219585271134025e-07, 5.140311286170717e-07, 5.063109308665558e-07, 4.987696568597078e-07, 4.913793387421287e-07, 4.84112559028186e-07, 4.769426813056501e-07, 4.69844068408506e-07, 4.6279228622583313e-07, 4.5576429151351304e-07, 4.4873860228751574e-07, 4.416954496004946e-07, 4.346169097345866e-07, 4.2748701608021444e-07, 4.202918502103241e-07, 4.1301961189909174e-07, 4.056606680706599e-07, 3.982075808938472e-07, 3.9065511546017754e-07, 3.830002276919024e-07, 3.7524203332123606e-07, 3.673817589592318e-07, 3.594226764301319e-07, 3.513700216827481e-07, 3.432308997026787e-07, 3.350141769368321e-07, 3.267303628039702e-07, 3.183914819015126e-07, 3.100109385300166e-07, 3.016033751431264e-07, 2.931845262937727e-07, 2.8477106958873754e-07, 2.763804750853559e-07, 2.680308544689818e-07, 2.5974081124046064e-07, 2.5152929302259657e-07, 2.434154469666985e-07, 2.3541847910802774e-07, 2.2755751838597227e-07, 2.1985148591399208e-07, 2.1231896995924864e-07, 2.0497810697490891e-07, 1.978464689220317e-07, 1.9094095702479214e-07, 1.8427770202412115e-07, 1.7787197093185892e-07, 1.7173808024082303e-07, 1.6588931551588183e-07, 1.6033785727677225e-07, 1.550947130840909e-07, 1.501696557542689e-07, 1.455711676555407e-07, 1.4130639107289483e-07, 1.3738108467323867e-07, 1.3379958614991186e-07, 1.3056478117551974e-07, 1.2767807884096213e-07, 1.2513939380383476e-07, 1.2294713540842e-07, 1.2109820406984918e-07, 1.1958799523463663e-07, 1.1841041123682941e-07, 1.1755788136215471e-07, 1.1702139041083488e-07, 1.1679051601273003e-07, 1.1685347489620418e-07, 1.1719717824511615e-07, 1.1780729619762648e-07, 1.1866833144755482e-07, 1.197637018056987e-07, 1.2107583146708516e-07, 1.225862506131348e-07, 1.2427570285794797e-07, 1.2612425992835514e-07, 1.2811144285101317e-07, 1.3021634880970775e-07, 1.3241778273509354e-07, 1.3469439260008496e-07, 1.370248073195562e-07, 1.393877760950668e-07, 1.4176230800579432e-07, 1.4412781062710506e-07, 1.4646422645903906e-07, 1.4875216596882408e-07, 1.5097303609414007e-07, 1.5310916311654126e-07, 1.5514390889594887e-07, 1.5706177955574676e-07, 1.5884852582154577e-07, 1.6049123434257674e-07, 1.6197840945999934e-07, 1.6330004502802905e-07, 1.6444768603832376e-07, 1.654144799421301e-07, 1.6619521770479833e-07, 1.6678636476012667e-07, 1.6718608215438492e-07, 1.6739423827890387e-07, 1.6741241168321283e-07, 1.6724388553568803e-07, 1.6689363435381538e-07, 1.6636830366026958e-07, 1.6567618323337572e-07, 1.6482717461103175e-07, 1.6383275347627388e-07, 1.627059275013367e-07, 1.6146119015682761e-07, 1.6011447090550528e-07, 1.586830820986024e-07, 1.5718566277950386e-07, 1.5564211947809644e-07, 1.5407356395268708e-07, 1.5250224770867966e-07, 1.5095149299796416e-07, 1.4944561988398033e-07, 1.4800986884838707e-07, 1.4667031831982447e-07, 1.4545379642676577e-07, 1.443877862180719e-07, 1.435003235593804e-07, 1.428198869032506e-07, 1.423752781480521e-07, 1.4219549384634963e-07, 1.4230958609896322e-07, 1.4274651257635156e-07, 1.435349752442679e-07, 1.4470324753498984e-07, 1.462789898974216e-07, 1.482890538770135e-07, 1.5075927511713243e-07, 1.5371425593408175e-07, 1.5717713839465288e-07, 1.6116936911365768e-07, 1.6571045728454964e-07, 1.70817727753869e-07, 1.7650607124423242e-07, 1.8278769411507364e-07, 1.8967187031933122e-07, 1.97164698461383e-07, 2.0526886708071237e-07, 2.1398343147071079e-07, 2.2330360548677149e-07, 2.332205718968368e-07, 2.4372131487544737e-07, 2.547884782346728e-07, 2.664002529181127e-07, 2.7853029715431623e-07, 2.9114769247157104e-07, 3.0421693851587887e-07, 3.1769798928840805e-07, 3.3154633302906023e-07, 3.4571311752201483e-07, 3.601453220910667e-07, 3.7478597699296645e-07, 3.895744303125097e-07, 4.0444666182186147e-07, 4.1933564259800247e-07, 4.341717385063876e-07, 4.48883154967234e-07, 4.6339641973543293e-07, 4.776368997580203e-07, 4.915293475374955e-07, 5.049984718376123e-07, 5.179695270328403e-07, 5.303689149357407e-07, 5.421247925485591e-07, 5.531676788866275e-07, 5.634310538200302e-07, 5.728519417831727e-07, 5.813714732146444e-07, 5.889354167148453e-07, 5.954946751472915e-07, 6.010057392598129e-07, 6.05431092860555e-07, 6.087395641447826e-07, 6.109066184240385e-07, 6.11914588249225e-07, 6.117528377316702e-07, 6.10417858737829e-07], \"yaxis\": \"y\"}, {\"legendgroup\": \"all education\", \"marker\": {\"color\": \"rgb(31, 119, 180)\", \"symbol\": \"line-ns-open\"}, \"mode\": \"markers\", \"name\": \"all education\", \"showlegend\": false, \"type\": \"scatter\", \"x\": [184460.0, 100780.0, 29270.0, 125510.0, 136850.0, 126640.0, 146360.0, 129890.0, 105480.0, 121110.0, 94560.0, 122270.0, 116720.0, 113350.0, 71160.0, 95260.0, 48210.0, 96400.0, 95410.0, 85450.0, 144830.0, 55320.0, 74970.0, 54430.0, 100980.0, 129100.0, 76900.0, 58760.0, 67150.0, 74590.0, 76350.0, 110630.0, 73740.0, 66790.0, 63270.0, 69050.0, 65250.0, 61920.0, 61910.0, 69020.0, 74750.0, 85260.0, 50600.0, 57970.0, 64560.0, 61210.0, 63790.0, 73570.0, 71550.0, 76540.0, 73650.0, 87850.0, 70020.0, 81090.0, 45950.0, 63270.0, 54890.0, 43080.0, 81590.0, 90920.0, 99730.0, 122840.0, 63460.0, 52270.0, 112690.0, 83510.0, 93750.0, 86550.0, 107510.0, 73760.0, 88550.0, 108350.0, 105030.0, 84810.0, 91160.0, 94280.0, 80750.0, 69360.0, 65470.0, 63420.0, 116500.0, 80720.0, 91410.0, 108770.0, 87060.0, 117220.0, 98530.0, 105570.0, 88860.0, 91410.0, 88020.0, 92400.0, 93360.0, 88430.0, 91160.0, 113460.0, 137720.0, 99040.0, 56340.0, 61530.0, 57060.0, 52830.0, 66020.0, 53410.0, 65260.0, 58350.0, 50620.0, 56550.0, 56980.0, 45010.0, 62990.0, 60300.0, 68970.0, 63200.0, 94490.0, 75650.0, 63270.0, 82220.0, 62660.0, 61790.0, 70990.0, 88790.0, 75910.0, 114590.0, 122850.0, 95380.0, 77630.0, 96810.0, 71360.0, 92040.0, 81270.0, 109910.0, 105020.0, 59170.0, 78200.0, 92880.0, 101790.0, 83420.0, 74350.0, 63670.0, 81540.0, 63680.0, 122220.0, 83330.0, 45860.0, 49260.0, 46540.0, 51130.0, 82080.0, 47510.0, 45500.0, 59150.0, 50550.0, 74100.0, 51550.0, 57040.0, 49610.0, 35950.0, 46240.0, 42930.0, 47390.0, 56750.0, 46650.0, 61230.0, 55220.0, 54290.0, 35060.0, 40360.0, 43790.0, 50400.0, 43860.0, 31630.0, 122960.0, 54010.0, 97870.0, 63930.0, 136910.0, 51740.0, 48180.0, 58400.0, 87200.0, 85180.0, 73690.0, 87900.0, 101010.0, 83260.0, 83300.0, 85450.0, 92040.0, 79550.0, 82430.0, 89590.0, 86220.0, 77070.0, 104370.0, 80520.0, 85930.0, 76620.0, 75290.0, 71530.0, 97320.0, 74600.0, 65510.0, 71410.0, 62860.0, 113530.0, 72070.0, 69530.0, 70630.0, 68490.0, 69990.0, 75170.0, 75240.0, 76480.0, 64380.0, 54620.0, 68970.0, 30520.0, 56850.0, 59670.0, 59660.0, 60800.0, 61660.0, 61710.0, 60000.0, 60460.0, 61440.0, 61710.0, 61190.0, 54350.0, 39190.0, 28790.0, 39350.0, 53950.0, 54570.0, 44430.0, 59500.0, 34900.0, 49710.0, 66290.0, 32080.0, 27920.0, 40310.0, 94220.0, 34710.0, 50550.0, 75270.0, 64490.0, 68890.0, 73790.0, 28040.0, 52110.0, 56040.0, 29460.0, 54600.0, 64620.0, 74420.0, 51370.0, 34840.0, 28550.0, 46330.0, 51670.0, 34630.0, 46270.0, 61150.0, 61370.0, 72850.0, 63200.0, 51830.0, 60130.0, 47580.0, 45910.0, 40570.0, 54740.0, 36280.0, 55160.0, 63780.0, 73460.0, 70340.0, 155600.0, 208000.0, 208000.0, 208000.0, 147220.0, 61270.0, 115250.0, 128090.0, 112260.0, 126240.0, 84950.0, 89440.0, 85560.0, 48220.0, 61330.0, 79120.0, 49170.0, 52650.0, 95460.0, 73300.0, 174790.0, 105030.0, 109820.0, 77600.0, 208000.0, 205590.0, 201590.0, 208000.0, 175310.0, 208000.0, 206500.0, 208000.0, 76220.0, 75640.0, 57720.0, 74320.0, 77950.0, 60510.0, 73410.0, 28400.0, 33950.0, 33780.0, 48300.0, 35320.0, 36940.0, 47480.0, 37840.0, 68410.0, 53420.0, 42630.0, 48440.0, 81880.0, 49850.0, 29660.0, 28980.0, 31110.0, 61510.0, 29230.0, 58790.0, 27000.0, 42820.0, 40080.0, 34800.0, 37440.0, 33380.0, 27850.0, 28590.0, 35510.0, 38460.0, 63730.0, 91090.0, 77800.0, 50850.0, 61660.0, 45270.0, 47830.0, 45180.0, 83170.0, 57500.0, 40920.0, 63150.0, 71820.0, 37590.0, 50510.0, 34190.0, 29680.0, 29760.0, 23420.0, 41770.0, 30990.0, 51530.0, 33400.0, 23510.0, 27750.0, 37870.0, 27790.0, 25150.0, 30760.0, 24800.0, 23680.0, 22740.0, 22890.0, 24430.0, 23470.0, 23970.0, 23090.0, 24970.0, 40780.0, 49370.0, 27430.0, 24850.0, 31230.0, 37330.0, 30440.0, 35840.0, 39980.0, 32090.0, 50710.0, 39800.0, 30430.0, 24780.0, 21260.0, 24750.0, 28300.0, 25150.0, 23500.0, 23370.0, 41410.0, 25110.0, 26460.0, 47760.0, 27930.0, 54150.0, 30150.0, 26090.0, 75730.0, 25770.0, 22550.0, 34090.0, 25580.0, 31390.0, 24230.0, 40390.0, 26350.0, 29450.0, 27130.0, 40350.0, 74760.0, 23650.0, 25690.0, 28820.0, 31710.0, 25250.0, 53310.0, 50940.0, 62270.0, 40660.0, 56130.0, 81020.0, 59930.0, 30930.0, 28350.0, 59720.0, 48930.0, 103900.0, 26290.0, 27420.0, 31820.0, 56620.0, 30610.0, 35750.0, 42790.0, 37000.0, 38740.0, 41230.0, 28040.0, 46180.0, 43310.0, 31230.0, 42420.0, 52750.0, 38140.0, 39380.0, 40100.0, 34710.0, 46590.0, 32710.0, 24470.0, 34970.0, 27490.0, 40640.0, 36550.0, 34240.0, 41430.0, 30050.0, 38380.0, 41360.0, 43740.0, 29690.0, 41910.0, 40190.0, 42280.0, 48330.0, 51310.0, 60140.0, 48260.0, 34190.0, 35040.0, 60890.0, 47300.0, 36580.0, 37690.0, 33490.0, 40340.0, 45390.0, 40750.0, 30960.0, 34040.0, 33450.0, 40630.0, 49870.0, 35470.0, 48280.0, 45490.0, 42920.0, 25670.0, 31950.0, 25440.0, 27830.0, 29590.0, 31770.0, 44650.0, 41440.0, 37280.0, 39780.0, 66210.0, 63100.0, 53100.0, 43280.0, 48330.0, 40090.0, 44240.0, 39610.0, 43050.0, 44810.0, 52180.0, 36860.0, 40130.0, 62600.0, 48980.0, 45700.0, 59070.0, 56180.0, 44630.0, 40380.0, 48690.0, 40280.0, 40520.0, 38820.0, 55160.0, 45440.0, 49100.0, 42100.0, 50400.0, 55040.0, 44890.0, 35410.0, 33060.0, 32830.0, 31340.0, 32100.0, 32110.0, 31910.0, 60710.0, 84990.0, 35800.0, 43900.0, 40730.0, 56100.0, 39870.0, 46990.0, 54980.0, 46740.0, 44800.0, 55280.0, 59090.0, 54210.0, 36070.0, 38910.0, 37120.0, 46250.0, 50160.0, 67460.0, 39530.0, 55380.0, 57910.0, 65700.0, 44070.0, 62530.0, 59300.0, 82780.0, 37380.0, 39510.0, 48970.0, 64090.0, 43580.0, 35790.0, 42090.0, 48500.0, 42200.0, 53370.0, 56390.0, 41330.0, 37600.0, 36100.0, 30330.0, 38570.0, 28640.0, 41570.0, 58100.0, 48730.0, 40260.0, 53590.0, 47520.0, 55560.0, 53990.0, 72520.0, 56750.0, 38880.0, 49280.0, 36650.0, 42520.0, 58720.0, 39080.0, 52910.0, 35420.0, 49980.0, 41940.0, 33890.0, 50860.0, 73890.0, 30530.0, 39830.0, 61310.0, 54210.0, 36520.0, 34810.0, 45660.0, 40390.0, 35480.0, 35080.0, 27700.0, 32500.0, 28100.0, 29230.0, 31590.0, 30790.0, 31110.0, 27550.0, 36320.0, 39670.0, 40490.0, 35610.0, 38910.0, 36100.0, 40100.0, 43210.0, 44420.0, 42250.0, 38620.0, 57020.0, 46910.0, 35590.0, 32130.0, 36330.0, 53920.0, 42490.0, 38310.0, 38250.0, 49940.0, 33500.0, 39330.0, 34830.0, 40510.0, 36910.0, 33040.0, 24220.0, 24190.0, 26420.0, 29560.0, 30570.0, 29950.0, 31520.0, 29460.0, 28730.0, 29980.0, 29790.0, 36110.0, 45070.0, 35130.0, 27970.0, 35790.0, 32480.0, 59260.0, 64880.0, 30410.0, 30990.0, 33110.0, 100530.0, 90700.0, 81990.0, 62150.0, 47760.0, 62550.0, 70710.0, 74180.0, 58390.0, 49130.0, 41330.0, 37560.0, 30600.0, 37780.0, 30200.0, 35600.0, 35480.0, 40090.0, 39140.0, 40870.0, 41340.0, 40690.0, 32620.0, 30990.0, 32950.0, 38150.0, 38060.0, 32280.0, 41200.0, 56450.0, 34340.0, 31850.0, 35290.0, 30620.0, 34030.0, 39210.0, 46010.0, 29100.0, 29800.0, 53850.0, 55060.0, 147220.0, 86080.0, 122990.0, 52650.0, 56640.0, 25890.0, 25860.0, 45260.0, 34730.0, 43030.0, 31340.0, 32910.0, 67090.0, 49330.0, 60260.0, 65990.0, 67880.0, 51600.0, 43480.0, 72340.0, 48260.0, 74610.0, 50110.0, 25140.0, 25200.0, 47480.0, 75820.0, 26570.0, 37000.0, 34660.0, 56690.0, 47040.0, 59720.0, 36200.0, 25800.0, 29510.0, 31180.0, 25910.0, 27380.0, 66160.0, 45040.0, 55040.0, 37840.0, 42360.0, 31770.0], \"xaxis\": \"x\", \"y\": [\"all education\", \"all education\", \"all education\", \"all education\", \"all education\", \"all education\", \"all education\", \"all education\", \"all education\", \"all education\", \"all education\", \"all education\", \"all education\", \"all education\", \"all education\", \"all education\", \"all education\", \"all education\", \"all education\", \"all education\", \"all education\", \"all education\", \"all education\", \"all education\", \"all education\", \"all education\", \"all education\", \"all education\", \"all education\", \"all education\", \"all education\", \"all education\", \"all education\", \"all education\", \"all education\", \"all education\", \"all education\", \"all education\", \"all education\", \"all education\", \"all education\", \"all education\", \"all education\", \"all education\", \"all education\", \"all education\", \"all education\", \"all education\", \"all education\", \"all education\", \"all education\", \"all education\", \"all education\", \"all education\", \"all education\", \"all education\", \"all education\", \"all education\", \"all education\", \"all education\", \"all education\", \"all education\", \"all education\", \"all education\", \"all education\", \"all education\", \"all education\", \"all education\", \"all education\", \"all education\", \"all education\", \"all education\", \"all education\", \"all education\", \"all education\", \"all education\", \"all education\", \"all education\", \"all education\", \"all education\", \"all education\", \"all education\", \"all education\", \"all education\", \"all education\", \"all education\", \"all education\", \"all education\", \"all education\", \"all education\", \"all education\", \"all education\", \"all education\", \"all education\", \"all education\", \"all education\", \"all education\", \"all education\", \"all education\", \"all education\", \"all education\", \"all education\", \"all education\", \"all education\", \"all education\", \"all education\", \"all education\", \"all education\", \"all education\", \"all education\", \"all education\", \"all education\", \"all education\", \"all education\", \"all education\", \"all education\", \"all education\", \"all education\", \"all education\", \"all education\", \"all education\", \"all education\", \"all education\", \"all education\", \"all education\", \"all education\", \"all education\", \"all education\", \"all education\", \"all education\", \"all education\", \"all education\", \"all education\", \"all education\", \"all education\", \"all education\", \"all education\", \"all education\", \"all education\", \"all education\", \"all education\", \"all education\", \"all education\", \"all education\", \"all education\", \"all education\", \"all education\", \"all education\", \"all education\", \"all education\", \"all education\", \"all education\", \"all education\", \"all education\", \"all education\", \"all education\", \"all education\", \"all education\", \"all education\", \"all education\", \"all education\", \"all education\", \"all education\", \"all education\", \"all education\", \"all education\", \"all education\", \"all education\", \"all education\", \"all education\", \"all education\", \"all education\", \"all education\", \"all education\", \"all education\", \"all education\", \"all education\", \"all education\", \"all education\", \"all education\", \"all education\", \"all education\", \"all education\", \"all education\", \"all education\", \"all education\", \"all education\", \"all education\", \"all education\", \"all education\", \"all education\", \"all education\", \"all education\", \"all education\", \"all education\", \"all education\", \"all education\", \"all education\", \"all education\", \"all education\", \"all education\", \"all education\", \"all education\", \"all education\", \"all education\", \"all education\", \"all education\", \"all education\", \"all education\", \"all education\", \"all education\", \"all education\", \"all education\", \"all education\", \"all education\", \"all education\", \"all education\", \"all education\", \"all education\", \"all education\", \"all education\", \"all education\", \"all education\", \"all education\", \"all education\", \"all education\", \"all education\", \"all education\", \"all education\", \"all education\", \"all education\", \"all education\", \"all education\", \"all education\", \"all education\", \"all education\", \"all education\", \"all education\", \"all education\", \"all education\", \"all education\", \"all education\", \"all education\", \"all education\", \"all education\", \"all education\", \"all education\", \"all education\", \"all education\", \"all education\", \"all education\", \"all education\", \"all education\", \"all education\", \"all education\", \"all education\", \"all education\", \"all education\", \"all education\", \"all education\", \"all education\", \"all education\", \"all education\", \"all education\", \"all education\", \"all education\", \"all education\", \"all education\", \"all education\", \"all education\", \"all education\", \"all education\", \"all education\", \"all education\", \"all education\", \"all education\", \"all education\", \"all education\", \"all education\", \"all education\", \"all education\", \"all education\", \"all education\", \"all education\", \"all education\", \"all education\", \"all education\", \"all education\", \"all education\", \"all education\", \"all education\", \"all education\", \"all education\", \"all education\", \"all education\", \"all education\", \"all education\", \"all education\", \"all education\", \"all education\", \"all education\", \"all education\", \"all education\", \"all education\", \"all education\", \"all education\", \"all education\", \"all education\", \"all education\", \"all education\", \"all education\", \"all education\", \"all education\", \"all education\", \"all education\", \"all education\", \"all education\", \"all education\", \"all education\", \"all education\", \"all education\", \"all education\", \"all education\", \"all education\", \"all education\", \"all education\", \"all education\", \"all education\", \"all education\", \"all education\", \"all education\", \"all education\", \"all education\", \"all education\", \"all education\", \"all education\", \"all education\", \"all education\", \"all education\", \"all education\", \"all education\", \"all education\", \"all education\", \"all education\", \"all education\", \"all education\", \"all education\", \"all education\", \"all education\", \"all education\", \"all education\", \"all education\", \"all education\", \"all education\", \"all education\", \"all education\", \"all education\", \"all education\", \"all education\", \"all education\", \"all education\", \"all education\", \"all education\", \"all education\", \"all education\", \"all education\", \"all education\", \"all education\", \"all education\", \"all education\", \"all education\", \"all education\", \"all education\", \"all education\", \"all education\", \"all education\", \"all education\", \"all education\", \"all education\", \"all education\", \"all education\", \"all education\", \"all education\", \"all education\", \"all education\", \"all education\", \"all education\", \"all education\", \"all education\", \"all education\", \"all education\", \"all education\", \"all education\", \"all education\", \"all education\", \"all education\", \"all education\", \"all education\", \"all education\", \"all education\", \"all education\", \"all education\", \"all education\", \"all education\", \"all education\", \"all education\", \"all education\", \"all education\", \"all education\", \"all education\", \"all education\", \"all education\", \"all education\", \"all education\", \"all education\", \"all education\", \"all education\", \"all education\", \"all education\", \"all education\", \"all education\", \"all education\", \"all education\", \"all education\", \"all education\", \"all education\", \"all education\", \"all education\", \"all education\", \"all education\", \"all education\", \"all education\", \"all education\", \"all education\", \"all education\", \"all education\", \"all education\", \"all education\", \"all education\", \"all education\", \"all education\", \"all education\", \"all education\", \"all education\", \"all education\", \"all education\", \"all education\", \"all education\", \"all education\", \"all education\", \"all education\", \"all education\", \"all education\", \"all education\", \"all education\", \"all education\", \"all education\", \"all education\", \"all education\", \"all education\", \"all education\", \"all education\", \"all education\", \"all education\", \"all education\", \"all education\", \"all education\", \"all education\", \"all education\", \"all education\", \"all education\", \"all education\", \"all education\", \"all education\", \"all education\", \"all education\", \"all education\", \"all education\", \"all education\", \"all education\", \"all education\", \"all education\", \"all education\", \"all education\", \"all education\", \"all education\", \"all education\", \"all education\", \"all education\", \"all education\", \"all education\", \"all education\", \"all education\", \"all education\", \"all education\", \"all education\", \"all education\", \"all education\", \"all education\", \"all education\", \"all education\", \"all education\", \"all education\", \"all education\", \"all education\", \"all education\", \"all education\", \"all education\", \"all education\", \"all education\", \"all education\", \"all education\", \"all education\", \"all education\", \"all education\", \"all education\", \"all education\", \"all education\", \"all education\", \"all education\", \"all education\", \"all education\", \"all education\", \"all education\", \"all education\", \"all education\", \"all education\", \"all education\", \"all education\", \"all education\", \"all education\", \"all education\", \"all education\", \"all education\", \"all education\", \"all education\", \"all education\", \"all education\", \"all education\", \"all education\", \"all education\", \"all education\", \"all education\", \"all education\", \"all education\", \"all education\", \"all education\", \"all education\", \"all education\", \"all education\", \"all education\", \"all education\", \"all education\", \"all education\", \"all education\", \"all education\", \"all education\", \"all education\", \"all education\", \"all education\", \"all education\", \"all education\", \"all education\", \"all education\", \"all education\", \"all education\", \"all education\", \"all education\", \"all education\", \"all education\", \"all education\", \"all education\", \"all education\", \"all education\", \"all education\", \"all education\", \"all education\", \"all education\", \"all education\", \"all education\", \"all education\", \"all education\", \"all education\", \"all education\", \"all education\", \"all education\", \"all education\", \"all education\", \"all education\", \"all education\", \"all education\", \"all education\", \"all education\", \"all education\", \"all education\", \"all education\", \"all education\", \"all education\", \"all education\", \"all education\", \"all education\", \"all education\", \"all education\", \"all education\", \"all education\", \"all education\", \"all education\", \"all education\", \"all education\", \"all education\", \"all education\", \"all education\", \"all education\", \"all education\", \"all education\", \"all education\", \"all education\", \"all education\", \"all education\", \"all education\", \"all education\", \"all education\", \"all education\", \"all education\", \"all education\", \"all education\", \"all education\", \"all education\", \"all education\", \"all education\", \"all education\", \"all education\", \"all education\", \"all education\", \"all education\", \"all education\", \"all education\", \"all education\", \"all education\", \"all education\", \"all education\", \"all education\", \"all education\", \"all education\", \"all education\", \"all education\", \"all education\", \"all education\", \"all education\", \"all education\", \"all education\", \"all education\", \"all education\", \"all education\", \"all education\", \"all education\", \"all education\", \"all education\", \"all education\", \"all education\", \"all education\", \"all education\", \"all education\", \"all education\", \"all education\", \"all education\", \"all education\", \"all education\", \"all education\", \"all education\", \"all education\", \"all education\", \"all education\", \"all education\", \"all education\", \"all education\", \"all education\", \"all education\", \"all education\", \"all education\", \"all education\", \"all education\", \"all education\", \"all education\", \"all education\", \"all education\", \"all education\", \"all education\", \"all education\", \"all education\", \"all education\", \"all education\", \"all education\", \"all education\", \"all education\", \"all education\", \"all education\", \"all education\", \"all education\", \"all education\", \"all education\", \"all education\", \"all education\", \"all education\", \"all education\", \"all education\", \"all education\", \"all education\", \"all education\", \"all education\", \"all education\", \"all education\", \"all education\", \"all education\", \"all education\", \"all education\", \"all education\", \"all education\", \"all education\", \"all education\", \"all education\", \"all education\", \"all education\", \"all education\", \"all education\", \"all education\", \"all education\", \"all education\", \"all education\", \"all education\", \"all education\", \"all education\", \"all education\", \"all education\", \"all education\", \"all education\", \"all education\", \"all education\", \"all education\", \"all education\", \"all education\", \"all education\", \"all education\", \"all education\", \"all education\", \"all education\", \"all education\", \"all education\", \"all education\", \"all education\", \"all education\", \"all education\", \"all education\", \"all education\", \"all education\", \"all education\", \"all education\", \"all education\", \"all education\", \"all education\", \"all education\", \"all education\", \"all education\", \"all education\", \"all education\", \"all education\", \"all education\", \"all education\", \"all education\", \"all education\", \"all education\", \"all education\", \"all education\"], \"yaxis\": \"y2\"}],                        {\"barmode\": \"overlay\", \"hovermode\": \"closest\", \"legend\": {\"traceorder\": \"reversed\"}, \"showlegend\": false, \"template\": {\"data\": {\"bar\": [{\"error_x\": {\"color\": \"#2a3f5f\"}, \"error_y\": {\"color\": \"#2a3f5f\"}, \"marker\": {\"line\": {\"color\": \"#E5ECF6\", \"width\": 0.5}}, \"type\": \"bar\"}], \"barpolar\": [{\"marker\": {\"line\": {\"color\": \"#E5ECF6\", \"width\": 0.5}}, \"type\": \"barpolar\"}], \"carpet\": [{\"aaxis\": {\"endlinecolor\": \"#2a3f5f\", \"gridcolor\": \"white\", \"linecolor\": \"white\", \"minorgridcolor\": \"white\", \"startlinecolor\": \"#2a3f5f\"}, \"baxis\": {\"endlinecolor\": \"#2a3f5f\", \"gridcolor\": \"white\", \"linecolor\": \"white\", \"minorgridcolor\": \"white\", \"startlinecolor\": \"#2a3f5f\"}, \"type\": \"carpet\"}], \"choropleth\": [{\"colorbar\": {\"outlinewidth\": 0, \"ticks\": \"\"}, \"type\": \"choropleth\"}], \"contour\": [{\"colorbar\": {\"outlinewidth\": 0, \"ticks\": \"\"}, \"colorscale\": [[0.0, \"#0d0887\"], [0.1111111111111111, \"#46039f\"], [0.2222222222222222, \"#7201a8\"], [0.3333333333333333, \"#9c179e\"], [0.4444444444444444, \"#bd3786\"], [0.5555555555555556, \"#d8576b\"], [0.6666666666666666, \"#ed7953\"], [0.7777777777777778, \"#fb9f3a\"], [0.8888888888888888, \"#fdca26\"], [1.0, \"#f0f921\"]], \"type\": \"contour\"}], \"contourcarpet\": [{\"colorbar\": {\"outlinewidth\": 0, \"ticks\": \"\"}, \"type\": \"contourcarpet\"}], \"heatmap\": [{\"colorbar\": {\"outlinewidth\": 0, \"ticks\": \"\"}, \"colorscale\": [[0.0, \"#0d0887\"], [0.1111111111111111, \"#46039f\"], [0.2222222222222222, \"#7201a8\"], [0.3333333333333333, \"#9c179e\"], [0.4444444444444444, \"#bd3786\"], [0.5555555555555556, \"#d8576b\"], [0.6666666666666666, \"#ed7953\"], [0.7777777777777778, \"#fb9f3a\"], [0.8888888888888888, \"#fdca26\"], [1.0, \"#f0f921\"]], \"type\": \"heatmap\"}], \"heatmapgl\": [{\"colorbar\": {\"outlinewidth\": 0, \"ticks\": \"\"}, \"colorscale\": [[0.0, \"#0d0887\"], [0.1111111111111111, \"#46039f\"], [0.2222222222222222, \"#7201a8\"], [0.3333333333333333, \"#9c179e\"], [0.4444444444444444, \"#bd3786\"], [0.5555555555555556, \"#d8576b\"], [0.6666666666666666, \"#ed7953\"], [0.7777777777777778, \"#fb9f3a\"], [0.8888888888888888, \"#fdca26\"], [1.0, \"#f0f921\"]], \"type\": \"heatmapgl\"}], \"histogram\": [{\"marker\": {\"colorbar\": {\"outlinewidth\": 0, \"ticks\": \"\"}}, \"type\": \"histogram\"}], \"histogram2d\": [{\"colorbar\": {\"outlinewidth\": 0, \"ticks\": \"\"}, \"colorscale\": [[0.0, \"#0d0887\"], [0.1111111111111111, \"#46039f\"], [0.2222222222222222, \"#7201a8\"], [0.3333333333333333, \"#9c179e\"], [0.4444444444444444, \"#bd3786\"], [0.5555555555555556, \"#d8576b\"], [0.6666666666666666, \"#ed7953\"], [0.7777777777777778, \"#fb9f3a\"], [0.8888888888888888, \"#fdca26\"], [1.0, \"#f0f921\"]], \"type\": \"histogram2d\"}], \"histogram2dcontour\": [{\"colorbar\": {\"outlinewidth\": 0, \"ticks\": \"\"}, \"colorscale\": [[0.0, \"#0d0887\"], [0.1111111111111111, \"#46039f\"], [0.2222222222222222, \"#7201a8\"], [0.3333333333333333, \"#9c179e\"], [0.4444444444444444, \"#bd3786\"], [0.5555555555555556, \"#d8576b\"], [0.6666666666666666, \"#ed7953\"], [0.7777777777777778, \"#fb9f3a\"], [0.8888888888888888, \"#fdca26\"], [1.0, \"#f0f921\"]], \"type\": \"histogram2dcontour\"}], \"mesh3d\": [{\"colorbar\": {\"outlinewidth\": 0, \"ticks\": \"\"}, \"type\": \"mesh3d\"}], \"parcoords\": [{\"line\": {\"colorbar\": {\"outlinewidth\": 0, \"ticks\": \"\"}}, \"type\": \"parcoords\"}], \"pie\": [{\"automargin\": true, \"type\": \"pie\"}], \"scatter\": [{\"marker\": {\"colorbar\": {\"outlinewidth\": 0, \"ticks\": \"\"}}, \"type\": \"scatter\"}], \"scatter3d\": [{\"line\": {\"colorbar\": {\"outlinewidth\": 0, \"ticks\": \"\"}}, \"marker\": {\"colorbar\": {\"outlinewidth\": 0, \"ticks\": \"\"}}, \"type\": \"scatter3d\"}], \"scattercarpet\": [{\"marker\": {\"colorbar\": {\"outlinewidth\": 0, \"ticks\": \"\"}}, \"type\": \"scattercarpet\"}], \"scattergeo\": [{\"marker\": {\"colorbar\": {\"outlinewidth\": 0, \"ticks\": \"\"}}, \"type\": \"scattergeo\"}], \"scattergl\": [{\"marker\": {\"colorbar\": {\"outlinewidth\": 0, \"ticks\": \"\"}}, \"type\": \"scattergl\"}], \"scattermapbox\": [{\"marker\": {\"colorbar\": {\"outlinewidth\": 0, \"ticks\": \"\"}}, \"type\": \"scattermapbox\"}], \"scatterpolar\": [{\"marker\": {\"colorbar\": {\"outlinewidth\": 0, \"ticks\": \"\"}}, \"type\": \"scatterpolar\"}], \"scatterpolargl\": [{\"marker\": {\"colorbar\": {\"outlinewidth\": 0, \"ticks\": \"\"}}, \"type\": \"scatterpolargl\"}], \"scatterternary\": [{\"marker\": {\"colorbar\": {\"outlinewidth\": 0, \"ticks\": \"\"}}, \"type\": \"scatterternary\"}], \"surface\": [{\"colorbar\": {\"outlinewidth\": 0, \"ticks\": \"\"}, \"colorscale\": [[0.0, \"#0d0887\"], [0.1111111111111111, \"#46039f\"], [0.2222222222222222, \"#7201a8\"], [0.3333333333333333, \"#9c179e\"], [0.4444444444444444, \"#bd3786\"], [0.5555555555555556, \"#d8576b\"], [0.6666666666666666, \"#ed7953\"], [0.7777777777777778, \"#fb9f3a\"], [0.8888888888888888, \"#fdca26\"], [1.0, \"#f0f921\"]], \"type\": \"surface\"}], \"table\": [{\"cells\": {\"fill\": {\"color\": \"#EBF0F8\"}, \"line\": {\"color\": \"white\"}}, \"header\": {\"fill\": {\"color\": \"#C8D4E3\"}, \"line\": {\"color\": \"white\"}}, \"type\": \"table\"}]}, \"layout\": {\"annotationdefaults\": {\"arrowcolor\": \"#2a3f5f\", \"arrowhead\": 0, \"arrowwidth\": 1}, \"autotypenumbers\": \"strict\", \"coloraxis\": {\"colorbar\": {\"outlinewidth\": 0, \"ticks\": \"\"}}, \"colorscale\": {\"diverging\": [[0, \"#8e0152\"], [0.1, \"#c51b7d\"], [0.2, \"#de77ae\"], [0.3, \"#f1b6da\"], [0.4, \"#fde0ef\"], [0.5, \"#f7f7f7\"], [0.6, \"#e6f5d0\"], [0.7, \"#b8e186\"], [0.8, \"#7fbc41\"], [0.9, \"#4d9221\"], [1, \"#276419\"]], \"sequential\": [[0.0, \"#0d0887\"], [0.1111111111111111, \"#46039f\"], [0.2222222222222222, \"#7201a8\"], [0.3333333333333333, \"#9c179e\"], [0.4444444444444444, \"#bd3786\"], [0.5555555555555556, \"#d8576b\"], [0.6666666666666666, \"#ed7953\"], [0.7777777777777778, \"#fb9f3a\"], [0.8888888888888888, \"#fdca26\"], [1.0, \"#f0f921\"]], \"sequentialminus\": [[0.0, \"#0d0887\"], [0.1111111111111111, \"#46039f\"], [0.2222222222222222, \"#7201a8\"], [0.3333333333333333, \"#9c179e\"], [0.4444444444444444, \"#bd3786\"], [0.5555555555555556, \"#d8576b\"], [0.6666666666666666, \"#ed7953\"], [0.7777777777777778, \"#fb9f3a\"], [0.8888888888888888, \"#fdca26\"], [1.0, \"#f0f921\"]]}, \"colorway\": [\"#636efa\", \"#EF553B\", \"#00cc96\", \"#ab63fa\", \"#FFA15A\", \"#19d3f3\", \"#FF6692\", \"#B6E880\", \"#FF97FF\", \"#FECB52\"], \"font\": {\"color\": \"#2a3f5f\"}, \"geo\": {\"bgcolor\": \"white\", \"lakecolor\": \"white\", \"landcolor\": \"#E5ECF6\", \"showlakes\": true, \"showland\": true, \"subunitcolor\": \"white\"}, \"hoverlabel\": {\"align\": \"left\"}, \"hovermode\": \"closest\", \"mapbox\": {\"style\": \"light\"}, \"paper_bgcolor\": \"white\", \"plot_bgcolor\": \"#E5ECF6\", \"polar\": {\"angularaxis\": {\"gridcolor\": \"white\", \"linecolor\": \"white\", \"ticks\": \"\"}, \"bgcolor\": \"#E5ECF6\", \"radialaxis\": {\"gridcolor\": \"white\", \"linecolor\": \"white\", \"ticks\": \"\"}}, \"scene\": {\"xaxis\": {\"backgroundcolor\": \"#E5ECF6\", \"gridcolor\": \"white\", \"gridwidth\": 2, \"linecolor\": \"white\", \"showbackground\": true, \"ticks\": \"\", \"zerolinecolor\": \"white\"}, \"yaxis\": {\"backgroundcolor\": \"#E5ECF6\", \"gridcolor\": \"white\", \"gridwidth\": 2, \"linecolor\": \"white\", \"showbackground\": true, \"ticks\": \"\", \"zerolinecolor\": \"white\"}, \"zaxis\": {\"backgroundcolor\": \"#E5ECF6\", \"gridcolor\": \"white\", \"gridwidth\": 2, \"linecolor\": \"white\", \"showbackground\": true, \"ticks\": \"\", \"zerolinecolor\": \"white\"}}, \"shapedefaults\": {\"line\": {\"color\": \"#2a3f5f\"}}, \"ternary\": {\"aaxis\": {\"gridcolor\": \"white\", \"linecolor\": \"white\", \"ticks\": \"\"}, \"baxis\": {\"gridcolor\": \"white\", \"linecolor\": \"white\", \"ticks\": \"\"}, \"bgcolor\": \"#E5ECF6\", \"caxis\": {\"gridcolor\": \"white\", \"linecolor\": \"white\", \"ticks\": \"\"}}, \"title\": {\"x\": 0.05}, \"xaxis\": {\"automargin\": true, \"gridcolor\": \"white\", \"linecolor\": \"white\", \"ticks\": \"\", \"title\": {\"standoff\": 15}, \"zerolinecolor\": \"white\", \"zerolinewidth\": 2}, \"yaxis\": {\"automargin\": true, \"gridcolor\": \"white\", \"linecolor\": \"white\", \"ticks\": \"\", \"title\": {\"standoff\": 15}, \"zerolinecolor\": \"white\", \"zerolinewidth\": 2}}}, \"title\": {\"font\": {\"size\": 28}, \"text\": \"Distribution of Median Wage, All Education Levels\"}, \"xaxis\": {\"anchor\": \"y2\", \"domain\": [0.0, 1.0], \"title\": {\"text\": \"Median Wage ($)\"}, \"zeroline\": false}, \"yaxis\": {\"anchor\": \"free\", \"domain\": [0.35, 1], \"position\": 0.0, \"title\": {\"text\": \"Frequency\"}}, \"yaxis2\": {\"anchor\": \"x\", \"domain\": [0, 0.25], \"dtick\": 1, \"showticklabels\": false}},                        {\"responsive\": true}                    ).then(function(){\n",
       "                            \n",
       "var gd = document.getElementById('23428634-6b95-4ab3-8ec8-0cbf14f18832');\n",
       "var x = new MutationObserver(function (mutations, observer) {{\n",
       "        var display = window.getComputedStyle(gd).display;\n",
       "        if (!display || display === 'none') {{\n",
       "            console.log([gd, 'removed!']);\n",
       "            Plotly.purge(gd);\n",
       "            observer.disconnect();\n",
       "        }}\n",
       "}});\n",
       "\n",
       "// Listen for the removal of the full notebook cells\n",
       "var notebookContainer = gd.closest('#notebook-container');\n",
       "if (notebookContainer) {{\n",
       "    x.observe(notebookContainer, {childList: true});\n",
       "}}\n",
       "\n",
       "// Listen for the clearing of the current output cell\n",
       "var outputEl = gd.closest('.output');\n",
       "if (outputEl) {{\n",
       "    x.observe(outputEl, {childList: true});\n",
       "}}\n",
       "\n",
       "                        })                };                });            </script>        </div>"
      ]
     },
     "metadata": {},
     "output_type": "display_data"
    },
    {
     "data": {
      "application/vnd.plotly.v1+json": {
       "config": {
        "linkText": "Export to plot.ly",
        "plotlyServerURL": "https://plot.ly",
        "showLink": false
       },
       "data": [
        {
         "name": "Bachelor's degree",
         "type": "histogram",
         "x": [
          184460,
          100780,
          29270,
          125510,
          136850,
          126640,
          146360,
          129890,
          105480,
          121110,
          122270,
          116720,
          113350,
          95260,
          48210,
          85450,
          144830,
          100980,
          129100,
          67150,
          74590,
          110630,
          73740,
          69050,
          65250,
          61920,
          69020,
          74750,
          85260,
          50600,
          57970,
          64560,
          61210,
          63790,
          73570,
          71550,
          76540,
          73650,
          87850,
          70020,
          81090,
          45950,
          63270,
          54890,
          81590,
          90920,
          99730,
          112690,
          83510,
          93750,
          86550,
          107510,
          88550,
          108350,
          84810,
          94280,
          80750,
          69360,
          65470,
          63420,
          116500,
          80720,
          91410,
          108770,
          87060,
          117220,
          98530,
          105570,
          88860,
          91410,
          88020,
          92400,
          93360,
          88430,
          91160,
          113460,
          137720,
          99040,
          60300,
          68970,
          63200,
          75650,
          63270,
          82220,
          62660,
          61790,
          75910,
          95380,
          77630,
          96810,
          71360,
          92040,
          81270,
          109910,
          81540,
          83330,
          45860,
          47510,
          59150,
          74100,
          46240,
          47390,
          61230,
          55220,
          54290,
          43790,
          50400,
          43860,
          31630,
          63930,
          54620,
          56850,
          59670,
          59660,
          60800,
          61660,
          61710,
          60000,
          60460,
          61440,
          61710,
          61190,
          54350,
          28790,
          39350,
          44430,
          59500,
          32080,
          40310,
          94220,
          50550,
          75270,
          68890,
          73790,
          52110,
          56040,
          54600,
          64620,
          74420,
          34840,
          51670,
          34630,
          46270,
          61150,
          61370,
          72850,
          63200,
          51830,
          55160,
          63780,
          61270,
          48220,
          49170,
          52650,
          73300,
          48440,
          57500,
          62270,
          81020,
          103900,
          40630,
          49870,
          45490,
          147220
         ],
         "xaxis": "x",
         "yaxis": "y"
        },
        {
         "name": "High school diploma or equivalent",
         "type": "histogram",
         "x": [
          94560,
          71160,
          55320,
          74970,
          54430,
          76900,
          58760,
          66790,
          43080,
          45010,
          51550,
          35060,
          40360,
          48180,
          39190,
          28040,
          29460,
          28550,
          46330,
          47580,
          36280,
          73460,
          33950,
          37840,
          53420,
          28980,
          31110,
          29230,
          27000,
          37440,
          27850,
          28590,
          38460,
          63730,
          91090,
          45270,
          47830,
          45180,
          83170,
          40920,
          63150,
          71820,
          37590,
          50510,
          34190,
          29680,
          41770,
          30990,
          51530,
          33400,
          40780,
          49370,
          37330,
          35840,
          39980,
          50710,
          39800,
          30430,
          24780,
          21260,
          24750,
          28300,
          41410,
          25110,
          26460,
          27930,
          25580,
          31390,
          24230,
          40390,
          26350,
          29450,
          27130,
          40350,
          74760,
          53310,
          50940,
          40660,
          56130,
          59930,
          59720,
          48930,
          31820,
          56620,
          30610,
          35750,
          42790,
          37000,
          38740,
          28040,
          46180,
          43310,
          31230,
          42420,
          52750,
          38140,
          39380,
          40100,
          34710,
          46590,
          32710,
          24470,
          34970,
          27490,
          40640,
          36550,
          30050,
          38380,
          41360,
          43740,
          29690,
          41910,
          40190,
          42280,
          48330,
          51310,
          60140,
          48260,
          34190,
          35040,
          60890,
          47300,
          36580,
          37690,
          33490,
          40340,
          40750,
          30960,
          34040,
          33450,
          35470,
          48280,
          42920,
          31770,
          44650,
          41440,
          37280,
          39780,
          66210,
          63100,
          53100,
          43280,
          48330,
          52180,
          40130,
          62600,
          48980,
          56180,
          44630,
          48690,
          55160,
          49100,
          50400,
          55040,
          44890,
          32830,
          32100,
          60710,
          84990,
          43900,
          40730,
          56100,
          39870,
          44800,
          59090,
          37120,
          46250,
          50160,
          67460,
          44070,
          37380,
          48970,
          43580,
          35790,
          48500,
          42200,
          53370,
          56390,
          41330,
          36100,
          30330,
          38570,
          28640,
          41570,
          58100,
          40260,
          53590,
          47520,
          55560,
          53990,
          72520,
          56750,
          38880,
          36650,
          42520,
          58720,
          39080,
          35420,
          41940,
          33890,
          50860,
          73890,
          30530,
          39830,
          61310,
          54210,
          36520,
          34810,
          45660,
          40390,
          35480,
          35080,
          30790,
          31110,
          36320,
          39670,
          40490,
          35610,
          38910,
          36100,
          40100,
          43210,
          44420,
          42250,
          38620,
          57020,
          46910,
          35590,
          32130,
          36330,
          42490,
          38310,
          38250,
          49940,
          33500,
          39330,
          34830,
          36910,
          33040,
          29560,
          30570,
          29460,
          28730,
          29980,
          29790,
          36110,
          45070,
          35130,
          27970,
          35790,
          32480,
          59260,
          64880,
          30410,
          30990,
          33110,
          100530,
          90700,
          81990,
          62150,
          47760,
          62550,
          70710,
          74180,
          58390,
          49130,
          41330,
          37560,
          37780,
          35600,
          35480,
          40090,
          39140,
          40870,
          41340,
          40690,
          32620,
          30990,
          38150,
          38060,
          32280,
          41200,
          34340,
          31850,
          35290,
          30620,
          34030,
          39210,
          46010,
          29100,
          29800,
          53850,
          55060,
          86080,
          52650,
          56640,
          25890,
          25860,
          34730,
          43030,
          67090,
          49330,
          60260,
          65990,
          67880,
          51600,
          50110,
          47480,
          75820,
          26570,
          37000,
          56690,
          47040,
          27380,
          66160,
          45040,
          55040
         ],
         "xaxis": "x2",
         "yaxis": "y2"
        },
        {
         "name": "Master's degree",
         "type": "histogram",
         "x": [
          96400,
          95410,
          122840,
          105030,
          91160,
          70990,
          105020,
          59170,
          92880,
          101790,
          83420,
          74350,
          63670,
          63680,
          122220,
          57040,
          49610,
          35950,
          42930,
          56750,
          46650,
          69530,
          76480,
          53950,
          54570,
          49710,
          66290,
          112260,
          84950,
          79120,
          174790,
          105030,
          109820,
          75640,
          68410,
          81880
         ],
         "xaxis": "x3",
         "yaxis": "y3"
        },
        {
         "name": "Associate's degree",
         "type": "histogram",
         "x": [
          76350,
          63460,
          73760,
          56340,
          61530,
          57060,
          52830,
          66020,
          53410,
          65260,
          58350,
          50620,
          56550,
          56980,
          62990,
          49260,
          46540,
          51130,
          82080,
          45500,
          50550,
          51740,
          58400,
          30520,
          40570,
          85560,
          61330,
          76220,
          57720,
          74320,
          77950,
          60510,
          73410,
          28400,
          35320,
          61510,
          58790,
          47760,
          54150,
          41430,
          45390,
          55380,
          65700,
          49280,
          122990
         ],
         "xaxis": "x4",
         "yaxis": "y4"
        },
        {
         "name": "Postsecondary nondegree award",
         "type": "histogram",
         "x": [
          63270,
          34900,
          60130,
          45910,
          54740,
          33780,
          48300,
          36940,
          47480,
          42630,
          49850,
          29660,
          42820,
          40080,
          34800,
          33380,
          35510,
          77800,
          50850,
          61660,
          37870,
          30150,
          26090,
          75730,
          25770,
          34090,
          57910,
          62530,
          59300,
          82780,
          39510,
          64090,
          42090,
          37600,
          48730,
          52910,
          49980,
          53920,
          40510,
          56450,
          45260,
          72340,
          48260,
          74610
         ],
         "xaxis": "x5",
         "yaxis": "y5"
        },
        {
         "name": "No formal educational credential",
         "type": "histogram",
         "x": [
          61910,
          34710,
          64490,
          51370,
          29760,
          23420,
          23510,
          27750,
          27790,
          25150,
          30760,
          24800,
          23680,
          22740,
          22890,
          24430,
          23470,
          23970,
          23090,
          24970,
          27430,
          24850,
          31230,
          30440,
          32090,
          25150,
          23500,
          23370,
          22550,
          23650,
          25690,
          28820,
          31710,
          25250,
          30930,
          28350,
          26290,
          27420,
          25670,
          31950,
          25440,
          27830,
          29590,
          40090,
          44240,
          39610,
          43050,
          44810,
          36860,
          45700,
          59070,
          40380,
          40280,
          40520,
          38820,
          45440,
          42100,
          35410,
          33060,
          31340,
          32110,
          31910,
          35800,
          46990,
          54980,
          46740,
          55280,
          54210,
          36070,
          38910,
          27700,
          32500,
          28100,
          29230,
          31590,
          27550,
          24220,
          24190,
          26420,
          29950,
          31520,
          30600,
          30200,
          32950,
          31340,
          32910,
          43480,
          25140,
          25200,
          34660,
          59720,
          36200,
          25800,
          29510,
          31180,
          25910,
          37840,
          42360,
          31770
         ],
         "xaxis": "x6",
         "yaxis": "y6"
        },
        {
         "name": "Some college, no degree",
         "type": "histogram",
         "x": [
          52270,
          27920,
          41230,
          34240,
          39530
         ],
         "xaxis": "x7",
         "yaxis": "y7"
        },
        {
         "name": "Doctoral or professional degree",
         "type": "histogram",
         "x": [
          94490,
          88790,
          114590,
          122850,
          78200,
          122960,
          54010,
          97870,
          136910,
          87200,
          85180,
          73690,
          87900,
          101010,
          83260,
          83300,
          85450,
          92040,
          79550,
          82430,
          89590,
          86220,
          77070,
          104370,
          80520,
          85930,
          76620,
          75290,
          71530,
          97320,
          74600,
          65510,
          71410,
          62860,
          113530,
          72070,
          70630,
          68490,
          69990,
          75170,
          75240,
          64380,
          68970,
          70340,
          155600,
          208000,
          208000,
          208000,
          147220,
          115250,
          128090,
          126240,
          89440,
          95460,
          77600,
          208000,
          205590,
          201590,
          208000,
          175310,
          208000,
          206500,
          208000
         ],
         "xaxis": "x8",
         "yaxis": "y8"
        }
       ],
       "layout": {
        "annotations": [
         {
          "font": {
           "size": 12
          },
          "showarrow": false,
          "text": "Bachelor's degree",
          "x": 0.225,
          "xanchor": "center",
          "xref": "paper",
          "y": 1,
          "yanchor": "bottom",
          "yref": "paper"
         },
         {
          "font": {
           "size": 12
          },
          "showarrow": false,
          "text": "High school diploma or equivalent",
          "x": 0.775,
          "xanchor": "center",
          "xref": "paper",
          "y": 1,
          "yanchor": "bottom",
          "yref": "paper"
         },
         {
          "font": {
           "size": 12
          },
          "showarrow": false,
          "text": "Master's degree",
          "x": 0.225,
          "xanchor": "center",
          "xref": "paper",
          "y": 0.7124999999999999,
          "yanchor": "bottom",
          "yref": "paper"
         },
         {
          "font": {
           "size": 12
          },
          "showarrow": false,
          "text": "Associate's degree",
          "x": 0.775,
          "xanchor": "center",
          "xref": "paper",
          "y": 0.7124999999999999,
          "yanchor": "bottom",
          "yref": "paper"
         },
         {
          "font": {
           "size": 12
          },
          "showarrow": false,
          "text": "Postsecondary nondegree award",
          "x": 0.225,
          "xanchor": "center",
          "xref": "paper",
          "y": 0.425,
          "yanchor": "bottom",
          "yref": "paper"
         },
         {
          "font": {
           "size": 12
          },
          "showarrow": false,
          "text": "No formal educational credential",
          "x": 0.775,
          "xanchor": "center",
          "xref": "paper",
          "y": 0.425,
          "yanchor": "bottom",
          "yref": "paper"
         },
         {
          "font": {
           "size": 12
          },
          "showarrow": false,
          "text": "Some college, no degree",
          "x": 0.225,
          "xanchor": "center",
          "xref": "paper",
          "y": 0.1375,
          "yanchor": "bottom",
          "yref": "paper"
         },
         {
          "font": {
           "size": 12
          },
          "showarrow": false,
          "text": "Doctoral or professional degree",
          "x": 0.775,
          "xanchor": "center",
          "xref": "paper",
          "y": 0.1375,
          "yanchor": "bottom",
          "yref": "paper"
         },
         {
          "font": {
           "size": 12
          },
          "showarrow": false,
          "text": "Median Wage ($)",
          "x": 0.5,
          "xanchor": "center",
          "xref": "paper",
          "y": 0,
          "yanchor": "top",
          "yref": "paper",
          "yshift": -30
         },
         {
          "font": {
           "size": 12
          },
          "showarrow": false,
          "text": "Frequency",
          "textangle": -90,
          "x": 0,
          "xanchor": "right",
          "xref": "paper",
          "xshift": -40,
          "y": 0.5,
          "yanchor": "middle",
          "yref": "paper"
         }
        ],
        "legend": {
         "title": {
          "text": "Education"
         }
        },
        "template": {
         "data": {
          "bar": [
           {
            "error_x": {
             "color": "#2a3f5f"
            },
            "error_y": {
             "color": "#2a3f5f"
            },
            "marker": {
             "line": {
              "color": "#E5ECF6",
              "width": 0.5
             }
            },
            "type": "bar"
           }
          ],
          "barpolar": [
           {
            "marker": {
             "line": {
              "color": "#E5ECF6",
              "width": 0.5
             }
            },
            "type": "barpolar"
           }
          ],
          "carpet": [
           {
            "aaxis": {
             "endlinecolor": "#2a3f5f",
             "gridcolor": "white",
             "linecolor": "white",
             "minorgridcolor": "white",
             "startlinecolor": "#2a3f5f"
            },
            "baxis": {
             "endlinecolor": "#2a3f5f",
             "gridcolor": "white",
             "linecolor": "white",
             "minorgridcolor": "white",
             "startlinecolor": "#2a3f5f"
            },
            "type": "carpet"
           }
          ],
          "choropleth": [
           {
            "colorbar": {
             "outlinewidth": 0,
             "ticks": ""
            },
            "type": "choropleth"
           }
          ],
          "contour": [
           {
            "colorbar": {
             "outlinewidth": 0,
             "ticks": ""
            },
            "colorscale": [
             [
              0,
              "#0d0887"
             ],
             [
              0.1111111111111111,
              "#46039f"
             ],
             [
              0.2222222222222222,
              "#7201a8"
             ],
             [
              0.3333333333333333,
              "#9c179e"
             ],
             [
              0.4444444444444444,
              "#bd3786"
             ],
             [
              0.5555555555555556,
              "#d8576b"
             ],
             [
              0.6666666666666666,
              "#ed7953"
             ],
             [
              0.7777777777777778,
              "#fb9f3a"
             ],
             [
              0.8888888888888888,
              "#fdca26"
             ],
             [
              1,
              "#f0f921"
             ]
            ],
            "type": "contour"
           }
          ],
          "contourcarpet": [
           {
            "colorbar": {
             "outlinewidth": 0,
             "ticks": ""
            },
            "type": "contourcarpet"
           }
          ],
          "heatmap": [
           {
            "colorbar": {
             "outlinewidth": 0,
             "ticks": ""
            },
            "colorscale": [
             [
              0,
              "#0d0887"
             ],
             [
              0.1111111111111111,
              "#46039f"
             ],
             [
              0.2222222222222222,
              "#7201a8"
             ],
             [
              0.3333333333333333,
              "#9c179e"
             ],
             [
              0.4444444444444444,
              "#bd3786"
             ],
             [
              0.5555555555555556,
              "#d8576b"
             ],
             [
              0.6666666666666666,
              "#ed7953"
             ],
             [
              0.7777777777777778,
              "#fb9f3a"
             ],
             [
              0.8888888888888888,
              "#fdca26"
             ],
             [
              1,
              "#f0f921"
             ]
            ],
            "type": "heatmap"
           }
          ],
          "heatmapgl": [
           {
            "colorbar": {
             "outlinewidth": 0,
             "ticks": ""
            },
            "colorscale": [
             [
              0,
              "#0d0887"
             ],
             [
              0.1111111111111111,
              "#46039f"
             ],
             [
              0.2222222222222222,
              "#7201a8"
             ],
             [
              0.3333333333333333,
              "#9c179e"
             ],
             [
              0.4444444444444444,
              "#bd3786"
             ],
             [
              0.5555555555555556,
              "#d8576b"
             ],
             [
              0.6666666666666666,
              "#ed7953"
             ],
             [
              0.7777777777777778,
              "#fb9f3a"
             ],
             [
              0.8888888888888888,
              "#fdca26"
             ],
             [
              1,
              "#f0f921"
             ]
            ],
            "type": "heatmapgl"
           }
          ],
          "histogram": [
           {
            "marker": {
             "colorbar": {
              "outlinewidth": 0,
              "ticks": ""
             }
            },
            "type": "histogram"
           }
          ],
          "histogram2d": [
           {
            "colorbar": {
             "outlinewidth": 0,
             "ticks": ""
            },
            "colorscale": [
             [
              0,
              "#0d0887"
             ],
             [
              0.1111111111111111,
              "#46039f"
             ],
             [
              0.2222222222222222,
              "#7201a8"
             ],
             [
              0.3333333333333333,
              "#9c179e"
             ],
             [
              0.4444444444444444,
              "#bd3786"
             ],
             [
              0.5555555555555556,
              "#d8576b"
             ],
             [
              0.6666666666666666,
              "#ed7953"
             ],
             [
              0.7777777777777778,
              "#fb9f3a"
             ],
             [
              0.8888888888888888,
              "#fdca26"
             ],
             [
              1,
              "#f0f921"
             ]
            ],
            "type": "histogram2d"
           }
          ],
          "histogram2dcontour": [
           {
            "colorbar": {
             "outlinewidth": 0,
             "ticks": ""
            },
            "colorscale": [
             [
              0,
              "#0d0887"
             ],
             [
              0.1111111111111111,
              "#46039f"
             ],
             [
              0.2222222222222222,
              "#7201a8"
             ],
             [
              0.3333333333333333,
              "#9c179e"
             ],
             [
              0.4444444444444444,
              "#bd3786"
             ],
             [
              0.5555555555555556,
              "#d8576b"
             ],
             [
              0.6666666666666666,
              "#ed7953"
             ],
             [
              0.7777777777777778,
              "#fb9f3a"
             ],
             [
              0.8888888888888888,
              "#fdca26"
             ],
             [
              1,
              "#f0f921"
             ]
            ],
            "type": "histogram2dcontour"
           }
          ],
          "mesh3d": [
           {
            "colorbar": {
             "outlinewidth": 0,
             "ticks": ""
            },
            "type": "mesh3d"
           }
          ],
          "parcoords": [
           {
            "line": {
             "colorbar": {
              "outlinewidth": 0,
              "ticks": ""
             }
            },
            "type": "parcoords"
           }
          ],
          "pie": [
           {
            "automargin": true,
            "type": "pie"
           }
          ],
          "scatter": [
           {
            "marker": {
             "colorbar": {
              "outlinewidth": 0,
              "ticks": ""
             }
            },
            "type": "scatter"
           }
          ],
          "scatter3d": [
           {
            "line": {
             "colorbar": {
              "outlinewidth": 0,
              "ticks": ""
             }
            },
            "marker": {
             "colorbar": {
              "outlinewidth": 0,
              "ticks": ""
             }
            },
            "type": "scatter3d"
           }
          ],
          "scattercarpet": [
           {
            "marker": {
             "colorbar": {
              "outlinewidth": 0,
              "ticks": ""
             }
            },
            "type": "scattercarpet"
           }
          ],
          "scattergeo": [
           {
            "marker": {
             "colorbar": {
              "outlinewidth": 0,
              "ticks": ""
             }
            },
            "type": "scattergeo"
           }
          ],
          "scattergl": [
           {
            "marker": {
             "colorbar": {
              "outlinewidth": 0,
              "ticks": ""
             }
            },
            "type": "scattergl"
           }
          ],
          "scattermapbox": [
           {
            "marker": {
             "colorbar": {
              "outlinewidth": 0,
              "ticks": ""
             }
            },
            "type": "scattermapbox"
           }
          ],
          "scatterpolar": [
           {
            "marker": {
             "colorbar": {
              "outlinewidth": 0,
              "ticks": ""
             }
            },
            "type": "scatterpolar"
           }
          ],
          "scatterpolargl": [
           {
            "marker": {
             "colorbar": {
              "outlinewidth": 0,
              "ticks": ""
             }
            },
            "type": "scatterpolargl"
           }
          ],
          "scatterternary": [
           {
            "marker": {
             "colorbar": {
              "outlinewidth": 0,
              "ticks": ""
             }
            },
            "type": "scatterternary"
           }
          ],
          "surface": [
           {
            "colorbar": {
             "outlinewidth": 0,
             "ticks": ""
            },
            "colorscale": [
             [
              0,
              "#0d0887"
             ],
             [
              0.1111111111111111,
              "#46039f"
             ],
             [
              0.2222222222222222,
              "#7201a8"
             ],
             [
              0.3333333333333333,
              "#9c179e"
             ],
             [
              0.4444444444444444,
              "#bd3786"
             ],
             [
              0.5555555555555556,
              "#d8576b"
             ],
             [
              0.6666666666666666,
              "#ed7953"
             ],
             [
              0.7777777777777778,
              "#fb9f3a"
             ],
             [
              0.8888888888888888,
              "#fdca26"
             ],
             [
              1,
              "#f0f921"
             ]
            ],
            "type": "surface"
           }
          ],
          "table": [
           {
            "cells": {
             "fill": {
              "color": "#EBF0F8"
             },
             "line": {
              "color": "white"
             }
            },
            "header": {
             "fill": {
              "color": "#C8D4E3"
             },
             "line": {
              "color": "white"
             }
            },
            "type": "table"
           }
          ]
         },
         "layout": {
          "annotationdefaults": {
           "arrowcolor": "#2a3f5f",
           "arrowhead": 0,
           "arrowwidth": 1
          },
          "autotypenumbers": "strict",
          "coloraxis": {
           "colorbar": {
            "outlinewidth": 0,
            "ticks": ""
           }
          },
          "colorscale": {
           "diverging": [
            [
             0,
             "#8e0152"
            ],
            [
             0.1,
             "#c51b7d"
            ],
            [
             0.2,
             "#de77ae"
            ],
            [
             0.3,
             "#f1b6da"
            ],
            [
             0.4,
             "#fde0ef"
            ],
            [
             0.5,
             "#f7f7f7"
            ],
            [
             0.6,
             "#e6f5d0"
            ],
            [
             0.7,
             "#b8e186"
            ],
            [
             0.8,
             "#7fbc41"
            ],
            [
             0.9,
             "#4d9221"
            ],
            [
             1,
             "#276419"
            ]
           ],
           "sequential": [
            [
             0,
             "#0d0887"
            ],
            [
             0.1111111111111111,
             "#46039f"
            ],
            [
             0.2222222222222222,
             "#7201a8"
            ],
            [
             0.3333333333333333,
             "#9c179e"
            ],
            [
             0.4444444444444444,
             "#bd3786"
            ],
            [
             0.5555555555555556,
             "#d8576b"
            ],
            [
             0.6666666666666666,
             "#ed7953"
            ],
            [
             0.7777777777777778,
             "#fb9f3a"
            ],
            [
             0.8888888888888888,
             "#fdca26"
            ],
            [
             1,
             "#f0f921"
            ]
           ],
           "sequentialminus": [
            [
             0,
             "#0d0887"
            ],
            [
             0.1111111111111111,
             "#46039f"
            ],
            [
             0.2222222222222222,
             "#7201a8"
            ],
            [
             0.3333333333333333,
             "#9c179e"
            ],
            [
             0.4444444444444444,
             "#bd3786"
            ],
            [
             0.5555555555555556,
             "#d8576b"
            ],
            [
             0.6666666666666666,
             "#ed7953"
            ],
            [
             0.7777777777777778,
             "#fb9f3a"
            ],
            [
             0.8888888888888888,
             "#fdca26"
            ],
            [
             1,
             "#f0f921"
            ]
           ]
          },
          "colorway": [
           "#636efa",
           "#EF553B",
           "#00cc96",
           "#ab63fa",
           "#FFA15A",
           "#19d3f3",
           "#FF6692",
           "#B6E880",
           "#FF97FF",
           "#FECB52"
          ],
          "font": {
           "color": "#2a3f5f"
          },
          "geo": {
           "bgcolor": "white",
           "lakecolor": "white",
           "landcolor": "#E5ECF6",
           "showlakes": true,
           "showland": true,
           "subunitcolor": "white"
          },
          "hoverlabel": {
           "align": "left"
          },
          "hovermode": "closest",
          "mapbox": {
           "style": "light"
          },
          "paper_bgcolor": "white",
          "plot_bgcolor": "#E5ECF6",
          "polar": {
           "angularaxis": {
            "gridcolor": "white",
            "linecolor": "white",
            "ticks": ""
           },
           "bgcolor": "#E5ECF6",
           "radialaxis": {
            "gridcolor": "white",
            "linecolor": "white",
            "ticks": ""
           }
          },
          "scene": {
           "xaxis": {
            "backgroundcolor": "#E5ECF6",
            "gridcolor": "white",
            "gridwidth": 2,
            "linecolor": "white",
            "showbackground": true,
            "ticks": "",
            "zerolinecolor": "white"
           },
           "yaxis": {
            "backgroundcolor": "#E5ECF6",
            "gridcolor": "white",
            "gridwidth": 2,
            "linecolor": "white",
            "showbackground": true,
            "ticks": "",
            "zerolinecolor": "white"
           },
           "zaxis": {
            "backgroundcolor": "#E5ECF6",
            "gridcolor": "white",
            "gridwidth": 2,
            "linecolor": "white",
            "showbackground": true,
            "ticks": "",
            "zerolinecolor": "white"
           }
          },
          "shapedefaults": {
           "line": {
            "color": "#2a3f5f"
           }
          },
          "ternary": {
           "aaxis": {
            "gridcolor": "white",
            "linecolor": "white",
            "ticks": ""
           },
           "baxis": {
            "gridcolor": "white",
            "linecolor": "white",
            "ticks": ""
           },
           "bgcolor": "#E5ECF6",
           "caxis": {
            "gridcolor": "white",
            "linecolor": "white",
            "ticks": ""
           }
          },
          "title": {
           "x": 0.05
          },
          "xaxis": {
           "automargin": true,
           "gridcolor": "white",
           "linecolor": "white",
           "ticks": "",
           "title": {
            "standoff": 15
           },
           "zerolinecolor": "white",
           "zerolinewidth": 2
          },
          "yaxis": {
           "automargin": true,
           "gridcolor": "white",
           "linecolor": "white",
           "ticks": "",
           "title": {
            "standoff": 15
           },
           "zerolinecolor": "white",
           "zerolinewidth": 2
          }
         }
        },
        "title": {
         "font": {
          "size": 28
         },
         "text": "Distribution of Median Wage, By Education Level"
        },
        "xaxis": {
         "anchor": "y",
         "domain": [
          0,
          0.45
         ],
         "matches": "x",
         "range": [
          0,
          220000
         ]
        },
        "xaxis2": {
         "anchor": "y2",
         "domain": [
          0.55,
          1
         ],
         "matches": "x"
        },
        "xaxis3": {
         "anchor": "y3",
         "domain": [
          0,
          0.45
         ],
         "matches": "x"
        },
        "xaxis4": {
         "anchor": "y4",
         "domain": [
          0.55,
          1
         ],
         "matches": "x"
        },
        "xaxis5": {
         "anchor": "y5",
         "domain": [
          0,
          0.45
         ],
         "matches": "x"
        },
        "xaxis6": {
         "anchor": "y6",
         "domain": [
          0.55,
          1
         ],
         "matches": "x"
        },
        "xaxis7": {
         "anchor": "y7",
         "domain": [
          0,
          0.45
         ],
         "matches": "x"
        },
        "xaxis8": {
         "anchor": "y8",
         "domain": [
          0.55,
          1
         ],
         "matches": "x"
        },
        "yaxis": {
         "anchor": "x",
         "domain": [
          0.8625,
          1
         ]
        },
        "yaxis2": {
         "anchor": "x2",
         "domain": [
          0.8625,
          1
         ]
        },
        "yaxis3": {
         "anchor": "x3",
         "domain": [
          0.575,
          0.7124999999999999
         ]
        },
        "yaxis4": {
         "anchor": "x4",
         "domain": [
          0.575,
          0.7124999999999999
         ]
        },
        "yaxis5": {
         "anchor": "x5",
         "domain": [
          0.2875,
          0.425
         ]
        },
        "yaxis6": {
         "anchor": "x6",
         "domain": [
          0.2875,
          0.425
         ]
        },
        "yaxis7": {
         "anchor": "x7",
         "domain": [
          0,
          0.1375
         ]
        },
        "yaxis8": {
         "anchor": "x8",
         "domain": [
          0,
          0.1375
         ]
        }
       }
      },
      "text/html": [
       "<div>                            <div id=\"0fb3c498-52c9-4a2e-ac94-3086a47b2a34\" class=\"plotly-graph-div\" style=\"height:525px; width:100%;\"></div>            <script type=\"text/javascript\">                require([\"plotly\"], function(Plotly) {                    window.PLOTLYENV=window.PLOTLYENV || {};                                    if (document.getElementById(\"0fb3c498-52c9-4a2e-ac94-3086a47b2a34\")) {                    Plotly.newPlot(                        \"0fb3c498-52c9-4a2e-ac94-3086a47b2a34\",                        [{\"name\": \"Bachelor's degree\", \"type\": \"histogram\", \"x\": [184460.0, 100780.0, 29270.0, 125510.0, 136850.0, 126640.0, 146360.0, 129890.0, 105480.0, 121110.0, 122270.0, 116720.0, 113350.0, 95260.0, 48210.0, 85450.0, 144830.0, 100980.0, 129100.0, 67150.0, 74590.0, 110630.0, 73740.0, 69050.0, 65250.0, 61920.0, 69020.0, 74750.0, 85260.0, 50600.0, 57970.0, 64560.0, 61210.0, 63790.0, 73570.0, 71550.0, 76540.0, 73650.0, 87850.0, 70020.0, 81090.0, 45950.0, 63270.0, 54890.0, 81590.0, 90920.0, 99730.0, 112690.0, 83510.0, 93750.0, 86550.0, 107510.0, 88550.0, 108350.0, 84810.0, 94280.0, 80750.0, 69360.0, 65470.0, 63420.0, 116500.0, 80720.0, 91410.0, 108770.0, 87060.0, 117220.0, 98530.0, 105570.0, 88860.0, 91410.0, 88020.0, 92400.0, 93360.0, 88430.0, 91160.0, 113460.0, 137720.0, 99040.0, 60300.0, 68970.0, 63200.0, 75650.0, 63270.0, 82220.0, 62660.0, 61790.0, 75910.0, 95380.0, 77630.0, 96810.0, 71360.0, 92040.0, 81270.0, 109910.0, 81540.0, 83330.0, 45860.0, 47510.0, 59150.0, 74100.0, 46240.0, 47390.0, 61230.0, 55220.0, 54290.0, 43790.0, 50400.0, 43860.0, 31630.0, 63930.0, 54620.0, 56850.0, 59670.0, 59660.0, 60800.0, 61660.0, 61710.0, 60000.0, 60460.0, 61440.0, 61710.0, 61190.0, 54350.0, 28790.0, 39350.0, 44430.0, 59500.0, 32080.0, 40310.0, 94220.0, 50550.0, 75270.0, 68890.0, 73790.0, 52110.0, 56040.0, 54600.0, 64620.0, 74420.0, 34840.0, 51670.0, 34630.0, 46270.0, 61150.0, 61370.0, 72850.0, 63200.0, 51830.0, 55160.0, 63780.0, 61270.0, 48220.0, 49170.0, 52650.0, 73300.0, 48440.0, 57500.0, 62270.0, 81020.0, 103900.0, 40630.0, 49870.0, 45490.0, 147220.0], \"xaxis\": \"x\", \"yaxis\": \"y\"}, {\"name\": \"High school diploma or equivalent\", \"type\": \"histogram\", \"x\": [94560.0, 71160.0, 55320.0, 74970.0, 54430.0, 76900.0, 58760.0, 66790.0, 43080.0, 45010.0, 51550.0, 35060.0, 40360.0, 48180.0, 39190.0, 28040.0, 29460.0, 28550.0, 46330.0, 47580.0, 36280.0, 73460.0, 33950.0, 37840.0, 53420.0, 28980.0, 31110.0, 29230.0, 27000.0, 37440.0, 27850.0, 28590.0, 38460.0, 63730.0, 91090.0, 45270.0, 47830.0, 45180.0, 83170.0, 40920.0, 63150.0, 71820.0, 37590.0, 50510.0, 34190.0, 29680.0, 41770.0, 30990.0, 51530.0, 33400.0, 40780.0, 49370.0, 37330.0, 35840.0, 39980.0, 50710.0, 39800.0, 30430.0, 24780.0, 21260.0, 24750.0, 28300.0, 41410.0, 25110.0, 26460.0, 27930.0, 25580.0, 31390.0, 24230.0, 40390.0, 26350.0, 29450.0, 27130.0, 40350.0, 74760.0, 53310.0, 50940.0, 40660.0, 56130.0, 59930.0, 59720.0, 48930.0, 31820.0, 56620.0, 30610.0, 35750.0, 42790.0, 37000.0, 38740.0, 28040.0, 46180.0, 43310.0, 31230.0, 42420.0, 52750.0, 38140.0, 39380.0, 40100.0, 34710.0, 46590.0, 32710.0, 24470.0, 34970.0, 27490.0, 40640.0, 36550.0, 30050.0, 38380.0, 41360.0, 43740.0, 29690.0, 41910.0, 40190.0, 42280.0, 48330.0, 51310.0, 60140.0, 48260.0, 34190.0, 35040.0, 60890.0, 47300.0, 36580.0, 37690.0, 33490.0, 40340.0, 40750.0, 30960.0, 34040.0, 33450.0, 35470.0, 48280.0, 42920.0, 31770.0, 44650.0, 41440.0, 37280.0, 39780.0, 66210.0, 63100.0, 53100.0, 43280.0, 48330.0, 52180.0, 40130.0, 62600.0, 48980.0, 56180.0, 44630.0, 48690.0, 55160.0, 49100.0, 50400.0, 55040.0, 44890.0, 32830.0, 32100.0, 60710.0, 84990.0, 43900.0, 40730.0, 56100.0, 39870.0, 44800.0, 59090.0, 37120.0, 46250.0, 50160.0, 67460.0, 44070.0, 37380.0, 48970.0, 43580.0, 35790.0, 48500.0, 42200.0, 53370.0, 56390.0, 41330.0, 36100.0, 30330.0, 38570.0, 28640.0, 41570.0, 58100.0, 40260.0, 53590.0, 47520.0, 55560.0, 53990.0, 72520.0, 56750.0, 38880.0, 36650.0, 42520.0, 58720.0, 39080.0, 35420.0, 41940.0, 33890.0, 50860.0, 73890.0, 30530.0, 39830.0, 61310.0, 54210.0, 36520.0, 34810.0, 45660.0, 40390.0, 35480.0, 35080.0, 30790.0, 31110.0, 36320.0, 39670.0, 40490.0, 35610.0, 38910.0, 36100.0, 40100.0, 43210.0, 44420.0, 42250.0, 38620.0, 57020.0, 46910.0, 35590.0, 32130.0, 36330.0, 42490.0, 38310.0, 38250.0, 49940.0, 33500.0, 39330.0, 34830.0, 36910.0, 33040.0, 29560.0, 30570.0, 29460.0, 28730.0, 29980.0, 29790.0, 36110.0, 45070.0, 35130.0, 27970.0, 35790.0, 32480.0, 59260.0, 64880.0, 30410.0, 30990.0, 33110.0, 100530.0, 90700.0, 81990.0, 62150.0, 47760.0, 62550.0, 70710.0, 74180.0, 58390.0, 49130.0, 41330.0, 37560.0, 37780.0, 35600.0, 35480.0, 40090.0, 39140.0, 40870.0, 41340.0, 40690.0, 32620.0, 30990.0, 38150.0, 38060.0, 32280.0, 41200.0, 34340.0, 31850.0, 35290.0, 30620.0, 34030.0, 39210.0, 46010.0, 29100.0, 29800.0, 53850.0, 55060.0, 86080.0, 52650.0, 56640.0, 25890.0, 25860.0, 34730.0, 43030.0, 67090.0, 49330.0, 60260.0, 65990.0, 67880.0, 51600.0, 50110.0, 47480.0, 75820.0, 26570.0, 37000.0, 56690.0, 47040.0, 27380.0, 66160.0, 45040.0, 55040.0], \"xaxis\": \"x2\", \"yaxis\": \"y2\"}, {\"name\": \"Master's degree\", \"type\": \"histogram\", \"x\": [96400.0, 95410.0, 122840.0, 105030.0, 91160.0, 70990.0, 105020.0, 59170.0, 92880.0, 101790.0, 83420.0, 74350.0, 63670.0, 63680.0, 122220.0, 57040.0, 49610.0, 35950.0, 42930.0, 56750.0, 46650.0, 69530.0, 76480.0, 53950.0, 54570.0, 49710.0, 66290.0, 112260.0, 84950.0, 79120.0, 174790.0, 105030.0, 109820.0, 75640.0, 68410.0, 81880.0], \"xaxis\": \"x3\", \"yaxis\": \"y3\"}, {\"name\": \"Associate's degree\", \"type\": \"histogram\", \"x\": [76350.0, 63460.0, 73760.0, 56340.0, 61530.0, 57060.0, 52830.0, 66020.0, 53410.0, 65260.0, 58350.0, 50620.0, 56550.0, 56980.0, 62990.0, 49260.0, 46540.0, 51130.0, 82080.0, 45500.0, 50550.0, 51740.0, 58400.0, 30520.0, 40570.0, 85560.0, 61330.0, 76220.0, 57720.0, 74320.0, 77950.0, 60510.0, 73410.0, 28400.0, 35320.0, 61510.0, 58790.0, 47760.0, 54150.0, 41430.0, 45390.0, 55380.0, 65700.0, 49280.0, 122990.0], \"xaxis\": \"x4\", \"yaxis\": \"y4\"}, {\"name\": \"Postsecondary nondegree award\", \"type\": \"histogram\", \"x\": [63270.0, 34900.0, 60130.0, 45910.0, 54740.0, 33780.0, 48300.0, 36940.0, 47480.0, 42630.0, 49850.0, 29660.0, 42820.0, 40080.0, 34800.0, 33380.0, 35510.0, 77800.0, 50850.0, 61660.0, 37870.0, 30150.0, 26090.0, 75730.0, 25770.0, 34090.0, 57910.0, 62530.0, 59300.0, 82780.0, 39510.0, 64090.0, 42090.0, 37600.0, 48730.0, 52910.0, 49980.0, 53920.0, 40510.0, 56450.0, 45260.0, 72340.0, 48260.0, 74610.0], \"xaxis\": \"x5\", \"yaxis\": \"y5\"}, {\"name\": \"No formal educational credential\", \"type\": \"histogram\", \"x\": [61910.0, 34710.0, 64490.0, 51370.0, 29760.0, 23420.0, 23510.0, 27750.0, 27790.0, 25150.0, 30760.0, 24800.0, 23680.0, 22740.0, 22890.0, 24430.0, 23470.0, 23970.0, 23090.0, 24970.0, 27430.0, 24850.0, 31230.0, 30440.0, 32090.0, 25150.0, 23500.0, 23370.0, 22550.0, 23650.0, 25690.0, 28820.0, 31710.0, 25250.0, 30930.0, 28350.0, 26290.0, 27420.0, 25670.0, 31950.0, 25440.0, 27830.0, 29590.0, 40090.0, 44240.0, 39610.0, 43050.0, 44810.0, 36860.0, 45700.0, 59070.0, 40380.0, 40280.0, 40520.0, 38820.0, 45440.0, 42100.0, 35410.0, 33060.0, 31340.0, 32110.0, 31910.0, 35800.0, 46990.0, 54980.0, 46740.0, 55280.0, 54210.0, 36070.0, 38910.0, 27700.0, 32500.0, 28100.0, 29230.0, 31590.0, 27550.0, 24220.0, 24190.0, 26420.0, 29950.0, 31520.0, 30600.0, 30200.0, 32950.0, 31340.0, 32910.0, 43480.0, 25140.0, 25200.0, 34660.0, 59720.0, 36200.0, 25800.0, 29510.0, 31180.0, 25910.0, 37840.0, 42360.0, 31770.0], \"xaxis\": \"x6\", \"yaxis\": \"y6\"}, {\"name\": \"Some college, no degree\", \"type\": \"histogram\", \"x\": [52270.0, 27920.0, 41230.0, 34240.0, 39530.0], \"xaxis\": \"x7\", \"yaxis\": \"y7\"}, {\"name\": \"Doctoral or professional degree\", \"type\": \"histogram\", \"x\": [94490.0, 88790.0, 114590.0, 122850.0, 78200.0, 122960.0, 54010.0, 97870.0, 136910.0, 87200.0, 85180.0, 73690.0, 87900.0, 101010.0, 83260.0, 83300.0, 85450.0, 92040.0, 79550.0, 82430.0, 89590.0, 86220.0, 77070.0, 104370.0, 80520.0, 85930.0, 76620.0, 75290.0, 71530.0, 97320.0, 74600.0, 65510.0, 71410.0, 62860.0, 113530.0, 72070.0, 70630.0, 68490.0, 69990.0, 75170.0, 75240.0, 64380.0, 68970.0, 70340.0, 155600.0, 208000.0, 208000.0, 208000.0, 147220.0, 115250.0, 128090.0, 126240.0, 89440.0, 95460.0, 77600.0, 208000.0, 205590.0, 201590.0, 208000.0, 175310.0, 208000.0, 206500.0, 208000.0], \"xaxis\": \"x8\", \"yaxis\": \"y8\"}],                        {\"annotations\": [{\"font\": {\"size\": 12}, \"showarrow\": false, \"text\": \"Bachelor's degree\", \"x\": 0.225, \"xanchor\": \"center\", \"xref\": \"paper\", \"y\": 1.0, \"yanchor\": \"bottom\", \"yref\": \"paper\"}, {\"font\": {\"size\": 12}, \"showarrow\": false, \"text\": \"High school diploma or equivalent\", \"x\": 0.775, \"xanchor\": \"center\", \"xref\": \"paper\", \"y\": 1.0, \"yanchor\": \"bottom\", \"yref\": \"paper\"}, {\"font\": {\"size\": 12}, \"showarrow\": false, \"text\": \"Master's degree\", \"x\": 0.225, \"xanchor\": \"center\", \"xref\": \"paper\", \"y\": 0.7124999999999999, \"yanchor\": \"bottom\", \"yref\": \"paper\"}, {\"font\": {\"size\": 12}, \"showarrow\": false, \"text\": \"Associate's degree\", \"x\": 0.775, \"xanchor\": \"center\", \"xref\": \"paper\", \"y\": 0.7124999999999999, \"yanchor\": \"bottom\", \"yref\": \"paper\"}, {\"font\": {\"size\": 12}, \"showarrow\": false, \"text\": \"Postsecondary nondegree award\", \"x\": 0.225, \"xanchor\": \"center\", \"xref\": \"paper\", \"y\": 0.425, \"yanchor\": \"bottom\", \"yref\": \"paper\"}, {\"font\": {\"size\": 12}, \"showarrow\": false, \"text\": \"No formal educational credential\", \"x\": 0.775, \"xanchor\": \"center\", \"xref\": \"paper\", \"y\": 0.425, \"yanchor\": \"bottom\", \"yref\": \"paper\"}, {\"font\": {\"size\": 12}, \"showarrow\": false, \"text\": \"Some college, no degree\", \"x\": 0.225, \"xanchor\": \"center\", \"xref\": \"paper\", \"y\": 0.1375, \"yanchor\": \"bottom\", \"yref\": \"paper\"}, {\"font\": {\"size\": 12}, \"showarrow\": false, \"text\": \"Doctoral or professional degree\", \"x\": 0.775, \"xanchor\": \"center\", \"xref\": \"paper\", \"y\": 0.1375, \"yanchor\": \"bottom\", \"yref\": \"paper\"}, {\"font\": {\"size\": 12}, \"showarrow\": false, \"text\": \"Median Wage ($)\", \"x\": 0.5, \"xanchor\": \"center\", \"xref\": \"paper\", \"y\": 0, \"yanchor\": \"top\", \"yref\": \"paper\", \"yshift\": -30}, {\"font\": {\"size\": 12}, \"showarrow\": false, \"text\": \"Frequency\", \"textangle\": -90, \"x\": 0, \"xanchor\": \"right\", \"xref\": \"paper\", \"xshift\": -40, \"y\": 0.5, \"yanchor\": \"middle\", \"yref\": \"paper\"}], \"legend\": {\"title\": {\"text\": \"Education\"}}, \"template\": {\"data\": {\"bar\": [{\"error_x\": {\"color\": \"#2a3f5f\"}, \"error_y\": {\"color\": \"#2a3f5f\"}, \"marker\": {\"line\": {\"color\": \"#E5ECF6\", \"width\": 0.5}}, \"type\": \"bar\"}], \"barpolar\": [{\"marker\": {\"line\": {\"color\": \"#E5ECF6\", \"width\": 0.5}}, \"type\": \"barpolar\"}], \"carpet\": [{\"aaxis\": {\"endlinecolor\": \"#2a3f5f\", \"gridcolor\": \"white\", \"linecolor\": \"white\", \"minorgridcolor\": \"white\", \"startlinecolor\": \"#2a3f5f\"}, \"baxis\": {\"endlinecolor\": \"#2a3f5f\", \"gridcolor\": \"white\", \"linecolor\": \"white\", \"minorgridcolor\": \"white\", \"startlinecolor\": \"#2a3f5f\"}, \"type\": \"carpet\"}], \"choropleth\": [{\"colorbar\": {\"outlinewidth\": 0, \"ticks\": \"\"}, \"type\": \"choropleth\"}], \"contour\": [{\"colorbar\": {\"outlinewidth\": 0, \"ticks\": \"\"}, \"colorscale\": [[0.0, \"#0d0887\"], [0.1111111111111111, \"#46039f\"], [0.2222222222222222, \"#7201a8\"], [0.3333333333333333, \"#9c179e\"], [0.4444444444444444, \"#bd3786\"], [0.5555555555555556, \"#d8576b\"], [0.6666666666666666, \"#ed7953\"], [0.7777777777777778, \"#fb9f3a\"], [0.8888888888888888, \"#fdca26\"], [1.0, \"#f0f921\"]], \"type\": \"contour\"}], \"contourcarpet\": [{\"colorbar\": {\"outlinewidth\": 0, \"ticks\": \"\"}, \"type\": \"contourcarpet\"}], \"heatmap\": [{\"colorbar\": {\"outlinewidth\": 0, \"ticks\": \"\"}, \"colorscale\": [[0.0, \"#0d0887\"], [0.1111111111111111, \"#46039f\"], [0.2222222222222222, \"#7201a8\"], [0.3333333333333333, \"#9c179e\"], [0.4444444444444444, \"#bd3786\"], [0.5555555555555556, \"#d8576b\"], [0.6666666666666666, \"#ed7953\"], [0.7777777777777778, \"#fb9f3a\"], [0.8888888888888888, \"#fdca26\"], [1.0, \"#f0f921\"]], \"type\": \"heatmap\"}], \"heatmapgl\": [{\"colorbar\": {\"outlinewidth\": 0, \"ticks\": \"\"}, \"colorscale\": [[0.0, \"#0d0887\"], [0.1111111111111111, \"#46039f\"], [0.2222222222222222, \"#7201a8\"], [0.3333333333333333, \"#9c179e\"], [0.4444444444444444, \"#bd3786\"], [0.5555555555555556, \"#d8576b\"], [0.6666666666666666, \"#ed7953\"], [0.7777777777777778, \"#fb9f3a\"], [0.8888888888888888, \"#fdca26\"], [1.0, \"#f0f921\"]], \"type\": \"heatmapgl\"}], \"histogram\": [{\"marker\": {\"colorbar\": {\"outlinewidth\": 0, \"ticks\": \"\"}}, \"type\": \"histogram\"}], \"histogram2d\": [{\"colorbar\": {\"outlinewidth\": 0, \"ticks\": \"\"}, \"colorscale\": [[0.0, \"#0d0887\"], [0.1111111111111111, \"#46039f\"], [0.2222222222222222, \"#7201a8\"], [0.3333333333333333, \"#9c179e\"], [0.4444444444444444, \"#bd3786\"], [0.5555555555555556, \"#d8576b\"], [0.6666666666666666, \"#ed7953\"], [0.7777777777777778, \"#fb9f3a\"], [0.8888888888888888, \"#fdca26\"], [1.0, \"#f0f921\"]], \"type\": \"histogram2d\"}], \"histogram2dcontour\": [{\"colorbar\": {\"outlinewidth\": 0, \"ticks\": \"\"}, \"colorscale\": [[0.0, \"#0d0887\"], [0.1111111111111111, \"#46039f\"], [0.2222222222222222, \"#7201a8\"], [0.3333333333333333, \"#9c179e\"], [0.4444444444444444, \"#bd3786\"], [0.5555555555555556, \"#d8576b\"], [0.6666666666666666, \"#ed7953\"], [0.7777777777777778, \"#fb9f3a\"], [0.8888888888888888, \"#fdca26\"], [1.0, \"#f0f921\"]], \"type\": \"histogram2dcontour\"}], \"mesh3d\": [{\"colorbar\": {\"outlinewidth\": 0, \"ticks\": \"\"}, \"type\": \"mesh3d\"}], \"parcoords\": [{\"line\": {\"colorbar\": {\"outlinewidth\": 0, \"ticks\": \"\"}}, \"type\": \"parcoords\"}], \"pie\": [{\"automargin\": true, \"type\": \"pie\"}], \"scatter\": [{\"marker\": {\"colorbar\": {\"outlinewidth\": 0, \"ticks\": \"\"}}, \"type\": \"scatter\"}], \"scatter3d\": [{\"line\": {\"colorbar\": {\"outlinewidth\": 0, \"ticks\": \"\"}}, \"marker\": {\"colorbar\": {\"outlinewidth\": 0, \"ticks\": \"\"}}, \"type\": \"scatter3d\"}], \"scattercarpet\": [{\"marker\": {\"colorbar\": {\"outlinewidth\": 0, \"ticks\": \"\"}}, \"type\": \"scattercarpet\"}], \"scattergeo\": [{\"marker\": {\"colorbar\": {\"outlinewidth\": 0, \"ticks\": \"\"}}, \"type\": \"scattergeo\"}], \"scattergl\": [{\"marker\": {\"colorbar\": {\"outlinewidth\": 0, \"ticks\": \"\"}}, \"type\": \"scattergl\"}], \"scattermapbox\": [{\"marker\": {\"colorbar\": {\"outlinewidth\": 0, \"ticks\": \"\"}}, \"type\": \"scattermapbox\"}], \"scatterpolar\": [{\"marker\": {\"colorbar\": {\"outlinewidth\": 0, \"ticks\": \"\"}}, \"type\": \"scatterpolar\"}], \"scatterpolargl\": [{\"marker\": {\"colorbar\": {\"outlinewidth\": 0, \"ticks\": \"\"}}, \"type\": \"scatterpolargl\"}], \"scatterternary\": [{\"marker\": {\"colorbar\": {\"outlinewidth\": 0, \"ticks\": \"\"}}, \"type\": \"scatterternary\"}], \"surface\": [{\"colorbar\": {\"outlinewidth\": 0, \"ticks\": \"\"}, \"colorscale\": [[0.0, \"#0d0887\"], [0.1111111111111111, \"#46039f\"], [0.2222222222222222, \"#7201a8\"], [0.3333333333333333, \"#9c179e\"], [0.4444444444444444, \"#bd3786\"], [0.5555555555555556, \"#d8576b\"], [0.6666666666666666, \"#ed7953\"], [0.7777777777777778, \"#fb9f3a\"], [0.8888888888888888, \"#fdca26\"], [1.0, \"#f0f921\"]], \"type\": \"surface\"}], \"table\": [{\"cells\": {\"fill\": {\"color\": \"#EBF0F8\"}, \"line\": {\"color\": \"white\"}}, \"header\": {\"fill\": {\"color\": \"#C8D4E3\"}, \"line\": {\"color\": \"white\"}}, \"type\": \"table\"}]}, \"layout\": {\"annotationdefaults\": {\"arrowcolor\": \"#2a3f5f\", \"arrowhead\": 0, \"arrowwidth\": 1}, \"autotypenumbers\": \"strict\", \"coloraxis\": {\"colorbar\": {\"outlinewidth\": 0, \"ticks\": \"\"}}, \"colorscale\": {\"diverging\": [[0, \"#8e0152\"], [0.1, \"#c51b7d\"], [0.2, \"#de77ae\"], [0.3, \"#f1b6da\"], [0.4, \"#fde0ef\"], [0.5, \"#f7f7f7\"], [0.6, \"#e6f5d0\"], [0.7, \"#b8e186\"], [0.8, \"#7fbc41\"], [0.9, \"#4d9221\"], [1, \"#276419\"]], \"sequential\": [[0.0, \"#0d0887\"], [0.1111111111111111, \"#46039f\"], [0.2222222222222222, \"#7201a8\"], [0.3333333333333333, \"#9c179e\"], [0.4444444444444444, \"#bd3786\"], [0.5555555555555556, \"#d8576b\"], [0.6666666666666666, \"#ed7953\"], [0.7777777777777778, \"#fb9f3a\"], [0.8888888888888888, \"#fdca26\"], [1.0, \"#f0f921\"]], \"sequentialminus\": [[0.0, \"#0d0887\"], [0.1111111111111111, \"#46039f\"], [0.2222222222222222, \"#7201a8\"], [0.3333333333333333, \"#9c179e\"], [0.4444444444444444, \"#bd3786\"], [0.5555555555555556, \"#d8576b\"], [0.6666666666666666, \"#ed7953\"], [0.7777777777777778, \"#fb9f3a\"], [0.8888888888888888, \"#fdca26\"], [1.0, \"#f0f921\"]]}, \"colorway\": [\"#636efa\", \"#EF553B\", \"#00cc96\", \"#ab63fa\", \"#FFA15A\", \"#19d3f3\", \"#FF6692\", \"#B6E880\", \"#FF97FF\", \"#FECB52\"], \"font\": {\"color\": \"#2a3f5f\"}, \"geo\": {\"bgcolor\": \"white\", \"lakecolor\": \"white\", \"landcolor\": \"#E5ECF6\", \"showlakes\": true, \"showland\": true, \"subunitcolor\": \"white\"}, \"hoverlabel\": {\"align\": \"left\"}, \"hovermode\": \"closest\", \"mapbox\": {\"style\": \"light\"}, \"paper_bgcolor\": \"white\", \"plot_bgcolor\": \"#E5ECF6\", \"polar\": {\"angularaxis\": {\"gridcolor\": \"white\", \"linecolor\": \"white\", \"ticks\": \"\"}, \"bgcolor\": \"#E5ECF6\", \"radialaxis\": {\"gridcolor\": \"white\", \"linecolor\": \"white\", \"ticks\": \"\"}}, \"scene\": {\"xaxis\": {\"backgroundcolor\": \"#E5ECF6\", \"gridcolor\": \"white\", \"gridwidth\": 2, \"linecolor\": \"white\", \"showbackground\": true, \"ticks\": \"\", \"zerolinecolor\": \"white\"}, \"yaxis\": {\"backgroundcolor\": \"#E5ECF6\", \"gridcolor\": \"white\", \"gridwidth\": 2, \"linecolor\": \"white\", \"showbackground\": true, \"ticks\": \"\", \"zerolinecolor\": \"white\"}, \"zaxis\": {\"backgroundcolor\": \"#E5ECF6\", \"gridcolor\": \"white\", \"gridwidth\": 2, \"linecolor\": \"white\", \"showbackground\": true, \"ticks\": \"\", \"zerolinecolor\": \"white\"}}, \"shapedefaults\": {\"line\": {\"color\": \"#2a3f5f\"}}, \"ternary\": {\"aaxis\": {\"gridcolor\": \"white\", \"linecolor\": \"white\", \"ticks\": \"\"}, \"baxis\": {\"gridcolor\": \"white\", \"linecolor\": \"white\", \"ticks\": \"\"}, \"bgcolor\": \"#E5ECF6\", \"caxis\": {\"gridcolor\": \"white\", \"linecolor\": \"white\", \"ticks\": \"\"}}, \"title\": {\"x\": 0.05}, \"xaxis\": {\"automargin\": true, \"gridcolor\": \"white\", \"linecolor\": \"white\", \"ticks\": \"\", \"title\": {\"standoff\": 15}, \"zerolinecolor\": \"white\", \"zerolinewidth\": 2}, \"yaxis\": {\"automargin\": true, \"gridcolor\": \"white\", \"linecolor\": \"white\", \"ticks\": \"\", \"title\": {\"standoff\": 15}, \"zerolinecolor\": \"white\", \"zerolinewidth\": 2}}}, \"title\": {\"font\": {\"size\": 28}, \"text\": \"Distribution of Median Wage, By Education Level\"}, \"xaxis\": {\"anchor\": \"y\", \"domain\": [0.0, 0.45], \"matches\": \"x\", \"range\": [0, 220000]}, \"xaxis2\": {\"anchor\": \"y2\", \"domain\": [0.55, 1.0], \"matches\": \"x\"}, \"xaxis3\": {\"anchor\": \"y3\", \"domain\": [0.0, 0.45], \"matches\": \"x\"}, \"xaxis4\": {\"anchor\": \"y4\", \"domain\": [0.55, 1.0], \"matches\": \"x\"}, \"xaxis5\": {\"anchor\": \"y5\", \"domain\": [0.0, 0.45], \"matches\": \"x\"}, \"xaxis6\": {\"anchor\": \"y6\", \"domain\": [0.55, 1.0], \"matches\": \"x\"}, \"xaxis7\": {\"anchor\": \"y7\", \"domain\": [0.0, 0.45], \"matches\": \"x\"}, \"xaxis8\": {\"anchor\": \"y8\", \"domain\": [0.55, 1.0], \"matches\": \"x\"}, \"yaxis\": {\"anchor\": \"x\", \"domain\": [0.8625, 1.0]}, \"yaxis2\": {\"anchor\": \"x2\", \"domain\": [0.8625, 1.0]}, \"yaxis3\": {\"anchor\": \"x3\", \"domain\": [0.575, 0.7124999999999999]}, \"yaxis4\": {\"anchor\": \"x4\", \"domain\": [0.575, 0.7124999999999999]}, \"yaxis5\": {\"anchor\": \"x5\", \"domain\": [0.2875, 0.425]}, \"yaxis6\": {\"anchor\": \"x6\", \"domain\": [0.2875, 0.425]}, \"yaxis7\": {\"anchor\": \"x7\", \"domain\": [0.0, 0.1375]}, \"yaxis8\": {\"anchor\": \"x8\", \"domain\": [0.0, 0.1375]}},                        {\"responsive\": true}                    ).then(function(){\n",
       "                            \n",
       "var gd = document.getElementById('0fb3c498-52c9-4a2e-ac94-3086a47b2a34');\n",
       "var x = new MutationObserver(function (mutations, observer) {{\n",
       "        var display = window.getComputedStyle(gd).display;\n",
       "        if (!display || display === 'none') {{\n",
       "            console.log([gd, 'removed!']);\n",
       "            Plotly.purge(gd);\n",
       "            observer.disconnect();\n",
       "        }}\n",
       "}});\n",
       "\n",
       "// Listen for the removal of the full notebook cells\n",
       "var notebookContainer = gd.closest('#notebook-container');\n",
       "if (notebookContainer) {{\n",
       "    x.observe(notebookContainer, {childList: true});\n",
       "}}\n",
       "\n",
       "// Listen for the clearing of the current output cell\n",
       "var outputEl = gd.closest('.output');\n",
       "if (outputEl) {{\n",
       "    x.observe(outputEl, {childList: true});\n",
       "}}\n",
       "\n",
       "                        })                };                });            </script>        </div>"
      ]
     },
     "metadata": {},
     "output_type": "display_data"
    },
    {
     "data": {
      "application/vnd.plotly.v1+json": {
       "config": {
        "linkText": "Export to plot.ly",
        "plotlyServerURL": "https://plot.ly",
        "showLink": false
       },
       "data": [
        {
         "colorscale": [
          [
           0,
           "#00083e"
          ],
          [
           0.5,
           "#ededee"
          ],
          [
           1,
           "#ffffff"
          ]
         ],
         "hoverinfo": "none",
         "opacity": 0.75,
         "showscale": false,
         "type": "heatmap",
         "z": [
          [
           0,
           0,
           0,
           0
          ],
          [
           0.5,
           0.5,
           0.5,
           0.5
          ],
          [
           1,
           1,
           1,
           1
          ],
          [
           0.5,
           0.5,
           0.5,
           0.5
          ],
          [
           1,
           1,
           1,
           1
          ],
          [
           0.5,
           0.5,
           0.5,
           0.5
          ],
          [
           1,
           1,
           1,
           1
          ],
          [
           0.5,
           0.5,
           0.5,
           0.5
          ],
          [
           1,
           1,
           1,
           1
          ]
         ]
        }
       ],
       "layout": {
        "annotations": [
         {
          "align": "left",
          "font": {
           "color": "#ffffff"
          },
          "showarrow": false,
          "text": "<b>typical_educational_background_for_entry</b>",
          "x": -0.45,
          "xanchor": "left",
          "xref": "x",
          "y": 0,
          "yref": "y"
         },
         {
          "align": "left",
          "font": {
           "color": "#ffffff"
          },
          "showarrow": false,
          "text": "<b>25%</b>",
          "x": 0.55,
          "xanchor": "left",
          "xref": "x",
          "y": 0,
          "yref": "y"
         },
         {
          "align": "left",
          "font": {
           "color": "#ffffff"
          },
          "showarrow": false,
          "text": "<b>50%</b>",
          "x": 1.55,
          "xanchor": "left",
          "xref": "x",
          "y": 0,
          "yref": "y"
         },
         {
          "align": "left",
          "font": {
           "color": "#ffffff"
          },
          "showarrow": false,
          "text": "<b>75%</b>",
          "x": 2.55,
          "xanchor": "left",
          "xref": "x",
          "y": 0,
          "yref": "y"
         },
         {
          "align": "left",
          "font": {
           "color": "#000000"
          },
          "showarrow": false,
          "text": "Associate's degree",
          "x": -0.45,
          "xanchor": "left",
          "xref": "x",
          "y": 1,
          "yref": "y"
         },
         {
          "align": "left",
          "font": {
           "color": "#000000"
          },
          "showarrow": false,
          "text": "50550.0",
          "x": 0.55,
          "xanchor": "left",
          "xref": "x",
          "y": 1,
          "yref": "y"
         },
         {
          "align": "left",
          "font": {
           "color": "#000000"
          },
          "showarrow": false,
          "text": "57060.0",
          "x": 1.55,
          "xanchor": "left",
          "xref": "x",
          "y": 1,
          "yref": "y"
         },
         {
          "align": "left",
          "font": {
           "color": "#000000"
          },
          "showarrow": false,
          "text": "65260.0",
          "x": 2.55,
          "xanchor": "left",
          "xref": "x",
          "y": 1,
          "yref": "y"
         },
         {
          "align": "left",
          "font": {
           "color": "#000000"
          },
          "showarrow": false,
          "text": "Bachelor's degree",
          "x": -0.45,
          "xanchor": "left",
          "xref": "x",
          "y": 2,
          "yref": "y"
         },
         {
          "align": "left",
          "font": {
           "color": "#000000"
          },
          "showarrow": false,
          "text": "57852.5",
          "x": 0.55,
          "xanchor": "left",
          "xref": "x",
          "y": 2,
          "yref": "y"
         },
         {
          "align": "left",
          "font": {
           "color": "#000000"
          },
          "showarrow": false,
          "text": "69690.0",
          "x": 1.55,
          "xanchor": "left",
          "xref": "x",
          "y": 2,
          "yref": "y"
         },
         {
          "align": "left",
          "font": {
           "color": "#000000"
          },
          "showarrow": false,
          "text": "91410.0",
          "x": 2.55,
          "xanchor": "left",
          "xref": "x",
          "y": 2,
          "yref": "y"
         },
         {
          "align": "left",
          "font": {
           "color": "#000000"
          },
          "showarrow": false,
          "text": "Doctoral or professional degree",
          "x": -0.45,
          "xanchor": "left",
          "xref": "x",
          "y": 3,
          "yref": "y"
         },
         {
          "align": "left",
          "font": {
           "color": "#000000"
          },
          "showarrow": false,
          "text": "75265.0",
          "x": 0.55,
          "xanchor": "left",
          "xref": "x",
          "y": 3,
          "yref": "y"
         },
         {
          "align": "left",
          "font": {
           "color": "#000000"
          },
          "showarrow": false,
          "text": "87900.0",
          "x": 1.55,
          "xanchor": "left",
          "xref": "x",
          "y": 3,
          "yref": "y"
         },
         {
          "align": "left",
          "font": {
           "color": "#000000"
          },
          "showarrow": false,
          "text": "124600.0",
          "x": 2.55,
          "xanchor": "left",
          "xref": "x",
          "y": 3,
          "yref": "y"
         },
         {
          "align": "left",
          "font": {
           "color": "#000000"
          },
          "showarrow": false,
          "text": "High school diploma or equivalent",
          "x": -0.45,
          "xanchor": "left",
          "xref": "x",
          "y": 4,
          "yref": "y"
         },
         {
          "align": "left",
          "font": {
           "color": "#000000"
          },
          "showarrow": false,
          "text": "34730.0",
          "x": 0.55,
          "xanchor": "left",
          "xref": "x",
          "y": 4,
          "yref": "y"
         },
         {
          "align": "left",
          "font": {
           "color": "#000000"
          },
          "showarrow": false,
          "text": "40640.0",
          "x": 1.55,
          "xanchor": "left",
          "xref": "x",
          "y": 4,
          "yref": "y"
         },
         {
          "align": "left",
          "font": {
           "color": "#000000"
          },
          "showarrow": false,
          "text": "50710.0",
          "x": 2.55,
          "xanchor": "left",
          "xref": "x",
          "y": 4,
          "yref": "y"
         },
         {
          "align": "left",
          "font": {
           "color": "#000000"
          },
          "showarrow": false,
          "text": "Master's degree",
          "x": -0.45,
          "xanchor": "left",
          "xref": "x",
          "y": 5,
          "yref": "y"
         },
         {
          "align": "left",
          "font": {
           "color": "#000000"
          },
          "showarrow": false,
          "text": "58637.5",
          "x": 0.55,
          "xanchor": "left",
          "xref": "x",
          "y": 5,
          "yref": "y"
         },
         {
          "align": "left",
          "font": {
           "color": "#000000"
          },
          "showarrow": false,
          "text": "76060.0",
          "x": 1.55,
          "xanchor": "left",
          "xref": "x",
          "y": 5,
          "yref": "y"
         },
         {
          "align": "left",
          "font": {
           "color": "#000000"
          },
          "showarrow": false,
          "text": "97747.5",
          "x": 2.55,
          "xanchor": "left",
          "xref": "x",
          "y": 5,
          "yref": "y"
         },
         {
          "align": "left",
          "font": {
           "color": "#000000"
          },
          "showarrow": false,
          "text": "No formal educational credential",
          "x": -0.45,
          "xanchor": "left",
          "xref": "x",
          "y": 6,
          "yref": "y"
         },
         {
          "align": "left",
          "font": {
           "color": "#000000"
          },
          "showarrow": false,
          "text": "25680.0",
          "x": 0.55,
          "xanchor": "left",
          "xref": "x",
          "y": 6,
          "yref": "y"
         },
         {
          "align": "left",
          "font": {
           "color": "#000000"
          },
          "showarrow": false,
          "text": "30930.0",
          "x": 1.55,
          "xanchor": "left",
          "xref": "x",
          "y": 6,
          "yref": "y"
         },
         {
          "align": "left",
          "font": {
           "color": "#000000"
          },
          "showarrow": false,
          "text": "38330.0",
          "x": 2.55,
          "xanchor": "left",
          "xref": "x",
          "y": 6,
          "yref": "y"
         },
         {
          "align": "left",
          "font": {
           "color": "#000000"
          },
          "showarrow": false,
          "text": "Postsecondary nondegree award",
          "x": -0.45,
          "xanchor": "left",
          "xref": "x",
          "y": 7,
          "yref": "y"
         },
         {
          "align": "left",
          "font": {
           "color": "#000000"
          },
          "showarrow": false,
          "text": "37435.0",
          "x": 0.55,
          "xanchor": "left",
          "xref": "x",
          "y": 7,
          "yref": "y"
         },
         {
          "align": "left",
          "font": {
           "color": "#000000"
          },
          "showarrow": false,
          "text": "47870.0",
          "x": 1.55,
          "xanchor": "left",
          "xref": "x",
          "y": 7,
          "yref": "y"
         },
         {
          "align": "left",
          "font": {
           "color": "#000000"
          },
          "showarrow": false,
          "text": "58257.5",
          "x": 2.55,
          "xanchor": "left",
          "xref": "x",
          "y": 7,
          "yref": "y"
         },
         {
          "align": "left",
          "font": {
           "color": "#000000"
          },
          "showarrow": false,
          "text": "Some college, no degree",
          "x": -0.45,
          "xanchor": "left",
          "xref": "x",
          "y": 8,
          "yref": "y"
         },
         {
          "align": "left",
          "font": {
           "color": "#000000"
          },
          "showarrow": false,
          "text": "34240.0",
          "x": 0.55,
          "xanchor": "left",
          "xref": "x",
          "y": 8,
          "yref": "y"
         },
         {
          "align": "left",
          "font": {
           "color": "#000000"
          },
          "showarrow": false,
          "text": "39530.0",
          "x": 1.55,
          "xanchor": "left",
          "xref": "x",
          "y": 8,
          "yref": "y"
         },
         {
          "align": "left",
          "font": {
           "color": "#000000"
          },
          "showarrow": false,
          "text": "41230.0",
          "x": 2.55,
          "xanchor": "left",
          "xref": "x",
          "y": 8,
          "yref": "y"
         }
        ],
        "height": 590,
        "margin": {
         "b": 0,
         "l": 0,
         "r": 0,
         "t": 0
        },
        "template": {
         "data": {
          "bar": [
           {
            "error_x": {
             "color": "#2a3f5f"
            },
            "error_y": {
             "color": "#2a3f5f"
            },
            "marker": {
             "line": {
              "color": "#E5ECF6",
              "width": 0.5
             }
            },
            "type": "bar"
           }
          ],
          "barpolar": [
           {
            "marker": {
             "line": {
              "color": "#E5ECF6",
              "width": 0.5
             }
            },
            "type": "barpolar"
           }
          ],
          "carpet": [
           {
            "aaxis": {
             "endlinecolor": "#2a3f5f",
             "gridcolor": "white",
             "linecolor": "white",
             "minorgridcolor": "white",
             "startlinecolor": "#2a3f5f"
            },
            "baxis": {
             "endlinecolor": "#2a3f5f",
             "gridcolor": "white",
             "linecolor": "white",
             "minorgridcolor": "white",
             "startlinecolor": "#2a3f5f"
            },
            "type": "carpet"
           }
          ],
          "choropleth": [
           {
            "colorbar": {
             "outlinewidth": 0,
             "ticks": ""
            },
            "type": "choropleth"
           }
          ],
          "contour": [
           {
            "colorbar": {
             "outlinewidth": 0,
             "ticks": ""
            },
            "colorscale": [
             [
              0,
              "#0d0887"
             ],
             [
              0.1111111111111111,
              "#46039f"
             ],
             [
              0.2222222222222222,
              "#7201a8"
             ],
             [
              0.3333333333333333,
              "#9c179e"
             ],
             [
              0.4444444444444444,
              "#bd3786"
             ],
             [
              0.5555555555555556,
              "#d8576b"
             ],
             [
              0.6666666666666666,
              "#ed7953"
             ],
             [
              0.7777777777777778,
              "#fb9f3a"
             ],
             [
              0.8888888888888888,
              "#fdca26"
             ],
             [
              1,
              "#f0f921"
             ]
            ],
            "type": "contour"
           }
          ],
          "contourcarpet": [
           {
            "colorbar": {
             "outlinewidth": 0,
             "ticks": ""
            },
            "type": "contourcarpet"
           }
          ],
          "heatmap": [
           {
            "colorbar": {
             "outlinewidth": 0,
             "ticks": ""
            },
            "colorscale": [
             [
              0,
              "#0d0887"
             ],
             [
              0.1111111111111111,
              "#46039f"
             ],
             [
              0.2222222222222222,
              "#7201a8"
             ],
             [
              0.3333333333333333,
              "#9c179e"
             ],
             [
              0.4444444444444444,
              "#bd3786"
             ],
             [
              0.5555555555555556,
              "#d8576b"
             ],
             [
              0.6666666666666666,
              "#ed7953"
             ],
             [
              0.7777777777777778,
              "#fb9f3a"
             ],
             [
              0.8888888888888888,
              "#fdca26"
             ],
             [
              1,
              "#f0f921"
             ]
            ],
            "type": "heatmap"
           }
          ],
          "heatmapgl": [
           {
            "colorbar": {
             "outlinewidth": 0,
             "ticks": ""
            },
            "colorscale": [
             [
              0,
              "#0d0887"
             ],
             [
              0.1111111111111111,
              "#46039f"
             ],
             [
              0.2222222222222222,
              "#7201a8"
             ],
             [
              0.3333333333333333,
              "#9c179e"
             ],
             [
              0.4444444444444444,
              "#bd3786"
             ],
             [
              0.5555555555555556,
              "#d8576b"
             ],
             [
              0.6666666666666666,
              "#ed7953"
             ],
             [
              0.7777777777777778,
              "#fb9f3a"
             ],
             [
              0.8888888888888888,
              "#fdca26"
             ],
             [
              1,
              "#f0f921"
             ]
            ],
            "type": "heatmapgl"
           }
          ],
          "histogram": [
           {
            "marker": {
             "colorbar": {
              "outlinewidth": 0,
              "ticks": ""
             }
            },
            "type": "histogram"
           }
          ],
          "histogram2d": [
           {
            "colorbar": {
             "outlinewidth": 0,
             "ticks": ""
            },
            "colorscale": [
             [
              0,
              "#0d0887"
             ],
             [
              0.1111111111111111,
              "#46039f"
             ],
             [
              0.2222222222222222,
              "#7201a8"
             ],
             [
              0.3333333333333333,
              "#9c179e"
             ],
             [
              0.4444444444444444,
              "#bd3786"
             ],
             [
              0.5555555555555556,
              "#d8576b"
             ],
             [
              0.6666666666666666,
              "#ed7953"
             ],
             [
              0.7777777777777778,
              "#fb9f3a"
             ],
             [
              0.8888888888888888,
              "#fdca26"
             ],
             [
              1,
              "#f0f921"
             ]
            ],
            "type": "histogram2d"
           }
          ],
          "histogram2dcontour": [
           {
            "colorbar": {
             "outlinewidth": 0,
             "ticks": ""
            },
            "colorscale": [
             [
              0,
              "#0d0887"
             ],
             [
              0.1111111111111111,
              "#46039f"
             ],
             [
              0.2222222222222222,
              "#7201a8"
             ],
             [
              0.3333333333333333,
              "#9c179e"
             ],
             [
              0.4444444444444444,
              "#bd3786"
             ],
             [
              0.5555555555555556,
              "#d8576b"
             ],
             [
              0.6666666666666666,
              "#ed7953"
             ],
             [
              0.7777777777777778,
              "#fb9f3a"
             ],
             [
              0.8888888888888888,
              "#fdca26"
             ],
             [
              1,
              "#f0f921"
             ]
            ],
            "type": "histogram2dcontour"
           }
          ],
          "mesh3d": [
           {
            "colorbar": {
             "outlinewidth": 0,
             "ticks": ""
            },
            "type": "mesh3d"
           }
          ],
          "parcoords": [
           {
            "line": {
             "colorbar": {
              "outlinewidth": 0,
              "ticks": ""
             }
            },
            "type": "parcoords"
           }
          ],
          "pie": [
           {
            "automargin": true,
            "type": "pie"
           }
          ],
          "scatter": [
           {
            "marker": {
             "colorbar": {
              "outlinewidth": 0,
              "ticks": ""
             }
            },
            "type": "scatter"
           }
          ],
          "scatter3d": [
           {
            "line": {
             "colorbar": {
              "outlinewidth": 0,
              "ticks": ""
             }
            },
            "marker": {
             "colorbar": {
              "outlinewidth": 0,
              "ticks": ""
             }
            },
            "type": "scatter3d"
           }
          ],
          "scattercarpet": [
           {
            "marker": {
             "colorbar": {
              "outlinewidth": 0,
              "ticks": ""
             }
            },
            "type": "scattercarpet"
           }
          ],
          "scattergeo": [
           {
            "marker": {
             "colorbar": {
              "outlinewidth": 0,
              "ticks": ""
             }
            },
            "type": "scattergeo"
           }
          ],
          "scattergl": [
           {
            "marker": {
             "colorbar": {
              "outlinewidth": 0,
              "ticks": ""
             }
            },
            "type": "scattergl"
           }
          ],
          "scattermapbox": [
           {
            "marker": {
             "colorbar": {
              "outlinewidth": 0,
              "ticks": ""
             }
            },
            "type": "scattermapbox"
           }
          ],
          "scatterpolar": [
           {
            "marker": {
             "colorbar": {
              "outlinewidth": 0,
              "ticks": ""
             }
            },
            "type": "scatterpolar"
           }
          ],
          "scatterpolargl": [
           {
            "marker": {
             "colorbar": {
              "outlinewidth": 0,
              "ticks": ""
             }
            },
            "type": "scatterpolargl"
           }
          ],
          "scatterternary": [
           {
            "marker": {
             "colorbar": {
              "outlinewidth": 0,
              "ticks": ""
             }
            },
            "type": "scatterternary"
           }
          ],
          "surface": [
           {
            "colorbar": {
             "outlinewidth": 0,
             "ticks": ""
            },
            "colorscale": [
             [
              0,
              "#0d0887"
             ],
             [
              0.1111111111111111,
              "#46039f"
             ],
             [
              0.2222222222222222,
              "#7201a8"
             ],
             [
              0.3333333333333333,
              "#9c179e"
             ],
             [
              0.4444444444444444,
              "#bd3786"
             ],
             [
              0.5555555555555556,
              "#d8576b"
             ],
             [
              0.6666666666666666,
              "#ed7953"
             ],
             [
              0.7777777777777778,
              "#fb9f3a"
             ],
             [
              0.8888888888888888,
              "#fdca26"
             ],
             [
              1,
              "#f0f921"
             ]
            ],
            "type": "surface"
           }
          ],
          "table": [
           {
            "cells": {
             "fill": {
              "color": "#EBF0F8"
             },
             "line": {
              "color": "white"
             }
            },
            "header": {
             "fill": {
              "color": "#C8D4E3"
             },
             "line": {
              "color": "white"
             }
            },
            "type": "table"
           }
          ]
         },
         "layout": {
          "annotationdefaults": {
           "arrowcolor": "#2a3f5f",
           "arrowhead": 0,
           "arrowwidth": 1
          },
          "autotypenumbers": "strict",
          "coloraxis": {
           "colorbar": {
            "outlinewidth": 0,
            "ticks": ""
           }
          },
          "colorscale": {
           "diverging": [
            [
             0,
             "#8e0152"
            ],
            [
             0.1,
             "#c51b7d"
            ],
            [
             0.2,
             "#de77ae"
            ],
            [
             0.3,
             "#f1b6da"
            ],
            [
             0.4,
             "#fde0ef"
            ],
            [
             0.5,
             "#f7f7f7"
            ],
            [
             0.6,
             "#e6f5d0"
            ],
            [
             0.7,
             "#b8e186"
            ],
            [
             0.8,
             "#7fbc41"
            ],
            [
             0.9,
             "#4d9221"
            ],
            [
             1,
             "#276419"
            ]
           ],
           "sequential": [
            [
             0,
             "#0d0887"
            ],
            [
             0.1111111111111111,
             "#46039f"
            ],
            [
             0.2222222222222222,
             "#7201a8"
            ],
            [
             0.3333333333333333,
             "#9c179e"
            ],
            [
             0.4444444444444444,
             "#bd3786"
            ],
            [
             0.5555555555555556,
             "#d8576b"
            ],
            [
             0.6666666666666666,
             "#ed7953"
            ],
            [
             0.7777777777777778,
             "#fb9f3a"
            ],
            [
             0.8888888888888888,
             "#fdca26"
            ],
            [
             1,
             "#f0f921"
            ]
           ],
           "sequentialminus": [
            [
             0,
             "#0d0887"
            ],
            [
             0.1111111111111111,
             "#46039f"
            ],
            [
             0.2222222222222222,
             "#7201a8"
            ],
            [
             0.3333333333333333,
             "#9c179e"
            ],
            [
             0.4444444444444444,
             "#bd3786"
            ],
            [
             0.5555555555555556,
             "#d8576b"
            ],
            [
             0.6666666666666666,
             "#ed7953"
            ],
            [
             0.7777777777777778,
             "#fb9f3a"
            ],
            [
             0.8888888888888888,
             "#fdca26"
            ],
            [
             1,
             "#f0f921"
            ]
           ]
          },
          "colorway": [
           "#636efa",
           "#EF553B",
           "#00cc96",
           "#ab63fa",
           "#FFA15A",
           "#19d3f3",
           "#FF6692",
           "#B6E880",
           "#FF97FF",
           "#FECB52"
          ],
          "font": {
           "color": "#2a3f5f"
          },
          "geo": {
           "bgcolor": "white",
           "lakecolor": "white",
           "landcolor": "#E5ECF6",
           "showlakes": true,
           "showland": true,
           "subunitcolor": "white"
          },
          "hoverlabel": {
           "align": "left"
          },
          "hovermode": "closest",
          "mapbox": {
           "style": "light"
          },
          "paper_bgcolor": "white",
          "plot_bgcolor": "#E5ECF6",
          "polar": {
           "angularaxis": {
            "gridcolor": "white",
            "linecolor": "white",
            "ticks": ""
           },
           "bgcolor": "#E5ECF6",
           "radialaxis": {
            "gridcolor": "white",
            "linecolor": "white",
            "ticks": ""
           }
          },
          "scene": {
           "xaxis": {
            "backgroundcolor": "#E5ECF6",
            "gridcolor": "white",
            "gridwidth": 2,
            "linecolor": "white",
            "showbackground": true,
            "ticks": "",
            "zerolinecolor": "white"
           },
           "yaxis": {
            "backgroundcolor": "#E5ECF6",
            "gridcolor": "white",
            "gridwidth": 2,
            "linecolor": "white",
            "showbackground": true,
            "ticks": "",
            "zerolinecolor": "white"
           },
           "zaxis": {
            "backgroundcolor": "#E5ECF6",
            "gridcolor": "white",
            "gridwidth": 2,
            "linecolor": "white",
            "showbackground": true,
            "ticks": "",
            "zerolinecolor": "white"
           }
          },
          "shapedefaults": {
           "line": {
            "color": "#2a3f5f"
           }
          },
          "ternary": {
           "aaxis": {
            "gridcolor": "white",
            "linecolor": "white",
            "ticks": ""
           },
           "baxis": {
            "gridcolor": "white",
            "linecolor": "white",
            "ticks": ""
           },
           "bgcolor": "#E5ECF6",
           "caxis": {
            "gridcolor": "white",
            "linecolor": "white",
            "ticks": ""
           }
          },
          "title": {
           "x": 0.05
          },
          "xaxis": {
           "automargin": true,
           "gridcolor": "white",
           "linecolor": "white",
           "ticks": "",
           "title": {
            "standoff": 15
           },
           "zerolinecolor": "white",
           "zerolinewidth": 2
          },
          "yaxis": {
           "automargin": true,
           "gridcolor": "white",
           "linecolor": "white",
           "ticks": "",
           "title": {
            "standoff": 15
           },
           "zerolinecolor": "white",
           "zerolinewidth": 2
          }
         }
        },
        "width": 1400,
        "xaxis": {
         "dtick": 1,
         "gridwidth": 2,
         "showticklabels": false,
         "tick0": -0.5,
         "ticks": "",
         "zeroline": false
        },
        "yaxis": {
         "autorange": "reversed",
         "dtick": 1,
         "gridwidth": 2,
         "showticklabels": false,
         "tick0": 0.5,
         "ticks": "",
         "zeroline": false
        }
       }
      },
      "text/html": [
       "<div>                            <div id=\"888e3f39-476b-449a-8620-af0adc54bb51\" class=\"plotly-graph-div\" style=\"height:590px; width:1400px;\"></div>            <script type=\"text/javascript\">                require([\"plotly\"], function(Plotly) {                    window.PLOTLYENV=window.PLOTLYENV || {};                                    if (document.getElementById(\"888e3f39-476b-449a-8620-af0adc54bb51\")) {                    Plotly.newPlot(                        \"888e3f39-476b-449a-8620-af0adc54bb51\",                        [{\"colorscale\": [[0, \"#00083e\"], [0.5, \"#ededee\"], [1, \"#ffffff\"]], \"hoverinfo\": \"none\", \"opacity\": 0.75, \"showscale\": false, \"type\": \"heatmap\", \"z\": [[0, 0, 0, 0], [0.5, 0.5, 0.5, 0.5], [1, 1, 1, 1], [0.5, 0.5, 0.5, 0.5], [1, 1, 1, 1], [0.5, 0.5, 0.5, 0.5], [1, 1, 1, 1], [0.5, 0.5, 0.5, 0.5], [1, 1, 1, 1]]}],                        {\"annotations\": [{\"align\": \"left\", \"font\": {\"color\": \"#ffffff\"}, \"showarrow\": false, \"text\": \"<b>typical_educational_background_for_entry</b>\", \"x\": -0.45, \"xanchor\": \"left\", \"xref\": \"x\", \"y\": 0, \"yref\": \"y\"}, {\"align\": \"left\", \"font\": {\"color\": \"#ffffff\"}, \"showarrow\": false, \"text\": \"<b>25%</b>\", \"x\": 0.55, \"xanchor\": \"left\", \"xref\": \"x\", \"y\": 0, \"yref\": \"y\"}, {\"align\": \"left\", \"font\": {\"color\": \"#ffffff\"}, \"showarrow\": false, \"text\": \"<b>50%</b>\", \"x\": 1.55, \"xanchor\": \"left\", \"xref\": \"x\", \"y\": 0, \"yref\": \"y\"}, {\"align\": \"left\", \"font\": {\"color\": \"#ffffff\"}, \"showarrow\": false, \"text\": \"<b>75%</b>\", \"x\": 2.55, \"xanchor\": \"left\", \"xref\": \"x\", \"y\": 0, \"yref\": \"y\"}, {\"align\": \"left\", \"font\": {\"color\": \"#000000\"}, \"showarrow\": false, \"text\": \"Associate's degree\", \"x\": -0.45, \"xanchor\": \"left\", \"xref\": \"x\", \"y\": 1, \"yref\": \"y\"}, {\"align\": \"left\", \"font\": {\"color\": \"#000000\"}, \"showarrow\": false, \"text\": \"50550.0\", \"x\": 0.55, \"xanchor\": \"left\", \"xref\": \"x\", \"y\": 1, \"yref\": \"y\"}, {\"align\": \"left\", \"font\": {\"color\": \"#000000\"}, \"showarrow\": false, \"text\": \"57060.0\", \"x\": 1.55, \"xanchor\": \"left\", \"xref\": \"x\", \"y\": 1, \"yref\": \"y\"}, {\"align\": \"left\", \"font\": {\"color\": \"#000000\"}, \"showarrow\": false, \"text\": \"65260.0\", \"x\": 2.55, \"xanchor\": \"left\", \"xref\": \"x\", \"y\": 1, \"yref\": \"y\"}, {\"align\": \"left\", \"font\": {\"color\": \"#000000\"}, \"showarrow\": false, \"text\": \"Bachelor's degree\", \"x\": -0.45, \"xanchor\": \"left\", \"xref\": \"x\", \"y\": 2, \"yref\": \"y\"}, {\"align\": \"left\", \"font\": {\"color\": \"#000000\"}, \"showarrow\": false, \"text\": \"57852.5\", \"x\": 0.55, \"xanchor\": \"left\", \"xref\": \"x\", \"y\": 2, \"yref\": \"y\"}, {\"align\": \"left\", \"font\": {\"color\": \"#000000\"}, \"showarrow\": false, \"text\": \"69690.0\", \"x\": 1.55, \"xanchor\": \"left\", \"xref\": \"x\", \"y\": 2, \"yref\": \"y\"}, {\"align\": \"left\", \"font\": {\"color\": \"#000000\"}, \"showarrow\": false, \"text\": \"91410.0\", \"x\": 2.55, \"xanchor\": \"left\", \"xref\": \"x\", \"y\": 2, \"yref\": \"y\"}, {\"align\": \"left\", \"font\": {\"color\": \"#000000\"}, \"showarrow\": false, \"text\": \"Doctoral or professional degree\", \"x\": -0.45, \"xanchor\": \"left\", \"xref\": \"x\", \"y\": 3, \"yref\": \"y\"}, {\"align\": \"left\", \"font\": {\"color\": \"#000000\"}, \"showarrow\": false, \"text\": \"75265.0\", \"x\": 0.55, \"xanchor\": \"left\", \"xref\": \"x\", \"y\": 3, \"yref\": \"y\"}, {\"align\": \"left\", \"font\": {\"color\": \"#000000\"}, \"showarrow\": false, \"text\": \"87900.0\", \"x\": 1.55, \"xanchor\": \"left\", \"xref\": \"x\", \"y\": 3, \"yref\": \"y\"}, {\"align\": \"left\", \"font\": {\"color\": \"#000000\"}, \"showarrow\": false, \"text\": \"124600.0\", \"x\": 2.55, \"xanchor\": \"left\", \"xref\": \"x\", \"y\": 3, \"yref\": \"y\"}, {\"align\": \"left\", \"font\": {\"color\": \"#000000\"}, \"showarrow\": false, \"text\": \"High school diploma or equivalent\", \"x\": -0.45, \"xanchor\": \"left\", \"xref\": \"x\", \"y\": 4, \"yref\": \"y\"}, {\"align\": \"left\", \"font\": {\"color\": \"#000000\"}, \"showarrow\": false, \"text\": \"34730.0\", \"x\": 0.55, \"xanchor\": \"left\", \"xref\": \"x\", \"y\": 4, \"yref\": \"y\"}, {\"align\": \"left\", \"font\": {\"color\": \"#000000\"}, \"showarrow\": false, \"text\": \"40640.0\", \"x\": 1.55, \"xanchor\": \"left\", \"xref\": \"x\", \"y\": 4, \"yref\": \"y\"}, {\"align\": \"left\", \"font\": {\"color\": \"#000000\"}, \"showarrow\": false, \"text\": \"50710.0\", \"x\": 2.55, \"xanchor\": \"left\", \"xref\": \"x\", \"y\": 4, \"yref\": \"y\"}, {\"align\": \"left\", \"font\": {\"color\": \"#000000\"}, \"showarrow\": false, \"text\": \"Master's degree\", \"x\": -0.45, \"xanchor\": \"left\", \"xref\": \"x\", \"y\": 5, \"yref\": \"y\"}, {\"align\": \"left\", \"font\": {\"color\": \"#000000\"}, \"showarrow\": false, \"text\": \"58637.5\", \"x\": 0.55, \"xanchor\": \"left\", \"xref\": \"x\", \"y\": 5, \"yref\": \"y\"}, {\"align\": \"left\", \"font\": {\"color\": \"#000000\"}, \"showarrow\": false, \"text\": \"76060.0\", \"x\": 1.55, \"xanchor\": \"left\", \"xref\": \"x\", \"y\": 5, \"yref\": \"y\"}, {\"align\": \"left\", \"font\": {\"color\": \"#000000\"}, \"showarrow\": false, \"text\": \"97747.5\", \"x\": 2.55, \"xanchor\": \"left\", \"xref\": \"x\", \"y\": 5, \"yref\": \"y\"}, {\"align\": \"left\", \"font\": {\"color\": \"#000000\"}, \"showarrow\": false, \"text\": \"No formal educational credential\", \"x\": -0.45, \"xanchor\": \"left\", \"xref\": \"x\", \"y\": 6, \"yref\": \"y\"}, {\"align\": \"left\", \"font\": {\"color\": \"#000000\"}, \"showarrow\": false, \"text\": \"25680.0\", \"x\": 0.55, \"xanchor\": \"left\", \"xref\": \"x\", \"y\": 6, \"yref\": \"y\"}, {\"align\": \"left\", \"font\": {\"color\": \"#000000\"}, \"showarrow\": false, \"text\": \"30930.0\", \"x\": 1.55, \"xanchor\": \"left\", \"xref\": \"x\", \"y\": 6, \"yref\": \"y\"}, {\"align\": \"left\", \"font\": {\"color\": \"#000000\"}, \"showarrow\": false, \"text\": \"38330.0\", \"x\": 2.55, \"xanchor\": \"left\", \"xref\": \"x\", \"y\": 6, \"yref\": \"y\"}, {\"align\": \"left\", \"font\": {\"color\": \"#000000\"}, \"showarrow\": false, \"text\": \"Postsecondary nondegree award\", \"x\": -0.45, \"xanchor\": \"left\", \"xref\": \"x\", \"y\": 7, \"yref\": \"y\"}, {\"align\": \"left\", \"font\": {\"color\": \"#000000\"}, \"showarrow\": false, \"text\": \"37435.0\", \"x\": 0.55, \"xanchor\": \"left\", \"xref\": \"x\", \"y\": 7, \"yref\": \"y\"}, {\"align\": \"left\", \"font\": {\"color\": \"#000000\"}, \"showarrow\": false, \"text\": \"47870.0\", \"x\": 1.55, \"xanchor\": \"left\", \"xref\": \"x\", \"y\": 7, \"yref\": \"y\"}, {\"align\": \"left\", \"font\": {\"color\": \"#000000\"}, \"showarrow\": false, \"text\": \"58257.5\", \"x\": 2.55, \"xanchor\": \"left\", \"xref\": \"x\", \"y\": 7, \"yref\": \"y\"}, {\"align\": \"left\", \"font\": {\"color\": \"#000000\"}, \"showarrow\": false, \"text\": \"Some college, no degree\", \"x\": -0.45, \"xanchor\": \"left\", \"xref\": \"x\", \"y\": 8, \"yref\": \"y\"}, {\"align\": \"left\", \"font\": {\"color\": \"#000000\"}, \"showarrow\": false, \"text\": \"34240.0\", \"x\": 0.55, \"xanchor\": \"left\", \"xref\": \"x\", \"y\": 8, \"yref\": \"y\"}, {\"align\": \"left\", \"font\": {\"color\": \"#000000\"}, \"showarrow\": false, \"text\": \"39530.0\", \"x\": 1.55, \"xanchor\": \"left\", \"xref\": \"x\", \"y\": 8, \"yref\": \"y\"}, {\"align\": \"left\", \"font\": {\"color\": \"#000000\"}, \"showarrow\": false, \"text\": \"41230.0\", \"x\": 2.55, \"xanchor\": \"left\", \"xref\": \"x\", \"y\": 8, \"yref\": \"y\"}], \"height\": 590, \"margin\": {\"b\": 0, \"l\": 0, \"r\": 0, \"t\": 0}, \"template\": {\"data\": {\"bar\": [{\"error_x\": {\"color\": \"#2a3f5f\"}, \"error_y\": {\"color\": \"#2a3f5f\"}, \"marker\": {\"line\": {\"color\": \"#E5ECF6\", \"width\": 0.5}}, \"type\": \"bar\"}], \"barpolar\": [{\"marker\": {\"line\": {\"color\": \"#E5ECF6\", \"width\": 0.5}}, \"type\": \"barpolar\"}], \"carpet\": [{\"aaxis\": {\"endlinecolor\": \"#2a3f5f\", \"gridcolor\": \"white\", \"linecolor\": \"white\", \"minorgridcolor\": \"white\", \"startlinecolor\": \"#2a3f5f\"}, \"baxis\": {\"endlinecolor\": \"#2a3f5f\", \"gridcolor\": \"white\", \"linecolor\": \"white\", \"minorgridcolor\": \"white\", \"startlinecolor\": \"#2a3f5f\"}, \"type\": \"carpet\"}], \"choropleth\": [{\"colorbar\": {\"outlinewidth\": 0, \"ticks\": \"\"}, \"type\": \"choropleth\"}], \"contour\": [{\"colorbar\": {\"outlinewidth\": 0, \"ticks\": \"\"}, \"colorscale\": [[0.0, \"#0d0887\"], [0.1111111111111111, \"#46039f\"], [0.2222222222222222, \"#7201a8\"], [0.3333333333333333, \"#9c179e\"], [0.4444444444444444, \"#bd3786\"], [0.5555555555555556, \"#d8576b\"], [0.6666666666666666, \"#ed7953\"], [0.7777777777777778, \"#fb9f3a\"], [0.8888888888888888, \"#fdca26\"], [1.0, \"#f0f921\"]], \"type\": \"contour\"}], \"contourcarpet\": [{\"colorbar\": {\"outlinewidth\": 0, \"ticks\": \"\"}, \"type\": \"contourcarpet\"}], \"heatmap\": [{\"colorbar\": {\"outlinewidth\": 0, \"ticks\": \"\"}, \"colorscale\": [[0.0, \"#0d0887\"], [0.1111111111111111, \"#46039f\"], [0.2222222222222222, \"#7201a8\"], [0.3333333333333333, \"#9c179e\"], [0.4444444444444444, \"#bd3786\"], [0.5555555555555556, \"#d8576b\"], [0.6666666666666666, \"#ed7953\"], [0.7777777777777778, \"#fb9f3a\"], [0.8888888888888888, \"#fdca26\"], [1.0, \"#f0f921\"]], \"type\": \"heatmap\"}], \"heatmapgl\": [{\"colorbar\": {\"outlinewidth\": 0, \"ticks\": \"\"}, \"colorscale\": [[0.0, \"#0d0887\"], [0.1111111111111111, \"#46039f\"], [0.2222222222222222, \"#7201a8\"], [0.3333333333333333, \"#9c179e\"], [0.4444444444444444, \"#bd3786\"], [0.5555555555555556, \"#d8576b\"], [0.6666666666666666, \"#ed7953\"], [0.7777777777777778, \"#fb9f3a\"], [0.8888888888888888, \"#fdca26\"], [1.0, \"#f0f921\"]], \"type\": \"heatmapgl\"}], \"histogram\": [{\"marker\": {\"colorbar\": {\"outlinewidth\": 0, \"ticks\": \"\"}}, \"type\": \"histogram\"}], \"histogram2d\": [{\"colorbar\": {\"outlinewidth\": 0, \"ticks\": \"\"}, \"colorscale\": [[0.0, \"#0d0887\"], [0.1111111111111111, \"#46039f\"], [0.2222222222222222, \"#7201a8\"], [0.3333333333333333, \"#9c179e\"], [0.4444444444444444, \"#bd3786\"], [0.5555555555555556, \"#d8576b\"], [0.6666666666666666, \"#ed7953\"], [0.7777777777777778, \"#fb9f3a\"], [0.8888888888888888, \"#fdca26\"], [1.0, \"#f0f921\"]], \"type\": \"histogram2d\"}], \"histogram2dcontour\": [{\"colorbar\": {\"outlinewidth\": 0, \"ticks\": \"\"}, \"colorscale\": [[0.0, \"#0d0887\"], [0.1111111111111111, \"#46039f\"], [0.2222222222222222, \"#7201a8\"], [0.3333333333333333, \"#9c179e\"], [0.4444444444444444, \"#bd3786\"], [0.5555555555555556, \"#d8576b\"], [0.6666666666666666, \"#ed7953\"], [0.7777777777777778, \"#fb9f3a\"], [0.8888888888888888, \"#fdca26\"], [1.0, \"#f0f921\"]], \"type\": \"histogram2dcontour\"}], \"mesh3d\": [{\"colorbar\": {\"outlinewidth\": 0, \"ticks\": \"\"}, \"type\": \"mesh3d\"}], \"parcoords\": [{\"line\": {\"colorbar\": {\"outlinewidth\": 0, \"ticks\": \"\"}}, \"type\": \"parcoords\"}], \"pie\": [{\"automargin\": true, \"type\": \"pie\"}], \"scatter\": [{\"marker\": {\"colorbar\": {\"outlinewidth\": 0, \"ticks\": \"\"}}, \"type\": \"scatter\"}], \"scatter3d\": [{\"line\": {\"colorbar\": {\"outlinewidth\": 0, \"ticks\": \"\"}}, \"marker\": {\"colorbar\": {\"outlinewidth\": 0, \"ticks\": \"\"}}, \"type\": \"scatter3d\"}], \"scattercarpet\": [{\"marker\": {\"colorbar\": {\"outlinewidth\": 0, \"ticks\": \"\"}}, \"type\": \"scattercarpet\"}], \"scattergeo\": [{\"marker\": {\"colorbar\": {\"outlinewidth\": 0, \"ticks\": \"\"}}, \"type\": \"scattergeo\"}], \"scattergl\": [{\"marker\": {\"colorbar\": {\"outlinewidth\": 0, \"ticks\": \"\"}}, \"type\": \"scattergl\"}], \"scattermapbox\": [{\"marker\": {\"colorbar\": {\"outlinewidth\": 0, \"ticks\": \"\"}}, \"type\": \"scattermapbox\"}], \"scatterpolar\": [{\"marker\": {\"colorbar\": {\"outlinewidth\": 0, \"ticks\": \"\"}}, \"type\": \"scatterpolar\"}], \"scatterpolargl\": [{\"marker\": {\"colorbar\": {\"outlinewidth\": 0, \"ticks\": \"\"}}, \"type\": \"scatterpolargl\"}], \"scatterternary\": [{\"marker\": {\"colorbar\": {\"outlinewidth\": 0, \"ticks\": \"\"}}, \"type\": \"scatterternary\"}], \"surface\": [{\"colorbar\": {\"outlinewidth\": 0, \"ticks\": \"\"}, \"colorscale\": [[0.0, \"#0d0887\"], [0.1111111111111111, \"#46039f\"], [0.2222222222222222, \"#7201a8\"], [0.3333333333333333, \"#9c179e\"], [0.4444444444444444, \"#bd3786\"], [0.5555555555555556, \"#d8576b\"], [0.6666666666666666, \"#ed7953\"], [0.7777777777777778, \"#fb9f3a\"], [0.8888888888888888, \"#fdca26\"], [1.0, \"#f0f921\"]], \"type\": \"surface\"}], \"table\": [{\"cells\": {\"fill\": {\"color\": \"#EBF0F8\"}, \"line\": {\"color\": \"white\"}}, \"header\": {\"fill\": {\"color\": \"#C8D4E3\"}, \"line\": {\"color\": \"white\"}}, \"type\": \"table\"}]}, \"layout\": {\"annotationdefaults\": {\"arrowcolor\": \"#2a3f5f\", \"arrowhead\": 0, \"arrowwidth\": 1}, \"autotypenumbers\": \"strict\", \"coloraxis\": {\"colorbar\": {\"outlinewidth\": 0, \"ticks\": \"\"}}, \"colorscale\": {\"diverging\": [[0, \"#8e0152\"], [0.1, \"#c51b7d\"], [0.2, \"#de77ae\"], [0.3, \"#f1b6da\"], [0.4, \"#fde0ef\"], [0.5, \"#f7f7f7\"], [0.6, \"#e6f5d0\"], [0.7, \"#b8e186\"], [0.8, \"#7fbc41\"], [0.9, \"#4d9221\"], [1, \"#276419\"]], \"sequential\": [[0.0, \"#0d0887\"], [0.1111111111111111, \"#46039f\"], [0.2222222222222222, \"#7201a8\"], [0.3333333333333333, \"#9c179e\"], [0.4444444444444444, \"#bd3786\"], [0.5555555555555556, \"#d8576b\"], [0.6666666666666666, \"#ed7953\"], [0.7777777777777778, \"#fb9f3a\"], [0.8888888888888888, \"#fdca26\"], [1.0, \"#f0f921\"]], \"sequentialminus\": [[0.0, \"#0d0887\"], [0.1111111111111111, \"#46039f\"], [0.2222222222222222, \"#7201a8\"], [0.3333333333333333, \"#9c179e\"], [0.4444444444444444, \"#bd3786\"], [0.5555555555555556, \"#d8576b\"], [0.6666666666666666, \"#ed7953\"], [0.7777777777777778, \"#fb9f3a\"], [0.8888888888888888, \"#fdca26\"], [1.0, \"#f0f921\"]]}, \"colorway\": [\"#636efa\", \"#EF553B\", \"#00cc96\", \"#ab63fa\", \"#FFA15A\", \"#19d3f3\", \"#FF6692\", \"#B6E880\", \"#FF97FF\", \"#FECB52\"], \"font\": {\"color\": \"#2a3f5f\"}, \"geo\": {\"bgcolor\": \"white\", \"lakecolor\": \"white\", \"landcolor\": \"#E5ECF6\", \"showlakes\": true, \"showland\": true, \"subunitcolor\": \"white\"}, \"hoverlabel\": {\"align\": \"left\"}, \"hovermode\": \"closest\", \"mapbox\": {\"style\": \"light\"}, \"paper_bgcolor\": \"white\", \"plot_bgcolor\": \"#E5ECF6\", \"polar\": {\"angularaxis\": {\"gridcolor\": \"white\", \"linecolor\": \"white\", \"ticks\": \"\"}, \"bgcolor\": \"#E5ECF6\", \"radialaxis\": {\"gridcolor\": \"white\", \"linecolor\": \"white\", \"ticks\": \"\"}}, \"scene\": {\"xaxis\": {\"backgroundcolor\": \"#E5ECF6\", \"gridcolor\": \"white\", \"gridwidth\": 2, \"linecolor\": \"white\", \"showbackground\": true, \"ticks\": \"\", \"zerolinecolor\": \"white\"}, \"yaxis\": {\"backgroundcolor\": \"#E5ECF6\", \"gridcolor\": \"white\", \"gridwidth\": 2, \"linecolor\": \"white\", \"showbackground\": true, \"ticks\": \"\", \"zerolinecolor\": \"white\"}, \"zaxis\": {\"backgroundcolor\": \"#E5ECF6\", \"gridcolor\": \"white\", \"gridwidth\": 2, \"linecolor\": \"white\", \"showbackground\": true, \"ticks\": \"\", \"zerolinecolor\": \"white\"}}, \"shapedefaults\": {\"line\": {\"color\": \"#2a3f5f\"}}, \"ternary\": {\"aaxis\": {\"gridcolor\": \"white\", \"linecolor\": \"white\", \"ticks\": \"\"}, \"baxis\": {\"gridcolor\": \"white\", \"linecolor\": \"white\", \"ticks\": \"\"}, \"bgcolor\": \"#E5ECF6\", \"caxis\": {\"gridcolor\": \"white\", \"linecolor\": \"white\", \"ticks\": \"\"}}, \"title\": {\"x\": 0.05}, \"xaxis\": {\"automargin\": true, \"gridcolor\": \"white\", \"linecolor\": \"white\", \"ticks\": \"\", \"title\": {\"standoff\": 15}, \"zerolinecolor\": \"white\", \"zerolinewidth\": 2}, \"yaxis\": {\"automargin\": true, \"gridcolor\": \"white\", \"linecolor\": \"white\", \"ticks\": \"\", \"title\": {\"standoff\": 15}, \"zerolinecolor\": \"white\", \"zerolinewidth\": 2}}}, \"width\": 1400, \"xaxis\": {\"dtick\": 1, \"gridwidth\": 2, \"showticklabels\": false, \"tick0\": -0.5, \"ticks\": \"\", \"zeroline\": false}, \"yaxis\": {\"autorange\": \"reversed\", \"dtick\": 1, \"gridwidth\": 2, \"showticklabels\": false, \"tick0\": 0.5, \"ticks\": \"\", \"zeroline\": false}},                        {\"responsive\": true}                    ).then(function(){\n",
       "                            \n",
       "var gd = document.getElementById('888e3f39-476b-449a-8620-af0adc54bb51');\n",
       "var x = new MutationObserver(function (mutations, observer) {{\n",
       "        var display = window.getComputedStyle(gd).display;\n",
       "        if (!display || display === 'none') {{\n",
       "            console.log([gd, 'removed!']);\n",
       "            Plotly.purge(gd);\n",
       "            observer.disconnect();\n",
       "        }}\n",
       "}});\n",
       "\n",
       "// Listen for the removal of the full notebook cells\n",
       "var notebookContainer = gd.closest('#notebook-container');\n",
       "if (notebookContainer) {{\n",
       "    x.observe(notebookContainer, {childList: true});\n",
       "}}\n",
       "\n",
       "// Listen for the clearing of the current output cell\n",
       "var outputEl = gd.closest('.output');\n",
       "if (outputEl) {{\n",
       "    x.observe(outputEl, {childList: true});\n",
       "}}\n",
       "\n",
       "                        })                };                });            </script>        </div>"
      ]
     },
     "metadata": {},
     "output_type": "display_data"
    }
   ],
   "source": [
    "# What's the distribution of \"median wage\" by typical educational background for entry\n",
    "\n",
    "import plotly.figure_factory as ff\n",
    "\n",
    "fig4 = ff.create_distplot(hist_data=[master.median_wage], group_labels=['all education'], bin_size=2000)\n",
    "fig4.update_layout({'title':{'text':'Distribution of Median Wage, All Education Levels', 'font':{'size':28}},'showlegend':False,\n",
    "                   'xaxis':{'title':{'text':'Median Wage ($)'}}, 'yaxis':{'title':{'text':'Frequency'}}})\n",
    "iplot(fig4)\n",
    "\n",
    "from plotly.subplots import make_subplots\n",
    "\n",
    "hist_data = []\n",
    "group_labels = []\n",
    "\n",
    "for edu in master.typical_educational_background_for_entry.unique():\n",
    "    hist_data.append(master.median_wage[master.typical_educational_background_for_entry.isin([edu])])\n",
    "    group_labels.append(edu)\n",
    "\n",
    "fig5 = make_subplots(rows=4,cols=2, subplot_titles=group_labels, vertical_spacing= 0.15,\n",
    "                    x_title='Median Wage ($)',\n",
    "                    y_title='Frequency')\n",
    "rowcols = [[1,1],[1,2],[2,1],[2,2],[3,1],[3,2],[4,1],[4,2]]\n",
    "\n",
    "for subplot in range(8):\n",
    "    fig5.add_histogram(name=group_labels[subplot],\n",
    "                       x=hist_data[subplot],\n",
    "                      row = rowcols[subplot][0],\n",
    "                    col = rowcols[subplot][1],\n",
    "                      xaxis='x1').update_layout({'xaxis':{'range':[0,220000]}})\n",
    "    fig5.update_xaxes(matches='x')\n",
    "\n",
    "fig5.update_layout({'title':{'text':'Distribution of Median Wage, By Education Level','font':{'size':28}},'legend':{'title':{'text':'Education'}}})\n",
    "fig5.update_annotations({'font_size':12})\n",
    "\n",
    "iplot(fig5)\n",
    "\n",
    "distribution_by_education = master.groupby(['typical_educational_background_for_entry'])['median_wage']\n",
    "distribution_by_education_summary = distribution_by_education.describe().reset_index().round(2)\n",
    "\n",
    "table_data = distribution_by_education_summary[['typical_educational_background_for_entry','25%','50%','75%']]\n",
    "\n",
    "fig6 = ff.create_table(table_data, height_constant=60)\n",
    "fig6.update_layout({'width':1400})\n",
    "iplot(fig6)\n"
   ]
  }
 ],
 "metadata": {
  "kernelspec": {
   "display_name": "Python 3",
   "language": "python",
   "name": "python3"
  },
  "language_info": {
   "codemirror_mode": {
    "name": "ipython",
    "version": 3
   },
   "file_extension": ".py",
   "mimetype": "text/x-python",
   "name": "python",
   "nbconvert_exporter": "python",
   "pygments_lexer": "ipython3",
   "version": "3.8.9"
  }
 },
 "nbformat": 4,
 "nbformat_minor": 5
}
